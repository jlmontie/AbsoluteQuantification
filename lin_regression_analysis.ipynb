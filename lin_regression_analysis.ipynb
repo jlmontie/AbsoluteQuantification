{
 "cells": [
  {
   "cell_type": "markdown",
   "metadata": {},
   "source": [
    "# Linear regression analysis\n",
    "Exploring the linearity of the Community Standard dilution experiment. Testing out linear models."
   ]
  },
  {
   "cell_type": "markdown",
   "metadata": {},
   "source": [
    "### Imports"
   ]
  },
  {
   "cell_type": "code",
   "execution_count": 110,
   "metadata": {},
   "outputs": [],
   "source": [
    "import json\n",
    "import numpy as np\n",
    "import plotly\n",
    "import plotly.graph_objects as go\n",
    "from scipy.stats import linregress\n",
    "import itertools"
   ]
  },
  {
   "cell_type": "code",
   "execution_count": 55,
   "metadata": {},
   "outputs": [],
   "source": [
    "def generate_fig(value_dict_left, value_dict_right=None, left_norm=True, right_norm=True):\n",
    "    if value_dict_right is None:\n",
    "        value_dict_right = value_dict_left.copy()\n",
    "    if left_norm:\n",
    "        slope_left = \"slope_norm\"\n",
    "        rval_left = \"r_value_norm\"\n",
    "        reads_left = \"reads_norm_log\"\n",
    "        fitvals_x_left = \"fit_vals_norm_x\"\n",
    "        fitvals_y_left = \"fit_vals_norm_y\"\n",
    "        y_title_left = 'log(IC Normalized Reads)'\n",
    "    else:\n",
    "        slope_left = \"slope\"\n",
    "        rval_left = \"r_value\"\n",
    "        reads_left = \"reads_log\"\n",
    "        fitvals_x_left = \"fit_vals_x\"\n",
    "        fitvals_y_left = \"fit_vals_y\"\n",
    "        y_title_left = 'log(Reads)'\n",
    "    if right_norm:\n",
    "        slope_right = \"slope_norm\"\n",
    "        rval_right = \"r_value_norm\"\n",
    "        reads_right = \"reads_norm_log\"\n",
    "        fitvals_x_right = \"fit_vals_norm_x\"\n",
    "        fitvals_y_right = \"fit_vals_norm_y\"\n",
    "        y_title_right = 'log(IC Normalized Reads)'\n",
    "    else:\n",
    "        slope_right = \"slope\"\n",
    "        rval_right = \"r_value\"\n",
    "        reads_right = \"reads_log\"\n",
    "        fitvals_x_right = \"fit_vals_x\"\n",
    "        fitvals_y_right = \"fit_vals_y\"\n",
    "        y_title_right = 'log(Reads)'\n",
    "    colors = [\n",
    "        '#1f77b4',\n",
    "        '#ff7f0e',\n",
    "        '#2ca02c',\n",
    "        '#d62728',\n",
    "        '#9467bd',\n",
    "        '#8c564b',\n",
    "        '#e377c2',\n",
    "        '#7f7f7f',\n",
    "        '#bcbd22',\n",
    "        '#17becf'\n",
    "    ]\n",
    "    data = []\n",
    "    annotations = []\n",
    "    slope_left_ls = []\n",
    "    slope_right_ls = []\n",
    "    r2_left_ls = []\n",
    "    r2_right_ls = []\n",
    "    for idx, org in enumerate(value_dict_left.keys()):\n",
    "        org_dict_left = value_dict_left[org]\n",
    "        slope_left_ls.append(org_dict_left[slope_left])\n",
    "        r2_left_ls.append(org_dict_left[rval_left])\n",
    "        trace_scatter_left = go.Scatter(\n",
    "            x=org_dict_left[\"conc_nonzero\"],\n",
    "            y=org_dict_left[reads_left],\n",
    "            mode='markers',\n",
    "            name=orgs[org],\n",
    "            marker=dict(\n",
    "                color=colors[idx]\n",
    "            ),\n",
    "            xaxis='x1',\n",
    "            yaxis='y1',\n",
    "            legendgroup=idx\n",
    "        )\n",
    "        trace_fit_left = go.Scatter(\n",
    "            x=org_dict_left[fitvals_x_left],\n",
    "            y=org_dict_left[fitvals_y_left],\n",
    "            mode='lines',\n",
    "            line=dict(\n",
    "                color=colors[idx]\n",
    "            ),\n",
    "            showlegend=False,\n",
    "            name=orgs[org],\n",
    "            xaxis='x1',\n",
    "            yaxis='y1',\n",
    "            legendgroup=idx\n",
    "        )\n",
    "        data.extend([trace_scatter_left, trace_fit_left])\n",
    "    for idx, org in enumerate(value_dict_right.keys()):\n",
    "        org_dict_right = value_dict_right[org]\n",
    "        slope_right_ls.append(org_dict_right[slope_right])\n",
    "        r2_right_ls.append(org_dict_right[rval_right])\n",
    "        trace_scatter_right = go.Scatter(\n",
    "            x=org_dict_right[\"conc_nonzero\"],\n",
    "            y=org_dict_right[reads_right],\n",
    "            mode='markers',\n",
    "            showlegend=False,\n",
    "            name=orgs[org],\n",
    "            marker=dict(\n",
    "                color=colors[idx]\n",
    "            ),\n",
    "            xaxis='x2',\n",
    "            yaxis='y2',\n",
    "            legendgroup=idx\n",
    "        )\n",
    "        trace_fit_right = go.Scatter(\n",
    "            x=org_dict_right[fitvals_x_right],\n",
    "            y=org_dict_right[fitvals_y_right],\n",
    "            mode='lines',\n",
    "            line=dict(\n",
    "                color=colors[idx]\n",
    "            ),\n",
    "            showlegend=False,\n",
    "            name=orgs[org],\n",
    "            xaxis='x2',\n",
    "            yaxis='y2',\n",
    "            legendgroup=idx\n",
    "        )\n",
    "        data.extend([trace_scatter_right, trace_fit_right])\n",
    "    annotations.extend([\n",
    "        dict(\n",
    "            x=3,\n",
    "            y=np.max([np.max(value_dict_left[key][reads_left]) for key in value_dict_left]),\n",
    "            xref='x1',\n",
    "            yref='y1',\n",
    "            text=f'Mean slope: {np.mean(slope_left_ls):0.2f}+/-{np.max(slope_left_ls) - np.min(slope_left_ls) / 2:0.2f}<br>Mean R<sup>2</sup>: {np.mean(r2_left_ls)**2:0.2f}',\n",
    "            showarrow=False,\n",
    "            font=dict(\n",
    "                size=12,\n",
    "            )\n",
    "        ),\n",
    "        dict(\n",
    "            x=3,\n",
    "            y=np.max([np.max(value_dict_right[key][reads_right]) for key in value_dict_right]),\n",
    "            xref='x2',\n",
    "            yref='y2',\n",
    "            text=f'Mean slope: {np.mean(slope_right_ls):0.2f} +/- {(np.max(slope_right_ls) - np.min(slope_right_ls)) / 2:0.2f}<br>Mean R<sup>2</sup>: {np.median(r2_right_ls)**2:0.2f}',\n",
    "            showarrow=False,\n",
    "            font=dict(\n",
    "                size=12,\n",
    "            )\n",
    "        )\n",
    "    ])\n",
    "    layout = go.Layout(\n",
    "        annotations = annotations,\n",
    "        xaxis=dict(\n",
    "            title='log(Concentration)',\n",
    "            domain=[0, 0.45],\n",
    "            anchor='y1'\n",
    "        ),\n",
    "        xaxis2=dict(\n",
    "            title='log(Concentration)',\n",
    "            domain=[0.55, 1],\n",
    "            anchor='y2'\n",
    "        ),\n",
    "        yaxis=dict(\n",
    "            title=y_title_left,\n",
    "            anchor='x1'\n",
    "        ),\n",
    "        yaxis2=dict(\n",
    "            title=y_title_right,\n",
    "            anchor='x2'\n",
    "        )\n",
    "    )\n",
    "    fig = go.Figure(data, layout)\n",
    "    return fig\n",
    "\n",
    "\n",
    "def generate_single_fig(value_dict):\n",
    "    colors = [\n",
    "        '#1f77b4',\n",
    "        '#ff7f0e',\n",
    "        '#2ca02c',\n",
    "        '#d62728',\n",
    "        '#9467bd',\n",
    "        '#8c564b',\n",
    "        '#e377c2',\n",
    "        '#7f7f7f',\n",
    "        '#bcbd22',\n",
    "        '#17becf'\n",
    "    ]\n",
    "    data = []\n",
    "    annotations = []\n",
    "    slope_ls = []\n",
    "    slope_ls = []\n",
    "    r2_ls = []\n",
    "    r2_ls = []\n",
    "    for idx, org in enumerate(value_dict.keys()):\n",
    "        org_dict = value_dict[org]\n",
    "        slope_ls.append(org_dict[\"slope_norm\"])\n",
    "        r2_ls.append(org_dict[\"r_value_norm\"])\n",
    "        trace_scatter = go.Scatter(\n",
    "            x=org_dict[\"conc_nonzero\"],\n",
    "            y=org_dict[\"reads_norm_log\"],\n",
    "            mode='markers',\n",
    "            name=orgs[org],\n",
    "            marker=dict(\n",
    "                color=colors[idx]\n",
    "            ),\n",
    "            legendgroup=idx\n",
    "        )\n",
    "        trace_fit = go.Scatter(\n",
    "            x=org_dict[\"fit_vals_norm_x\"],\n",
    "            y=org_dict[\"fit_vals_norm_y\"],\n",
    "            mode='lines',\n",
    "            line=dict(\n",
    "                color=colors[idx]\n",
    "            ),\n",
    "            showlegend=False,\n",
    "            name=orgs[org],\n",
    "            legendgroup=idx\n",
    "        )\n",
    "        data.extend([trace_scatter, trace_fit])\n",
    "    annotations.extend([\n",
    "        dict(\n",
    "            x=3,\n",
    "            y=np.max([np.max(value_dict[key][\"reads_norm_log\"]) for key in value_dict]),\n",
    "            text=f'Mean slope: {np.mean(slope_ls):0.2f}+/-{np.max(slope_ls) - np.min(slope_ls) / 2:0.2f}<br>Mean R<sup>2</sup>: {np.mean(r2_ls)**2:0.2f}',\n",
    "            showarrow=False,\n",
    "            font=dict(\n",
    "                size=12,\n",
    "            )\n",
    "        )\n",
    "    ])\n",
    "    layout = go.Layout(\n",
    "        annotations = annotations,\n",
    "        xaxis=dict(\n",
    "            title='log(Concentration)'\n",
    "        ),\n",
    "        yaxis=dict(\n",
    "            title='log(IC Normalized Reads)'\n",
    "        )\n",
    "    )\n",
    "    fig = go.Figure(data, layout)\n",
    "    return fig\n",
    "\n",
    "\n",
    "def generate_single_trace_set(value_dict):\n",
    "    colors = [\n",
    "        '#1f77b4',\n",
    "        '#ff7f0e',\n",
    "        '#2ca02c',\n",
    "        '#d62728',\n",
    "        '#9467bd',\n",
    "        '#8c564b',\n",
    "        '#e377c2',\n",
    "        '#7f7f7f',\n",
    "        '#bcbd22',\n",
    "        '#17becf'\n",
    "    ]\n",
    "    data = []\n",
    "    annotations = []\n",
    "    slope_ls = []\n",
    "    slope_ls = []\n",
    "    r2_ls = []\n",
    "    r2_ls = []\n",
    "    for idx, org in enumerate(value_dict.keys()):\n",
    "        org_dict = value_dict[org]\n",
    "        slope_ls.append(org_dict[\"slope_norm\"])\n",
    "        r2_ls.append(org_dict[\"r_value_norm\"])\n",
    "        trace_scatter = go.Scatter(\n",
    "            x=org_dict[\"conc_nonzero\"],\n",
    "            y=org_dict[\"reads_norm_log\"],\n",
    "            mode='markers',\n",
    "            name=orgs[org],\n",
    "            marker=dict(\n",
    "                color=colors[idx]\n",
    "            ),\n",
    "            legendgroup=idx\n",
    "        )\n",
    "        trace_fit = go.Scatter(\n",
    "            x=org_dict[\"fit_vals_norm_x\"],\n",
    "            y=org_dict[\"fit_vals_norm_y\"],\n",
    "            mode='lines',\n",
    "            line=dict(\n",
    "                color=colors[idx]\n",
    "            ),\n",
    "            showlegend=False,\n",
    "            name=orgs[org],\n",
    "            legendgroup=idx\n",
    "        )\n",
    "        data.extend([trace_scatter, trace_fit])\n",
    "    return data\n",
    "\n",
    "\n",
    "def filter_data(count_dict, adjust_copy_number=True):\n",
    "    out_dict = {}\n",
    "    for org in count_dict.keys():\n",
    "        org_dict = count_dict[str(org)]\n",
    "        conc = np.array(org_dict[\"Concentration\"])\n",
    "        reads, ctrls = org_dict['Read Counts'], org_dict['Ctrl Counts']\n",
    "        if org in copy_numbers and adjust_copy_number:\n",
    "            copy_number_normalizer = copy_numbers[org]['copies']\n",
    "        else:\n",
    "            copy_number_normalizer = 1\n",
    "        reads = np.array(reads) / copy_number_normalizer\n",
    "        reads_nonzero_idx = np.argwhere(reads > 0).reshape(-1)\n",
    "        reads_nonzero = reads[reads_nonzero_idx]\n",
    "        ctrls_nonzero = np.array(ctrls)[reads_nonzero_idx]\n",
    "        conc_nonzero = conc[reads_nonzero_idx]\n",
    "        reads_log = np.log10(reads_nonzero)\n",
    "        slope, intercept, r_value, p_value, std_err = linregress(conc_nonzero, reads_log)\n",
    "        fit_vals_y = slope * conc_nonzero + intercept\n",
    "        fit_vals_x = conc_nonzero\n",
    "        # Normalized\n",
    "        reads_norm = reads_nonzero / ctrls_nonzero\n",
    "        reads_norm_log = np.log10(reads_norm)\n",
    "        slope_norm, intercept_norm, r_value_norm, p_value_norm, std_err_norm = \\\n",
    "            linregress(conc_nonzero, reads_norm_log)\n",
    "        fit_vals_norm_y = slope_norm * conc_nonzero + intercept_norm\n",
    "        fit_vals_norm_x = conc_nonzero\n",
    "        filtered_dict = {\n",
    "            \"conc_nonzero\": conc_nonzero,\n",
    "            \"reads_log\": reads_log,\n",
    "            \"reads_norm_log\": reads_norm_log,\n",
    "            \"slope\": slope,\n",
    "            \"fit_vals_y\": fit_vals_y,\n",
    "            \"fit_vals_x\": fit_vals_x,\n",
    "            \"slope_norm\": slope_norm,\n",
    "            \"fit_vals_norm_y\": fit_vals_norm_y,\n",
    "            \"fit_vals_norm_x\": fit_vals_norm_x,\n",
    "            \"r_value\": r_value,\n",
    "            \"r_value_norm\": r_value_norm,\n",
    "            \"std_err\": std_err,\n",
    "            \"std_err_norm\": std_err_norm,\n",
    "            \"ctrls_nonzero\": ctrls_nonzero\n",
    "        }\n",
    "        out_dict.update({org: filtered_dict})\n",
    "    return out_dict"
   ]
  },
  {
   "cell_type": "markdown",
   "metadata": {},
   "source": [
    "### Data"
   ]
  },
  {
   "cell_type": "code",
   "execution_count": 40,
   "metadata": {},
   "outputs": [],
   "source": [
    "with open('data/community_std_counts/community_std_counts_16s_a.json') as a_file:\n",
    "    a = json.load(a_file)\n",
    "with open('data/community_std_counts/community_std_counts_16s_b.json') as b_file:\n",
    "    b = json.load(b_file)\n",
    "with open('data/community_std_counts/community_std_counts_16s_c.json') as c_file:\n",
    "    c = json.load(c_file)\n",
    "with open('data/community_std_counts/community_std_counts_16s_d.json') as d_file:\n",
    "    d = json.load(d_file)\n",
    "with open('data/community_standard_panel.json') as orgs_file:\n",
    "    orgs = json.load(orgs_file)\n",
    "with open('./data/rrndb_16s_copies.json') as copies_file:\n",
    "    copy_numbers = json.load(copies_file)"
   ]
  },
  {
   "cell_type": "code",
   "execution_count": 41,
   "metadata": {},
   "outputs": [
    {
     "data": {
      "text/plain": [
       "{'287': 'Pseudomonas aeruginosa',\n",
       " '562': 'Escherichia coli',\n",
       " '28901': 'Salmonella enterica',\n",
       " '1613': 'Lactobacillus fermentum',\n",
       " '1351': 'Enterococcus faecalis',\n",
       " '1280': 'Staphylococcus aureus',\n",
       " '1639': 'Listeria Monocytogenes',\n",
       " '1423': 'Bacillus subtilis',\n",
       " '4932': 'Saccharomyces cerevisiae',\n",
       " '5207': 'Cryptococcus neoformans'}"
      ]
     },
     "execution_count": 41,
     "metadata": {},
     "output_type": "execute_result"
    }
   ],
   "source": [
    "orgs"
   ]
  },
  {
   "cell_type": "markdown",
   "metadata": {},
   "source": [
    "### Panel Organisms\n",
    "#### Gram negative (3)\n",
    "Pseudomonas aeruginosa <br>\n",
    "Escherichia coli <br>\n",
    "Salmonella enterica <br>\n",
    "\n",
    "#### Gram positive (5)\n",
    "Lactobacillus fermentum <br>\n",
    "Enterococcus faecalis <br>\n",
    "Staphylococcus aureus <br>\n",
    "Listeria Monocytogenes <br>\n",
    "Bacillus subtilis <br>\n",
    "\n",
    "#### Fungus (2)\n",
    "Saccharomyces cerevisiae <br>\n",
    "Cryptococcus neoformans"
   ]
  },
  {
   "cell_type": "markdown",
   "metadata": {},
   "source": [
    "### Effect of normalizing"
   ]
  },
  {
   "cell_type": "code",
   "execution_count": 42,
   "metadata": {},
   "outputs": [
    {
     "data": {
      "application/vnd.plotly.v1+json": {
       "config": {
        "plotlyServerURL": "https://plot.ly"
       },
       "data": [
        {
         "legendgroup": "0",
         "marker": {
          "color": "#1f77b4"
         },
         "mode": "markers",
         "name": "Bacillus subtilis",
         "type": "scatter",
         "x": [
          4.012837224705173,
          5.012837224705173,
          6.012837224705173,
          7.012837224705173,
          8.012837224705173
         ],
         "xaxis": "x",
         "y": [
          1.0755469613925308,
          1.9822712330395684,
          1.9395192526186185,
          2.093421685162235,
          2.085290578230065
         ],
         "yaxis": "y"
        },
        {
         "legendgroup": "0",
         "line": {
          "color": "#1f77b4"
         },
         "mode": "lines",
         "name": "Bacillus subtilis",
         "showlegend": false,
         "type": "scatter",
         "x": [
          4.012837224705173,
          5.012837224705173,
          6.012837224705173,
          7.012837224705173,
          8.012837224705173
         ],
         "xaxis": "x",
         "y": [
          1.4090824049290565,
          1.6221461735088298,
          1.8352099420886034,
          2.0482737106683766,
          2.2613374792481507
         ],
         "yaxis": "y"
        },
        {
         "legendgroup": "1",
         "marker": {
          "color": "#ff7f0e"
         },
         "mode": "markers",
         "name": "Escherichia coli",
         "type": "scatter",
         "x": [
          3.929418925714293,
          4.929418925714293,
          5.929418925714293,
          6.929418925714293,
          7.929418925714293
         ],
         "xaxis": "x",
         "y": [
          1.5351132016973492,
          1.995008054442501,
          2.1465709673656916,
          2.1818435879447726,
          2.336173731545205
         ],
         "yaxis": "y"
        },
        {
         "legendgroup": "1",
         "line": {
          "color": "#ff7f0e"
         },
         "mode": "lines",
         "name": "Escherichia coli",
         "showlegend": false,
         "type": "scatter",
         "x": [
          3.929418925714293,
          4.929418925714293,
          5.929418925714293,
          6.929418925714293,
          7.929418925714293
         ],
         "xaxis": "x",
         "y": [
          1.6811505899595072,
          1.8600462492793055,
          2.038941908599104,
          2.2178375679189024,
          2.3967332272387
         ],
         "yaxis": "y"
        },
        {
         "legendgroup": "2",
         "marker": {
          "color": "#2ca02c"
         },
         "mode": "markers",
         "name": "Staphylococcus aureus",
         "type": "scatter",
         "x": [
          4.181843587944773,
          5.181843587944773,
          6.181843587944773,
          7.181843587944773,
          8.181843587944773
         ],
         "xaxis": "x",
         "y": [
          1.3290587192642247,
          2.060697840353612,
          2.238464297173534,
          2.3944516808262164,
          2.419955748489758
         ],
         "yaxis": "y"
        },
        {
         "legendgroup": "2",
         "line": {
          "color": "#2ca02c"
         },
         "mode": "lines",
         "name": "Staphylococcus aureus",
         "showlegend": false,
         "type": "scatter",
         "x": [
          4.181843587944773,
          5.181843587944773,
          6.181843587944773,
          7.181843587944773,
          8.181843587944773
         ],
         "xaxis": "x",
         "y": [
          1.5854160774367352,
          1.8369708673291023,
          2.0885256572214694,
          2.3400804471138366,
          2.591635237006204
         ],
         "yaxis": "y"
        },
        {
         "legendgroup": "3",
         "marker": {
          "color": "#d62728"
         },
         "mode": "markers",
         "name": "Listeria Monocytogenes",
         "type": "scatter",
         "x": [
          4.143014800254095,
          5.143014800254095,
          6.143014800254095,
          7.143014800254095,
          8.143014800254095
         ],
         "xaxis": "x",
         "y": [
          1.2632414347745813,
          2.012133913649598,
          2.2380461031287955,
          2.4088050850817684,
          2.3870930757416673
         ],
         "yaxis": "y"
        },
        {
         "legendgroup": "3",
         "line": {
          "color": "#d62728"
         },
         "mode": "lines",
         "name": "Listeria Monocytogenes",
         "showlegend": false,
         "type": "scatter",
         "x": [
          4.143014800254095,
          5.143014800254095,
          6.143014800254095,
          7.143014800254095,
          8.143014800254095
         ],
         "xaxis": "x",
         "y": [
          1.5329890318020138,
          1.797426477138648,
          2.061863922475282,
          2.3263013678119164,
          2.5907388131485507
         ],
         "yaxis": "y"
        },
        {
         "legendgroup": "4",
         "marker": {
          "color": "#9467bd"
         },
         "mode": "markers",
         "name": "Salmonella enterica",
         "type": "scatter",
         "x": [
          3.9395192526186182,
          4.939519252618618,
          5.939519252618618,
          6.939519252618618,
          7.939519252618618
         ],
         "xaxis": "x",
         "y": [
          1.3251636753807006,
          2.045881556975432,
          2.1789769472931693,
          2.2545826010949934,
          2.393449847667071
         ],
         "yaxis": "y"
        },
        {
         "legendgroup": "4",
         "line": {
          "color": "#9467bd"
         },
         "mode": "lines",
         "name": "Salmonella enterica",
         "showlegend": false,
         "type": "scatter",
         "x": [
          3.9395192526186182,
          4.939519252618618,
          5.939519252618618,
          6.939519252618618,
          7.939519252618618
         ],
         "xaxis": "x",
         "y": [
          1.5705562479438127,
          1.805083586813043,
          2.039610925682273,
          2.2741382645515036,
          2.5086656034207335
         ],
         "yaxis": "y"
        },
        {
         "legendgroup": "5",
         "marker": {
          "color": "#8c564b"
         },
         "mode": "markers",
         "name": "Lactobacillus fermentum",
         "type": "scatter",
         "x": [
          4.334453751150932,
          5.334453751150932,
          6.334453751150932,
          7.334453751150932,
          8.334453751150932
         ],
         "xaxis": "x",
         "y": [
          1.3944516808262162,
          2.1903316981702914,
          2.4092566520389096,
          2.5200903281128424,
          2.494432898726399
         ],
         "yaxis": "y"
        },
        {
         "legendgroup": "5",
         "line": {
          "color": "#8c564b"
         },
         "mode": "lines",
         "name": "Lactobacillus fermentum",
         "showlegend": false,
         "type": "scatter",
         "x": [
          4.334453751150932,
          5.334453751150932,
          6.334453751150932,
          7.334453751150932,
          8.334453751150932
         ],
         "xaxis": "x",
         "y": [
          1.6957684384263485,
          1.9487405450006403,
          2.201712651574932,
          2.4546847581492237,
          2.707656864723515
         ],
         "yaxis": "y"
        },
        {
         "legendgroup": "6",
         "marker": {
          "color": "#e377c2"
         },
         "mode": "markers",
         "name": "Enterococcus faecalis",
         "type": "scatter",
         "x": [
          4.164352855784436,
          5.164352855784436,
          6.164352855784436,
          7.164352855784436,
          8.164352855784436
         ],
         "xaxis": "x",
         "y": [
          1.236789099409293,
          2.1375123531221294,
          2.3064250275506875,
          2.4444351730067457,
          2.4158077276355434
         ],
         "yaxis": "y"
        },
        {
         "legendgroup": "6",
         "line": {
          "color": "#e377c2"
         },
         "mode": "lines",
         "name": "Enterococcus faecalis",
         "showlegend": false,
         "type": "scatter",
         "x": [
          4.164352855784436,
          5.164352855784436,
          6.164352855784436,
          7.164352855784436,
          8.164352855784436
         ],
         "xaxis": "x",
         "y": [
          1.5752018608774563,
          1.841697868511168,
          2.1081938761448797,
          2.3746898837785917,
          2.641185891412303
         ],
         "yaxis": "y"
        },
        {
         "legendgroup": "7",
         "marker": {
          "color": "#7f7f7f"
         },
         "mode": "markers",
         "name": "Pseudomonas aeruginosa",
         "type": "scatter",
         "x": [
          3.785329835010767,
          4.785329835010767,
          5.785329835010767,
          6.785329835010767,
          7.785329835010767
         ],
         "xaxis": "x",
         "y": [
          0.8450980400142568,
          1.915135906622012,
          1.9661417327390327,
          2.0653929615619915,
          2.1484484035233837
         ],
         "yaxis": "y"
        },
        {
         "legendgroup": "7",
         "line": {
          "color": "#7f7f7f"
         },
         "mode": "lines",
         "name": "Pseudomonas aeruginosa",
         "showlegend": false,
         "type": "scatter",
         "x": [
          3.785329835010767,
          4.785329835010767,
          5.785329835010767,
          6.785329835010767,
          7.785329835010767
         ],
         "xaxis": "x",
         "y": [
          1.2366518525004888,
          1.5123476306963122,
          1.7880434088921355,
          2.063739187087959,
          2.3394349652837825
         ],
         "yaxis": "y"
        },
        {
         "legendgroup": "8",
         "marker": {
          "color": "#bcbd22"
         },
         "mode": "markers",
         "name": "Cryptococcus neoformans",
         "type": "scatter",
         "x": [
          2.7558748556724915,
          3.7558748556724915,
          4.7558748556724915,
          5.7558748556724915,
          6.7558748556724915
         ],
         "xaxis": "x",
         "y": [
          1.1760912590556813,
          1.9822712330395684,
          2.2528530309798933,
          2.444044795918076,
          2.499687082618404
         ],
         "yaxis": "y"
        },
        {
         "legendgroup": "8",
         "line": {
          "color": "#bcbd22"
         },
         "mode": "lines",
         "name": "Cryptococcus neoformans",
         "showlegend": false,
         "type": "scatter",
         "x": [
          2.7558748556724915,
          3.7558748556724915,
          4.7558748556724915,
          5.7558748556724915,
          6.7558748556724915
         ],
         "xaxis": "x",
         "y": [
          1.4491964383215339,
          1.7600929593219292,
          2.0709894803223245,
          2.38188600132272,
          2.692782522323115
         ],
         "yaxis": "y"
        },
        {
         "legendgroup": "9",
         "marker": {
          "color": "#17becf"
         },
         "mode": "markers",
         "name": "Saccharomyces cerevisiae",
         "type": "scatter",
         "x": [
          2.7558748556724915,
          3.7558748556724915,
          4.7558748556724915,
          5.7558748556724915,
          6.7558748556724915
         ],
         "xaxis": "x",
         "y": [
          1.0791812460476249,
          2.161368002234975,
          2.4871383754771865,
          2.717670503002262,
          2.8573324964312685
         ],
         "yaxis": "y"
        },
        {
         "legendgroup": "9",
         "line": {
          "color": "#17becf"
         },
         "mode": "lines",
         "name": "Saccharomyces cerevisiae",
         "showlegend": false,
         "type": "scatter",
         "x": [
          2.7558748556724915,
          3.7558748556724915,
          4.7558748556724915,
          5.7558748556724915,
          6.7558748556724915
         ],
         "xaxis": "x",
         "y": [
          1.4380171243317483,
          1.8492776244852058,
          2.2605381246386633,
          2.671798624792121,
          3.0830591249455788
         ],
         "yaxis": "y"
        },
        {
         "legendgroup": "0",
         "marker": {
          "color": "#1f77b4"
         },
         "mode": "markers",
         "name": "Bacillus subtilis",
         "showlegend": false,
         "type": "scatter",
         "x": [
          4.012837224705173,
          5.012837224705173,
          6.012837224705173,
          7.012837224705173,
          8.012837224705173
         ],
         "xaxis": "x2",
         "y": [
          -4.125129838871882,
          -3.076177568502758,
          -2.234904011887101,
          -1.0670468459568023,
          -0.11747010916313491
         ],
         "yaxis": "y2"
        },
        {
         "legendgroup": "0",
         "line": {
          "color": "#1f77b4"
         },
         "mode": "lines",
         "name": "Bacillus subtilis",
         "showlegend": false,
         "type": "scatter",
         "x": [
          4.012837224705173,
          5.012837224705173,
          6.012837224705173,
          7.012837224705173,
          8.012837224705173
         ],
         "xaxis": "x2",
         "y": [
          -4.129035711269026,
          -3.1265906930726803,
          -2.1241456748763357,
          -1.121700656679991,
          -0.1192556384836454
         ],
         "yaxis": "y2"
        },
        {
         "legendgroup": "1",
         "marker": {
          "color": "#ff7f0e"
         },
         "mode": "markers",
         "name": "Escherichia coli",
         "showlegend": false,
         "type": "scatter",
         "x": [
          3.929418925714293,
          4.929418925714293,
          5.929418925714293,
          6.929418925714293,
          7.929418925714293
         ],
         "xaxis": "x2",
         "y": [
          -3.6655635985670627,
          -3.063440747099826,
          -2.0278522971400275,
          -0.978624943174265,
          0.13341304415200483
         ],
         "yaxis": "y2"
        },
        {
         "legendgroup": "1",
         "line": {
          "color": "#ff7f0e"
         },
         "mode": "lines",
         "name": "Escherichia coli",
         "showlegend": false,
         "type": "scatter",
         "x": [
          3.929418925714293,
          4.929418925714293,
          5.929418925714293,
          6.929418925714293,
          7.929418925714293
         ],
         "xaxis": "x2",
         "y": [
          -3.856967526238574,
          -2.8886906173022044,
          -1.9204137083658352,
          -0.9521367994294652,
          0.016140109506904032
         ],
         "yaxis": "y2"
        },
        {
         "legendgroup": "2",
         "marker": {
          "color": "#2ca02c"
         },
         "mode": "markers",
         "name": "Staphylococcus aureus",
         "showlegend": false,
         "type": "scatter",
         "x": [
          4.181843587944773,
          5.181843587944773,
          6.181843587944773,
          7.181843587944773,
          8.181843587944773
         ],
         "xaxis": "x2",
         "y": [
          -3.8716180810001872,
          -2.997750961188715,
          -1.9359589673321855,
          -0.7660168502928212,
          0.21719506109655792
         ],
         "yaxis": "y2"
        },
        {
         "legendgroup": "2",
         "line": {
          "color": "#2ca02c"
         },
         "mode": "lines",
         "name": "Staphylococcus aureus",
         "showlegend": false,
         "type": "scatter",
         "x": [
          4.181843587944773,
          5.181843587944773,
          6.181843587944773,
          7.181843587944773,
          8.181843587944773
         ],
         "xaxis": "x2",
         "y": [
          -3.9527020387613465,
          -2.9117659992524088,
          -1.87082995974347,
          -0.8298939202345315,
          0.2110421192744063
         ],
         "yaxis": "y2"
        },
        {
         "legendgroup": "3",
         "marker": {
          "color": "#d62728"
         },
         "mode": "markers",
         "name": "Listeria Monocytogenes",
         "showlegend": false,
         "type": "scatter",
         "x": [
          4.143014800254095,
          5.143014800254095,
          6.143014800254095,
          7.143014800254095,
          8.143014800254095
         ],
         "xaxis": "x2",
         "y": [
          -3.9374353654898306,
          -3.046314887892729,
          -1.9363771613769238,
          -0.7516634460372689,
          0.18433238834846727
         ],
         "yaxis": "y2"
        },
        {
         "legendgroup": "3",
         "line": {
          "color": "#d62728"
         },
         "mode": "lines",
         "name": "Listeria Monocytogenes",
         "showlegend": false,
         "type": "scatter",
         "x": [
          4.143014800254095,
          5.143014800254095,
          6.143014800254095,
          7.143014800254095,
          8.143014800254095
         ],
         "xaxis": "x2",
         "y": [
          -4.005129084396068,
          -2.9513103894428623,
          -1.8974916944896574,
          -0.8436729995364516,
          0.2101456954167542
         ],
         "yaxis": "y2"
        },
        {
         "legendgroup": "4",
         "marker": {
          "color": "#9467bd"
         },
         "mode": "markers",
         "name": "Salmonella enterica",
         "showlegend": false,
         "type": "scatter",
         "x": [
          3.9395192526186182,
          4.939519252618618,
          5.939519252618618,
          6.939519252618618,
          7.939519252618618
         ],
         "xaxis": "x2",
         "y": [
          -3.8755131248837116,
          -3.0125672445668945,
          -1.9954463172125498,
          -0.9058859300240442,
          0.19068916027387106
         ],
         "yaxis": "y2"
        },
        {
         "legendgroup": "4",
         "line": {
          "color": "#9467bd"
         },
         "mode": "lines",
         "name": "Salmonella enterica",
         "showlegend": false,
         "type": "scatter",
         "x": [
          3.9395192526186182,
          4.939519252618618,
          5.939519252618618,
          6.939519252618618,
          7.939519252618618
         ],
         "xaxis": "x2",
         "y": [
          -3.9675618682542693,
          -2.9436532797684674,
          -1.9197446912826663,
          -0.8958361027968644,
          0.12807248568893748
         ],
         "yaxis": "y2"
        },
        {
         "legendgroup": "5",
         "marker": {
          "color": "#8c564b"
         },
         "mode": "markers",
         "name": "Lactobacillus fermentum",
         "showlegend": false,
         "type": "scatter",
         "x": [
          4.334453751150932,
          5.334453751150932,
          6.334453751150932,
          7.334453751150932,
          8.334453751150932
         ],
         "xaxis": "x2",
         "y": [
          -3.8062251194381957,
          -2.868117103372035,
          -1.7651666124668095,
          -0.640378203006195,
          0.29167221133319876
         ],
         "yaxis": "y2"
        },
        {
         "legendgroup": "5",
         "line": {
          "color": "#8c564b"
         },
         "mode": "lines",
         "name": "Lactobacillus fermentum",
         "showlegend": false,
         "type": "scatter",
         "x": [
          4.334453751150932,
          5.334453751150932,
          6.334453751150932,
          7.334453751150932,
          8.334453751150932
         ],
         "xaxis": "x2",
         "y": [
          -3.8423496777717334,
          -2.7999963215808705,
          -1.7576429653900076,
          -0.7152896091991447,
          0.32706374699171903
         ],
         "yaxis": "y2"
        },
        {
         "legendgroup": "6",
         "marker": {
          "color": "#e377c2"
         },
         "mode": "markers",
         "name": "Enterococcus faecalis",
         "showlegend": false,
         "type": "scatter",
         "x": [
          4.164352855784436,
          5.164352855784436,
          6.164352855784436,
          7.164352855784436,
          8.164352855784436
         ],
         "xaxis": "x2",
         "y": [
          -3.963887700855119,
          -2.920936448420197,
          -1.8679982369550319,
          -0.7160333581122915,
          0.21304704024234333
         ],
         "yaxis": "y2"
        },
        {
         "legendgroup": "6",
         "line": {
          "color": "#e377c2"
         },
         "mode": "lines",
         "name": "Enterococcus faecalis",
         "showlegend": false,
         "type": "scatter",
         "x": [
          4.164352855784436,
          5.164352855784436,
          6.164352855784436,
          7.164352855784436,
          8.164352855784436
         ],
         "xaxis": "x2",
         "y": [
          -3.962916255320625,
          -2.907038998070342,
          -1.851161740820059,
          -0.7952844835697759,
          0.26059277368050715
         ],
         "yaxis": "y2"
        },
        {
         "legendgroup": "7",
         "marker": {
          "color": "#7f7f7f"
         },
         "mode": "markers",
         "name": "Pseudomonas aeruginosa",
         "showlegend": false,
         "type": "scatter",
         "x": [
          3.785329835010767,
          4.785329835010767,
          5.785329835010767,
          6.785329835010767,
          7.785329835010767
         ],
         "xaxis": "x2",
         "y": [
          -4.355578760250155,
          -3.1433128949203146,
          -2.2082815317666866,
          -1.095075569557046,
          -0.0543122838698161
         ],
         "yaxis": "y2"
        },
        {
         "legendgroup": "7",
         "line": {
          "color": "#7f7f7f"
         },
         "mode": "lines",
         "name": "Pseudomonas aeruginosa",
         "showlegend": false,
         "type": "scatter",
         "x": [
          3.785329835010767,
          4.785329835010767,
          5.785329835010767,
          6.785329835010767,
          7.785329835010767
         ],
         "xaxis": "x2",
         "y": [
          -4.301466263697592,
          -3.2363892358851976,
          -2.171312208072803,
          -1.1062351802604082,
          -0.041158152448012686
         ],
         "yaxis": "y2"
        },
        {
         "legendgroup": "8",
         "marker": {
          "color": "#bcbd22"
         },
         "mode": "markers",
         "name": "Cryptococcus neoformans",
         "showlegend": false,
         "type": "scatter",
         "x": [
          2.7558748556724915,
          3.7558748556724915,
          4.7558748556724915,
          5.7558748556724915,
          6.7558748556724915
         ],
         "xaxis": "x2",
         "y": [
          -4.02458554120873,
          -3.076177568502758,
          -1.921570233525826,
          -0.7164237352009611,
          0.29692639522520387
         ],
         "yaxis": "y2"
        },
        {
         "legendgroup": "8",
         "line": {
          "color": "#bcbd22"
         },
         "mode": "lines",
         "name": "Cryptococcus neoformans",
         "showlegend": false,
         "type": "scatter",
         "x": [
          2.7558748556724915,
          3.7558748556724915,
          4.7558748556724915,
          5.7558748556724915,
          6.7558748556724915
         ],
         "xaxis": "x2",
         "y": [
          -4.088921677876547,
          -2.988643907259581,
          -1.888366136642614,
          -0.7880883660256472,
          0.3121894045913196
         ],
         "yaxis": "y2"
        },
        {
         "legendgroup": "9",
         "marker": {
          "color": "#17becf"
         },
         "mode": "markers",
         "name": "Saccharomyces cerevisiae",
         "showlegend": false,
         "type": "scatter",
         "x": [
          2.7558748556724915,
          3.7558748556724915,
          4.7558748556724915,
          5.7558748556724915,
          6.7558748556724915
         ],
         "xaxis": "x2",
         "y": [
          -4.1214955542167875,
          -2.8970807993073517,
          -1.6872848890285328,
          -0.4427980281167753,
          0.6545718090380684
         ],
         "yaxis": "y2"
        },
        {
         "legendgroup": "9",
         "line": {
          "color": "#17becf"
         },
         "mode": "lines",
         "name": "Saccharomyces cerevisiae",
         "showlegend": false,
         "type": "scatter",
         "x": [
          2.7558748556724915,
          3.7558748556724915,
          4.7558748556724915,
          5.7558748556724915,
          6.7558748556724915
         ],
         "xaxis": "x2",
         "y": [
          -4.1001009918663325,
          -2.899459242096304,
          -1.6988174923262758,
          -0.4981757425562465,
          0.7024660072137827
         ],
         "yaxis": "y2"
        }
       ],
       "layout": {
        "annotations": [
         {
          "font": {
           "size": 12
          },
          "showarrow": false,
          "text": "Mean slope: 0.27+/-0.32<br>Mean R<sup>2</sup>: 0.76",
          "x": 3,
          "xref": "x",
          "y": 2.8573324964312685,
          "yref": "y"
         },
         {
          "font": {
           "size": 12
          },
          "showarrow": false,
          "text": "Mean slope: 1.06 +/- 0.12<br>Mean R<sup>2</sup>: 1.00",
          "x": 3,
          "xref": "x2",
          "y": 0.6545718090380684,
          "yref": "y2"
         }
        ],
        "autosize": true,
        "template": {
         "data": {
          "bar": [
           {
            "error_x": {
             "color": "#2a3f5f"
            },
            "error_y": {
             "color": "#2a3f5f"
            },
            "marker": {
             "line": {
              "color": "#E5ECF6",
              "width": 0.5
             }
            },
            "type": "bar"
           }
          ],
          "barpolar": [
           {
            "marker": {
             "line": {
              "color": "#E5ECF6",
              "width": 0.5
             }
            },
            "type": "barpolar"
           }
          ],
          "carpet": [
           {
            "aaxis": {
             "endlinecolor": "#2a3f5f",
             "gridcolor": "white",
             "linecolor": "white",
             "minorgridcolor": "white",
             "startlinecolor": "#2a3f5f"
            },
            "baxis": {
             "endlinecolor": "#2a3f5f",
             "gridcolor": "white",
             "linecolor": "white",
             "minorgridcolor": "white",
             "startlinecolor": "#2a3f5f"
            },
            "type": "carpet"
           }
          ],
          "choropleth": [
           {
            "colorbar": {
             "outlinewidth": 0,
             "ticks": ""
            },
            "type": "choropleth"
           }
          ],
          "contour": [
           {
            "colorbar": {
             "outlinewidth": 0,
             "ticks": ""
            },
            "colorscale": [
             [
              0,
              "#0d0887"
             ],
             [
              0.1111111111111111,
              "#46039f"
             ],
             [
              0.2222222222222222,
              "#7201a8"
             ],
             [
              0.3333333333333333,
              "#9c179e"
             ],
             [
              0.4444444444444444,
              "#bd3786"
             ],
             [
              0.5555555555555556,
              "#d8576b"
             ],
             [
              0.6666666666666666,
              "#ed7953"
             ],
             [
              0.7777777777777778,
              "#fb9f3a"
             ],
             [
              0.8888888888888888,
              "#fdca26"
             ],
             [
              1,
              "#f0f921"
             ]
            ],
            "type": "contour"
           }
          ],
          "contourcarpet": [
           {
            "colorbar": {
             "outlinewidth": 0,
             "ticks": ""
            },
            "type": "contourcarpet"
           }
          ],
          "heatmap": [
           {
            "colorbar": {
             "outlinewidth": 0,
             "ticks": ""
            },
            "colorscale": [
             [
              0,
              "#0d0887"
             ],
             [
              0.1111111111111111,
              "#46039f"
             ],
             [
              0.2222222222222222,
              "#7201a8"
             ],
             [
              0.3333333333333333,
              "#9c179e"
             ],
             [
              0.4444444444444444,
              "#bd3786"
             ],
             [
              0.5555555555555556,
              "#d8576b"
             ],
             [
              0.6666666666666666,
              "#ed7953"
             ],
             [
              0.7777777777777778,
              "#fb9f3a"
             ],
             [
              0.8888888888888888,
              "#fdca26"
             ],
             [
              1,
              "#f0f921"
             ]
            ],
            "type": "heatmap"
           }
          ],
          "heatmapgl": [
           {
            "colorbar": {
             "outlinewidth": 0,
             "ticks": ""
            },
            "colorscale": [
             [
              0,
              "#0d0887"
             ],
             [
              0.1111111111111111,
              "#46039f"
             ],
             [
              0.2222222222222222,
              "#7201a8"
             ],
             [
              0.3333333333333333,
              "#9c179e"
             ],
             [
              0.4444444444444444,
              "#bd3786"
             ],
             [
              0.5555555555555556,
              "#d8576b"
             ],
             [
              0.6666666666666666,
              "#ed7953"
             ],
             [
              0.7777777777777778,
              "#fb9f3a"
             ],
             [
              0.8888888888888888,
              "#fdca26"
             ],
             [
              1,
              "#f0f921"
             ]
            ],
            "type": "heatmapgl"
           }
          ],
          "histogram": [
           {
            "marker": {
             "colorbar": {
              "outlinewidth": 0,
              "ticks": ""
             }
            },
            "type": "histogram"
           }
          ],
          "histogram2d": [
           {
            "colorbar": {
             "outlinewidth": 0,
             "ticks": ""
            },
            "colorscale": [
             [
              0,
              "#0d0887"
             ],
             [
              0.1111111111111111,
              "#46039f"
             ],
             [
              0.2222222222222222,
              "#7201a8"
             ],
             [
              0.3333333333333333,
              "#9c179e"
             ],
             [
              0.4444444444444444,
              "#bd3786"
             ],
             [
              0.5555555555555556,
              "#d8576b"
             ],
             [
              0.6666666666666666,
              "#ed7953"
             ],
             [
              0.7777777777777778,
              "#fb9f3a"
             ],
             [
              0.8888888888888888,
              "#fdca26"
             ],
             [
              1,
              "#f0f921"
             ]
            ],
            "type": "histogram2d"
           }
          ],
          "histogram2dcontour": [
           {
            "colorbar": {
             "outlinewidth": 0,
             "ticks": ""
            },
            "colorscale": [
             [
              0,
              "#0d0887"
             ],
             [
              0.1111111111111111,
              "#46039f"
             ],
             [
              0.2222222222222222,
              "#7201a8"
             ],
             [
              0.3333333333333333,
              "#9c179e"
             ],
             [
              0.4444444444444444,
              "#bd3786"
             ],
             [
              0.5555555555555556,
              "#d8576b"
             ],
             [
              0.6666666666666666,
              "#ed7953"
             ],
             [
              0.7777777777777778,
              "#fb9f3a"
             ],
             [
              0.8888888888888888,
              "#fdca26"
             ],
             [
              1,
              "#f0f921"
             ]
            ],
            "type": "histogram2dcontour"
           }
          ],
          "mesh3d": [
           {
            "colorbar": {
             "outlinewidth": 0,
             "ticks": ""
            },
            "type": "mesh3d"
           }
          ],
          "parcoords": [
           {
            "line": {
             "colorbar": {
              "outlinewidth": 0,
              "ticks": ""
             }
            },
            "type": "parcoords"
           }
          ],
          "scatter": [
           {
            "marker": {
             "colorbar": {
              "outlinewidth": 0,
              "ticks": ""
             }
            },
            "type": "scatter"
           }
          ],
          "scatter3d": [
           {
            "line": {
             "colorbar": {
              "outlinewidth": 0,
              "ticks": ""
             }
            },
            "marker": {
             "colorbar": {
              "outlinewidth": 0,
              "ticks": ""
             }
            },
            "type": "scatter3d"
           }
          ],
          "scattercarpet": [
           {
            "marker": {
             "colorbar": {
              "outlinewidth": 0,
              "ticks": ""
             }
            },
            "type": "scattercarpet"
           }
          ],
          "scattergeo": [
           {
            "marker": {
             "colorbar": {
              "outlinewidth": 0,
              "ticks": ""
             }
            },
            "type": "scattergeo"
           }
          ],
          "scattergl": [
           {
            "marker": {
             "colorbar": {
              "outlinewidth": 0,
              "ticks": ""
             }
            },
            "type": "scattergl"
           }
          ],
          "scattermapbox": [
           {
            "marker": {
             "colorbar": {
              "outlinewidth": 0,
              "ticks": ""
             }
            },
            "type": "scattermapbox"
           }
          ],
          "scatterpolar": [
           {
            "marker": {
             "colorbar": {
              "outlinewidth": 0,
              "ticks": ""
             }
            },
            "type": "scatterpolar"
           }
          ],
          "scatterpolargl": [
           {
            "marker": {
             "colorbar": {
              "outlinewidth": 0,
              "ticks": ""
             }
            },
            "type": "scatterpolargl"
           }
          ],
          "scatterternary": [
           {
            "marker": {
             "colorbar": {
              "outlinewidth": 0,
              "ticks": ""
             }
            },
            "type": "scatterternary"
           }
          ],
          "surface": [
           {
            "colorbar": {
             "outlinewidth": 0,
             "ticks": ""
            },
            "colorscale": [
             [
              0,
              "#0d0887"
             ],
             [
              0.1111111111111111,
              "#46039f"
             ],
             [
              0.2222222222222222,
              "#7201a8"
             ],
             [
              0.3333333333333333,
              "#9c179e"
             ],
             [
              0.4444444444444444,
              "#bd3786"
             ],
             [
              0.5555555555555556,
              "#d8576b"
             ],
             [
              0.6666666666666666,
              "#ed7953"
             ],
             [
              0.7777777777777778,
              "#fb9f3a"
             ],
             [
              0.8888888888888888,
              "#fdca26"
             ],
             [
              1,
              "#f0f921"
             ]
            ],
            "type": "surface"
           }
          ],
          "table": [
           {
            "cells": {
             "fill": {
              "color": "#EBF0F8"
             },
             "line": {
              "color": "white"
             }
            },
            "header": {
             "fill": {
              "color": "#C8D4E3"
             },
             "line": {
              "color": "white"
             }
            },
            "type": "table"
           }
          ]
         },
         "layout": {
          "annotationdefaults": {
           "arrowcolor": "#2a3f5f",
           "arrowhead": 0,
           "arrowwidth": 1
          },
          "colorscale": {
           "diverging": [
            [
             0,
             "#8e0152"
            ],
            [
             0.1,
             "#c51b7d"
            ],
            [
             0.2,
             "#de77ae"
            ],
            [
             0.3,
             "#f1b6da"
            ],
            [
             0.4,
             "#fde0ef"
            ],
            [
             0.5,
             "#f7f7f7"
            ],
            [
             0.6,
             "#e6f5d0"
            ],
            [
             0.7,
             "#b8e186"
            ],
            [
             0.8,
             "#7fbc41"
            ],
            [
             0.9,
             "#4d9221"
            ],
            [
             1,
             "#276419"
            ]
           ],
           "sequential": [
            [
             0,
             "#0d0887"
            ],
            [
             0.1111111111111111,
             "#46039f"
            ],
            [
             0.2222222222222222,
             "#7201a8"
            ],
            [
             0.3333333333333333,
             "#9c179e"
            ],
            [
             0.4444444444444444,
             "#bd3786"
            ],
            [
             0.5555555555555556,
             "#d8576b"
            ],
            [
             0.6666666666666666,
             "#ed7953"
            ],
            [
             0.7777777777777778,
             "#fb9f3a"
            ],
            [
             0.8888888888888888,
             "#fdca26"
            ],
            [
             1,
             "#f0f921"
            ]
           ],
           "sequentialminus": [
            [
             0,
             "#0d0887"
            ],
            [
             0.1111111111111111,
             "#46039f"
            ],
            [
             0.2222222222222222,
             "#7201a8"
            ],
            [
             0.3333333333333333,
             "#9c179e"
            ],
            [
             0.4444444444444444,
             "#bd3786"
            ],
            [
             0.5555555555555556,
             "#d8576b"
            ],
            [
             0.6666666666666666,
             "#ed7953"
            ],
            [
             0.7777777777777778,
             "#fb9f3a"
            ],
            [
             0.8888888888888888,
             "#fdca26"
            ],
            [
             1,
             "#f0f921"
            ]
           ]
          },
          "colorway": [
           "#636efa",
           "#EF553B",
           "#00cc96",
           "#ab63fa",
           "#FFA15A",
           "#19d3f3",
           "#FF6692",
           "#B6E880",
           "#FF97FF",
           "#FECB52"
          ],
          "font": {
           "color": "#2a3f5f"
          },
          "geo": {
           "bgcolor": "white",
           "lakecolor": "white",
           "landcolor": "#E5ECF6",
           "showlakes": true,
           "showland": true,
           "subunitcolor": "white"
          },
          "hoverlabel": {
           "align": "left"
          },
          "hovermode": "closest",
          "mapbox": {
           "style": "light"
          },
          "paper_bgcolor": "white",
          "plot_bgcolor": "#E5ECF6",
          "polar": {
           "angularaxis": {
            "gridcolor": "white",
            "linecolor": "white",
            "ticks": ""
           },
           "bgcolor": "#E5ECF6",
           "radialaxis": {
            "gridcolor": "white",
            "linecolor": "white",
            "ticks": ""
           }
          },
          "scene": {
           "xaxis": {
            "backgroundcolor": "#E5ECF6",
            "gridcolor": "white",
            "gridwidth": 2,
            "linecolor": "white",
            "showbackground": true,
            "ticks": "",
            "zerolinecolor": "white"
           },
           "yaxis": {
            "backgroundcolor": "#E5ECF6",
            "gridcolor": "white",
            "gridwidth": 2,
            "linecolor": "white",
            "showbackground": true,
            "ticks": "",
            "zerolinecolor": "white"
           },
           "zaxis": {
            "backgroundcolor": "#E5ECF6",
            "gridcolor": "white",
            "gridwidth": 2,
            "linecolor": "white",
            "showbackground": true,
            "ticks": "",
            "zerolinecolor": "white"
           }
          },
          "shapedefaults": {
           "line": {
            "color": "#2a3f5f"
           }
          },
          "ternary": {
           "aaxis": {
            "gridcolor": "white",
            "linecolor": "white",
            "ticks": ""
           },
           "baxis": {
            "gridcolor": "white",
            "linecolor": "white",
            "ticks": ""
           },
           "bgcolor": "#E5ECF6",
           "caxis": {
            "gridcolor": "white",
            "linecolor": "white",
            "ticks": ""
           }
          },
          "title": {
           "x": 0.05
          },
          "xaxis": {
           "automargin": true,
           "gridcolor": "white",
           "linecolor": "white",
           "ticks": "",
           "zerolinecolor": "white",
           "zerolinewidth": 2
          },
          "yaxis": {
           "automargin": true,
           "gridcolor": "white",
           "linecolor": "white",
           "ticks": "",
           "zerolinecolor": "white",
           "zerolinewidth": 2
          }
         }
        },
        "xaxis": {
         "anchor": "y",
         "autorange": true,
         "domain": [
          0,
          0.45
         ],
         "range": [
          2.044209505704548,
          8.72019832781604
         ],
         "title": {
          "text": "log(Concentration)"
         },
         "type": "linear"
        },
        "xaxis2": {
         "anchor": "y2",
         "autorange": true,
         "domain": [
          0.55,
          1
         ],
         "range": [
          1.9948229334200454,
          8.723226922839617
         ],
         "title": {
          "text": "log(Concentration)"
         },
         "type": "linear"
        },
        "yaxis": {
         "anchor": "x",
         "autorange": true,
         "range": [
          0.6837403442355094,
          3.2093390607724244
         ],
         "title": {
          "text": "log(Reads)"
         },
         "type": "linear"
        },
        "yaxis2": {
         "anchor": "x2",
         "autorange": true,
         "range": [
          -4.723736789303283,
          1.0387367089195936
         ],
         "title": {
          "text": "log(IC Normalized Reads)"
         },
         "type": "linear"
        }
       }
      },
      "image/png": "[encoded data removed]",
      "text/html": [
       "<div>\n",
       "        \n",
       "        \n",
       "            <div id=\"82fb3116-629a-4db7-b914-dde9d9ee52b4\" class=\"plotly-graph-div\" style=\"height:525px; width:100%;\"></div>\n",
       "            <script type=\"text/javascript\">\n",
       "                require([\"plotly\"], function(Plotly) {\n",
       "                    window.PLOTLYENV=window.PLOTLYENV || {};\n",
       "                    \n",
       "                if (document.getElementById(\"82fb3116-629a-4db7-b914-dde9d9ee52b4\")) {\n",
       "                    Plotly.newPlot(\n",
       "                        '82fb3116-629a-4db7-b914-dde9d9ee52b4',\n",
       "                        [{\"legendgroup\": \"0\", \"marker\": {\"color\": \"#1f77b4\"}, \"mode\": \"markers\", \"name\": \"Bacillus subtilis\", \"type\": \"scatter\", \"x\": [4.012837224705173, 5.012837224705173, 6.012837224705173, 7.012837224705173, 8.012837224705173], \"xaxis\": \"x\", \"y\": [1.0755469613925308, 1.9822712330395684, 1.9395192526186185, 2.093421685162235, 2.085290578230065], \"yaxis\": \"y\"}, {\"legendgroup\": \"0\", \"line\": {\"color\": \"#1f77b4\"}, \"mode\": \"lines\", \"name\": \"Bacillus subtilis\", \"showlegend\": false, \"type\": \"scatter\", \"x\": [4.012837224705173, 5.012837224705173, 6.012837224705173, 7.012837224705173, 8.012837224705173], \"xaxis\": \"x\", \"y\": [1.4090824049290565, 1.6221461735088298, 1.8352099420886034, 2.0482737106683766, 2.2613374792481507], \"yaxis\": \"y\"}, {\"legendgroup\": \"1\", \"marker\": {\"color\": \"#ff7f0e\"}, \"mode\": \"markers\", \"name\": \"Escherichia coli\", \"type\": \"scatter\", \"x\": [3.929418925714293, 4.929418925714293, 5.929418925714293, 6.929418925714293, 7.929418925714293], \"xaxis\": \"x\", \"y\": [1.5351132016973492, 1.995008054442501, 2.1465709673656916, 2.1818435879447726, 2.336173731545205], \"yaxis\": \"y\"}, {\"legendgroup\": \"1\", \"line\": {\"color\": \"#ff7f0e\"}, \"mode\": \"lines\", \"name\": \"Escherichia coli\", \"showlegend\": false, \"type\": \"scatter\", \"x\": [3.929418925714293, 4.929418925714293, 5.929418925714293, 6.929418925714293, 7.929418925714293], \"xaxis\": \"x\", \"y\": [1.6811505899595072, 1.8600462492793055, 2.038941908599104, 2.2178375679189024, 2.3967332272387], \"yaxis\": \"y\"}, {\"legendgroup\": \"2\", \"marker\": {\"color\": \"#2ca02c\"}, \"mode\": \"markers\", \"name\": \"Staphylococcus aureus\", \"type\": \"scatter\", \"x\": [4.181843587944773, 5.181843587944773, 6.181843587944773, 7.181843587944773, 8.181843587944773], \"xaxis\": \"x\", \"y\": [1.3290587192642247, 2.060697840353612, 2.238464297173534, 2.3944516808262164, 2.419955748489758], \"yaxis\": \"y\"}, {\"legendgroup\": \"2\", \"line\": {\"color\": \"#2ca02c\"}, \"mode\": \"lines\", \"name\": \"Staphylococcus aureus\", \"showlegend\": false, \"type\": \"scatter\", \"x\": [4.181843587944773, 5.181843587944773, 6.181843587944773, 7.181843587944773, 8.181843587944773], \"xaxis\": \"x\", \"y\": [1.5854160774367352, 1.8369708673291023, 2.0885256572214694, 2.3400804471138366, 2.591635237006204], \"yaxis\": \"y\"}, {\"legendgroup\": \"3\", \"marker\": {\"color\": \"#d62728\"}, \"mode\": \"markers\", \"name\": \"Listeria Monocytogenes\", \"type\": \"scatter\", \"x\": [4.143014800254095, 5.143014800254095, 6.143014800254095, 7.143014800254095, 8.143014800254095], \"xaxis\": \"x\", \"y\": [1.2632414347745813, 2.012133913649598, 2.2380461031287955, 2.4088050850817684, 2.3870930757416673], \"yaxis\": \"y\"}, {\"legendgroup\": \"3\", \"line\": {\"color\": \"#d62728\"}, \"mode\": \"lines\", \"name\": \"Listeria Monocytogenes\", \"showlegend\": false, \"type\": \"scatter\", \"x\": [4.143014800254095, 5.143014800254095, 6.143014800254095, 7.143014800254095, 8.143014800254095], \"xaxis\": \"x\", \"y\": [1.5329890318020138, 1.797426477138648, 2.061863922475282, 2.3263013678119164, 2.5907388131485507], \"yaxis\": \"y\"}, {\"legendgroup\": \"4\", \"marker\": {\"color\": \"#9467bd\"}, \"mode\": \"markers\", \"name\": \"Salmonella enterica\", \"type\": \"scatter\", \"x\": [3.9395192526186182, 4.939519252618618, 5.939519252618618, 6.939519252618618, 7.939519252618618], \"xaxis\": \"x\", \"y\": [1.3251636753807006, 2.045881556975432, 2.1789769472931693, 2.2545826010949934, 2.393449847667071], \"yaxis\": \"y\"}, {\"legendgroup\": \"4\", \"line\": {\"color\": \"#9467bd\"}, \"mode\": \"lines\", \"name\": \"Salmonella enterica\", \"showlegend\": false, \"type\": \"scatter\", \"x\": [3.9395192526186182, 4.939519252618618, 5.939519252618618, 6.939519252618618, 7.939519252618618], \"xaxis\": \"x\", \"y\": [1.5705562479438127, 1.805083586813043, 2.039610925682273, 2.2741382645515036, 2.5086656034207335], \"yaxis\": \"y\"}, {\"legendgroup\": \"5\", \"marker\": {\"color\": \"#8c564b\"}, \"mode\": \"markers\", \"name\": \"Lactobacillus fermentum\", \"type\": \"scatter\", \"x\": [4.334453751150932, 5.334453751150932, 6.334453751150932, 7.334453751150932, 8.334453751150932], \"xaxis\": \"x\", \"y\": [1.3944516808262162, 2.1903316981702914, 2.4092566520389096, 2.5200903281128424, 2.494432898726399], \"yaxis\": \"y\"}, {\"legendgroup\": \"5\", \"line\": {\"color\": \"#8c564b\"}, \"mode\": \"lines\", \"name\": \"Lactobacillus fermentum\", \"showlegend\": false, \"type\": \"scatter\", \"x\": [4.334453751150932, 5.334453751150932, 6.334453751150932, 7.334453751150932, 8.334453751150932], \"xaxis\": \"x\", \"y\": [1.6957684384263485, 1.9487405450006403, 2.201712651574932, 2.4546847581492237, 2.707656864723515], \"yaxis\": \"y\"}, {\"legendgroup\": \"6\", \"marker\": {\"color\": \"#e377c2\"}, \"mode\": \"markers\", \"name\": \"Enterococcus faecalis\", \"type\": \"scatter\", \"x\": [4.164352855784436, 5.164352855784436, 6.164352855784436, 7.164352855784436, 8.164352855784436], \"xaxis\": \"x\", \"y\": [1.236789099409293, 2.1375123531221294, 2.3064250275506875, 2.4444351730067457, 2.4158077276355434], \"yaxis\": \"y\"}, {\"legendgroup\": \"6\", \"line\": {\"color\": \"#e377c2\"}, \"mode\": \"lines\", \"name\": \"Enterococcus faecalis\", \"showlegend\": false, \"type\": \"scatter\", \"x\": [4.164352855784436, 5.164352855784436, 6.164352855784436, 7.164352855784436, 8.164352855784436], \"xaxis\": \"x\", \"y\": [1.5752018608774563, 1.841697868511168, 2.1081938761448797, 2.3746898837785917, 2.641185891412303], \"yaxis\": \"y\"}, {\"legendgroup\": \"7\", \"marker\": {\"color\": \"#7f7f7f\"}, \"mode\": \"markers\", \"name\": \"Pseudomonas aeruginosa\", \"type\": \"scatter\", \"x\": [3.785329835010767, 4.785329835010767, 5.785329835010767, 6.785329835010767, 7.785329835010767], \"xaxis\": \"x\", \"y\": [0.8450980400142568, 1.915135906622012, 1.9661417327390327, 2.0653929615619915, 2.1484484035233837], \"yaxis\": \"y\"}, {\"legendgroup\": \"7\", \"line\": {\"color\": \"#7f7f7f\"}, \"mode\": \"lines\", \"name\": \"Pseudomonas aeruginosa\", \"showlegend\": false, \"type\": \"scatter\", \"x\": [3.785329835010767, 4.785329835010767, 5.785329835010767, 6.785329835010767, 7.785329835010767], \"xaxis\": \"x\", \"y\": [1.2366518525004888, 1.5123476306963122, 1.7880434088921355, 2.063739187087959, 2.3394349652837825], \"yaxis\": \"y\"}, {\"legendgroup\": \"8\", \"marker\": {\"color\": \"#bcbd22\"}, \"mode\": \"markers\", \"name\": \"Cryptococcus neoformans\", \"type\": \"scatter\", \"x\": [2.7558748556724915, 3.7558748556724915, 4.7558748556724915, 5.7558748556724915, 6.7558748556724915], \"xaxis\": \"x\", \"y\": [1.1760912590556813, 1.9822712330395684, 2.2528530309798933, 2.444044795918076, 2.499687082618404], \"yaxis\": \"y\"}, {\"legendgroup\": \"8\", \"line\": {\"color\": \"#bcbd22\"}, \"mode\": \"lines\", \"name\": \"Cryptococcus neoformans\", \"showlegend\": false, \"type\": \"scatter\", \"x\": [2.7558748556724915, 3.7558748556724915, 4.7558748556724915, 5.7558748556724915, 6.7558748556724915], \"xaxis\": \"x\", \"y\": [1.4491964383215339, 1.7600929593219292, 2.0709894803223245, 2.38188600132272, 2.692782522323115], \"yaxis\": \"y\"}, {\"legendgroup\": \"9\", \"marker\": {\"color\": \"#17becf\"}, \"mode\": \"markers\", \"name\": \"Saccharomyces cerevisiae\", \"type\": \"scatter\", \"x\": [2.7558748556724915, 3.7558748556724915, 4.7558748556724915, 5.7558748556724915, 6.7558748556724915], \"xaxis\": \"x\", \"y\": [1.0791812460476249, 2.161368002234975, 2.4871383754771865, 2.717670503002262, 2.8573324964312685], \"yaxis\": \"y\"}, {\"legendgroup\": \"9\", \"line\": {\"color\": \"#17becf\"}, \"mode\": \"lines\", \"name\": \"Saccharomyces cerevisiae\", \"showlegend\": false, \"type\": \"scatter\", \"x\": [2.7558748556724915, 3.7558748556724915, 4.7558748556724915, 5.7558748556724915, 6.7558748556724915], \"xaxis\": \"x\", \"y\": [1.4380171243317483, 1.8492776244852058, 2.2605381246386633, 2.671798624792121, 3.0830591249455788], \"yaxis\": \"y\"}, {\"legendgroup\": \"0\", \"marker\": {\"color\": \"#1f77b4\"}, \"mode\": \"markers\", \"name\": \"Bacillus subtilis\", \"showlegend\": false, \"type\": \"scatter\", \"x\": [4.012837224705173, 5.012837224705173, 6.012837224705173, 7.012837224705173, 8.012837224705173], \"xaxis\": \"x2\", \"y\": [-4.125129838871882, -3.076177568502758, -2.234904011887101, -1.0670468459568023, -0.11747010916313491], \"yaxis\": \"y2\"}, {\"legendgroup\": \"0\", \"line\": {\"color\": \"#1f77b4\"}, \"mode\": \"lines\", \"name\": \"Bacillus subtilis\", \"showlegend\": false, \"type\": \"scatter\", \"x\": [4.012837224705173, 5.012837224705173, 6.012837224705173, 7.012837224705173, 8.012837224705173], \"xaxis\": \"x2\", \"y\": [-4.129035711269026, -3.1265906930726803, -2.1241456748763357, -1.121700656679991, -0.1192556384836454], \"yaxis\": \"y2\"}, {\"legendgroup\": \"1\", \"marker\": {\"color\": \"#ff7f0e\"}, \"mode\": \"markers\", \"name\": \"Escherichia coli\", \"showlegend\": false, \"type\": \"scatter\", \"x\": [3.929418925714293, 4.929418925714293, 5.929418925714293, 6.929418925714293, 7.929418925714293], \"xaxis\": \"x2\", \"y\": [-3.6655635985670627, -3.063440747099826, -2.0278522971400275, -0.978624943174265, 0.13341304415200483], \"yaxis\": \"y2\"}, {\"legendgroup\": \"1\", \"line\": {\"color\": \"#ff7f0e\"}, \"mode\": \"lines\", \"name\": \"Escherichia coli\", \"showlegend\": false, \"type\": \"scatter\", \"x\": [3.929418925714293, 4.929418925714293, 5.929418925714293, 6.929418925714293, 7.929418925714293], \"xaxis\": \"x2\", \"y\": [-3.856967526238574, -2.8886906173022044, -1.9204137083658352, -0.9521367994294652, 0.016140109506904032], \"yaxis\": \"y2\"}, {\"legendgroup\": \"2\", \"marker\": {\"color\": \"#2ca02c\"}, \"mode\": \"markers\", \"name\": \"Staphylococcus aureus\", \"showlegend\": false, \"type\": \"scatter\", \"x\": [4.181843587944773, 5.181843587944773, 6.181843587944773, 7.181843587944773, 8.181843587944773], \"xaxis\": \"x2\", \"y\": [-3.8716180810001872, -2.997750961188715, -1.9359589673321855, -0.7660168502928212, 0.21719506109655792], \"yaxis\": \"y2\"}, {\"legendgroup\": \"2\", \"line\": {\"color\": \"#2ca02c\"}, \"mode\": \"lines\", \"name\": \"Staphylococcus aureus\", \"showlegend\": false, \"type\": \"scatter\", \"x\": [4.181843587944773, 5.181843587944773, 6.181843587944773, 7.181843587944773, 8.181843587944773], \"xaxis\": \"x2\", \"y\": [-3.9527020387613465, -2.9117659992524088, -1.87082995974347, -0.8298939202345315, 0.2110421192744063], \"yaxis\": \"y2\"}, {\"legendgroup\": \"3\", \"marker\": {\"color\": \"#d62728\"}, \"mode\": \"markers\", \"name\": \"Listeria Monocytogenes\", \"showlegend\": false, \"type\": \"scatter\", \"x\": [4.143014800254095, 5.143014800254095, 6.143014800254095, 7.143014800254095, 8.143014800254095], \"xaxis\": \"x2\", \"y\": [-3.9374353654898306, -3.046314887892729, -1.9363771613769238, -0.7516634460372689, 0.18433238834846727], \"yaxis\": \"y2\"}, {\"legendgroup\": \"3\", \"line\": {\"color\": \"#d62728\"}, \"mode\": \"lines\", \"name\": \"Listeria Monocytogenes\", \"showlegend\": false, \"type\": \"scatter\", \"x\": [4.143014800254095, 5.143014800254095, 6.143014800254095, 7.143014800254095, 8.143014800254095], \"xaxis\": \"x2\", \"y\": [-4.005129084396068, -2.9513103894428623, -1.8974916944896574, -0.8436729995364516, 0.2101456954167542], \"yaxis\": \"y2\"}, {\"legendgroup\": \"4\", \"marker\": {\"color\": \"#9467bd\"}, \"mode\": \"markers\", \"name\": \"Salmonella enterica\", \"showlegend\": false, \"type\": \"scatter\", \"x\": [3.9395192526186182, 4.939519252618618, 5.939519252618618, 6.939519252618618, 7.939519252618618], \"xaxis\": \"x2\", \"y\": [-3.8755131248837116, -3.0125672445668945, -1.9954463172125498, -0.9058859300240442, 0.19068916027387106], \"yaxis\": \"y2\"}, {\"legendgroup\": \"4\", \"line\": {\"color\": \"#9467bd\"}, \"mode\": \"lines\", \"name\": \"Salmonella enterica\", \"showlegend\": false, \"type\": \"scatter\", \"x\": [3.9395192526186182, 4.939519252618618, 5.939519252618618, 6.939519252618618, 7.939519252618618], \"xaxis\": \"x2\", \"y\": [-3.9675618682542693, -2.9436532797684674, -1.9197446912826663, -0.8958361027968644, 0.12807248568893748], \"yaxis\": \"y2\"}, {\"legendgroup\": \"5\", \"marker\": {\"color\": \"#8c564b\"}, \"mode\": \"markers\", \"name\": \"Lactobacillus fermentum\", \"showlegend\": false, \"type\": \"scatter\", \"x\": [4.334453751150932, 5.334453751150932, 6.334453751150932, 7.334453751150932, 8.334453751150932], \"xaxis\": \"x2\", \"y\": [-3.8062251194381957, -2.868117103372035, -1.7651666124668095, -0.640378203006195, 0.29167221133319876], \"yaxis\": \"y2\"}, {\"legendgroup\": \"5\", \"line\": {\"color\": \"#8c564b\"}, \"mode\": \"lines\", \"name\": \"Lactobacillus fermentum\", \"showlegend\": false, \"type\": \"scatter\", \"x\": [4.334453751150932, 5.334453751150932, 6.334453751150932, 7.334453751150932, 8.334453751150932], \"xaxis\": \"x2\", \"y\": [-3.8423496777717334, -2.7999963215808705, -1.7576429653900076, -0.7152896091991447, 0.32706374699171903], \"yaxis\": \"y2\"}, {\"legendgroup\": \"6\", \"marker\": {\"color\": \"#e377c2\"}, \"mode\": \"markers\", \"name\": \"Enterococcus faecalis\", \"showlegend\": false, \"type\": \"scatter\", \"x\": [4.164352855784436, 5.164352855784436, 6.164352855784436, 7.164352855784436, 8.164352855784436], \"xaxis\": \"x2\", \"y\": [-3.963887700855119, -2.920936448420197, -1.8679982369550319, -0.7160333581122915, 0.21304704024234333], \"yaxis\": \"y2\"}, {\"legendgroup\": \"6\", \"line\": {\"color\": \"#e377c2\"}, \"mode\": \"lines\", \"name\": \"Enterococcus faecalis\", \"showlegend\": false, \"type\": \"scatter\", \"x\": [4.164352855784436, 5.164352855784436, 6.164352855784436, 7.164352855784436, 8.164352855784436], \"xaxis\": \"x2\", \"y\": [-3.962916255320625, -2.907038998070342, -1.851161740820059, -0.7952844835697759, 0.26059277368050715], \"yaxis\": \"y2\"}, {\"legendgroup\": \"7\", \"marker\": {\"color\": \"#7f7f7f\"}, \"mode\": \"markers\", \"name\": \"Pseudomonas aeruginosa\", \"showlegend\": false, \"type\": \"scatter\", \"x\": [3.785329835010767, 4.785329835010767, 5.785329835010767, 6.785329835010767, 7.785329835010767], \"xaxis\": \"x2\", \"y\": [-4.355578760250155, -3.1433128949203146, -2.2082815317666866, -1.095075569557046, -0.0543122838698161], \"yaxis\": \"y2\"}, {\"legendgroup\": \"7\", \"line\": {\"color\": \"#7f7f7f\"}, \"mode\": \"lines\", \"name\": \"Pseudomonas aeruginosa\", \"showlegend\": false, \"type\": \"scatter\", \"x\": [3.785329835010767, 4.785329835010767, 5.785329835010767, 6.785329835010767, 7.785329835010767], \"xaxis\": \"x2\", \"y\": [-4.301466263697592, -3.2363892358851976, -2.171312208072803, -1.1062351802604082, -0.041158152448012686], \"yaxis\": \"y2\"}, {\"legendgroup\": \"8\", \"marker\": {\"color\": \"#bcbd22\"}, \"mode\": \"markers\", \"name\": \"Cryptococcus neoformans\", \"showlegend\": false, \"type\": \"scatter\", \"x\": [2.7558748556724915, 3.7558748556724915, 4.7558748556724915, 5.7558748556724915, 6.7558748556724915], \"xaxis\": \"x2\", \"y\": [-4.02458554120873, -3.076177568502758, -1.921570233525826, -0.7164237352009611, 0.29692639522520387], \"yaxis\": \"y2\"}, {\"legendgroup\": \"8\", \"line\": {\"color\": \"#bcbd22\"}, \"mode\": \"lines\", \"name\": \"Cryptococcus neoformans\", \"showlegend\": false, \"type\": \"scatter\", \"x\": [2.7558748556724915, 3.7558748556724915, 4.7558748556724915, 5.7558748556724915, 6.7558748556724915], \"xaxis\": \"x2\", \"y\": [-4.088921677876547, -2.988643907259581, -1.888366136642614, -0.7880883660256472, 0.3121894045913196], \"yaxis\": \"y2\"}, {\"legendgroup\": \"9\", \"marker\": {\"color\": \"#17becf\"}, \"mode\": \"markers\", \"name\": \"Saccharomyces cerevisiae\", \"showlegend\": false, \"type\": \"scatter\", \"x\": [2.7558748556724915, 3.7558748556724915, 4.7558748556724915, 5.7558748556724915, 6.7558748556724915], \"xaxis\": \"x2\", \"y\": [-4.1214955542167875, -2.8970807993073517, -1.6872848890285328, -0.4427980281167753, 0.6545718090380684], \"yaxis\": \"y2\"}, {\"legendgroup\": \"9\", \"line\": {\"color\": \"#17becf\"}, \"mode\": \"lines\", \"name\": \"Saccharomyces cerevisiae\", \"showlegend\": false, \"type\": \"scatter\", \"x\": [2.7558748556724915, 3.7558748556724915, 4.7558748556724915, 5.7558748556724915, 6.7558748556724915], \"xaxis\": \"x2\", \"y\": [-4.1001009918663325, -2.899459242096304, -1.6988174923262758, -0.4981757425562465, 0.7024660072137827], \"yaxis\": \"y2\"}],\n",
       "                        {\"annotations\": [{\"font\": {\"size\": 12}, \"showarrow\": false, \"text\": \"Mean slope: 0.27+/-0.32<br>Mean R<sup>2</sup>: 0.76\", \"x\": 3, \"xref\": \"x\", \"y\": 2.8573324964312685, \"yref\": \"y\"}, {\"font\": {\"size\": 12}, \"showarrow\": false, \"text\": \"Mean slope: 1.06 +/- 0.12<br>Mean R<sup>2</sup>: 1.00\", \"x\": 3, \"xref\": \"x2\", \"y\": 0.6545718090380684, \"yref\": \"y2\"}], \"template\": {\"data\": {\"bar\": [{\"error_x\": {\"color\": \"#2a3f5f\"}, \"error_y\": {\"color\": \"#2a3f5f\"}, \"marker\": {\"line\": {\"color\": \"#E5ECF6\", \"width\": 0.5}}, \"type\": \"bar\"}], \"barpolar\": [{\"marker\": {\"line\": {\"color\": \"#E5ECF6\", \"width\": 0.5}}, \"type\": \"barpolar\"}], \"carpet\": [{\"aaxis\": {\"endlinecolor\": \"#2a3f5f\", \"gridcolor\": \"white\", \"linecolor\": \"white\", \"minorgridcolor\": \"white\", \"startlinecolor\": \"#2a3f5f\"}, \"baxis\": {\"endlinecolor\": \"#2a3f5f\", \"gridcolor\": \"white\", \"linecolor\": \"white\", \"minorgridcolor\": \"white\", \"startlinecolor\": \"#2a3f5f\"}, \"type\": \"carpet\"}], \"choropleth\": [{\"colorbar\": {\"outlinewidth\": 0, \"ticks\": \"\"}, \"type\": \"choropleth\"}], \"contour\": [{\"colorbar\": {\"outlinewidth\": 0, \"ticks\": \"\"}, \"colorscale\": [[0.0, \"#0d0887\"], [0.1111111111111111, \"#46039f\"], [0.2222222222222222, \"#7201a8\"], [0.3333333333333333, \"#9c179e\"], [0.4444444444444444, \"#bd3786\"], [0.5555555555555556, \"#d8576b\"], [0.6666666666666666, \"#ed7953\"], [0.7777777777777778, \"#fb9f3a\"], [0.8888888888888888, \"#fdca26\"], [1.0, \"#f0f921\"]], \"type\": \"contour\"}], \"contourcarpet\": [{\"colorbar\": {\"outlinewidth\": 0, \"ticks\": \"\"}, \"type\": \"contourcarpet\"}], \"heatmap\": [{\"colorbar\": {\"outlinewidth\": 0, \"ticks\": \"\"}, \"colorscale\": [[0.0, \"#0d0887\"], [0.1111111111111111, \"#46039f\"], [0.2222222222222222, \"#7201a8\"], [0.3333333333333333, \"#9c179e\"], [0.4444444444444444, \"#bd3786\"], [0.5555555555555556, \"#d8576b\"], [0.6666666666666666, \"#ed7953\"], [0.7777777777777778, \"#fb9f3a\"], [0.8888888888888888, \"#fdca26\"], [1.0, \"#f0f921\"]], \"type\": \"heatmap\"}], \"heatmapgl\": [{\"colorbar\": {\"outlinewidth\": 0, \"ticks\": \"\"}, \"colorscale\": [[0.0, \"#0d0887\"], [0.1111111111111111, \"#46039f\"], [0.2222222222222222, \"#7201a8\"], [0.3333333333333333, \"#9c179e\"], [0.4444444444444444, \"#bd3786\"], [0.5555555555555556, \"#d8576b\"], [0.6666666666666666, \"#ed7953\"], [0.7777777777777778, \"#fb9f3a\"], [0.8888888888888888, \"#fdca26\"], [1.0, \"#f0f921\"]], \"type\": \"heatmapgl\"}], \"histogram\": [{\"marker\": {\"colorbar\": {\"outlinewidth\": 0, \"ticks\": \"\"}}, \"type\": \"histogram\"}], \"histogram2d\": [{\"colorbar\": {\"outlinewidth\": 0, \"ticks\": \"\"}, \"colorscale\": [[0.0, \"#0d0887\"], [0.1111111111111111, \"#46039f\"], [0.2222222222222222, \"#7201a8\"], [0.3333333333333333, \"#9c179e\"], [0.4444444444444444, \"#bd3786\"], [0.5555555555555556, \"#d8576b\"], [0.6666666666666666, \"#ed7953\"], [0.7777777777777778, \"#fb9f3a\"], [0.8888888888888888, \"#fdca26\"], [1.0, \"#f0f921\"]], \"type\": \"histogram2d\"}], \"histogram2dcontour\": [{\"colorbar\": {\"outlinewidth\": 0, \"ticks\": \"\"}, \"colorscale\": [[0.0, \"#0d0887\"], [0.1111111111111111, \"#46039f\"], [0.2222222222222222, \"#7201a8\"], [0.3333333333333333, \"#9c179e\"], [0.4444444444444444, \"#bd3786\"], [0.5555555555555556, \"#d8576b\"], [0.6666666666666666, \"#ed7953\"], [0.7777777777777778, \"#fb9f3a\"], [0.8888888888888888, \"#fdca26\"], [1.0, \"#f0f921\"]], \"type\": \"histogram2dcontour\"}], \"mesh3d\": [{\"colorbar\": {\"outlinewidth\": 0, \"ticks\": \"\"}, \"type\": \"mesh3d\"}], \"parcoords\": [{\"line\": {\"colorbar\": {\"outlinewidth\": 0, \"ticks\": \"\"}}, \"type\": \"parcoords\"}], \"scatter\": [{\"marker\": {\"colorbar\": {\"outlinewidth\": 0, \"ticks\": \"\"}}, \"type\": \"scatter\"}], \"scatter3d\": [{\"line\": {\"colorbar\": {\"outlinewidth\": 0, \"ticks\": \"\"}}, \"marker\": {\"colorbar\": {\"outlinewidth\": 0, \"ticks\": \"\"}}, \"type\": \"scatter3d\"}], \"scattercarpet\": [{\"marker\": {\"colorbar\": {\"outlinewidth\": 0, \"ticks\": \"\"}}, \"type\": \"scattercarpet\"}], \"scattergeo\": [{\"marker\": {\"colorbar\": {\"outlinewidth\": 0, \"ticks\": \"\"}}, \"type\": \"scattergeo\"}], \"scattergl\": [{\"marker\": {\"colorbar\": {\"outlinewidth\": 0, \"ticks\": \"\"}}, \"type\": \"scattergl\"}], \"scattermapbox\": [{\"marker\": {\"colorbar\": {\"outlinewidth\": 0, \"ticks\": \"\"}}, \"type\": \"scattermapbox\"}], \"scatterpolar\": [{\"marker\": {\"colorbar\": {\"outlinewidth\": 0, \"ticks\": \"\"}}, \"type\": \"scatterpolar\"}], \"scatterpolargl\": [{\"marker\": {\"colorbar\": {\"outlinewidth\": 0, \"ticks\": \"\"}}, \"type\": \"scatterpolargl\"}], \"scatterternary\": [{\"marker\": {\"colorbar\": {\"outlinewidth\": 0, \"ticks\": \"\"}}, \"type\": \"scatterternary\"}], \"surface\": [{\"colorbar\": {\"outlinewidth\": 0, \"ticks\": \"\"}, \"colorscale\": [[0.0, \"#0d0887\"], [0.1111111111111111, \"#46039f\"], [0.2222222222222222, \"#7201a8\"], [0.3333333333333333, \"#9c179e\"], [0.4444444444444444, \"#bd3786\"], [0.5555555555555556, \"#d8576b\"], [0.6666666666666666, \"#ed7953\"], [0.7777777777777778, \"#fb9f3a\"], [0.8888888888888888, \"#fdca26\"], [1.0, \"#f0f921\"]], \"type\": \"surface\"}], \"table\": [{\"cells\": {\"fill\": {\"color\": \"#EBF0F8\"}, \"line\": {\"color\": \"white\"}}, \"header\": {\"fill\": {\"color\": \"#C8D4E3\"}, \"line\": {\"color\": \"white\"}}, \"type\": \"table\"}]}, \"layout\": {\"annotationdefaults\": {\"arrowcolor\": \"#2a3f5f\", \"arrowhead\": 0, \"arrowwidth\": 1}, \"colorscale\": {\"diverging\": [[0, \"#8e0152\"], [0.1, \"#c51b7d\"], [0.2, \"#de77ae\"], [0.3, \"#f1b6da\"], [0.4, \"#fde0ef\"], [0.5, \"#f7f7f7\"], [0.6, \"#e6f5d0\"], [0.7, \"#b8e186\"], [0.8, \"#7fbc41\"], [0.9, \"#4d9221\"], [1, \"#276419\"]], \"sequential\": [[0.0, \"#0d0887\"], [0.1111111111111111, \"#46039f\"], [0.2222222222222222, \"#7201a8\"], [0.3333333333333333, \"#9c179e\"], [0.4444444444444444, \"#bd3786\"], [0.5555555555555556, \"#d8576b\"], [0.6666666666666666, \"#ed7953\"], [0.7777777777777778, \"#fb9f3a\"], [0.8888888888888888, \"#fdca26\"], [1.0, \"#f0f921\"]], \"sequentialminus\": [[0.0, \"#0d0887\"], [0.1111111111111111, \"#46039f\"], [0.2222222222222222, \"#7201a8\"], [0.3333333333333333, \"#9c179e\"], [0.4444444444444444, \"#bd3786\"], [0.5555555555555556, \"#d8576b\"], [0.6666666666666666, \"#ed7953\"], [0.7777777777777778, \"#fb9f3a\"], [0.8888888888888888, \"#fdca26\"], [1.0, \"#f0f921\"]]}, \"colorway\": [\"#636efa\", \"#EF553B\", \"#00cc96\", \"#ab63fa\", \"#FFA15A\", \"#19d3f3\", \"#FF6692\", \"#B6E880\", \"#FF97FF\", \"#FECB52\"], \"font\": {\"color\": \"#2a3f5f\"}, \"geo\": {\"bgcolor\": \"white\", \"lakecolor\": \"white\", \"landcolor\": \"#E5ECF6\", \"showlakes\": true, \"showland\": true, \"subunitcolor\": \"white\"}, \"hoverlabel\": {\"align\": \"left\"}, \"hovermode\": \"closest\", \"mapbox\": {\"style\": \"light\"}, \"paper_bgcolor\": \"white\", \"plot_bgcolor\": \"#E5ECF6\", \"polar\": {\"angularaxis\": {\"gridcolor\": \"white\", \"linecolor\": \"white\", \"ticks\": \"\"}, \"bgcolor\": \"#E5ECF6\", \"radialaxis\": {\"gridcolor\": \"white\", \"linecolor\": \"white\", \"ticks\": \"\"}}, \"scene\": {\"xaxis\": {\"backgroundcolor\": \"#E5ECF6\", \"gridcolor\": \"white\", \"gridwidth\": 2, \"linecolor\": \"white\", \"showbackground\": true, \"ticks\": \"\", \"zerolinecolor\": \"white\"}, \"yaxis\": {\"backgroundcolor\": \"#E5ECF6\", \"gridcolor\": \"white\", \"gridwidth\": 2, \"linecolor\": \"white\", \"showbackground\": true, \"ticks\": \"\", \"zerolinecolor\": \"white\"}, \"zaxis\": {\"backgroundcolor\": \"#E5ECF6\", \"gridcolor\": \"white\", \"gridwidth\": 2, \"linecolor\": \"white\", \"showbackground\": true, \"ticks\": \"\", \"zerolinecolor\": \"white\"}}, \"shapedefaults\": {\"line\": {\"color\": \"#2a3f5f\"}}, \"ternary\": {\"aaxis\": {\"gridcolor\": \"white\", \"linecolor\": \"white\", \"ticks\": \"\"}, \"baxis\": {\"gridcolor\": \"white\", \"linecolor\": \"white\", \"ticks\": \"\"}, \"bgcolor\": \"#E5ECF6\", \"caxis\": {\"gridcolor\": \"white\", \"linecolor\": \"white\", \"ticks\": \"\"}}, \"title\": {\"x\": 0.05}, \"xaxis\": {\"automargin\": true, \"gridcolor\": \"white\", \"linecolor\": \"white\", \"ticks\": \"\", \"zerolinecolor\": \"white\", \"zerolinewidth\": 2}, \"yaxis\": {\"automargin\": true, \"gridcolor\": \"white\", \"linecolor\": \"white\", \"ticks\": \"\", \"zerolinecolor\": \"white\", \"zerolinewidth\": 2}}}, \"xaxis\": {\"anchor\": \"y\", \"domain\": [0, 0.45], \"title\": {\"text\": \"log(Concentration)\"}}, \"xaxis2\": {\"anchor\": \"y2\", \"domain\": [0.55, 1], \"title\": {\"text\": \"log(Concentration)\"}}, \"yaxis\": {\"anchor\": \"x\", \"title\": {\"text\": \"log(Reads)\"}}, \"yaxis2\": {\"anchor\": \"x2\", \"title\": {\"text\": \"log(IC Normalized Reads)\"}}},\n",
       "                        {\"responsive\": true}\n",
       "                    ).then(function(){\n",
       "                            \n",
       "var gd = document.getElementById('82fb3116-629a-4db7-b914-dde9d9ee52b4');\n",
       "var x = new MutationObserver(function (mutations, observer) {{\n",
       "        var display = window.getComputedStyle(gd).display;\n",
       "        if (!display || display === 'none') {{\n",
       "            console.log([gd, 'removed!']);\n",
       "            Plotly.purge(gd);\n",
       "            observer.disconnect();\n",
       "        }}\n",
       "}});\n",
       "\n",
       "// Listen for the removal of the full notebook cells\n",
       "var notebookContainer = gd.closest('#notebook-container');\n",
       "if (notebookContainer) {{\n",
       "    x.observe(notebookContainer, {childList: true});\n",
       "}}\n",
       "\n",
       "// Listen for the clearing of the current output cell\n",
       "var outputEl = gd.closest('.output');\n",
       "if (outputEl) {{\n",
       "    x.observe(outputEl, {childList: true});\n",
       "}}\n",
       "\n",
       "                        })\n",
       "                };\n",
       "                });\n",
       "            </script>\n",
       "        </div>"
      ]
     },
     "metadata": {},
     "output_type": "display_data"
    }
   ],
   "source": [
    "count_dict_b = filter_data(b)\n",
    "fig = generate_fig(count_dict_b, left_norm=False)\n",
    "fig.show()"
   ]
  },
  {
   "cell_type": "markdown",
   "metadata": {},
   "source": [
    "### Effect of adjusting for copy number\n",
    "There is no adjustment for 18S available here. The fungal targets will be removed."
   ]
  },
  {
   "cell_type": "code",
   "execution_count": 43,
   "metadata": {},
   "outputs": [],
   "source": [
    "for count_dict in [a, b, c, d]:\n",
    "    count_dict.pop(\"4932\")\n",
    "    count_dict.pop(\"5207\")"
   ]
  },
  {
   "cell_type": "code",
   "execution_count": 44,
   "metadata": {},
   "outputs": [
    {
     "data": {
      "application/vnd.plotly.v1+json": {
       "config": {
        "plotlyServerURL": "https://plot.ly"
       },
       "data": [
        {
         "legendgroup": "0",
         "marker": {
          "color": "#1f77b4"
         },
         "mode": "markers",
         "name": "Bacillus subtilis",
         "type": "scatter",
         "x": [
          4.012837224705173,
          5.012837224705173,
          6.012837224705173,
          7.012837224705173,
          8.012837224705173
         ],
         "xaxis": "x",
         "y": [
          -3.125129838871881,
          -2.076177568502758,
          -1.2349040118871006,
          -0.06704684595680242,
          0.8825298908368651
         ],
         "yaxis": "y"
        },
        {
         "legendgroup": "0",
         "line": {
          "color": "#1f77b4"
         },
         "mode": "lines",
         "name": "Bacillus subtilis",
         "showlegend": false,
         "type": "scatter",
         "x": [
          4.012837224705173,
          5.012837224705173,
          6.012837224705173,
          7.012837224705173,
          8.012837224705173
         ],
         "xaxis": "x",
         "y": [
          -3.129035711269026,
          -2.1265906930726803,
          -1.1241456748763357,
          -0.12170065667999097,
          0.8807443615163546
         ],
         "yaxis": "y"
        },
        {
         "legendgroup": "1",
         "marker": {
          "color": "#ff7f0e"
         },
         "mode": "markers",
         "name": "Escherichia coli",
         "type": "scatter",
         "x": [
          3.929418925714293,
          4.929418925714293,
          5.929418925714293,
          6.929418925714293,
          7.929418925714293
         ],
         "xaxis": "x",
         "y": [
          -2.8204655585528062,
          -2.218342707085569,
          -1.1827542571257708,
          -0.13352690316000812,
          0.9785110841662616
         ],
         "yaxis": "y"
        },
        {
         "legendgroup": "1",
         "line": {
          "color": "#ff7f0e"
         },
         "mode": "lines",
         "name": "Escherichia coli",
         "showlegend": false,
         "type": "scatter",
         "x": [
          3.929418925714293,
          4.929418925714293,
          5.929418925714293,
          6.929418925714293,
          7.929418925714293
         ],
         "xaxis": "x",
         "y": [
          -3.011869486224317,
          -2.0435925772879475,
          -1.0753156683515783,
          -0.10703875941520824,
          0.861238149521161
         ],
         "yaxis": "y"
        },
        {
         "legendgroup": "2",
         "marker": {
          "color": "#2ca02c"
         },
         "mode": "markers",
         "name": "Staphylococcus aureus",
         "type": "scatter",
         "x": [
          4.181843587944773,
          5.181843587944773,
          6.181843587944773,
          7.181843587944773,
          8.181843587944773
         ],
         "xaxis": "x",
         "y": [
          -3.093466830616544,
          -2.2195997108050713,
          -1.1578077169485417,
          0.012134400090822447,
          0.9953463114802016
         ],
         "yaxis": "y"
        },
        {
         "legendgroup": "2",
         "line": {
          "color": "#2ca02c"
         },
         "mode": "lines",
         "name": "Staphylococcus aureus",
         "showlegend": false,
         "type": "scatter",
         "x": [
          4.181843587944773,
          5.181843587944773,
          6.181843587944773,
          7.181843587944773,
          8.181843587944773
         ],
         "xaxis": "x",
         "y": [
          -3.1745507883777027,
          -2.133614748868765,
          -1.0926787093598263,
          -0.0517426698508876,
          0.9891933696580502
         ],
         "yaxis": "y"
        },
        {
         "legendgroup": "3",
         "marker": {
          "color": "#d62728"
         },
         "mode": "markers",
         "name": "Listeria Monocytogenes",
         "type": "scatter",
         "x": [
          4.143014800254095,
          5.143014800254095,
          6.143014800254095,
          7.143014800254095,
          8.143014800254095
         ],
         "xaxis": "x",
         "y": [
          -3.159284115106187,
          -2.268163637509085,
          -1.1582259109932802,
          0.026487804346374738,
          0.962483638732111
         ],
         "yaxis": "y"
        },
        {
         "legendgroup": "3",
         "line": {
          "color": "#d62728"
         },
         "mode": "lines",
         "name": "Listeria Monocytogenes",
         "showlegend": false,
         "type": "scatter",
         "x": [
          4.143014800254095,
          5.143014800254095,
          6.143014800254095,
          7.143014800254095,
          8.143014800254095
         ],
         "xaxis": "x",
         "y": [
          -3.226977834012424,
          -2.1731591390592184,
          -1.1193404441060135,
          -0.06552174915280773,
          0.9882969458003981
         ],
         "yaxis": "y"
        },
        {
         "legendgroup": "4",
         "marker": {
          "color": "#9467bd"
         },
         "mode": "markers",
         "name": "Salmonella enterica",
         "type": "scatter",
         "x": [
          3.9395192526186182,
          4.939519252618618,
          5.939519252618618,
          6.939519252618618,
          7.939519252618618
         ],
         "xaxis": "x",
         "y": [
          -3.0304150848694547,
          -2.167469204552638,
          -1.150348277198293,
          -0.06078789000978736,
          1.0357872002881279
         ],
         "yaxis": "y"
        },
        {
         "legendgroup": "4",
         "line": {
          "color": "#9467bd"
         },
         "mode": "lines",
         "name": "Salmonella enterica",
         "showlegend": false,
         "type": "scatter",
         "x": [
          3.9395192526186182,
          4.939519252618618,
          5.939519252618618,
          6.939519252618618,
          7.939519252618618
         ],
         "xaxis": "x",
         "y": [
          -3.1224638282400123,
          -2.0985552397542104,
          -1.0746466512684094,
          -0.05073806278260751,
          0.9731705257031944
         ],
         "yaxis": "y"
        },
        {
         "legendgroup": "5",
         "marker": {
          "color": "#8c564b"
         },
         "mode": "markers",
         "name": "Lactobacillus fermentum",
         "type": "scatter",
         "x": [
          4.334453751150932,
          5.334453751150932,
          6.334453751150932,
          7.334453751150932,
          8.334453751150932
         ],
         "xaxis": "x",
         "y": [
          -3.107255115102177,
          -2.1691470990360164,
          -1.0661966081307908,
          0.05859180132982389,
          0.9906422156692175
         ],
         "yaxis": "y"
        },
        {
         "legendgroup": "5",
         "line": {
          "color": "#8c564b"
         },
         "mode": "lines",
         "name": "Lactobacillus fermentum",
         "showlegend": false,
         "type": "scatter",
         "x": [
          4.334453751150932,
          5.334453751150932,
          6.334453751150932,
          7.334453751150932,
          8.334453751150932
         ],
         "xaxis": "x",
         "y": [
          -3.1433796734357156,
          -2.1010263172448527,
          -1.058672961053989,
          -0.016319604863126003,
          1.0260337513277378
         ],
         "yaxis": "y"
        },
        {
         "legendgroup": "6",
         "marker": {
          "color": "#e377c2"
         },
         "mode": "markers",
         "name": "Enterococcus faecalis",
         "type": "scatter",
         "x": [
          4.164352855784436,
          5.164352855784436,
          6.164352855784436,
          7.164352855784436,
          8.164352855784436
         ],
         "xaxis": "x",
         "y": [
          -3.3618277095271565,
          -2.3188764570922347,
          -1.2659382456270696,
          -0.11397336678432916,
          0.8151070315703057
         ],
         "yaxis": "y"
        },
        {
         "legendgroup": "6",
         "line": {
          "color": "#e377c2"
         },
         "mode": "lines",
         "name": "Enterococcus faecalis",
         "showlegend": false,
         "type": "scatter",
         "x": [
          4.164352855784436,
          5.164352855784436,
          6.164352855784436,
          7.164352855784436,
          8.164352855784436
         ],
         "xaxis": "x",
         "y": [
          -3.3608562639926616,
          -2.3049790067423794,
          -1.2491017494920964,
          -0.19322449224181337,
          0.8626527650084697
         ],
         "yaxis": "y"
        },
        {
         "legendgroup": "7",
         "marker": {
          "color": "#7f7f7f"
         },
         "mode": "markers",
         "name": "Pseudomonas aeruginosa",
         "type": "scatter",
         "x": [
          3.785329835010767,
          4.785329835010767,
          5.785329835010767,
          6.785329835010767,
          7.785329835010767
         ],
         "xaxis": "x",
         "y": [
          -3.7535187689221927,
          -2.5412529035923526,
          -1.6062215404387241,
          -0.4930155782290836,
          0.5477477074581463
         ],
         "yaxis": "y"
        },
        {
         "legendgroup": "7",
         "line": {
          "color": "#7f7f7f"
         },
         "mode": "lines",
         "name": "Pseudomonas aeruginosa",
         "showlegend": false,
         "type": "scatter",
         "x": [
          3.785329835010767,
          4.785329835010767,
          5.785329835010767,
          6.785329835010767,
          7.785329835010767
         ],
         "xaxis": "x",
         "y": [
          -3.6994062723696306,
          -2.634329244557236,
          -1.5692522167448413,
          -0.5041751889324466,
          0.5609018388799489
         ],
         "yaxis": "y"
        },
        {
         "legendgroup": "0",
         "marker": {
          "color": "#1f77b4"
         },
         "mode": "markers",
         "name": "Bacillus subtilis",
         "showlegend": false,
         "type": "scatter",
         "x": [
          4.012837224705173,
          5.012837224705173,
          6.012837224705173,
          7.012837224705173,
          8.012837224705173
         ],
         "xaxis": "x2",
         "y": [
          -4.125129838871882,
          -3.076177568502758,
          -2.234904011887101,
          -1.0670468459568023,
          -0.11747010916313491
         ],
         "yaxis": "y2"
        },
        {
         "legendgroup": "0",
         "line": {
          "color": "#1f77b4"
         },
         "mode": "lines",
         "name": "Bacillus subtilis",
         "showlegend": false,
         "type": "scatter",
         "x": [
          4.012837224705173,
          5.012837224705173,
          6.012837224705173,
          7.012837224705173,
          8.012837224705173
         ],
         "xaxis": "x2",
         "y": [
          -4.129035711269026,
          -3.1265906930726803,
          -2.1241456748763357,
          -1.121700656679991,
          -0.1192556384836454
         ],
         "yaxis": "y2"
        },
        {
         "legendgroup": "1",
         "marker": {
          "color": "#ff7f0e"
         },
         "mode": "markers",
         "name": "Escherichia coli",
         "showlegend": false,
         "type": "scatter",
         "x": [
          3.929418925714293,
          4.929418925714293,
          5.929418925714293,
          6.929418925714293,
          7.929418925714293
         ],
         "xaxis": "x2",
         "y": [
          -3.6655635985670627,
          -3.063440747099826,
          -2.0278522971400275,
          -0.978624943174265,
          0.13341304415200483
         ],
         "yaxis": "y2"
        },
        {
         "legendgroup": "1",
         "line": {
          "color": "#ff7f0e"
         },
         "mode": "lines",
         "name": "Escherichia coli",
         "showlegend": false,
         "type": "scatter",
         "x": [
          3.929418925714293,
          4.929418925714293,
          5.929418925714293,
          6.929418925714293,
          7.929418925714293
         ],
         "xaxis": "x2",
         "y": [
          -3.856967526238574,
          -2.8886906173022044,
          -1.9204137083658352,
          -0.9521367994294652,
          0.016140109506904032
         ],
         "yaxis": "y2"
        },
        {
         "legendgroup": "2",
         "marker": {
          "color": "#2ca02c"
         },
         "mode": "markers",
         "name": "Staphylococcus aureus",
         "showlegend": false,
         "type": "scatter",
         "x": [
          4.181843587944773,
          5.181843587944773,
          6.181843587944773,
          7.181843587944773,
          8.181843587944773
         ],
         "xaxis": "x2",
         "y": [
          -3.8716180810001872,
          -2.997750961188715,
          -1.9359589673321855,
          -0.7660168502928212,
          0.21719506109655792
         ],
         "yaxis": "y2"
        },
        {
         "legendgroup": "2",
         "line": {
          "color": "#2ca02c"
         },
         "mode": "lines",
         "name": "Staphylococcus aureus",
         "showlegend": false,
         "type": "scatter",
         "x": [
          4.181843587944773,
          5.181843587944773,
          6.181843587944773,
          7.181843587944773,
          8.181843587944773
         ],
         "xaxis": "x2",
         "y": [
          -3.9527020387613465,
          -2.9117659992524088,
          -1.87082995974347,
          -0.8298939202345315,
          0.2110421192744063
         ],
         "yaxis": "y2"
        },
        {
         "legendgroup": "3",
         "marker": {
          "color": "#d62728"
         },
         "mode": "markers",
         "name": "Listeria Monocytogenes",
         "showlegend": false,
         "type": "scatter",
         "x": [
          4.143014800254095,
          5.143014800254095,
          6.143014800254095,
          7.143014800254095,
          8.143014800254095
         ],
         "xaxis": "x2",
         "y": [
          -3.9374353654898306,
          -3.046314887892729,
          -1.9363771613769238,
          -0.7516634460372689,
          0.18433238834846727
         ],
         "yaxis": "y2"
        },
        {
         "legendgroup": "3",
         "line": {
          "color": "#d62728"
         },
         "mode": "lines",
         "name": "Listeria Monocytogenes",
         "showlegend": false,
         "type": "scatter",
         "x": [
          4.143014800254095,
          5.143014800254095,
          6.143014800254095,
          7.143014800254095,
          8.143014800254095
         ],
         "xaxis": "x2",
         "y": [
          -4.005129084396068,
          -2.9513103894428623,
          -1.8974916944896574,
          -0.8436729995364516,
          0.2101456954167542
         ],
         "yaxis": "y2"
        },
        {
         "legendgroup": "4",
         "marker": {
          "color": "#9467bd"
         },
         "mode": "markers",
         "name": "Salmonella enterica",
         "showlegend": false,
         "type": "scatter",
         "x": [
          3.9395192526186182,
          4.939519252618618,
          5.939519252618618,
          6.939519252618618,
          7.939519252618618
         ],
         "xaxis": "x2",
         "y": [
          -3.8755131248837116,
          -3.0125672445668945,
          -1.9954463172125498,
          -0.9058859300240442,
          0.19068916027387106
         ],
         "yaxis": "y2"
        },
        {
         "legendgroup": "4",
         "line": {
          "color": "#9467bd"
         },
         "mode": "lines",
         "name": "Salmonella enterica",
         "showlegend": false,
         "type": "scatter",
         "x": [
          3.9395192526186182,
          4.939519252618618,
          5.939519252618618,
          6.939519252618618,
          7.939519252618618
         ],
         "xaxis": "x2",
         "y": [
          -3.9675618682542693,
          -2.9436532797684674,
          -1.9197446912826663,
          -0.8958361027968644,
          0.12807248568893748
         ],
         "yaxis": "y2"
        },
        {
         "legendgroup": "5",
         "marker": {
          "color": "#8c564b"
         },
         "mode": "markers",
         "name": "Lactobacillus fermentum",
         "showlegend": false,
         "type": "scatter",
         "x": [
          4.334453751150932,
          5.334453751150932,
          6.334453751150932,
          7.334453751150932,
          8.334453751150932
         ],
         "xaxis": "x2",
         "y": [
          -3.8062251194381957,
          -2.868117103372035,
          -1.7651666124668095,
          -0.640378203006195,
          0.29167221133319876
         ],
         "yaxis": "y2"
        },
        {
         "legendgroup": "5",
         "line": {
          "color": "#8c564b"
         },
         "mode": "lines",
         "name": "Lactobacillus fermentum",
         "showlegend": false,
         "type": "scatter",
         "x": [
          4.334453751150932,
          5.334453751150932,
          6.334453751150932,
          7.334453751150932,
          8.334453751150932
         ],
         "xaxis": "x2",
         "y": [
          -3.8423496777717334,
          -2.7999963215808705,
          -1.7576429653900076,
          -0.7152896091991447,
          0.32706374699171903
         ],
         "yaxis": "y2"
        },
        {
         "legendgroup": "6",
         "marker": {
          "color": "#e377c2"
         },
         "mode": "markers",
         "name": "Enterococcus faecalis",
         "showlegend": false,
         "type": "scatter",
         "x": [
          4.164352855784436,
          5.164352855784436,
          6.164352855784436,
          7.164352855784436,
          8.164352855784436
         ],
         "xaxis": "x2",
         "y": [
          -3.963887700855119,
          -2.920936448420197,
          -1.8679982369550319,
          -0.7160333581122915,
          0.21304704024234333
         ],
         "yaxis": "y2"
        },
        {
         "legendgroup": "6",
         "line": {
          "color": "#e377c2"
         },
         "mode": "lines",
         "name": "Enterococcus faecalis",
         "showlegend": false,
         "type": "scatter",
         "x": [
          4.164352855784436,
          5.164352855784436,
          6.164352855784436,
          7.164352855784436,
          8.164352855784436
         ],
         "xaxis": "x2",
         "y": [
          -3.962916255320625,
          -2.907038998070342,
          -1.851161740820059,
          -0.7952844835697759,
          0.26059277368050715
         ],
         "yaxis": "y2"
        },
        {
         "legendgroup": "7",
         "marker": {
          "color": "#7f7f7f"
         },
         "mode": "markers",
         "name": "Pseudomonas aeruginosa",
         "showlegend": false,
         "type": "scatter",
         "x": [
          3.785329835010767,
          4.785329835010767,
          5.785329835010767,
          6.785329835010767,
          7.785329835010767
         ],
         "xaxis": "x2",
         "y": [
          -4.355578760250155,
          -3.1433128949203146,
          -2.2082815317666866,
          -1.095075569557046,
          -0.0543122838698161
         ],
         "yaxis": "y2"
        },
        {
         "legendgroup": "7",
         "line": {
          "color": "#7f7f7f"
         },
         "mode": "lines",
         "name": "Pseudomonas aeruginosa",
         "showlegend": false,
         "type": "scatter",
         "x": [
          3.785329835010767,
          4.785329835010767,
          5.785329835010767,
          6.785329835010767,
          7.785329835010767
         ],
         "xaxis": "x2",
         "y": [
          -4.301466263697592,
          -3.2363892358851976,
          -2.171312208072803,
          -1.1062351802604082,
          -0.041158152448012686
         ],
         "yaxis": "y2"
        }
       ],
       "layout": {
        "annotations": [
         {
          "font": {
           "size": 12
          },
          "showarrow": false,
          "text": "Mean slope: 1.03+/-0.58<br>Mean R<sup>2</sup>: 1.00",
          "x": 3,
          "xref": "x",
          "y": 1.0357872002881279,
          "yref": "y"
         },
         {
          "font": {
           "size": 12
          },
          "showarrow": false,
          "text": "Mean slope: 1.03 +/- 0.05<br>Mean R<sup>2</sup>: 1.00",
          "x": 3,
          "xref": "x2",
          "y": 0.29167221133319876,
          "yref": "y2"
         }
        ],
        "autosize": true,
        "template": {
         "data": {
          "bar": [
           {
            "error_x": {
             "color": "#2a3f5f"
            },
            "error_y": {
             "color": "#2a3f5f"
            },
            "marker": {
             "line": {
              "color": "#E5ECF6",
              "width": 0.5
             }
            },
            "type": "bar"
           }
          ],
          "barpolar": [
           {
            "marker": {
             "line": {
              "color": "#E5ECF6",
              "width": 0.5
             }
            },
            "type": "barpolar"
           }
          ],
          "carpet": [
           {
            "aaxis": {
             "endlinecolor": "#2a3f5f",
             "gridcolor": "white",
             "linecolor": "white",
             "minorgridcolor": "white",
             "startlinecolor": "#2a3f5f"
            },
            "baxis": {
             "endlinecolor": "#2a3f5f",
             "gridcolor": "white",
             "linecolor": "white",
             "minorgridcolor": "white",
             "startlinecolor": "#2a3f5f"
            },
            "type": "carpet"
           }
          ],
          "choropleth": [
           {
            "colorbar": {
             "outlinewidth": 0,
             "ticks": ""
            },
            "type": "choropleth"
           }
          ],
          "contour": [
           {
            "colorbar": {
             "outlinewidth": 0,
             "ticks": ""
            },
            "colorscale": [
             [
              0,
              "#0d0887"
             ],
             [
              0.1111111111111111,
              "#46039f"
             ],
             [
              0.2222222222222222,
              "#7201a8"
             ],
             [
              0.3333333333333333,
              "#9c179e"
             ],
             [
              0.4444444444444444,
              "#bd3786"
             ],
             [
              0.5555555555555556,
              "#d8576b"
             ],
             [
              0.6666666666666666,
              "#ed7953"
             ],
             [
              0.7777777777777778,
              "#fb9f3a"
             ],
             [
              0.8888888888888888,
              "#fdca26"
             ],
             [
              1,
              "#f0f921"
             ]
            ],
            "type": "contour"
           }
          ],
          "contourcarpet": [
           {
            "colorbar": {
             "outlinewidth": 0,
             "ticks": ""
            },
            "type": "contourcarpet"
           }
          ],
          "heatmap": [
           {
            "colorbar": {
             "outlinewidth": 0,
             "ticks": ""
            },
            "colorscale": [
             [
              0,
              "#0d0887"
             ],
             [
              0.1111111111111111,
              "#46039f"
             ],
             [
              0.2222222222222222,
              "#7201a8"
             ],
             [
              0.3333333333333333,
              "#9c179e"
             ],
             [
              0.4444444444444444,
              "#bd3786"
             ],
             [
              0.5555555555555556,
              "#d8576b"
             ],
             [
              0.6666666666666666,
              "#ed7953"
             ],
             [
              0.7777777777777778,
              "#fb9f3a"
             ],
             [
              0.8888888888888888,
              "#fdca26"
             ],
             [
              1,
              "#f0f921"
             ]
            ],
            "type": "heatmap"
           }
          ],
          "heatmapgl": [
           {
            "colorbar": {
             "outlinewidth": 0,
             "ticks": ""
            },
            "colorscale": [
             [
              0,
              "#0d0887"
             ],
             [
              0.1111111111111111,
              "#46039f"
             ],
             [
              0.2222222222222222,
              "#7201a8"
             ],
             [
              0.3333333333333333,
              "#9c179e"
             ],
             [
              0.4444444444444444,
              "#bd3786"
             ],
             [
              0.5555555555555556,
              "#d8576b"
             ],
             [
              0.6666666666666666,
              "#ed7953"
             ],
             [
              0.7777777777777778,
              "#fb9f3a"
             ],
             [
              0.8888888888888888,
              "#fdca26"
             ],
             [
              1,
              "#f0f921"
             ]
            ],
            "type": "heatmapgl"
           }
          ],
          "histogram": [
           {
            "marker": {
             "colorbar": {
              "outlinewidth": 0,
              "ticks": ""
             }
            },
            "type": "histogram"
           }
          ],
          "histogram2d": [
           {
            "colorbar": {
             "outlinewidth": 0,
             "ticks": ""
            },
            "colorscale": [
             [
              0,
              "#0d0887"
             ],
             [
              0.1111111111111111,
              "#46039f"
             ],
             [
              0.2222222222222222,
              "#7201a8"
             ],
             [
              0.3333333333333333,
              "#9c179e"
             ],
             [
              0.4444444444444444,
              "#bd3786"
             ],
             [
              0.5555555555555556,
              "#d8576b"
             ],
             [
              0.6666666666666666,
              "#ed7953"
             ],
             [
              0.7777777777777778,
              "#fb9f3a"
             ],
             [
              0.8888888888888888,
              "#fdca26"
             ],
             [
              1,
              "#f0f921"
             ]
            ],
            "type": "histogram2d"
           }
          ],
          "histogram2dcontour": [
           {
            "colorbar": {
             "outlinewidth": 0,
             "ticks": ""
            },
            "colorscale": [
             [
              0,
              "#0d0887"
             ],
             [
              0.1111111111111111,
              "#46039f"
             ],
             [
              0.2222222222222222,
              "#7201a8"
             ],
             [
              0.3333333333333333,
              "#9c179e"
             ],
             [
              0.4444444444444444,
              "#bd3786"
             ],
             [
              0.5555555555555556,
              "#d8576b"
             ],
             [
              0.6666666666666666,
              "#ed7953"
             ],
             [
              0.7777777777777778,
              "#fb9f3a"
             ],
             [
              0.8888888888888888,
              "#fdca26"
             ],
             [
              1,
              "#f0f921"
             ]
            ],
            "type": "histogram2dcontour"
           }
          ],
          "mesh3d": [
           {
            "colorbar": {
             "outlinewidth": 0,
             "ticks": ""
            },
            "type": "mesh3d"
           }
          ],
          "parcoords": [
           {
            "line": {
             "colorbar": {
              "outlinewidth": 0,
              "ticks": ""
             }
            },
            "type": "parcoords"
           }
          ],
          "scatter": [
           {
            "marker": {
             "colorbar": {
              "outlinewidth": 0,
              "ticks": ""
             }
            },
            "type": "scatter"
           }
          ],
          "scatter3d": [
           {
            "line": {
             "colorbar": {
              "outlinewidth": 0,
              "ticks": ""
             }
            },
            "marker": {
             "colorbar": {
              "outlinewidth": 0,
              "ticks": ""
             }
            },
            "type": "scatter3d"
           }
          ],
          "scattercarpet": [
           {
            "marker": {
             "colorbar": {
              "outlinewidth": 0,
              "ticks": ""
             }
            },
            "type": "scattercarpet"
           }
          ],
          "scattergeo": [
           {
            "marker": {
             "colorbar": {
              "outlinewidth": 0,
              "ticks": ""
             }
            },
            "type": "scattergeo"
           }
          ],
          "scattergl": [
           {
            "marker": {
             "colorbar": {
              "outlinewidth": 0,
              "ticks": ""
             }
            },
            "type": "scattergl"
           }
          ],
          "scattermapbox": [
           {
            "marker": {
             "colorbar": {
              "outlinewidth": 0,
              "ticks": ""
             }
            },
            "type": "scattermapbox"
           }
          ],
          "scatterpolar": [
           {
            "marker": {
             "colorbar": {
              "outlinewidth": 0,
              "ticks": ""
             }
            },
            "type": "scatterpolar"
           }
          ],
          "scatterpolargl": [
           {
            "marker": {
             "colorbar": {
              "outlinewidth": 0,
              "ticks": ""
             }
            },
            "type": "scatterpolargl"
           }
          ],
          "scatterternary": [
           {
            "marker": {
             "colorbar": {
              "outlinewidth": 0,
              "ticks": ""
             }
            },
            "type": "scatterternary"
           }
          ],
          "surface": [
           {
            "colorbar": {
             "outlinewidth": 0,
             "ticks": ""
            },
            "colorscale": [
             [
              0,
              "#0d0887"
             ],
             [
              0.1111111111111111,
              "#46039f"
             ],
             [
              0.2222222222222222,
              "#7201a8"
             ],
             [
              0.3333333333333333,
              "#9c179e"
             ],
             [
              0.4444444444444444,
              "#bd3786"
             ],
             [
              0.5555555555555556,
              "#d8576b"
             ],
             [
              0.6666666666666666,
              "#ed7953"
             ],
             [
              0.7777777777777778,
              "#fb9f3a"
             ],
             [
              0.8888888888888888,
              "#fdca26"
             ],
             [
              1,
              "#f0f921"
             ]
            ],
            "type": "surface"
           }
          ],
          "table": [
           {
            "cells": {
             "fill": {
              "color": "#EBF0F8"
             },
             "line": {
              "color": "white"
             }
            },
            "header": {
             "fill": {
              "color": "#C8D4E3"
             },
             "line": {
              "color": "white"
             }
            },
            "type": "table"
           }
          ]
         },
         "layout": {
          "annotationdefaults": {
           "arrowcolor": "#2a3f5f",
           "arrowhead": 0,
           "arrowwidth": 1
          },
          "colorscale": {
           "diverging": [
            [
             0,
             "#8e0152"
            ],
            [
             0.1,
             "#c51b7d"
            ],
            [
             0.2,
             "#de77ae"
            ],
            [
             0.3,
             "#f1b6da"
            ],
            [
             0.4,
             "#fde0ef"
            ],
            [
             0.5,
             "#f7f7f7"
            ],
            [
             0.6,
             "#e6f5d0"
            ],
            [
             0.7,
             "#b8e186"
            ],
            [
             0.8,
             "#7fbc41"
            ],
            [
             0.9,
             "#4d9221"
            ],
            [
             1,
             "#276419"
            ]
           ],
           "sequential": [
            [
             0,
             "#0d0887"
            ],
            [
             0.1111111111111111,
             "#46039f"
            ],
            [
             0.2222222222222222,
             "#7201a8"
            ],
            [
             0.3333333333333333,
             "#9c179e"
            ],
            [
             0.4444444444444444,
             "#bd3786"
            ],
            [
             0.5555555555555556,
             "#d8576b"
            ],
            [
             0.6666666666666666,
             "#ed7953"
            ],
            [
             0.7777777777777778,
             "#fb9f3a"
            ],
            [
             0.8888888888888888,
             "#fdca26"
            ],
            [
             1,
             "#f0f921"
            ]
           ],
           "sequentialminus": [
            [
             0,
             "#0d0887"
            ],
            [
             0.1111111111111111,
             "#46039f"
            ],
            [
             0.2222222222222222,
             "#7201a8"
            ],
            [
             0.3333333333333333,
             "#9c179e"
            ],
            [
             0.4444444444444444,
             "#bd3786"
            ],
            [
             0.5555555555555556,
             "#d8576b"
            ],
            [
             0.6666666666666666,
             "#ed7953"
            ],
            [
             0.7777777777777778,
             "#fb9f3a"
            ],
            [
             0.8888888888888888,
             "#fdca26"
            ],
            [
             1,
             "#f0f921"
            ]
           ]
          },
          "colorway": [
           "#636efa",
           "#EF553B",
           "#00cc96",
           "#ab63fa",
           "#FFA15A",
           "#19d3f3",
           "#FF6692",
           "#B6E880",
           "#FF97FF",
           "#FECB52"
          ],
          "font": {
           "color": "#2a3f5f"
          },
          "geo": {
           "bgcolor": "white",
           "lakecolor": "white",
           "landcolor": "#E5ECF6",
           "showlakes": true,
           "showland": true,
           "subunitcolor": "white"
          },
          "hoverlabel": {
           "align": "left"
          },
          "hovermode": "closest",
          "mapbox": {
           "style": "light"
          },
          "paper_bgcolor": "white",
          "plot_bgcolor": "#E5ECF6",
          "polar": {
           "angularaxis": {
            "gridcolor": "white",
            "linecolor": "white",
            "ticks": ""
           },
           "bgcolor": "#E5ECF6",
           "radialaxis": {
            "gridcolor": "white",
            "linecolor": "white",
            "ticks": ""
           }
          },
          "scene": {
           "xaxis": {
            "backgroundcolor": "#E5ECF6",
            "gridcolor": "white",
            "gridwidth": 2,
            "linecolor": "white",
            "showbackground": true,
            "ticks": "",
            "zerolinecolor": "white"
           },
           "yaxis": {
            "backgroundcolor": "#E5ECF6",
            "gridcolor": "white",
            "gridwidth": 2,
            "linecolor": "white",
            "showbackground": true,
            "ticks": "",
            "zerolinecolor": "white"
           },
           "zaxis": {
            "backgroundcolor": "#E5ECF6",
            "gridcolor": "white",
            "gridwidth": 2,
            "linecolor": "white",
            "showbackground": true,
            "ticks": "",
            "zerolinecolor": "white"
           }
          },
          "shapedefaults": {
           "line": {
            "color": "#2a3f5f"
           }
          },
          "ternary": {
           "aaxis": {
            "gridcolor": "white",
            "linecolor": "white",
            "ticks": ""
           },
           "baxis": {
            "gridcolor": "white",
            "linecolor": "white",
            "ticks": ""
           },
           "bgcolor": "#E5ECF6",
           "caxis": {
            "gridcolor": "white",
            "linecolor": "white",
            "ticks": ""
           }
          },
          "title": {
           "x": 0.05
          },
          "xaxis": {
           "automargin": true,
           "gridcolor": "white",
           "linecolor": "white",
           "ticks": "",
           "zerolinecolor": "white",
           "zerolinewidth": 2
          },
          "yaxis": {
           "automargin": true,
           "gridcolor": "white",
           "linecolor": "white",
           "ticks": "",
           "zerolinecolor": "white",
           "zerolinewidth": 2
          }
         }
        },
        "xaxis": {
         "anchor": "y",
         "autorange": true,
         "domain": [
          0,
          0.45
         ],
         "range": [
          2.0452693465374567,
          8.720081915092976
         ],
         "title": {
          "text": "log(Concentration)"
         },
         "type": "linear"
        },
        "xaxis2": {
         "anchor": "y2",
         "autorange": true,
         "domain": [
          0.55,
          1
         ],
         "range": [
          1.9959462785066084,
          8.723106212512333
         ],
         "title": {
          "text": "log(Concentration)"
         },
         "type": "linear"
        },
        "yaxis": {
         "anchor": "x",
         "autorange": true,
         "range": [
          -4.105448600525507,
          1.4030183289176734
         ],
         "title": {
          "text": "log(IC Normalized Reads)"
         },
         "type": "linear"
        },
        "yaxis2": {
         "anchor": "x2",
         "autorange": true,
         "range": [
          -4.697070045701967,
          0.6480109439785677
         ],
         "title": {
          "text": "log(IC Normalized Reads)"
         },
         "type": "linear"
        }
       }
      },
      "image/png": "[encoded data removed]",
      "text/html": [
       "<div>\n",
       "        \n",
       "        \n",
       "            <div id=\"fd449f2c-0137-48fa-a54f-eecbc1cf08b2\" class=\"plotly-graph-div\" style=\"height:525px; width:100%;\"></div>\n",
       "            <script type=\"text/javascript\">\n",
       "                require([\"plotly\"], function(Plotly) {\n",
       "                    window.PLOTLYENV=window.PLOTLYENV || {};\n",
       "                    \n",
       "                if (document.getElementById(\"fd449f2c-0137-48fa-a54f-eecbc1cf08b2\")) {\n",
       "                    Plotly.newPlot(\n",
       "                        'fd449f2c-0137-48fa-a54f-eecbc1cf08b2',\n",
       "                        [{\"legendgroup\": \"0\", \"marker\": {\"color\": \"#1f77b4\"}, \"mode\": \"markers\", \"name\": \"Bacillus subtilis\", \"type\": \"scatter\", \"x\": [4.012837224705173, 5.012837224705173, 6.012837224705173, 7.012837224705173, 8.012837224705173], \"xaxis\": \"x\", \"y\": [-3.125129838871881, -2.076177568502758, -1.2349040118871006, -0.06704684595680242, 0.8825298908368651], \"yaxis\": \"y\"}, {\"legendgroup\": \"0\", \"line\": {\"color\": \"#1f77b4\"}, \"mode\": \"lines\", \"name\": \"Bacillus subtilis\", \"showlegend\": false, \"type\": \"scatter\", \"x\": [4.012837224705173, 5.012837224705173, 6.012837224705173, 7.012837224705173, 8.012837224705173], \"xaxis\": \"x\", \"y\": [-3.129035711269026, -2.1265906930726803, -1.1241456748763357, -0.12170065667999097, 0.8807443615163546], \"yaxis\": \"y\"}, {\"legendgroup\": \"1\", \"marker\": {\"color\": \"#ff7f0e\"}, \"mode\": \"markers\", \"name\": \"Escherichia coli\", \"type\": \"scatter\", \"x\": [3.929418925714293, 4.929418925714293, 5.929418925714293, 6.929418925714293, 7.929418925714293], \"xaxis\": \"x\", \"y\": [-2.8204655585528062, -2.218342707085569, -1.1827542571257708, -0.13352690316000812, 0.9785110841662616], \"yaxis\": \"y\"}, {\"legendgroup\": \"1\", \"line\": {\"color\": \"#ff7f0e\"}, \"mode\": \"lines\", \"name\": \"Escherichia coli\", \"showlegend\": false, \"type\": \"scatter\", \"x\": [3.929418925714293, 4.929418925714293, 5.929418925714293, 6.929418925714293, 7.929418925714293], \"xaxis\": \"x\", \"y\": [-3.011869486224317, -2.0435925772879475, -1.0753156683515783, -0.10703875941520824, 0.861238149521161], \"yaxis\": \"y\"}, {\"legendgroup\": \"2\", \"marker\": {\"color\": \"#2ca02c\"}, \"mode\": \"markers\", \"name\": \"Staphylococcus aureus\", \"type\": \"scatter\", \"x\": [4.181843587944773, 5.181843587944773, 6.181843587944773, 7.181843587944773, 8.181843587944773], \"xaxis\": \"x\", \"y\": [-3.093466830616544, -2.2195997108050713, -1.1578077169485417, 0.012134400090822447, 0.9953463114802016], \"yaxis\": \"y\"}, {\"legendgroup\": \"2\", \"line\": {\"color\": \"#2ca02c\"}, \"mode\": \"lines\", \"name\": \"Staphylococcus aureus\", \"showlegend\": false, \"type\": \"scatter\", \"x\": [4.181843587944773, 5.181843587944773, 6.181843587944773, 7.181843587944773, 8.181843587944773], \"xaxis\": \"x\", \"y\": [-3.1745507883777027, -2.133614748868765, -1.0926787093598263, -0.0517426698508876, 0.9891933696580502], \"yaxis\": \"y\"}, {\"legendgroup\": \"3\", \"marker\": {\"color\": \"#d62728\"}, \"mode\": \"markers\", \"name\": \"Listeria Monocytogenes\", \"type\": \"scatter\", \"x\": [4.143014800254095, 5.143014800254095, 6.143014800254095, 7.143014800254095, 8.143014800254095], \"xaxis\": \"x\", \"y\": [-3.159284115106187, -2.268163637509085, -1.1582259109932802, 0.026487804346374738, 0.962483638732111], \"yaxis\": \"y\"}, {\"legendgroup\": \"3\", \"line\": {\"color\": \"#d62728\"}, \"mode\": \"lines\", \"name\": \"Listeria Monocytogenes\", \"showlegend\": false, \"type\": \"scatter\", \"x\": [4.143014800254095, 5.143014800254095, 6.143014800254095, 7.143014800254095, 8.143014800254095], \"xaxis\": \"x\", \"y\": [-3.226977834012424, -2.1731591390592184, -1.1193404441060135, -0.06552174915280773, 0.9882969458003981], \"yaxis\": \"y\"}, {\"legendgroup\": \"4\", \"marker\": {\"color\": \"#9467bd\"}, \"mode\": \"markers\", \"name\": \"Salmonella enterica\", \"type\": \"scatter\", \"x\": [3.9395192526186182, 4.939519252618618, 5.939519252618618, 6.939519252618618, 7.939519252618618], \"xaxis\": \"x\", \"y\": [-3.0304150848694547, -2.167469204552638, -1.150348277198293, -0.06078789000978736, 1.0357872002881279], \"yaxis\": \"y\"}, {\"legendgroup\": \"4\", \"line\": {\"color\": \"#9467bd\"}, \"mode\": \"lines\", \"name\": \"Salmonella enterica\", \"showlegend\": false, \"type\": \"scatter\", \"x\": [3.9395192526186182, 4.939519252618618, 5.939519252618618, 6.939519252618618, 7.939519252618618], \"xaxis\": \"x\", \"y\": [-3.1224638282400123, -2.0985552397542104, -1.0746466512684094, -0.05073806278260751, 0.9731705257031944], \"yaxis\": \"y\"}, {\"legendgroup\": \"5\", \"marker\": {\"color\": \"#8c564b\"}, \"mode\": \"markers\", \"name\": \"Lactobacillus fermentum\", \"type\": \"scatter\", \"x\": [4.334453751150932, 5.334453751150932, 6.334453751150932, 7.334453751150932, 8.334453751150932], \"xaxis\": \"x\", \"y\": [-3.107255115102177, -2.1691470990360164, -1.0661966081307908, 0.05859180132982389, 0.9906422156692175], \"yaxis\": \"y\"}, {\"legendgroup\": \"5\", \"line\": {\"color\": \"#8c564b\"}, \"mode\": \"lines\", \"name\": \"Lactobacillus fermentum\", \"showlegend\": false, \"type\": \"scatter\", \"x\": [4.334453751150932, 5.334453751150932, 6.334453751150932, 7.334453751150932, 8.334453751150932], \"xaxis\": \"x\", \"y\": [-3.1433796734357156, -2.1010263172448527, -1.058672961053989, -0.016319604863126003, 1.0260337513277378], \"yaxis\": \"y\"}, {\"legendgroup\": \"6\", \"marker\": {\"color\": \"#e377c2\"}, \"mode\": \"markers\", \"name\": \"Enterococcus faecalis\", \"type\": \"scatter\", \"x\": [4.164352855784436, 5.164352855784436, 6.164352855784436, 7.164352855784436, 8.164352855784436], \"xaxis\": \"x\", \"y\": [-3.3618277095271565, -2.3188764570922347, -1.2659382456270696, -0.11397336678432916, 0.8151070315703057], \"yaxis\": \"y\"}, {\"legendgroup\": \"6\", \"line\": {\"color\": \"#e377c2\"}, \"mode\": \"lines\", \"name\": \"Enterococcus faecalis\", \"showlegend\": false, \"type\": \"scatter\", \"x\": [4.164352855784436, 5.164352855784436, 6.164352855784436, 7.164352855784436, 8.164352855784436], \"xaxis\": \"x\", \"y\": [-3.3608562639926616, -2.3049790067423794, -1.2491017494920964, -0.19322449224181337, 0.8626527650084697], \"yaxis\": \"y\"}, {\"legendgroup\": \"7\", \"marker\": {\"color\": \"#7f7f7f\"}, \"mode\": \"markers\", \"name\": \"Pseudomonas aeruginosa\", \"type\": \"scatter\", \"x\": [3.785329835010767, 4.785329835010767, 5.785329835010767, 6.785329835010767, 7.785329835010767], \"xaxis\": \"x\", \"y\": [-3.7535187689221927, -2.5412529035923526, -1.6062215404387241, -0.4930155782290836, 0.5477477074581463], \"yaxis\": \"y\"}, {\"legendgroup\": \"7\", \"line\": {\"color\": \"#7f7f7f\"}, \"mode\": \"lines\", \"name\": \"Pseudomonas aeruginosa\", \"showlegend\": false, \"type\": \"scatter\", \"x\": [3.785329835010767, 4.785329835010767, 5.785329835010767, 6.785329835010767, 7.785329835010767], \"xaxis\": \"x\", \"y\": [-3.6994062723696306, -2.634329244557236, -1.5692522167448413, -0.5041751889324466, 0.5609018388799489], \"yaxis\": \"y\"}, {\"legendgroup\": \"0\", \"marker\": {\"color\": \"#1f77b4\"}, \"mode\": \"markers\", \"name\": \"Bacillus subtilis\", \"showlegend\": false, \"type\": \"scatter\", \"x\": [4.012837224705173, 5.012837224705173, 6.012837224705173, 7.012837224705173, 8.012837224705173], \"xaxis\": \"x2\", \"y\": [-4.125129838871882, -3.076177568502758, -2.234904011887101, -1.0670468459568023, -0.11747010916313491], \"yaxis\": \"y2\"}, {\"legendgroup\": \"0\", \"line\": {\"color\": \"#1f77b4\"}, \"mode\": \"lines\", \"name\": \"Bacillus subtilis\", \"showlegend\": false, \"type\": \"scatter\", \"x\": [4.012837224705173, 5.012837224705173, 6.012837224705173, 7.012837224705173, 8.012837224705173], \"xaxis\": \"x2\", \"y\": [-4.129035711269026, -3.1265906930726803, -2.1241456748763357, -1.121700656679991, -0.1192556384836454], \"yaxis\": \"y2\"}, {\"legendgroup\": \"1\", \"marker\": {\"color\": \"#ff7f0e\"}, \"mode\": \"markers\", \"name\": \"Escherichia coli\", \"showlegend\": false, \"type\": \"scatter\", \"x\": [3.929418925714293, 4.929418925714293, 5.929418925714293, 6.929418925714293, 7.929418925714293], \"xaxis\": \"x2\", \"y\": [-3.6655635985670627, -3.063440747099826, -2.0278522971400275, -0.978624943174265, 0.13341304415200483], \"yaxis\": \"y2\"}, {\"legendgroup\": \"1\", \"line\": {\"color\": \"#ff7f0e\"}, \"mode\": \"lines\", \"name\": \"Escherichia coli\", \"showlegend\": false, \"type\": \"scatter\", \"x\": [3.929418925714293, 4.929418925714293, 5.929418925714293, 6.929418925714293, 7.929418925714293], \"xaxis\": \"x2\", \"y\": [-3.856967526238574, -2.8886906173022044, -1.9204137083658352, -0.9521367994294652, 0.016140109506904032], \"yaxis\": \"y2\"}, {\"legendgroup\": \"2\", \"marker\": {\"color\": \"#2ca02c\"}, \"mode\": \"markers\", \"name\": \"Staphylococcus aureus\", \"showlegend\": false, \"type\": \"scatter\", \"x\": [4.181843587944773, 5.181843587944773, 6.181843587944773, 7.181843587944773, 8.181843587944773], \"xaxis\": \"x2\", \"y\": [-3.8716180810001872, -2.997750961188715, -1.9359589673321855, -0.7660168502928212, 0.21719506109655792], \"yaxis\": \"y2\"}, {\"legendgroup\": \"2\", \"line\": {\"color\": \"#2ca02c\"}, \"mode\": \"lines\", \"name\": \"Staphylococcus aureus\", \"showlegend\": false, \"type\": \"scatter\", \"x\": [4.181843587944773, 5.181843587944773, 6.181843587944773, 7.181843587944773, 8.181843587944773], \"xaxis\": \"x2\", \"y\": [-3.9527020387613465, -2.9117659992524088, -1.87082995974347, -0.8298939202345315, 0.2110421192744063], \"yaxis\": \"y2\"}, {\"legendgroup\": \"3\", \"marker\": {\"color\": \"#d62728\"}, \"mode\": \"markers\", \"name\": \"Listeria Monocytogenes\", \"showlegend\": false, \"type\": \"scatter\", \"x\": [4.143014800254095, 5.143014800254095, 6.143014800254095, 7.143014800254095, 8.143014800254095], \"xaxis\": \"x2\", \"y\": [-3.9374353654898306, -3.046314887892729, -1.9363771613769238, -0.7516634460372689, 0.18433238834846727], \"yaxis\": \"y2\"}, {\"legendgroup\": \"3\", \"line\": {\"color\": \"#d62728\"}, \"mode\": \"lines\", \"name\": \"Listeria Monocytogenes\", \"showlegend\": false, \"type\": \"scatter\", \"x\": [4.143014800254095, 5.143014800254095, 6.143014800254095, 7.143014800254095, 8.143014800254095], \"xaxis\": \"x2\", \"y\": [-4.005129084396068, -2.9513103894428623, -1.8974916944896574, -0.8436729995364516, 0.2101456954167542], \"yaxis\": \"y2\"}, {\"legendgroup\": \"4\", \"marker\": {\"color\": \"#9467bd\"}, \"mode\": \"markers\", \"name\": \"Salmonella enterica\", \"showlegend\": false, \"type\": \"scatter\", \"x\": [3.9395192526186182, 4.939519252618618, 5.939519252618618, 6.939519252618618, 7.939519252618618], \"xaxis\": \"x2\", \"y\": [-3.8755131248837116, -3.0125672445668945, -1.9954463172125498, -0.9058859300240442, 0.19068916027387106], \"yaxis\": \"y2\"}, {\"legendgroup\": \"4\", \"line\": {\"color\": \"#9467bd\"}, \"mode\": \"lines\", \"name\": \"Salmonella enterica\", \"showlegend\": false, \"type\": \"scatter\", \"x\": [3.9395192526186182, 4.939519252618618, 5.939519252618618, 6.939519252618618, 7.939519252618618], \"xaxis\": \"x2\", \"y\": [-3.9675618682542693, -2.9436532797684674, -1.9197446912826663, -0.8958361027968644, 0.12807248568893748], \"yaxis\": \"y2\"}, {\"legendgroup\": \"5\", \"marker\": {\"color\": \"#8c564b\"}, \"mode\": \"markers\", \"name\": \"Lactobacillus fermentum\", \"showlegend\": false, \"type\": \"scatter\", \"x\": [4.334453751150932, 5.334453751150932, 6.334453751150932, 7.334453751150932, 8.334453751150932], \"xaxis\": \"x2\", \"y\": [-3.8062251194381957, -2.868117103372035, -1.7651666124668095, -0.640378203006195, 0.29167221133319876], \"yaxis\": \"y2\"}, {\"legendgroup\": \"5\", \"line\": {\"color\": \"#8c564b\"}, \"mode\": \"lines\", \"name\": \"Lactobacillus fermentum\", \"showlegend\": false, \"type\": \"scatter\", \"x\": [4.334453751150932, 5.334453751150932, 6.334453751150932, 7.334453751150932, 8.334453751150932], \"xaxis\": \"x2\", \"y\": [-3.8423496777717334, -2.7999963215808705, -1.7576429653900076, -0.7152896091991447, 0.32706374699171903], \"yaxis\": \"y2\"}, {\"legendgroup\": \"6\", \"marker\": {\"color\": \"#e377c2\"}, \"mode\": \"markers\", \"name\": \"Enterococcus faecalis\", \"showlegend\": false, \"type\": \"scatter\", \"x\": [4.164352855784436, 5.164352855784436, 6.164352855784436, 7.164352855784436, 8.164352855784436], \"xaxis\": \"x2\", \"y\": [-3.963887700855119, -2.920936448420197, -1.8679982369550319, -0.7160333581122915, 0.21304704024234333], \"yaxis\": \"y2\"}, {\"legendgroup\": \"6\", \"line\": {\"color\": \"#e377c2\"}, \"mode\": \"lines\", \"name\": \"Enterococcus faecalis\", \"showlegend\": false, \"type\": \"scatter\", \"x\": [4.164352855784436, 5.164352855784436, 6.164352855784436, 7.164352855784436, 8.164352855784436], \"xaxis\": \"x2\", \"y\": [-3.962916255320625, -2.907038998070342, -1.851161740820059, -0.7952844835697759, 0.26059277368050715], \"yaxis\": \"y2\"}, {\"legendgroup\": \"7\", \"marker\": {\"color\": \"#7f7f7f\"}, \"mode\": \"markers\", \"name\": \"Pseudomonas aeruginosa\", \"showlegend\": false, \"type\": \"scatter\", \"x\": [3.785329835010767, 4.785329835010767, 5.785329835010767, 6.785329835010767, 7.785329835010767], \"xaxis\": \"x2\", \"y\": [-4.355578760250155, -3.1433128949203146, -2.2082815317666866, -1.095075569557046, -0.0543122838698161], \"yaxis\": \"y2\"}, {\"legendgroup\": \"7\", \"line\": {\"color\": \"#7f7f7f\"}, \"mode\": \"lines\", \"name\": \"Pseudomonas aeruginosa\", \"showlegend\": false, \"type\": \"scatter\", \"x\": [3.785329835010767, 4.785329835010767, 5.785329835010767, 6.785329835010767, 7.785329835010767], \"xaxis\": \"x2\", \"y\": [-4.301466263697592, -3.2363892358851976, -2.171312208072803, -1.1062351802604082, -0.041158152448012686], \"yaxis\": \"y2\"}],\n",
       "                        {\"annotations\": [{\"font\": {\"size\": 12}, \"showarrow\": false, \"text\": \"Mean slope: 1.03+/-0.58<br>Mean R<sup>2</sup>: 1.00\", \"x\": 3, \"xref\": \"x\", \"y\": 1.0357872002881279, \"yref\": \"y\"}, {\"font\": {\"size\": 12}, \"showarrow\": false, \"text\": \"Mean slope: 1.03 +/- 0.05<br>Mean R<sup>2</sup>: 1.00\", \"x\": 3, \"xref\": \"x2\", \"y\": 0.29167221133319876, \"yref\": \"y2\"}], \"template\": {\"data\": {\"bar\": [{\"error_x\": {\"color\": \"#2a3f5f\"}, \"error_y\": {\"color\": \"#2a3f5f\"}, \"marker\": {\"line\": {\"color\": \"#E5ECF6\", \"width\": 0.5}}, \"type\": \"bar\"}], \"barpolar\": [{\"marker\": {\"line\": {\"color\": \"#E5ECF6\", \"width\": 0.5}}, \"type\": \"barpolar\"}], \"carpet\": [{\"aaxis\": {\"endlinecolor\": \"#2a3f5f\", \"gridcolor\": \"white\", \"linecolor\": \"white\", \"minorgridcolor\": \"white\", \"startlinecolor\": \"#2a3f5f\"}, \"baxis\": {\"endlinecolor\": \"#2a3f5f\", \"gridcolor\": \"white\", \"linecolor\": \"white\", \"minorgridcolor\": \"white\", \"startlinecolor\": \"#2a3f5f\"}, \"type\": \"carpet\"}], \"choropleth\": [{\"colorbar\": {\"outlinewidth\": 0, \"ticks\": \"\"}, \"type\": \"choropleth\"}], \"contour\": [{\"colorbar\": {\"outlinewidth\": 0, \"ticks\": \"\"}, \"colorscale\": [[0.0, \"#0d0887\"], [0.1111111111111111, \"#46039f\"], [0.2222222222222222, \"#7201a8\"], [0.3333333333333333, \"#9c179e\"], [0.4444444444444444, \"#bd3786\"], [0.5555555555555556, \"#d8576b\"], [0.6666666666666666, \"#ed7953\"], [0.7777777777777778, \"#fb9f3a\"], [0.8888888888888888, \"#fdca26\"], [1.0, \"#f0f921\"]], \"type\": \"contour\"}], \"contourcarpet\": [{\"colorbar\": {\"outlinewidth\": 0, \"ticks\": \"\"}, \"type\": \"contourcarpet\"}], \"heatmap\": [{\"colorbar\": {\"outlinewidth\": 0, \"ticks\": \"\"}, \"colorscale\": [[0.0, \"#0d0887\"], [0.1111111111111111, \"#46039f\"], [0.2222222222222222, \"#7201a8\"], [0.3333333333333333, \"#9c179e\"], [0.4444444444444444, \"#bd3786\"], [0.5555555555555556, \"#d8576b\"], [0.6666666666666666, \"#ed7953\"], [0.7777777777777778, \"#fb9f3a\"], [0.8888888888888888, \"#fdca26\"], [1.0, \"#f0f921\"]], \"type\": \"heatmap\"}], \"heatmapgl\": [{\"colorbar\": {\"outlinewidth\": 0, \"ticks\": \"\"}, \"colorscale\": [[0.0, \"#0d0887\"], [0.1111111111111111, \"#46039f\"], [0.2222222222222222, \"#7201a8\"], [0.3333333333333333, \"#9c179e\"], [0.4444444444444444, \"#bd3786\"], [0.5555555555555556, \"#d8576b\"], [0.6666666666666666, \"#ed7953\"], [0.7777777777777778, \"#fb9f3a\"], [0.8888888888888888, \"#fdca26\"], [1.0, \"#f0f921\"]], \"type\": \"heatmapgl\"}], \"histogram\": [{\"marker\": {\"colorbar\": {\"outlinewidth\": 0, \"ticks\": \"\"}}, \"type\": \"histogram\"}], \"histogram2d\": [{\"colorbar\": {\"outlinewidth\": 0, \"ticks\": \"\"}, \"colorscale\": [[0.0, \"#0d0887\"], [0.1111111111111111, \"#46039f\"], [0.2222222222222222, \"#7201a8\"], [0.3333333333333333, \"#9c179e\"], [0.4444444444444444, \"#bd3786\"], [0.5555555555555556, \"#d8576b\"], [0.6666666666666666, \"#ed7953\"], [0.7777777777777778, \"#fb9f3a\"], [0.8888888888888888, \"#fdca26\"], [1.0, \"#f0f921\"]], \"type\": \"histogram2d\"}], \"histogram2dcontour\": [{\"colorbar\": {\"outlinewidth\": 0, \"ticks\": \"\"}, \"colorscale\": [[0.0, \"#0d0887\"], [0.1111111111111111, \"#46039f\"], [0.2222222222222222, \"#7201a8\"], [0.3333333333333333, \"#9c179e\"], [0.4444444444444444, \"#bd3786\"], [0.5555555555555556, \"#d8576b\"], [0.6666666666666666, \"#ed7953\"], [0.7777777777777778, \"#fb9f3a\"], [0.8888888888888888, \"#fdca26\"], [1.0, \"#f0f921\"]], \"type\": \"histogram2dcontour\"}], \"mesh3d\": [{\"colorbar\": {\"outlinewidth\": 0, \"ticks\": \"\"}, \"type\": \"mesh3d\"}], \"parcoords\": [{\"line\": {\"colorbar\": {\"outlinewidth\": 0, \"ticks\": \"\"}}, \"type\": \"parcoords\"}], \"scatter\": [{\"marker\": {\"colorbar\": {\"outlinewidth\": 0, \"ticks\": \"\"}}, \"type\": \"scatter\"}], \"scatter3d\": [{\"line\": {\"colorbar\": {\"outlinewidth\": 0, \"ticks\": \"\"}}, \"marker\": {\"colorbar\": {\"outlinewidth\": 0, \"ticks\": \"\"}}, \"type\": \"scatter3d\"}], \"scattercarpet\": [{\"marker\": {\"colorbar\": {\"outlinewidth\": 0, \"ticks\": \"\"}}, \"type\": \"scattercarpet\"}], \"scattergeo\": [{\"marker\": {\"colorbar\": {\"outlinewidth\": 0, \"ticks\": \"\"}}, \"type\": \"scattergeo\"}], \"scattergl\": [{\"marker\": {\"colorbar\": {\"outlinewidth\": 0, \"ticks\": \"\"}}, \"type\": \"scattergl\"}], \"scattermapbox\": [{\"marker\": {\"colorbar\": {\"outlinewidth\": 0, \"ticks\": \"\"}}, \"type\": \"scattermapbox\"}], \"scatterpolar\": [{\"marker\": {\"colorbar\": {\"outlinewidth\": 0, \"ticks\": \"\"}}, \"type\": \"scatterpolar\"}], \"scatterpolargl\": [{\"marker\": {\"colorbar\": {\"outlinewidth\": 0, \"ticks\": \"\"}}, \"type\": \"scatterpolargl\"}], \"scatterternary\": [{\"marker\": {\"colorbar\": {\"outlinewidth\": 0, \"ticks\": \"\"}}, \"type\": \"scatterternary\"}], \"surface\": [{\"colorbar\": {\"outlinewidth\": 0, \"ticks\": \"\"}, \"colorscale\": [[0.0, \"#0d0887\"], [0.1111111111111111, \"#46039f\"], [0.2222222222222222, \"#7201a8\"], [0.3333333333333333, \"#9c179e\"], [0.4444444444444444, \"#bd3786\"], [0.5555555555555556, \"#d8576b\"], [0.6666666666666666, \"#ed7953\"], [0.7777777777777778, \"#fb9f3a\"], [0.8888888888888888, \"#fdca26\"], [1.0, \"#f0f921\"]], \"type\": \"surface\"}], \"table\": [{\"cells\": {\"fill\": {\"color\": \"#EBF0F8\"}, \"line\": {\"color\": \"white\"}}, \"header\": {\"fill\": {\"color\": \"#C8D4E3\"}, \"line\": {\"color\": \"white\"}}, \"type\": \"table\"}]}, \"layout\": {\"annotationdefaults\": {\"arrowcolor\": \"#2a3f5f\", \"arrowhead\": 0, \"arrowwidth\": 1}, \"colorscale\": {\"diverging\": [[0, \"#8e0152\"], [0.1, \"#c51b7d\"], [0.2, \"#de77ae\"], [0.3, \"#f1b6da\"], [0.4, \"#fde0ef\"], [0.5, \"#f7f7f7\"], [0.6, \"#e6f5d0\"], [0.7, \"#b8e186\"], [0.8, \"#7fbc41\"], [0.9, \"#4d9221\"], [1, \"#276419\"]], \"sequential\": [[0.0, \"#0d0887\"], [0.1111111111111111, \"#46039f\"], [0.2222222222222222, \"#7201a8\"], [0.3333333333333333, \"#9c179e\"], [0.4444444444444444, \"#bd3786\"], [0.5555555555555556, \"#d8576b\"], [0.6666666666666666, \"#ed7953\"], [0.7777777777777778, \"#fb9f3a\"], [0.8888888888888888, \"#fdca26\"], [1.0, \"#f0f921\"]], \"sequentialminus\": [[0.0, \"#0d0887\"], [0.1111111111111111, \"#46039f\"], [0.2222222222222222, \"#7201a8\"], [0.3333333333333333, \"#9c179e\"], [0.4444444444444444, \"#bd3786\"], [0.5555555555555556, \"#d8576b\"], [0.6666666666666666, \"#ed7953\"], [0.7777777777777778, \"#fb9f3a\"], [0.8888888888888888, \"#fdca26\"], [1.0, \"#f0f921\"]]}, \"colorway\": [\"#636efa\", \"#EF553B\", \"#00cc96\", \"#ab63fa\", \"#FFA15A\", \"#19d3f3\", \"#FF6692\", \"#B6E880\", \"#FF97FF\", \"#FECB52\"], \"font\": {\"color\": \"#2a3f5f\"}, \"geo\": {\"bgcolor\": \"white\", \"lakecolor\": \"white\", \"landcolor\": \"#E5ECF6\", \"showlakes\": true, \"showland\": true, \"subunitcolor\": \"white\"}, \"hoverlabel\": {\"align\": \"left\"}, \"hovermode\": \"closest\", \"mapbox\": {\"style\": \"light\"}, \"paper_bgcolor\": \"white\", \"plot_bgcolor\": \"#E5ECF6\", \"polar\": {\"angularaxis\": {\"gridcolor\": \"white\", \"linecolor\": \"white\", \"ticks\": \"\"}, \"bgcolor\": \"#E5ECF6\", \"radialaxis\": {\"gridcolor\": \"white\", \"linecolor\": \"white\", \"ticks\": \"\"}}, \"scene\": {\"xaxis\": {\"backgroundcolor\": \"#E5ECF6\", \"gridcolor\": \"white\", \"gridwidth\": 2, \"linecolor\": \"white\", \"showbackground\": true, \"ticks\": \"\", \"zerolinecolor\": \"white\"}, \"yaxis\": {\"backgroundcolor\": \"#E5ECF6\", \"gridcolor\": \"white\", \"gridwidth\": 2, \"linecolor\": \"white\", \"showbackground\": true, \"ticks\": \"\", \"zerolinecolor\": \"white\"}, \"zaxis\": {\"backgroundcolor\": \"#E5ECF6\", \"gridcolor\": \"white\", \"gridwidth\": 2, \"linecolor\": \"white\", \"showbackground\": true, \"ticks\": \"\", \"zerolinecolor\": \"white\"}}, \"shapedefaults\": {\"line\": {\"color\": \"#2a3f5f\"}}, \"ternary\": {\"aaxis\": {\"gridcolor\": \"white\", \"linecolor\": \"white\", \"ticks\": \"\"}, \"baxis\": {\"gridcolor\": \"white\", \"linecolor\": \"white\", \"ticks\": \"\"}, \"bgcolor\": \"#E5ECF6\", \"caxis\": {\"gridcolor\": \"white\", \"linecolor\": \"white\", \"ticks\": \"\"}}, \"title\": {\"x\": 0.05}, \"xaxis\": {\"automargin\": true, \"gridcolor\": \"white\", \"linecolor\": \"white\", \"ticks\": \"\", \"zerolinecolor\": \"white\", \"zerolinewidth\": 2}, \"yaxis\": {\"automargin\": true, \"gridcolor\": \"white\", \"linecolor\": \"white\", \"ticks\": \"\", \"zerolinecolor\": \"white\", \"zerolinewidth\": 2}}}, \"xaxis\": {\"anchor\": \"y\", \"domain\": [0, 0.45], \"title\": {\"text\": \"log(Concentration)\"}}, \"xaxis2\": {\"anchor\": \"y2\", \"domain\": [0.55, 1], \"title\": {\"text\": \"log(Concentration)\"}}, \"yaxis\": {\"anchor\": \"x\", \"title\": {\"text\": \"log(IC Normalized Reads)\"}}, \"yaxis2\": {\"anchor\": \"x2\", \"title\": {\"text\": \"log(IC Normalized Reads)\"}}},\n",
       "                        {\"responsive\": true}\n",
       "                    ).then(function(){\n",
       "                            \n",
       "var gd = document.getElementById('fd449f2c-0137-48fa-a54f-eecbc1cf08b2');\n",
       "var x = new MutationObserver(function (mutations, observer) {{\n",
       "        var display = window.getComputedStyle(gd).display;\n",
       "        if (!display || display === 'none') {{\n",
       "            console.log([gd, 'removed!']);\n",
       "            Plotly.purge(gd);\n",
       "            observer.disconnect();\n",
       "        }}\n",
       "}});\n",
       "\n",
       "// Listen for the removal of the full notebook cells\n",
       "var notebookContainer = gd.closest('#notebook-container');\n",
       "if (notebookContainer) {{\n",
       "    x.observe(notebookContainer, {childList: true});\n",
       "}}\n",
       "\n",
       "// Listen for the clearing of the current output cell\n",
       "var outputEl = gd.closest('.output');\n",
       "if (outputEl) {{\n",
       "    x.observe(outputEl, {childList: true});\n",
       "}}\n",
       "\n",
       "                        })\n",
       "                };\n",
       "                });\n",
       "            </script>\n",
       "        </div>"
      ]
     },
     "metadata": {},
     "output_type": "display_data"
    }
   ],
   "source": [
    "count_dict_b = filter_data(b)\n",
    "count_dict_b_not_norm = filter_data(b, adjust_copy_number=False)\n",
    "fig = generate_fig(count_dict_b_not_norm, value_dict_right=count_dict_b)\n",
    "fig.show()"
   ]
  },
  {
   "cell_type": "markdown",
   "metadata": {},
   "source": [
    "### Background cell concentration"
   ]
  },
  {
   "cell_type": "code",
   "execution_count": 45,
   "metadata": {},
   "outputs": [],
   "source": [
    "count_dict_a = filter_data(a)\n",
    "count_dict_c = filter_data(c)\n",
    "count_dict_d = filter_data(d)"
   ]
  },
  {
   "cell_type": "code",
   "execution_count": 59,
   "metadata": {},
   "outputs": [],
   "source": [
    "a_traces = generate_single_trace_set(count_dict_a)\n",
    "b_traces = generate_single_trace_set(count_dict_b)\n",
    "c_traces = generate_single_trace_set(count_dict_c)\n",
    "d_traces = generate_single_trace_set(count_dict_d)"
   ]
  },
  {
   "cell_type": "code",
   "execution_count": 72,
   "metadata": {},
   "outputs": [],
   "source": [
    "slope_a = np.mean([count_dict_a[key]['slope_norm'] for key in count_dict_a.keys()])\n",
    "rsq_a = np.mean([count_dict_a[key]['r_value_norm']**2 for key in count_dict_a.keys()])\n",
    "slope_b = np.mean([count_dict_b[key]['slope_norm'] for key in count_dict_b.keys()])\n",
    "rsq_b = np.mean([count_dict_b[key]['r_value_norm']**2 for key in count_dict_b.keys()])\n",
    "slope_c = np.mean([count_dict_c[key]['slope_norm'] for key in count_dict_c.keys()])\n",
    "rsq_c = np.mean([count_dict_c[key]['r_value_norm']**2 for key in count_dict_c.keys()])\n",
    "slope_d = np.mean([count_dict_d[key]['slope_norm'] for key in count_dict_d.keys()])\n",
    "rsq_d = np.mean([count_dict_d[key]['r_value_norm']**2 for key in count_dict_d.keys()])"
   ]
  },
  {
   "cell_type": "code",
   "execution_count": 83,
   "metadata": {},
   "outputs": [
    {
     "data": {
      "application/vnd.plotly.v1+json": {
       "config": {
        "plotlyServerURL": "https://plot.ly"
       },
       "data": [
        {
         "legendgroup": "0",
         "marker": {
          "color": "#1f77b4"
         },
         "mode": "markers",
         "name": "Pseudomonas aeruginosa",
         "type": "scatter",
         "x": [
          3.785329835010767,
          4.785329835010767,
          5.785329835010767,
          6.785329835010767,
          7.785329835010767
         ],
         "xaxis": "x",
         "y": [
          -4.092764817667575,
          -3.2120210485124043,
          -1.968075322209816,
          -1.2719660046321326,
          -0.16231479677151328
         ],
         "yaxis": "y"
        },
        {
         "legendgroup": "0",
         "marker": {
          "color": "#1f77b4"
         },
         "mode": "markers",
         "name": "Bacillus subtilis",
         "type": "scatter",
         "x": [
          4.012837224705173,
          5.012837224705173,
          6.012837224705173,
          7.012837224705173,
          8.012837224705173
         ],
         "xaxis": "x2",
         "y": [
          -4.125129838871882,
          -3.076177568502758,
          -2.234904011887101,
          -1.0670468459568023,
          -0.11747010916313491
         ],
         "yaxis": "y2"
        },
        {
         "legendgroup": "0",
         "marker": {
          "color": "#1f77b4"
         },
         "mode": "markers",
         "name": "Escherichia coli",
         "type": "scatter",
         "x": [
          3.929418925714293,
          4.929418925714293,
          5.929418925714293,
          6.929418925714293,
          7.929418925714293
         ],
         "xaxis": "x3",
         "y": [
          -3.7406494923396547,
          -3.0957747934284137,
          -2.072928173242841,
          -0.9447777208272068,
          0.2297618322507254
         ],
         "yaxis": "y3"
        },
        {
         "legendgroup": "0",
         "marker": {
          "color": "#1f77b4"
         },
         "mode": "markers",
         "name": "Escherichia coli",
         "type": "scatter",
         "x": [
          3.929418925714293,
          4.929418925714293,
          6.929418925714293,
          7.929418925714293
         ],
         "xaxis": "x4",
         "y": [
          -3.606650028578439,
          -2.875080248527849,
          -1.1648375775303952,
          0.40887999473605047
         ],
         "yaxis": "y4"
        },
        {
         "legendgroup": "0",
         "line": {
          "color": "#1f77b4"
         },
         "mode": "lines",
         "name": "Pseudomonas aeruginosa",
         "showlegend": false,
         "type": "scatter",
         "x": [
          3.785329835010767,
          4.785329835010767,
          5.785329835010767,
          6.785329835010767,
          7.785329835010767
         ],
         "xaxis": "x",
         "y": [
          -4.101619415093168,
          -3.121523906525928,
          -2.1414283979586886,
          -1.1613328893914492,
          -0.18123738082420981
         ],
         "yaxis": "y"
        },
        {
         "legendgroup": "0",
         "line": {
          "color": "#1f77b4"
         },
         "mode": "lines",
         "name": "Bacillus subtilis",
         "showlegend": false,
         "type": "scatter",
         "x": [
          4.012837224705173,
          5.012837224705173,
          6.012837224705173,
          7.012837224705173,
          8.012837224705173
         ],
         "xaxis": "x2",
         "y": [
          -4.129035711269026,
          -3.1265906930726803,
          -2.1241456748763357,
          -1.121700656679991,
          -0.1192556384836454
         ],
         "yaxis": "y2"
        },
        {
         "legendgroup": "0",
         "line": {
          "color": "#1f77b4"
         },
         "mode": "lines",
         "name": "Escherichia coli",
         "showlegend": false,
         "type": "scatter",
         "x": [
          3.929418925714293,
          4.929418925714293,
          5.929418925714293,
          6.929418925714293,
          7.929418925714293
         ],
         "xaxis": "x3",
         "y": [
          -3.9432376138738716,
          -2.934055641695675,
          -1.9248736695174777,
          -0.9156916973392812,
          0.09349027483891525
         ],
         "yaxis": "y3"
        },
        {
         "legendgroup": "0",
         "line": {
          "color": "#1f77b4"
         },
         "mode": "lines",
         "name": "Escherichia coli",
         "showlegend": false,
         "type": "scatter",
         "x": [
          3.929418925714293,
          4.929418925714293,
          6.929418925714293,
          7.929418925714293
         ],
         "xaxis": "x4",
         "y": [
          -3.7576825085004444,
          -2.783552236737801,
          -0.8352916932125147,
          0.1388385785501285
         ],
         "yaxis": "y4"
        },
        {
         "legendgroup": "1",
         "marker": {
          "color": "#ff7f0e"
         },
         "mode": "markers",
         "name": "Escherichia coli",
         "type": "scatter",
         "x": [
          3.929418925714293,
          4.929418925714293,
          5.929418925714293,
          6.929418925714293,
          7.929418925714293
         ],
         "xaxis": "x",
         "y": [
          -3.8105180513076538,
          -2.97343734125236,
          -1.9846259178273464,
          -1.3274329765793156,
          -0.30910302180703797
         ],
         "yaxis": "y"
        },
        {
         "legendgroup": "1",
         "marker": {
          "color": "#ff7f0e"
         },
         "mode": "markers",
         "name": "Escherichia coli",
         "type": "scatter",
         "x": [
          3.929418925714293,
          4.929418925714293,
          5.929418925714293,
          6.929418925714293,
          7.929418925714293
         ],
         "xaxis": "x2",
         "y": [
          -3.6655635985670627,
          -3.063440747099826,
          -2.0278522971400275,
          -0.978624943174265,
          0.13341304415200483
         ],
         "yaxis": "y2"
        },
        {
         "legendgroup": "1",
         "marker": {
          "color": "#ff7f0e"
         },
         "mode": "markers",
         "name": "Bacillus subtilis",
         "type": "scatter",
         "x": [
          4.012837224705173,
          5.012837224705173,
          6.012837224705173,
          7.012837224705173,
          8.012837224705173
         ],
         "xaxis": "x3",
         "y": [
          -4.168552724389135,
          -3.0380686605327134,
          -2.0278267167674917,
          -0.9274308659870545,
          0.14674187957110763
         ],
         "yaxis": "y3"
        },
        {
         "legendgroup": "1",
         "marker": {
          "color": "#ff7f0e"
         },
         "mode": "markers",
         "name": "Salmonella enterica",
         "type": "scatter",
         "x": [
          3.9395192526186182,
          4.939519252618618,
          6.939519252618618,
          7.939519252618618
         ],
         "xaxis": "x4",
         "y": [
          -3.7157944980035067,
          -2.8343352808377893,
          -1.1620144181940162,
          0.4651399574365481
         ],
         "yaxis": "y4"
        },
        {
         "legendgroup": "1",
         "line": {
          "color": "#ff7f0e"
         },
         "mode": "lines",
         "name": "Escherichia coli",
         "showlegend": false,
         "type": "scatter",
         "x": [
          3.929418925714293,
          4.929418925714293,
          5.929418925714293,
          6.929418925714293,
          7.929418925714293
         ],
         "xaxis": "x",
         "y": [
          -3.810790346489598,
          -2.94590690412217,
          -2.081023461754742,
          -1.216140019387315,
          -0.3512565770198872
         ],
         "yaxis": "y"
        },
        {
         "legendgroup": "1",
         "line": {
          "color": "#ff7f0e"
         },
         "mode": "lines",
         "name": "Escherichia coli",
         "showlegend": false,
         "type": "scatter",
         "x": [
          3.929418925714293,
          4.929418925714293,
          5.929418925714293,
          6.929418925714293,
          7.929418925714293
         ],
         "xaxis": "x2",
         "y": [
          -3.856967526238574,
          -2.8886906173022044,
          -1.9204137083658352,
          -0.9521367994294652,
          0.016140109506904032
         ],
         "yaxis": "y2"
        },
        {
         "legendgroup": "1",
         "line": {
          "color": "#ff7f0e"
         },
         "mode": "lines",
         "name": "Bacillus subtilis",
         "showlegend": false,
         "type": "scatter",
         "x": [
          4.012837224705173,
          5.012837224705173,
          6.012837224705173,
          7.012837224705173,
          8.012837224705173
         ],
         "xaxis": "x3",
         "y": [
          -4.151272818114287,
          -3.0771501178676726,
          -2.003027417621058,
          -0.9289047173744436,
          0.1452179828721718
         ],
         "yaxis": "y3"
        },
        {
         "legendgroup": "1",
         "line": {
          "color": "#ff7f0e"
         },
         "mode": "lines",
         "name": "Salmonella enterica",
         "showlegend": false,
         "type": "scatter",
         "x": [
          3.9395192526186182,
          4.939519252618618,
          6.939519252618618,
          7.939519252618618
         ],
         "xaxis": "x4",
         "y": [
          -3.818589014604467,
          -2.815170037252079,
          -0.8083320825473024,
          0.1950868948050859
         ],
         "yaxis": "y4"
        },
        {
         "legendgroup": "2",
         "marker": {
          "color": "#2ca02c"
         },
         "mode": "markers",
         "name": "Staphylococcus aureus",
         "type": "scatter",
         "x": [
          4.181843587944773,
          5.181843587944773,
          6.181843587944773,
          7.181843587944773,
          8.181843587944773
         ],
         "xaxis": "x",
         "y": [
          -3.825158577490544,
          -2.953743033269373,
          -1.9828990985268404,
          -1.4162882394471081,
          -0.3959270526608782
         ],
         "yaxis": "y"
        },
        {
         "legendgroup": "2",
         "marker": {
          "color": "#2ca02c"
         },
         "mode": "markers",
         "name": "Staphylococcus aureus",
         "type": "scatter",
         "x": [
          4.181843587944773,
          5.181843587944773,
          6.181843587944773,
          7.181843587944773,
          8.181843587944773
         ],
         "xaxis": "x2",
         "y": [
          -3.8716180810001872,
          -2.997750961188715,
          -1.9359589673321855,
          -0.7660168502928212,
          0.21719506109655792
         ],
         "yaxis": "y2"
        },
        {
         "legendgroup": "2",
         "marker": {
          "color": "#2ca02c"
         },
         "mode": "markers",
         "name": "Salmonella enterica",
         "type": "scatter",
         "x": [
          3.9395192526186182,
          4.939519252618618,
          5.939519252618618,
          6.939519252618618,
          7.939519252618618
         ],
         "xaxis": "x3",
         "y": [
          -3.8753480662371107,
          -3.1192558892779365,
          -1.9679002700126051,
          -0.9049803937205341,
          0.21653356651697028
         ],
         "yaxis": "y3"
        },
        {
         "legendgroup": "2",
         "marker": {
          "color": "#2ca02c"
         },
         "mode": "markers",
         "name": "Lactobacillus fermentum",
         "type": "scatter",
         "x": [
          5.334453751150932,
          7.334453751150932,
          8.334453751150932
         ],
         "xaxis": "x4",
         "y": [
          -2.7660940208541773,
          -0.7745938388116609,
          0.59403720235459
         ],
         "yaxis": "y4"
        },
        {
         "legendgroup": "2",
         "line": {
          "color": "#2ca02c"
         },
         "mode": "lines",
         "name": "Staphylococcus aureus",
         "showlegend": false,
         "type": "scatter",
         "x": [
          4.181843587944773,
          5.181843587944773,
          6.181843587944773,
          7.181843587944773,
          8.181843587944773
         ],
         "xaxis": "x",
         "y": [
          -3.793986768975269,
          -2.9543949846271094,
          -2.114803200278949,
          -1.27521141593079,
          -0.43561963158262973
         ],
         "yaxis": "y"
        },
        {
         "legendgroup": "2",
         "line": {
          "color": "#2ca02c"
         },
         "mode": "lines",
         "name": "Staphylococcus aureus",
         "showlegend": false,
         "type": "scatter",
         "x": [
          4.181843587944773,
          5.181843587944773,
          6.181843587944773,
          7.181843587944773,
          8.181843587944773
         ],
         "xaxis": "x2",
         "y": [
          -3.9527020387613465,
          -2.9117659992524088,
          -1.87082995974347,
          -0.8298939202345315,
          0.2110421192744063
         ],
         "yaxis": "y2"
        },
        {
         "legendgroup": "2",
         "line": {
          "color": "#2ca02c"
         },
         "mode": "lines",
         "name": "Salmonella enterica",
         "showlegend": false,
         "type": "scatter",
         "x": [
          3.9395192526186182,
          4.939519252618618,
          5.939519252618618,
          6.939519252618618,
          7.939519252618618
         ],
         "xaxis": "x3",
         "y": [
          -4.009797962759355,
          -2.9699940866527985,
          -1.9301902105462423,
          -0.8903863344396861,
          0.14941754166687105
         ],
         "yaxis": "y3"
        },
        {
         "legendgroup": "2",
         "line": {
          "color": "#2ca02c"
         },
         "mode": "lines",
         "name": "Lactobacillus fermentum",
         "showlegend": false,
         "type": "scatter",
         "x": [
          5.334453751150932,
          7.334453751150932,
          8.334453751150932
         ],
         "xaxis": "x4",
         "y": [
          -2.819362728017749,
          -0.6147877173209508,
          0.4874997880274492
         ],
         "yaxis": "y4"
        },
        {
         "legendgroup": "3",
         "marker": {
          "color": "#d62728"
         },
         "mode": "markers",
         "name": "Enterococcus faecalis",
         "type": "scatter",
         "x": [
          4.164352855784436,
          5.164352855784436,
          6.164352855784436,
          7.164352855784436,
          8.164352855784436
         ],
         "xaxis": "x",
         "y": [
          -3.795774799805334,
          -2.983171740293923,
          -1.973944255873914,
          -1.28977556305069,
          -0.35067192708612394
         ],
         "yaxis": "y"
        },
        {
         "legendgroup": "3",
         "marker": {
          "color": "#d62728"
         },
         "mode": "markers",
         "name": "Listeria Monocytogenes",
         "type": "scatter",
         "x": [
          4.143014800254095,
          5.143014800254095,
          6.143014800254095,
          7.143014800254095,
          8.143014800254095
         ],
         "xaxis": "x2",
         "y": [
          -3.9374353654898306,
          -3.046314887892729,
          -1.9363771613769238,
          -0.7516634460372689,
          0.18433238834846727
         ],
         "yaxis": "y2"
        },
        {
         "legendgroup": "3",
         "marker": {
          "color": "#d62728"
         },
         "mode": "markers",
         "name": "Enterococcus faecalis",
         "type": "scatter",
         "x": [
          4.164352855784436,
          5.164352855784436,
          6.164352855784436,
          7.164352855784436,
          8.164352855784436
         ],
         "xaxis": "x3",
         "y": [
          -3.895551452325398,
          -2.9010414243166744,
          -1.8581009804647242,
          -0.8071894585404527,
          0.23120707312490632
         ],
         "yaxis": "y3"
        },
        {
         "legendgroup": "3",
         "marker": {
          "color": "#d62728"
         },
         "mode": "markers",
         "name": "Listeria Monocytogenes",
         "type": "scatter",
         "x": [
          5.143014800254095,
          7.143014800254095,
          8.143014800254095
         ],
         "xaxis": "x4",
         "y": [
          -2.861069534085034,
          -0.9753187845705891,
          0.4977357099175822
         ],
         "yaxis": "y4"
        },
        {
         "legendgroup": "3",
         "line": {
          "color": "#d62728"
         },
         "mode": "lines",
         "name": "Enterococcus faecalis",
         "showlegend": false,
         "type": "scatter",
         "x": [
          4.164352855784436,
          5.164352855784436,
          6.164352855784436,
          7.164352855784436,
          8.164352855784436
         ],
         "xaxis": "x",
         "y": [
          -3.795388041758328,
          -2.9370278494901623,
          -2.078667657221997,
          -1.220307464953832,
          -0.36194727268566584
         ],
         "yaxis": "y"
        },
        {
         "legendgroup": "3",
         "line": {
          "color": "#d62728"
         },
         "mode": "lines",
         "name": "Listeria Monocytogenes",
         "showlegend": false,
         "type": "scatter",
         "x": [
          4.143014800254095,
          5.143014800254095,
          6.143014800254095,
          7.143014800254095,
          8.143014800254095
         ],
         "xaxis": "x2",
         "y": [
          -4.005129084396068,
          -2.9513103894428623,
          -1.8974916944896574,
          -0.8436729995364516,
          0.2101456954167542
         ],
         "yaxis": "y2"
        },
        {
         "legendgroup": "3",
         "line": {
          "color": "#d62728"
         },
         "mode": "lines",
         "name": "Enterococcus faecalis",
         "showlegend": false,
         "type": "scatter",
         "x": [
          4.164352855784436,
          5.164352855784436,
          6.164352855784436,
          7.164352855784436,
          8.164352855784436
         ],
         "xaxis": "x3",
         "y": [
          -3.9156090518398345,
          -2.8808721501721513,
          -1.8461352485044689,
          -0.8113983468367856,
          0.2233385548308977
         ],
         "yaxis": "y3"
        },
        {
         "legendgroup": "3",
         "line": {
          "color": "#d62728"
         },
         "mode": "lines",
         "name": "Listeria Monocytogenes",
         "showlegend": false,
         "type": "scatter",
         "x": [
          5.143014800254095,
          7.143014800254095,
          8.143014800254095
         ],
         "xaxis": "x4",
         "y": [
          -2.936809408332312,
          -0.7480991618287538,
          0.34625596142302584
         ],
         "yaxis": "y4"
        },
        {
         "legendgroup": "4",
         "marker": {
          "color": "#9467bd"
         },
         "mode": "markers",
         "name": "Bacillus subtilis",
         "type": "scatter",
         "x": [
          4.012837224705173,
          5.012837224705173,
          6.012837224705173,
          7.012837224705173,
          8.012837224705173
         ],
         "xaxis": "x",
         "y": [
          -4.064736094067332,
          -3.0521532014198374,
          -2.1014510364737395,
          -1.403153690517434,
          -0.39794000867203766
         ],
         "yaxis": "y"
        },
        {
         "legendgroup": "4",
         "marker": {
          "color": "#9467bd"
         },
         "mode": "markers",
         "name": "Salmonella enterica",
         "type": "scatter",
         "x": [
          3.9395192526186182,
          4.939519252618618,
          5.939519252618618,
          6.939519252618618,
          7.939519252618618
         ],
         "xaxis": "x2",
         "y": [
          -3.8755131248837116,
          -3.0125672445668945,
          -1.9954463172125498,
          -0.9058859300240442,
          0.19068916027387106
         ],
         "yaxis": "y2"
        },
        {
         "legendgroup": "4",
         "marker": {
          "color": "#9467bd"
         },
         "mode": "markers",
         "name": "Pseudomonas aeruginosa",
         "type": "scatter",
         "x": [
          3.785329835010767,
          4.785329835010767,
          5.785329835010767,
          6.785329835010767,
          7.785329835010767
         ],
         "xaxis": "x3",
         "y": [
          -3.8286046626947847,
          -3.090097660536723,
          -2.15334029724781,
          -1.1005866657898027,
          0.025062403902567087
         ],
         "yaxis": "y3"
        },
        {
         "legendgroup": "4",
         "marker": {
          "color": "#9467bd"
         },
         "mode": "markers",
         "name": "Staphylococcus aureus",
         "type": "scatter",
         "x": [
          5.181843587944773,
          7.181843587944773,
          8.181843587944773
         ],
         "xaxis": "x4",
         "y": [
          -2.930705462226429,
          -0.9430832500215753,
          0.48628707356420614
         ],
         "yaxis": "y4"
        },
        {
         "legendgroup": "4",
         "line": {
          "color": "#9467bd"
         },
         "mode": "lines",
         "name": "Bacillus subtilis",
         "showlegend": false,
         "type": "scatter",
         "x": [
          4.012837224705173,
          5.012837224705173,
          6.012837224705173,
          7.012837224705173,
          8.012837224705173
         ],
         "xaxis": "x",
         "y": [
          -4.000405142568675,
          -3.1021459743993756,
          -2.2038868062300763,
          -1.305627638060777,
          -0.40736846989147857
         ],
         "yaxis": "y"
        },
        {
         "legendgroup": "4",
         "line": {
          "color": "#9467bd"
         },
         "mode": "lines",
         "name": "Salmonella enterica",
         "showlegend": false,
         "type": "scatter",
         "x": [
          3.9395192526186182,
          4.939519252618618,
          5.939519252618618,
          6.939519252618618,
          7.939519252618618
         ],
         "xaxis": "x2",
         "y": [
          -3.9675618682542693,
          -2.9436532797684674,
          -1.9197446912826663,
          -0.8958361027968644,
          0.12807248568893748
         ],
         "yaxis": "y2"
        },
        {
         "legendgroup": "4",
         "line": {
          "color": "#9467bd"
         },
         "mode": "lines",
         "name": "Pseudomonas aeruginosa",
         "showlegend": false,
         "type": "scatter",
         "x": [
          3.785329835010767,
          4.785329835010767,
          5.785329835010767,
          6.785329835010767,
          7.785329835010767
         ],
         "xaxis": "x3",
         "y": [
          -3.9688824020616362,
          -2.9991978892674735,
          -2.029513376473311,
          -1.0598288636791482,
          -0.09014435088498551
         ],
         "yaxis": "y3"
        },
        {
         "legendgroup": "4",
         "line": {
          "color": "#9467bd"
         },
         "mode": "lines",
         "name": "Staphylococcus aureus",
         "showlegend": false,
         "type": "scatter",
         "x": [
          5.181843587944773,
          7.181843587944773,
          8.181843587944773
         ],
         "xaxis": "x4",
         "y": [
          -2.992928207581195,
          -0.7564150139572821,
          0.3618415828546748
         ],
         "yaxis": "y4"
        },
        {
         "legendgroup": "5",
         "marker": {
          "color": "#8c564b"
         },
         "mode": "markers",
         "name": "Lactobacillus fermentum",
         "type": "scatter",
         "x": [
          4.334453751150932,
          5.334453751150932,
          6.334453751150932,
          7.334453751150932,
          8.334453751150932
         ],
         "xaxis": "x",
         "y": [
          -3.80149465929275,
          -2.8391090455422976,
          -1.8350510824543285,
          -1.1775447920277708,
          -0.23360788243973468
         ],
         "yaxis": "y"
        },
        {
         "legendgroup": "5",
         "marker": {
          "color": "#8c564b"
         },
         "mode": "markers",
         "name": "Lactobacillus fermentum",
         "type": "scatter",
         "x": [
          4.334453751150932,
          5.334453751150932,
          6.334453751150932,
          7.334453751150932,
          8.334453751150932
         ],
         "xaxis": "x2",
         "y": [
          -3.8062251194381957,
          -2.868117103372035,
          -1.7651666124668095,
          -0.640378203006195,
          0.29167221133319876
         ],
         "yaxis": "y2"
        },
        {
         "legendgroup": "5",
         "marker": {
          "color": "#8c564b"
         },
         "mode": "markers",
         "name": "Listeria Monocytogenes",
         "type": "scatter",
         "x": [
          5.143014800254095,
          6.143014800254095,
          7.143014800254095,
          8.143014800254095
         ],
         "xaxis": "x3",
         "y": [
          -3.006551609086648,
          -1.9413821374376001,
          -0.8358346399899826,
          0.20429911009995863
         ],
         "yaxis": "y3"
        },
        {
         "legendgroup": "5",
         "marker": {
          "color": "#8c564b"
         },
         "mode": "markers",
         "name": "Bacillus subtilis",
         "type": "scatter",
         "x": [
          5.012837224705173,
          7.012837224705173,
          8.012837224705173
         ],
         "xaxis": "x4",
         "y": [
          -3.2242474364978597,
          -1.3707740611903707,
          -0.15159093137974017
         ],
         "yaxis": "y4"
        },
        {
         "legendgroup": "5",
         "line": {
          "color": "#8c564b"
         },
         "mode": "lines",
         "name": "Lactobacillus fermentum",
         "showlegend": false,
         "type": "scatter",
         "x": [
          4.334453751150932,
          5.334453751150932,
          6.334453751150932,
          7.334453751150932,
          8.334453751150932
         ],
         "xaxis": "x",
         "y": [
          -3.736829053795488,
          -2.8570952730734316,
          -1.9773614923513758,
          -1.09762771162932,
          -0.21789393090726428
         ],
         "yaxis": "y"
        },
        {
         "legendgroup": "5",
         "line": {
          "color": "#8c564b"
         },
         "mode": "lines",
         "name": "Lactobacillus fermentum",
         "showlegend": false,
         "type": "scatter",
         "x": [
          4.334453751150932,
          5.334453751150932,
          6.334453751150932,
          7.334453751150932,
          8.334453751150932
         ],
         "xaxis": "x2",
         "y": [
          -3.8423496777717334,
          -2.7999963215808705,
          -1.7576429653900076,
          -0.7152896091991447,
          0.32706374699171903
         ],
         "yaxis": "y2"
        },
        {
         "legendgroup": "5",
         "line": {
          "color": "#8c564b"
         },
         "mode": "lines",
         "name": "Listeria Monocytogenes",
         "showlegend": false,
         "type": "scatter",
         "x": [
          5.143014800254095,
          6.143014800254095,
          7.143014800254095,
          8.143014800254095
         ],
         "xaxis": "x3",
         "y": [
          -3.0055822673546837,
          -1.9317723018539406,
          -0.8579623363531965,
          0.21584762914754663
         ],
         "yaxis": "y3"
        },
        {
         "legendgroup": "5",
         "line": {
          "color": "#8c564b"
         },
         "mode": "lines",
         "name": "Bacillus subtilis",
         "showlegend": false,
         "type": "scatter",
         "x": [
          5.012837224705173,
          7.012837224705173,
          8.012837224705173
         ],
         "xaxis": "x4",
         "y": [
          -3.2660254996631286,
          -1.2454398716945612,
          -0.23514705771027877
         ],
         "yaxis": "y4"
        },
        {
         "legendgroup": "6",
         "marker": {
          "color": "#e377c2"
         },
         "mode": "markers",
         "name": "Listeria Monocytogenes",
         "type": "scatter",
         "x": [
          4.143014800254095,
          5.143014800254095,
          6.143014800254095,
          7.143014800254095,
          8.143014800254095
         ],
         "xaxis": "x",
         "y": [
          -3.9926496647843073,
          -3.0444575848361874,
          -2.0363194824300437,
          -1.3069435881877038,
          -0.33403025576690654
         ],
         "yaxis": "y"
        },
        {
         "legendgroup": "6",
         "marker": {
          "color": "#e377c2"
         },
         "mode": "markers",
         "name": "Enterococcus faecalis",
         "type": "scatter",
         "x": [
          4.164352855784436,
          5.164352855784436,
          6.164352855784436,
          7.164352855784436,
          8.164352855784436
         ],
         "xaxis": "x2",
         "y": [
          -3.963887700855119,
          -2.920936448420197,
          -1.8679982369550319,
          -0.7160333581122915,
          0.21304704024234333
         ],
         "yaxis": "y2"
        },
        {
         "legendgroup": "6",
         "marker": {
          "color": "#e377c2"
         },
         "mode": "markers",
         "name": "Lactobacillus fermentum",
         "type": "scatter",
         "x": [
          5.334453751150932,
          6.334453751150932,
          7.334453751150932,
          8.334453751150932
         ],
         "xaxis": "x3",
         "y": [
          -2.8304603500309673,
          -1.8228458924384308,
          -0.7890912364476564,
          0.32690340723808986
         ],
         "yaxis": "y3"
        },
        {
         "legendgroup": "6",
         "marker": {
          "color": "#e377c2"
         },
         "mode": "markers",
         "name": "Enterococcus faecalis",
         "type": "scatter",
         "x": [
          5.164352855784436,
          7.164352855784436,
          8.164352855784436
         ],
         "xaxis": "x4",
         "y": [
          -3.074949354030115,
          -1.2602749052279822,
          0.4161648287782367
         ],
         "yaxis": "y4"
        },
        {
         "legendgroup": "6",
         "line": {
          "color": "#e377c2"
         },
         "mode": "lines",
         "name": "Listeria Monocytogenes",
         "showlegend": false,
         "type": "scatter",
         "x": [
          4.143014800254095,
          5.143014800254095,
          6.143014800254095,
          7.143014800254095,
          8.143014800254095
         ],
         "xaxis": "x",
         "y": [
          -3.953830678137687,
          -3.0483553966693577,
          -2.14288011520103,
          -1.2374048337327013,
          -0.3319295522643726
         ],
         "yaxis": "y"
        },
        {
         "legendgroup": "6",
         "line": {
          "color": "#e377c2"
         },
         "mode": "lines",
         "name": "Enterococcus faecalis",
         "showlegend": false,
         "type": "scatter",
         "x": [
          4.164352855784436,
          5.164352855784436,
          6.164352855784436,
          7.164352855784436,
          8.164352855784436
         ],
         "xaxis": "x2",
         "y": [
          -3.962916255320625,
          -2.907038998070342,
          -1.851161740820059,
          -0.7952844835697759,
          0.26059277368050715
         ],
         "yaxis": "y2"
        },
        {
         "legendgroup": "6",
         "line": {
          "color": "#e377c2"
         },
         "mode": "lines",
         "name": "Lactobacillus fermentum",
         "showlegend": false,
         "type": "scatter",
         "x": [
          5.334453751150932,
          6.334453751150932,
          7.334453751150932,
          8.334453751150932
         ],
         "xaxis": "x3",
         "y": [
          -2.8547504070894325,
          -1.8041658143096377,
          -0.753581221529843,
          0.2970033712499518
         ],
         "yaxis": "y3"
        },
        {
         "legendgroup": "6",
         "line": {
          "color": "#e377c2"
         },
         "mode": "lines",
         "name": "Enterococcus faecalis",
         "showlegend": false,
         "type": "scatter",
         "x": [
          5.164352855784436,
          7.164352855784436,
          8.164352855784436
         ],
         "xaxis": "x4",
         "y": [
          -3.184821141116567,
          -0.9306595439686323,
          0.196421254605335
         ],
         "yaxis": "y4"
        },
        {
         "legendgroup": "7",
         "marker": {
          "color": "#7f7f7f"
         },
         "mode": "markers",
         "name": "Salmonella enterica",
         "type": "scatter",
         "x": [
          3.9395192526186182,
          4.939519252618618,
          5.939519252618618,
          6.939519252618618,
          7.939519252618618
         ],
         "xaxis": "x",
         "y": [
          -3.9128605887117764,
          -3.041130983142531,
          -1.9014260556996307,
          -1.324922596861716,
          -0.3307770983691847
         ],
         "yaxis": "y"
        },
        {
         "legendgroup": "7",
         "marker": {
          "color": "#7f7f7f"
         },
         "mode": "markers",
         "name": "Pseudomonas aeruginosa",
         "type": "scatter",
         "x": [
          3.785329835010767,
          4.785329835010767,
          5.785329835010767,
          6.785329835010767,
          7.785329835010767
         ],
         "xaxis": "x2",
         "y": [
          -4.355578760250155,
          -3.1433128949203146,
          -2.2082815317666866,
          -1.095075569557046,
          -0.0543122838698161
         ],
         "yaxis": "y2"
        },
        {
         "legendgroup": "7",
         "marker": {
          "color": "#7f7f7f"
         },
         "mode": "markers",
         "name": "Staphylococcus aureus",
         "type": "scatter",
         "x": [
          5.181843587944773,
          6.181843587944773,
          7.181843587944773,
          8.181843587944773
         ],
         "xaxis": "x3",
         "y": [
          -3.1614535690723917,
          -2.01009794980706,
          -0.8718322932615016,
          0.1915782786265912
         ],
         "yaxis": "y3"
        },
        {
         "legendgroup": "7",
         "marker": {
          "color": "#7f7f7f"
         },
         "mode": "markers",
         "name": "Pseudomonas aeruginosa",
         "type": "scatter",
         "x": [
          4.785329835010767,
          6.785329835010767,
          7.785329835010767
         ],
         "xaxis": "x4",
         "y": [
          -3.019432026180284,
          -1.388657708116441,
          0.2024201977780304
         ],
         "yaxis": "y4"
        },
        {
         "legendgroup": "7",
         "line": {
          "color": "#7f7f7f"
         },
         "mode": "lines",
         "name": "Salmonella enterica",
         "showlegend": false,
         "type": "scatter",
         "x": [
          3.9395192526186182,
          4.939519252618618,
          5.939519252618618,
          6.939519252618618,
          7.939519252618618
         ],
         "xaxis": "x",
         "y": [
          -3.8782985379501684,
          -2.990261001253568,
          -2.1022234645569684,
          -1.2141859278603686,
          -0.3261483911637679
         ],
         "yaxis": "y"
        },
        {
         "legendgroup": "7",
         "line": {
          "color": "#7f7f7f"
         },
         "mode": "lines",
         "name": "Pseudomonas aeruginosa",
         "showlegend": false,
         "type": "scatter",
         "x": [
          3.785329835010767,
          4.785329835010767,
          5.785329835010767,
          6.785329835010767,
          7.785329835010767
         ],
         "xaxis": "x2",
         "y": [
          -4.301466263697592,
          -3.2363892358851976,
          -2.171312208072803,
          -1.1062351802604082,
          -0.041158152448012686
         ],
         "yaxis": "y2"
        },
        {
         "legendgroup": "7",
         "line": {
          "color": "#7f7f7f"
         },
         "mode": "lines",
         "name": "Staphylococcus aureus",
         "showlegend": false,
         "type": "scatter",
         "x": [
          5.181843587944773,
          6.181843587944773,
          7.181843587944773,
          8.181843587944773
         ],
         "xaxis": "x3",
         "y": [
          -3.1425555633249678,
          -2.022819443360717,
          -0.9030833233964657,
          0.21665279656778402
         ],
         "yaxis": "y3"
        },
        {
         "legendgroup": "7",
         "line": {
          "color": "#7f7f7f"
         },
         "mode": "lines",
         "name": "Pseudomonas aeruginosa",
         "showlegend": false,
         "type": "scatter",
         "x": [
          4.785329835010767,
          6.785329835010767,
          7.785329835010767
         ],
         "xaxis": "x4",
         "y": [
          -3.1302449900177916,
          -1.05621881660392,
          -0.01920572989698499
         ],
         "yaxis": "y4"
        }
       ],
       "layout": {
        "annotations": [
         {
          "font": {
           "size": 16
          },
          "showarrow": false,
          "text": "1E0  Slope:0.89  R<sup>2</sup>:1.00",
          "x": 0.225,
          "xanchor": "center",
          "xref": "paper",
          "y": 1,
          "yanchor": "bottom",
          "yref": "paper"
         },
         {
          "font": {
           "size": 16
          },
          "showarrow": false,
          "text": "1E2  Slope:1.03  R<sup>2</sup>:1.00",
          "x": 0.775,
          "xanchor": "center",
          "xref": "paper",
          "y": 1,
          "yanchor": "bottom",
          "yref": "paper"
         },
         {
          "font": {
           "size": 16
          },
          "showarrow": false,
          "text": "1E4  Slope:1.05  R<sup>2</sup>:1.00",
          "x": 0.225,
          "xanchor": "center",
          "xref": "paper",
          "y": 0.375,
          "yanchor": "bottom",
          "yref": "paper"
         },
         {
          "font": {
           "size": 16
          },
          "showarrow": false,
          "text": "1E5  Slope:1.06  R<sup>2</sup>:0.98",
          "x": 0.775,
          "xanchor": "center",
          "xref": "paper",
          "y": 0.375,
          "yanchor": "bottom",
          "yref": "paper"
         }
        ],
        "height": 700,
        "showlegend": false,
        "template": {
         "data": {
          "bar": [
           {
            "error_x": {
             "color": "#2a3f5f"
            },
            "error_y": {
             "color": "#2a3f5f"
            },
            "marker": {
             "line": {
              "color": "#E5ECF6",
              "width": 0.5
             }
            },
            "type": "bar"
           }
          ],
          "barpolar": [
           {
            "marker": {
             "line": {
              "color": "#E5ECF6",
              "width": 0.5
             }
            },
            "type": "barpolar"
           }
          ],
          "carpet": [
           {
            "aaxis": {
             "endlinecolor": "#2a3f5f",
             "gridcolor": "white",
             "linecolor": "white",
             "minorgridcolor": "white",
             "startlinecolor": "#2a3f5f"
            },
            "baxis": {
             "endlinecolor": "#2a3f5f",
             "gridcolor": "white",
             "linecolor": "white",
             "minorgridcolor": "white",
             "startlinecolor": "#2a3f5f"
            },
            "type": "carpet"
           }
          ],
          "choropleth": [
           {
            "colorbar": {
             "outlinewidth": 0,
             "ticks": ""
            },
            "type": "choropleth"
           }
          ],
          "contour": [
           {
            "colorbar": {
             "outlinewidth": 0,
             "ticks": ""
            },
            "colorscale": [
             [
              0,
              "#0d0887"
             ],
             [
              0.1111111111111111,
              "#46039f"
             ],
             [
              0.2222222222222222,
              "#7201a8"
             ],
             [
              0.3333333333333333,
              "#9c179e"
             ],
             [
              0.4444444444444444,
              "#bd3786"
             ],
             [
              0.5555555555555556,
              "#d8576b"
             ],
             [
              0.6666666666666666,
              "#ed7953"
             ],
             [
              0.7777777777777778,
              "#fb9f3a"
             ],
             [
              0.8888888888888888,
              "#fdca26"
             ],
             [
              1,
              "#f0f921"
             ]
            ],
            "type": "contour"
           }
          ],
          "contourcarpet": [
           {
            "colorbar": {
             "outlinewidth": 0,
             "ticks": ""
            },
            "type": "contourcarpet"
           }
          ],
          "heatmap": [
           {
            "colorbar": {
             "outlinewidth": 0,
             "ticks": ""
            },
            "colorscale": [
             [
              0,
              "#0d0887"
             ],
             [
              0.1111111111111111,
              "#46039f"
             ],
             [
              0.2222222222222222,
              "#7201a8"
             ],
             [
              0.3333333333333333,
              "#9c179e"
             ],
             [
              0.4444444444444444,
              "#bd3786"
             ],
             [
              0.5555555555555556,
              "#d8576b"
             ],
             [
              0.6666666666666666,
              "#ed7953"
             ],
             [
              0.7777777777777778,
              "#fb9f3a"
             ],
             [
              0.8888888888888888,
              "#fdca26"
             ],
             [
              1,
              "#f0f921"
             ]
            ],
            "type": "heatmap"
           }
          ],
          "heatmapgl": [
           {
            "colorbar": {
             "outlinewidth": 0,
             "ticks": ""
            },
            "colorscale": [
             [
              0,
              "#0d0887"
             ],
             [
              0.1111111111111111,
              "#46039f"
             ],
             [
              0.2222222222222222,
              "#7201a8"
             ],
             [
              0.3333333333333333,
              "#9c179e"
             ],
             [
              0.4444444444444444,
              "#bd3786"
             ],
             [
              0.5555555555555556,
              "#d8576b"
             ],
             [
              0.6666666666666666,
              "#ed7953"
             ],
             [
              0.7777777777777778,
              "#fb9f3a"
             ],
             [
              0.8888888888888888,
              "#fdca26"
             ],
             [
              1,
              "#f0f921"
             ]
            ],
            "type": "heatmapgl"
           }
          ],
          "histogram": [
           {
            "marker": {
             "colorbar": {
              "outlinewidth": 0,
              "ticks": ""
             }
            },
            "type": "histogram"
           }
          ],
          "histogram2d": [
           {
            "colorbar": {
             "outlinewidth": 0,
             "ticks": ""
            },
            "colorscale": [
             [
              0,
              "#0d0887"
             ],
             [
              0.1111111111111111,
              "#46039f"
             ],
             [
              0.2222222222222222,
              "#7201a8"
             ],
             [
              0.3333333333333333,
              "#9c179e"
             ],
             [
              0.4444444444444444,
              "#bd3786"
             ],
             [
              0.5555555555555556,
              "#d8576b"
             ],
             [
              0.6666666666666666,
              "#ed7953"
             ],
             [
              0.7777777777777778,
              "#fb9f3a"
             ],
             [
              0.8888888888888888,
              "#fdca26"
             ],
             [
              1,
              "#f0f921"
             ]
            ],
            "type": "histogram2d"
           }
          ],
          "histogram2dcontour": [
           {
            "colorbar": {
             "outlinewidth": 0,
             "ticks": ""
            },
            "colorscale": [
             [
              0,
              "#0d0887"
             ],
             [
              0.1111111111111111,
              "#46039f"
             ],
             [
              0.2222222222222222,
              "#7201a8"
             ],
             [
              0.3333333333333333,
              "#9c179e"
             ],
             [
              0.4444444444444444,
              "#bd3786"
             ],
             [
              0.5555555555555556,
              "#d8576b"
             ],
             [
              0.6666666666666666,
              "#ed7953"
             ],
             [
              0.7777777777777778,
              "#fb9f3a"
             ],
             [
              0.8888888888888888,
              "#fdca26"
             ],
             [
              1,
              "#f0f921"
             ]
            ],
            "type": "histogram2dcontour"
           }
          ],
          "mesh3d": [
           {
            "colorbar": {
             "outlinewidth": 0,
             "ticks": ""
            },
            "type": "mesh3d"
           }
          ],
          "parcoords": [
           {
            "line": {
             "colorbar": {
              "outlinewidth": 0,
              "ticks": ""
             }
            },
            "type": "parcoords"
           }
          ],
          "scatter": [
           {
            "marker": {
             "colorbar": {
              "outlinewidth": 0,
              "ticks": ""
             }
            },
            "type": "scatter"
           }
          ],
          "scatter3d": [
           {
            "line": {
             "colorbar": {
              "outlinewidth": 0,
              "ticks": ""
             }
            },
            "marker": {
             "colorbar": {
              "outlinewidth": 0,
              "ticks": ""
             }
            },
            "type": "scatter3d"
           }
          ],
          "scattercarpet": [
           {
            "marker": {
             "colorbar": {
              "outlinewidth": 0,
              "ticks": ""
             }
            },
            "type": "scattercarpet"
           }
          ],
          "scattergeo": [
           {
            "marker": {
             "colorbar": {
              "outlinewidth": 0,
              "ticks": ""
             }
            },
            "type": "scattergeo"
           }
          ],
          "scattergl": [
           {
            "marker": {
             "colorbar": {
              "outlinewidth": 0,
              "ticks": ""
             }
            },
            "type": "scattergl"
           }
          ],
          "scattermapbox": [
           {
            "marker": {
             "colorbar": {
              "outlinewidth": 0,
              "ticks": ""
             }
            },
            "type": "scattermapbox"
           }
          ],
          "scatterpolar": [
           {
            "marker": {
             "colorbar": {
              "outlinewidth": 0,
              "ticks": ""
             }
            },
            "type": "scatterpolar"
           }
          ],
          "scatterpolargl": [
           {
            "marker": {
             "colorbar": {
              "outlinewidth": 0,
              "ticks": ""
             }
            },
            "type": "scatterpolargl"
           }
          ],
          "scatterternary": [
           {
            "marker": {
             "colorbar": {
              "outlinewidth": 0,
              "ticks": ""
             }
            },
            "type": "scatterternary"
           }
          ],
          "surface": [
           {
            "colorbar": {
             "outlinewidth": 0,
             "ticks": ""
            },
            "colorscale": [
             [
              0,
              "#0d0887"
             ],
             [
              0.1111111111111111,
              "#46039f"
             ],
             [
              0.2222222222222222,
              "#7201a8"
             ],
             [
              0.3333333333333333,
              "#9c179e"
             ],
             [
              0.4444444444444444,
              "#bd3786"
             ],
             [
              0.5555555555555556,
              "#d8576b"
             ],
             [
              0.6666666666666666,
              "#ed7953"
             ],
             [
              0.7777777777777778,
              "#fb9f3a"
             ],
             [
              0.8888888888888888,
              "#fdca26"
             ],
             [
              1,
              "#f0f921"
             ]
            ],
            "type": "surface"
           }
          ],
          "table": [
           {
            "cells": {
             "fill": {
              "color": "#EBF0F8"
             },
             "line": {
              "color": "white"
             }
            },
            "header": {
             "fill": {
              "color": "#C8D4E3"
             },
             "line": {
              "color": "white"
             }
            },
            "type": "table"
           }
          ]
         },
         "layout": {
          "annotationdefaults": {
           "arrowcolor": "#2a3f5f",
           "arrowhead": 0,
           "arrowwidth": 1
          },
          "colorscale": {
           "diverging": [
            [
             0,
             "#8e0152"
            ],
            [
             0.1,
             "#c51b7d"
            ],
            [
             0.2,
             "#de77ae"
            ],
            [
             0.3,
             "#f1b6da"
            ],
            [
             0.4,
             "#fde0ef"
            ],
            [
             0.5,
             "#f7f7f7"
            ],
            [
             0.6,
             "#e6f5d0"
            ],
            [
             0.7,
             "#b8e186"
            ],
            [
             0.8,
             "#7fbc41"
            ],
            [
             0.9,
             "#4d9221"
            ],
            [
             1,
             "#276419"
            ]
           ],
           "sequential": [
            [
             0,
             "#0d0887"
            ],
            [
             0.1111111111111111,
             "#46039f"
            ],
            [
             0.2222222222222222,
             "#7201a8"
            ],
            [
             0.3333333333333333,
             "#9c179e"
            ],
            [
             0.4444444444444444,
             "#bd3786"
            ],
            [
             0.5555555555555556,
             "#d8576b"
            ],
            [
             0.6666666666666666,
             "#ed7953"
            ],
            [
             0.7777777777777778,
             "#fb9f3a"
            ],
            [
             0.8888888888888888,
             "#fdca26"
            ],
            [
             1,
             "#f0f921"
            ]
           ],
           "sequentialminus": [
            [
             0,
             "#0d0887"
            ],
            [
             0.1111111111111111,
             "#46039f"
            ],
            [
             0.2222222222222222,
             "#7201a8"
            ],
            [
             0.3333333333333333,
             "#9c179e"
            ],
            [
             0.4444444444444444,
             "#bd3786"
            ],
            [
             0.5555555555555556,
             "#d8576b"
            ],
            [
             0.6666666666666666,
             "#ed7953"
            ],
            [
             0.7777777777777778,
             "#fb9f3a"
            ],
            [
             0.8888888888888888,
             "#fdca26"
            ],
            [
             1,
             "#f0f921"
            ]
           ]
          },
          "colorway": [
           "#636efa",
           "#EF553B",
           "#00cc96",
           "#ab63fa",
           "#FFA15A",
           "#19d3f3",
           "#FF6692",
           "#B6E880",
           "#FF97FF",
           "#FECB52"
          ],
          "font": {
           "color": "#2a3f5f"
          },
          "geo": {
           "bgcolor": "white",
           "lakecolor": "white",
           "landcolor": "#E5ECF6",
           "showlakes": true,
           "showland": true,
           "subunitcolor": "white"
          },
          "hoverlabel": {
           "align": "left"
          },
          "hovermode": "closest",
          "mapbox": {
           "style": "light"
          },
          "paper_bgcolor": "white",
          "plot_bgcolor": "#E5ECF6",
          "polar": {
           "angularaxis": {
            "gridcolor": "white",
            "linecolor": "white",
            "ticks": ""
           },
           "bgcolor": "#E5ECF6",
           "radialaxis": {
            "gridcolor": "white",
            "linecolor": "white",
            "ticks": ""
           }
          },
          "scene": {
           "xaxis": {
            "backgroundcolor": "#E5ECF6",
            "gridcolor": "white",
            "gridwidth": 2,
            "linecolor": "white",
            "showbackground": true,
            "ticks": "",
            "zerolinecolor": "white"
           },
           "yaxis": {
            "backgroundcolor": "#E5ECF6",
            "gridcolor": "white",
            "gridwidth": 2,
            "linecolor": "white",
            "showbackground": true,
            "ticks": "",
            "zerolinecolor": "white"
           },
           "zaxis": {
            "backgroundcolor": "#E5ECF6",
            "gridcolor": "white",
            "gridwidth": 2,
            "linecolor": "white",
            "showbackground": true,
            "ticks": "",
            "zerolinecolor": "white"
           }
          },
          "shapedefaults": {
           "line": {
            "color": "#2a3f5f"
           }
          },
          "ternary": {
           "aaxis": {
            "gridcolor": "white",
            "linecolor": "white",
            "ticks": ""
           },
           "baxis": {
            "gridcolor": "white",
            "linecolor": "white",
            "ticks": ""
           },
           "bgcolor": "#E5ECF6",
           "caxis": {
            "gridcolor": "white",
            "linecolor": "white",
            "ticks": ""
           }
          },
          "title": {
           "x": 0.05
          },
          "xaxis": {
           "automargin": true,
           "gridcolor": "white",
           "linecolor": "white",
           "ticks": "",
           "zerolinecolor": "white",
           "zerolinewidth": 2
          },
          "yaxis": {
           "automargin": true,
           "gridcolor": "white",
           "linecolor": "white",
           "ticks": "",
           "zerolinecolor": "white",
           "zerolinewidth": 2
          }
         }
        },
        "width": 1000,
        "xaxis": {
         "anchor": "y",
         "autorange": true,
         "domain": [
          0,
          0.45
         ],
         "range": [
          3.4756284322437856,
          8.644155153917913
         ],
         "type": "linear"
        },
        "xaxis2": {
         "anchor": "y2",
         "autorange": true,
         "domain": [
          0.55,
          1
         ],
         "range": [
          3.4756284322437856,
          8.644155153917913
         ],
         "type": "linear"
        },
        "xaxis3": {
         "anchor": "y3",
         "autorange": true,
         "domain": [
          0,
          0.45
         ],
         "range": [
          3.4756284322437856,
          8.644155153917913
         ],
         "type": "linear"
        },
        "xaxis4": {
         "anchor": "y4",
         "autorange": true,
         "domain": [
          0.55,
          1
         ],
         "range": [
          3.6295270146949363,
          8.634345662170288
         ],
         "type": "linear"
        },
        "yaxis": {
         "anchor": "x",
         "autorange": true,
         "domain": [
          0.625,
          1
         ],
         "range": [
          -4.408604551489581,
          0.1535249370504917
         ],
         "type": "linear"
        },
        "yaxis2": {
         "anchor": "x2",
         "autorange": true,
         "domain": [
          0.625,
          1
         ],
         "range": [
          -4.729018570466675,
          0.6651120215497183
         ],
         "type": "linear"
        },
        "yaxis3": {
         "anchor": "x3",
         "autorange": true,
         "domain": [
          0,
          0.375
         ],
         "range": [
          -4.529794734966323,
          0.6881454178152776
         ],
         "type": "linear"
        },
        "yaxis4": {
         "anchor": "x4",
         "autorange": true,
         "domain": [
          0,
          0.375
         ],
         "range": [
          -4.069087446134894,
          0.9408811844736426
         ],
         "type": "linear"
        }
       }
      },
      "image/png": "[encoded data removed]",
      "text/html": [
       "<div>\n",
       "        \n",
       "        \n",
       "            <div id=\"e572f49e-68c9-4696-a18f-7dc65b7ffde5\" class=\"plotly-graph-div\" style=\"height:700px; width:1000px;\"></div>\n",
       "            <script type=\"text/javascript\">\n",
       "                require([\"plotly\"], function(Plotly) {\n",
       "                    window.PLOTLYENV=window.PLOTLYENV || {};\n",
       "                    \n",
       "                if (document.getElementById(\"e572f49e-68c9-4696-a18f-7dc65b7ffde5\")) {\n",
       "                    Plotly.newPlot(\n",
       "                        'e572f49e-68c9-4696-a18f-7dc65b7ffde5',\n",
       "                        [{\"legendgroup\": \"0\", \"marker\": {\"color\": \"#1f77b4\"}, \"mode\": \"markers\", \"name\": \"Pseudomonas aeruginosa\", \"type\": \"scatter\", \"x\": [3.785329835010767, 4.785329835010767, 5.785329835010767, 6.785329835010767, 7.785329835010767], \"xaxis\": \"x\", \"y\": [-4.092764817667575, -3.2120210485124043, -1.968075322209816, -1.2719660046321326, -0.16231479677151328], \"yaxis\": \"y\"}, {\"legendgroup\": \"0\", \"marker\": {\"color\": \"#1f77b4\"}, \"mode\": \"markers\", \"name\": \"Bacillus subtilis\", \"type\": \"scatter\", \"x\": [4.012837224705173, 5.012837224705173, 6.012837224705173, 7.012837224705173, 8.012837224705173], \"xaxis\": \"x2\", \"y\": [-4.125129838871882, -3.076177568502758, -2.234904011887101, -1.0670468459568023, -0.11747010916313491], \"yaxis\": \"y2\"}, {\"legendgroup\": \"0\", \"marker\": {\"color\": \"#1f77b4\"}, \"mode\": \"markers\", \"name\": \"Escherichia coli\", \"type\": \"scatter\", \"x\": [3.929418925714293, 4.929418925714293, 5.929418925714293, 6.929418925714293, 7.929418925714293], \"xaxis\": \"x3\", \"y\": [-3.7406494923396547, -3.0957747934284137, -2.072928173242841, -0.9447777208272068, 0.2297618322507254], \"yaxis\": \"y3\"}, {\"legendgroup\": \"0\", \"marker\": {\"color\": \"#1f77b4\"}, \"mode\": \"markers\", \"name\": \"Escherichia coli\", \"type\": \"scatter\", \"x\": [3.929418925714293, 4.929418925714293, 6.929418925714293, 7.929418925714293], \"xaxis\": \"x4\", \"y\": [-3.606650028578439, -2.875080248527849, -1.1648375775303952, 0.40887999473605047], \"yaxis\": \"y4\"}, {\"legendgroup\": \"0\", \"line\": {\"color\": \"#1f77b4\"}, \"mode\": \"lines\", \"name\": \"Pseudomonas aeruginosa\", \"showlegend\": false, \"type\": \"scatter\", \"x\": [3.785329835010767, 4.785329835010767, 5.785329835010767, 6.785329835010767, 7.785329835010767], \"xaxis\": \"x\", \"y\": [-4.101619415093168, -3.121523906525928, -2.1414283979586886, -1.1613328893914492, -0.18123738082420981], \"yaxis\": \"y\"}, {\"legendgroup\": \"0\", \"line\": {\"color\": \"#1f77b4\"}, \"mode\": \"lines\", \"name\": \"Bacillus subtilis\", \"showlegend\": false, \"type\": \"scatter\", \"x\": [4.012837224705173, 5.012837224705173, 6.012837224705173, 7.012837224705173, 8.012837224705173], \"xaxis\": \"x2\", \"y\": [-4.129035711269026, -3.1265906930726803, -2.1241456748763357, -1.121700656679991, -0.1192556384836454], \"yaxis\": \"y2\"}, {\"legendgroup\": \"0\", \"line\": {\"color\": \"#1f77b4\"}, \"mode\": \"lines\", \"name\": \"Escherichia coli\", \"showlegend\": false, \"type\": \"scatter\", \"x\": [3.929418925714293, 4.929418925714293, 5.929418925714293, 6.929418925714293, 7.929418925714293], \"xaxis\": \"x3\", \"y\": [-3.9432376138738716, -2.934055641695675, -1.9248736695174777, -0.9156916973392812, 0.09349027483891525], \"yaxis\": \"y3\"}, {\"legendgroup\": \"0\", \"line\": {\"color\": \"#1f77b4\"}, \"mode\": \"lines\", \"name\": \"Escherichia coli\", \"showlegend\": false, \"type\": \"scatter\", \"x\": [3.929418925714293, 4.929418925714293, 6.929418925714293, 7.929418925714293], \"xaxis\": \"x4\", \"y\": [-3.7576825085004444, -2.783552236737801, -0.8352916932125147, 0.1388385785501285], \"yaxis\": \"y4\"}, {\"legendgroup\": \"1\", \"marker\": {\"color\": \"#ff7f0e\"}, \"mode\": \"markers\", \"name\": \"Escherichia coli\", \"type\": \"scatter\", \"x\": [3.929418925714293, 4.929418925714293, 5.929418925714293, 6.929418925714293, 7.929418925714293], \"xaxis\": \"x\", \"y\": [-3.8105180513076538, -2.97343734125236, -1.9846259178273464, -1.3274329765793156, -0.30910302180703797], \"yaxis\": \"y\"}, {\"legendgroup\": \"1\", \"marker\": {\"color\": \"#ff7f0e\"}, \"mode\": \"markers\", \"name\": \"Escherichia coli\", \"type\": \"scatter\", \"x\": [3.929418925714293, 4.929418925714293, 5.929418925714293, 6.929418925714293, 7.929418925714293], \"xaxis\": \"x2\", \"y\": [-3.6655635985670627, -3.063440747099826, -2.0278522971400275, -0.978624943174265, 0.13341304415200483], \"yaxis\": \"y2\"}, {\"legendgroup\": \"1\", \"marker\": {\"color\": \"#ff7f0e\"}, \"mode\": \"markers\", \"name\": \"Bacillus subtilis\", \"type\": \"scatter\", \"x\": [4.012837224705173, 5.012837224705173, 6.012837224705173, 7.012837224705173, 8.012837224705173], \"xaxis\": \"x3\", \"y\": [-4.168552724389135, -3.0380686605327134, -2.0278267167674917, -0.9274308659870545, 0.14674187957110763], \"yaxis\": \"y3\"}, {\"legendgroup\": \"1\", \"marker\": {\"color\": \"#ff7f0e\"}, \"mode\": \"markers\", \"name\": \"Salmonella enterica\", \"type\": \"scatter\", \"x\": [3.9395192526186182, 4.939519252618618, 6.939519252618618, 7.939519252618618], \"xaxis\": \"x4\", \"y\": [-3.7157944980035067, -2.8343352808377893, -1.1620144181940162, 0.4651399574365481], \"yaxis\": \"y4\"}, {\"legendgroup\": \"1\", \"line\": {\"color\": \"#ff7f0e\"}, \"mode\": \"lines\", \"name\": \"Escherichia coli\", \"showlegend\": false, \"type\": \"scatter\", \"x\": [3.929418925714293, 4.929418925714293, 5.929418925714293, 6.929418925714293, 7.929418925714293], \"xaxis\": \"x\", \"y\": [-3.810790346489598, -2.94590690412217, -2.081023461754742, -1.216140019387315, -0.3512565770198872], \"yaxis\": \"y\"}, {\"legendgroup\": \"1\", \"line\": {\"color\": \"#ff7f0e\"}, \"mode\": \"lines\", \"name\": \"Escherichia coli\", \"showlegend\": false, \"type\": \"scatter\", \"x\": [3.929418925714293, 4.929418925714293, 5.929418925714293, 6.929418925714293, 7.929418925714293], \"xaxis\": \"x2\", \"y\": [-3.856967526238574, -2.8886906173022044, -1.9204137083658352, -0.9521367994294652, 0.016140109506904032], \"yaxis\": \"y2\"}, {\"legendgroup\": \"1\", \"line\": {\"color\": \"#ff7f0e\"}, \"mode\": \"lines\", \"name\": \"Bacillus subtilis\", \"showlegend\": false, \"type\": \"scatter\", \"x\": [4.012837224705173, 5.012837224705173, 6.012837224705173, 7.012837224705173, 8.012837224705173], \"xaxis\": \"x3\", \"y\": [-4.151272818114287, -3.0771501178676726, -2.003027417621058, -0.9289047173744436, 0.1452179828721718], \"yaxis\": \"y3\"}, {\"legendgroup\": \"1\", \"line\": {\"color\": \"#ff7f0e\"}, \"mode\": \"lines\", \"name\": \"Salmonella enterica\", \"showlegend\": false, \"type\": \"scatter\", \"x\": [3.9395192526186182, 4.939519252618618, 6.939519252618618, 7.939519252618618], \"xaxis\": \"x4\", \"y\": [-3.818589014604467, -2.815170037252079, -0.8083320825473024, 0.1950868948050859], \"yaxis\": \"y4\"}, {\"legendgroup\": \"2\", \"marker\": {\"color\": \"#2ca02c\"}, \"mode\": \"markers\", \"name\": \"Staphylococcus aureus\", \"type\": \"scatter\", \"x\": [4.181843587944773, 5.181843587944773, 6.181843587944773, 7.181843587944773, 8.181843587944773], \"xaxis\": \"x\", \"y\": [-3.825158577490544, -2.953743033269373, -1.9828990985268404, -1.4162882394471081, -0.3959270526608782], \"yaxis\": \"y\"}, {\"legendgroup\": \"2\", \"marker\": {\"color\": \"#2ca02c\"}, \"mode\": \"markers\", \"name\": \"Staphylococcus aureus\", \"type\": \"scatter\", \"x\": [4.181843587944773, 5.181843587944773, 6.181843587944773, 7.181843587944773, 8.181843587944773], \"xaxis\": \"x2\", \"y\": [-3.8716180810001872, -2.997750961188715, -1.9359589673321855, -0.7660168502928212, 0.21719506109655792], \"yaxis\": \"y2\"}, {\"legendgroup\": \"2\", \"marker\": {\"color\": \"#2ca02c\"}, \"mode\": \"markers\", \"name\": \"Salmonella enterica\", \"type\": \"scatter\", \"x\": [3.9395192526186182, 4.939519252618618, 5.939519252618618, 6.939519252618618, 7.939519252618618], \"xaxis\": \"x3\", \"y\": [-3.8753480662371107, -3.1192558892779365, -1.9679002700126051, -0.9049803937205341, 0.21653356651697028], \"yaxis\": \"y3\"}, {\"legendgroup\": \"2\", \"marker\": {\"color\": \"#2ca02c\"}, \"mode\": \"markers\", \"name\": \"Lactobacillus fermentum\", \"type\": \"scatter\", \"x\": [5.334453751150932, 7.334453751150932, 8.334453751150932], \"xaxis\": \"x4\", \"y\": [-2.7660940208541773, -0.7745938388116609, 0.59403720235459], \"yaxis\": \"y4\"}, {\"legendgroup\": \"2\", \"line\": {\"color\": \"#2ca02c\"}, \"mode\": \"lines\", \"name\": \"Staphylococcus aureus\", \"showlegend\": false, \"type\": \"scatter\", \"x\": [4.181843587944773, 5.181843587944773, 6.181843587944773, 7.181843587944773, 8.181843587944773], \"xaxis\": \"x\", \"y\": [-3.793986768975269, -2.9543949846271094, -2.114803200278949, -1.27521141593079, -0.43561963158262973], \"yaxis\": \"y\"}, {\"legendgroup\": \"2\", \"line\": {\"color\": \"#2ca02c\"}, \"mode\": \"lines\", \"name\": \"Staphylococcus aureus\", \"showlegend\": false, \"type\": \"scatter\", \"x\": [4.181843587944773, 5.181843587944773, 6.181843587944773, 7.181843587944773, 8.181843587944773], \"xaxis\": \"x2\", \"y\": [-3.9527020387613465, -2.9117659992524088, -1.87082995974347, -0.8298939202345315, 0.2110421192744063], \"yaxis\": \"y2\"}, {\"legendgroup\": \"2\", \"line\": {\"color\": \"#2ca02c\"}, \"mode\": \"lines\", \"name\": \"Salmonella enterica\", \"showlegend\": false, \"type\": \"scatter\", \"x\": [3.9395192526186182, 4.939519252618618, 5.939519252618618, 6.939519252618618, 7.939519252618618], \"xaxis\": \"x3\", \"y\": [-4.009797962759355, -2.9699940866527985, -1.9301902105462423, -0.8903863344396861, 0.14941754166687105], \"yaxis\": \"y3\"}, {\"legendgroup\": \"2\", \"line\": {\"color\": \"#2ca02c\"}, \"mode\": \"lines\", \"name\": \"Lactobacillus fermentum\", \"showlegend\": false, \"type\": \"scatter\", \"x\": [5.334453751150932, 7.334453751150932, 8.334453751150932], \"xaxis\": \"x4\", \"y\": [-2.819362728017749, -0.6147877173209508, 0.4874997880274492], \"yaxis\": \"y4\"}, {\"legendgroup\": \"3\", \"marker\": {\"color\": \"#d62728\"}, \"mode\": \"markers\", \"name\": \"Enterococcus faecalis\", \"type\": \"scatter\", \"x\": [4.164352855784436, 5.164352855784436, 6.164352855784436, 7.164352855784436, 8.164352855784436], \"xaxis\": \"x\", \"y\": [-3.795774799805334, -2.983171740293923, -1.973944255873914, -1.28977556305069, -0.35067192708612394], \"yaxis\": \"y\"}, {\"legendgroup\": \"3\", \"marker\": {\"color\": \"#d62728\"}, \"mode\": \"markers\", \"name\": \"Listeria Monocytogenes\", \"type\": \"scatter\", \"x\": [4.143014800254095, 5.143014800254095, 6.143014800254095, 7.143014800254095, 8.143014800254095], \"xaxis\": \"x2\", \"y\": [-3.9374353654898306, -3.046314887892729, -1.9363771613769238, -0.7516634460372689, 0.18433238834846727], \"yaxis\": \"y2\"}, {\"legendgroup\": \"3\", \"marker\": {\"color\": \"#d62728\"}, \"mode\": \"markers\", \"name\": \"Enterococcus faecalis\", \"type\": \"scatter\", \"x\": [4.164352855784436, 5.164352855784436, 6.164352855784436, 7.164352855784436, 8.164352855784436], \"xaxis\": \"x3\", \"y\": [-3.895551452325398, -2.9010414243166744, -1.8581009804647242, -0.8071894585404527, 0.23120707312490632], \"yaxis\": \"y3\"}, {\"legendgroup\": \"3\", \"marker\": {\"color\": \"#d62728\"}, \"mode\": \"markers\", \"name\": \"Listeria Monocytogenes\", \"type\": \"scatter\", \"x\": [5.143014800254095, 7.143014800254095, 8.143014800254095], \"xaxis\": \"x4\", \"y\": [-2.861069534085034, -0.9753187845705891, 0.4977357099175822], \"yaxis\": \"y4\"}, {\"legendgroup\": \"3\", \"line\": {\"color\": \"#d62728\"}, \"mode\": \"lines\", \"name\": \"Enterococcus faecalis\", \"showlegend\": false, \"type\": \"scatter\", \"x\": [4.164352855784436, 5.164352855784436, 6.164352855784436, 7.164352855784436, 8.164352855784436], \"xaxis\": \"x\", \"y\": [-3.795388041758328, -2.9370278494901623, -2.078667657221997, -1.220307464953832, -0.36194727268566584], \"yaxis\": \"y\"}, {\"legendgroup\": \"3\", \"line\": {\"color\": \"#d62728\"}, \"mode\": \"lines\", \"name\": \"Listeria Monocytogenes\", \"showlegend\": false, \"type\": \"scatter\", \"x\": [4.143014800254095, 5.143014800254095, 6.143014800254095, 7.143014800254095, 8.143014800254095], \"xaxis\": \"x2\", \"y\": [-4.005129084396068, -2.9513103894428623, -1.8974916944896574, -0.8436729995364516, 0.2101456954167542], \"yaxis\": \"y2\"}, {\"legendgroup\": \"3\", \"line\": {\"color\": \"#d62728\"}, \"mode\": \"lines\", \"name\": \"Enterococcus faecalis\", \"showlegend\": false, \"type\": \"scatter\", \"x\": [4.164352855784436, 5.164352855784436, 6.164352855784436, 7.164352855784436, 8.164352855784436], \"xaxis\": \"x3\", \"y\": [-3.9156090518398345, -2.8808721501721513, -1.8461352485044689, -0.8113983468367856, 0.2233385548308977], \"yaxis\": \"y3\"}, {\"legendgroup\": \"3\", \"line\": {\"color\": \"#d62728\"}, \"mode\": \"lines\", \"name\": \"Listeria Monocytogenes\", \"showlegend\": false, \"type\": \"scatter\", \"x\": [5.143014800254095, 7.143014800254095, 8.143014800254095], \"xaxis\": \"x4\", \"y\": [-2.936809408332312, -0.7480991618287538, 0.34625596142302584], \"yaxis\": \"y4\"}, {\"legendgroup\": \"4\", \"marker\": {\"color\": \"#9467bd\"}, \"mode\": \"markers\", \"name\": \"Bacillus subtilis\", \"type\": \"scatter\", \"x\": [4.012837224705173, 5.012837224705173, 6.012837224705173, 7.012837224705173, 8.012837224705173], \"xaxis\": \"x\", \"y\": [-4.064736094067332, -3.0521532014198374, -2.1014510364737395, -1.403153690517434, -0.39794000867203766], \"yaxis\": \"y\"}, {\"legendgroup\": \"4\", \"marker\": {\"color\": \"#9467bd\"}, \"mode\": \"markers\", \"name\": \"Salmonella enterica\", \"type\": \"scatter\", \"x\": [3.9395192526186182, 4.939519252618618, 5.939519252618618, 6.939519252618618, 7.939519252618618], \"xaxis\": \"x2\", \"y\": [-3.8755131248837116, -3.0125672445668945, -1.9954463172125498, -0.9058859300240442, 0.19068916027387106], \"yaxis\": \"y2\"}, {\"legendgroup\": \"4\", \"marker\": {\"color\": \"#9467bd\"}, \"mode\": \"markers\", \"name\": \"Pseudomonas aeruginosa\", \"type\": \"scatter\", \"x\": [3.785329835010767, 4.785329835010767, 5.785329835010767, 6.785329835010767, 7.785329835010767], \"xaxis\": \"x3\", \"y\": [-3.8286046626947847, -3.090097660536723, -2.15334029724781, -1.1005866657898027, 0.025062403902567087], \"yaxis\": \"y3\"}, {\"legendgroup\": \"4\", \"marker\": {\"color\": \"#9467bd\"}, \"mode\": \"markers\", \"name\": \"Staphylococcus aureus\", \"type\": \"scatter\", \"x\": [5.181843587944773, 7.181843587944773, 8.181843587944773], \"xaxis\": \"x4\", \"y\": [-2.930705462226429, -0.9430832500215753, 0.48628707356420614], \"yaxis\": \"y4\"}, {\"legendgroup\": \"4\", \"line\": {\"color\": \"#9467bd\"}, \"mode\": \"lines\", \"name\": \"Bacillus subtilis\", \"showlegend\": false, \"type\": \"scatter\", \"x\": [4.012837224705173, 5.012837224705173, 6.012837224705173, 7.012837224705173, 8.012837224705173], \"xaxis\": \"x\", \"y\": [-4.000405142568675, -3.1021459743993756, -2.2038868062300763, -1.305627638060777, -0.40736846989147857], \"yaxis\": \"y\"}, {\"legendgroup\": \"4\", \"line\": {\"color\": \"#9467bd\"}, \"mode\": \"lines\", \"name\": \"Salmonella enterica\", \"showlegend\": false, \"type\": \"scatter\", \"x\": [3.9395192526186182, 4.939519252618618, 5.939519252618618, 6.939519252618618, 7.939519252618618], \"xaxis\": \"x2\", \"y\": [-3.9675618682542693, -2.9436532797684674, -1.9197446912826663, -0.8958361027968644, 0.12807248568893748], \"yaxis\": \"y2\"}, {\"legendgroup\": \"4\", \"line\": {\"color\": \"#9467bd\"}, \"mode\": \"lines\", \"name\": \"Pseudomonas aeruginosa\", \"showlegend\": false, \"type\": \"scatter\", \"x\": [3.785329835010767, 4.785329835010767, 5.785329835010767, 6.785329835010767, 7.785329835010767], \"xaxis\": \"x3\", \"y\": [-3.9688824020616362, -2.9991978892674735, -2.029513376473311, -1.0598288636791482, -0.09014435088498551], \"yaxis\": \"y3\"}, {\"legendgroup\": \"4\", \"line\": {\"color\": \"#9467bd\"}, \"mode\": \"lines\", \"name\": \"Staphylococcus aureus\", \"showlegend\": false, \"type\": \"scatter\", \"x\": [5.181843587944773, 7.181843587944773, 8.181843587944773], \"xaxis\": \"x4\", \"y\": [-2.992928207581195, -0.7564150139572821, 0.3618415828546748], \"yaxis\": \"y4\"}, {\"legendgroup\": \"5\", \"marker\": {\"color\": \"#8c564b\"}, \"mode\": \"markers\", \"name\": \"Lactobacillus fermentum\", \"type\": \"scatter\", \"x\": [4.334453751150932, 5.334453751150932, 6.334453751150932, 7.334453751150932, 8.334453751150932], \"xaxis\": \"x\", \"y\": [-3.80149465929275, -2.8391090455422976, -1.8350510824543285, -1.1775447920277708, -0.23360788243973468], \"yaxis\": \"y\"}, {\"legendgroup\": \"5\", \"marker\": {\"color\": \"#8c564b\"}, \"mode\": \"markers\", \"name\": \"Lactobacillus fermentum\", \"type\": \"scatter\", \"x\": [4.334453751150932, 5.334453751150932, 6.334453751150932, 7.334453751150932, 8.334453751150932], \"xaxis\": \"x2\", \"y\": [-3.8062251194381957, -2.868117103372035, -1.7651666124668095, -0.640378203006195, 0.29167221133319876], \"yaxis\": \"y2\"}, {\"legendgroup\": \"5\", \"marker\": {\"color\": \"#8c564b\"}, \"mode\": \"markers\", \"name\": \"Listeria Monocytogenes\", \"type\": \"scatter\", \"x\": [5.143014800254095, 6.143014800254095, 7.143014800254095, 8.143014800254095], \"xaxis\": \"x3\", \"y\": [-3.006551609086648, -1.9413821374376001, -0.8358346399899826, 0.20429911009995863], \"yaxis\": \"y3\"}, {\"legendgroup\": \"5\", \"marker\": {\"color\": \"#8c564b\"}, \"mode\": \"markers\", \"name\": \"Bacillus subtilis\", \"type\": \"scatter\", \"x\": [5.012837224705173, 7.012837224705173, 8.012837224705173], \"xaxis\": \"x4\", \"y\": [-3.2242474364978597, -1.3707740611903707, -0.15159093137974017], \"yaxis\": \"y4\"}, {\"legendgroup\": \"5\", \"line\": {\"color\": \"#8c564b\"}, \"mode\": \"lines\", \"name\": \"Lactobacillus fermentum\", \"showlegend\": false, \"type\": \"scatter\", \"x\": [4.334453751150932, 5.334453751150932, 6.334453751150932, 7.334453751150932, 8.334453751150932], \"xaxis\": \"x\", \"y\": [-3.736829053795488, -2.8570952730734316, -1.9773614923513758, -1.09762771162932, -0.21789393090726428], \"yaxis\": \"y\"}, {\"legendgroup\": \"5\", \"line\": {\"color\": \"#8c564b\"}, \"mode\": \"lines\", \"name\": \"Lactobacillus fermentum\", \"showlegend\": false, \"type\": \"scatter\", \"x\": [4.334453751150932, 5.334453751150932, 6.334453751150932, 7.334453751150932, 8.334453751150932], \"xaxis\": \"x2\", \"y\": [-3.8423496777717334, -2.7999963215808705, -1.7576429653900076, -0.7152896091991447, 0.32706374699171903], \"yaxis\": \"y2\"}, {\"legendgroup\": \"5\", \"line\": {\"color\": \"#8c564b\"}, \"mode\": \"lines\", \"name\": \"Listeria Monocytogenes\", \"showlegend\": false, \"type\": \"scatter\", \"x\": [5.143014800254095, 6.143014800254095, 7.143014800254095, 8.143014800254095], \"xaxis\": \"x3\", \"y\": [-3.0055822673546837, -1.9317723018539406, -0.8579623363531965, 0.21584762914754663], \"yaxis\": \"y3\"}, {\"legendgroup\": \"5\", \"line\": {\"color\": \"#8c564b\"}, \"mode\": \"lines\", \"name\": \"Bacillus subtilis\", \"showlegend\": false, \"type\": \"scatter\", \"x\": [5.012837224705173, 7.012837224705173, 8.012837224705173], \"xaxis\": \"x4\", \"y\": [-3.2660254996631286, -1.2454398716945612, -0.23514705771027877], \"yaxis\": \"y4\"}, {\"legendgroup\": \"6\", \"marker\": {\"color\": \"#e377c2\"}, \"mode\": \"markers\", \"name\": \"Listeria Monocytogenes\", \"type\": \"scatter\", \"x\": [4.143014800254095, 5.143014800254095, 6.143014800254095, 7.143014800254095, 8.143014800254095], \"xaxis\": \"x\", \"y\": [-3.9926496647843073, -3.0444575848361874, -2.0363194824300437, -1.3069435881877038, -0.33403025576690654], \"yaxis\": \"y\"}, {\"legendgroup\": \"6\", \"marker\": {\"color\": \"#e377c2\"}, \"mode\": \"markers\", \"name\": \"Enterococcus faecalis\", \"type\": \"scatter\", \"x\": [4.164352855784436, 5.164352855784436, 6.164352855784436, 7.164352855784436, 8.164352855784436], \"xaxis\": \"x2\", \"y\": [-3.963887700855119, -2.920936448420197, -1.8679982369550319, -0.7160333581122915, 0.21304704024234333], \"yaxis\": \"y2\"}, {\"legendgroup\": \"6\", \"marker\": {\"color\": \"#e377c2\"}, \"mode\": \"markers\", \"name\": \"Lactobacillus fermentum\", \"type\": \"scatter\", \"x\": [5.334453751150932, 6.334453751150932, 7.334453751150932, 8.334453751150932], \"xaxis\": \"x3\", \"y\": [-2.8304603500309673, -1.8228458924384308, -0.7890912364476564, 0.32690340723808986], \"yaxis\": \"y3\"}, {\"legendgroup\": \"6\", \"marker\": {\"color\": \"#e377c2\"}, \"mode\": \"markers\", \"name\": \"Enterococcus faecalis\", \"type\": \"scatter\", \"x\": [5.164352855784436, 7.164352855784436, 8.164352855784436], \"xaxis\": \"x4\", \"y\": [-3.074949354030115, -1.2602749052279822, 0.4161648287782367], \"yaxis\": \"y4\"}, {\"legendgroup\": \"6\", \"line\": {\"color\": \"#e377c2\"}, \"mode\": \"lines\", \"name\": \"Listeria Monocytogenes\", \"showlegend\": false, \"type\": \"scatter\", \"x\": [4.143014800254095, 5.143014800254095, 6.143014800254095, 7.143014800254095, 8.143014800254095], \"xaxis\": \"x\", \"y\": [-3.953830678137687, -3.0483553966693577, -2.14288011520103, -1.2374048337327013, -0.3319295522643726], \"yaxis\": \"y\"}, {\"legendgroup\": \"6\", \"line\": {\"color\": \"#e377c2\"}, \"mode\": \"lines\", \"name\": \"Enterococcus faecalis\", \"showlegend\": false, \"type\": \"scatter\", \"x\": [4.164352855784436, 5.164352855784436, 6.164352855784436, 7.164352855784436, 8.164352855784436], \"xaxis\": \"x2\", \"y\": [-3.962916255320625, -2.907038998070342, -1.851161740820059, -0.7952844835697759, 0.26059277368050715], \"yaxis\": \"y2\"}, {\"legendgroup\": \"6\", \"line\": {\"color\": \"#e377c2\"}, \"mode\": \"lines\", \"name\": \"Lactobacillus fermentum\", \"showlegend\": false, \"type\": \"scatter\", \"x\": [5.334453751150932, 6.334453751150932, 7.334453751150932, 8.334453751150932], \"xaxis\": \"x3\", \"y\": [-2.8547504070894325, -1.8041658143096377, -0.753581221529843, 0.2970033712499518], \"yaxis\": \"y3\"}, {\"legendgroup\": \"6\", \"line\": {\"color\": \"#e377c2\"}, \"mode\": \"lines\", \"name\": \"Enterococcus faecalis\", \"showlegend\": false, \"type\": \"scatter\", \"x\": [5.164352855784436, 7.164352855784436, 8.164352855784436], \"xaxis\": \"x4\", \"y\": [-3.184821141116567, -0.9306595439686323, 0.196421254605335], \"yaxis\": \"y4\"}, {\"legendgroup\": \"7\", \"marker\": {\"color\": \"#7f7f7f\"}, \"mode\": \"markers\", \"name\": \"Salmonella enterica\", \"type\": \"scatter\", \"x\": [3.9395192526186182, 4.939519252618618, 5.939519252618618, 6.939519252618618, 7.939519252618618], \"xaxis\": \"x\", \"y\": [-3.9128605887117764, -3.041130983142531, -1.9014260556996307, -1.324922596861716, -0.3307770983691847], \"yaxis\": \"y\"}, {\"legendgroup\": \"7\", \"marker\": {\"color\": \"#7f7f7f\"}, \"mode\": \"markers\", \"name\": \"Pseudomonas aeruginosa\", \"type\": \"scatter\", \"x\": [3.785329835010767, 4.785329835010767, 5.785329835010767, 6.785329835010767, 7.785329835010767], \"xaxis\": \"x2\", \"y\": [-4.355578760250155, -3.1433128949203146, -2.2082815317666866, -1.095075569557046, -0.0543122838698161], \"yaxis\": \"y2\"}, {\"legendgroup\": \"7\", \"marker\": {\"color\": \"#7f7f7f\"}, \"mode\": \"markers\", \"name\": \"Staphylococcus aureus\", \"type\": \"scatter\", \"x\": [5.181843587944773, 6.181843587944773, 7.181843587944773, 8.181843587944773], \"xaxis\": \"x3\", \"y\": [-3.1614535690723917, -2.01009794980706, -0.8718322932615016, 0.1915782786265912], \"yaxis\": \"y3\"}, {\"legendgroup\": \"7\", \"marker\": {\"color\": \"#7f7f7f\"}, \"mode\": \"markers\", \"name\": \"Pseudomonas aeruginosa\", \"type\": \"scatter\", \"x\": [4.785329835010767, 6.785329835010767, 7.785329835010767], \"xaxis\": \"x4\", \"y\": [-3.019432026180284, -1.388657708116441, 0.2024201977780304], \"yaxis\": \"y4\"}, {\"legendgroup\": \"7\", \"line\": {\"color\": \"#7f7f7f\"}, \"mode\": \"lines\", \"name\": \"Salmonella enterica\", \"showlegend\": false, \"type\": \"scatter\", \"x\": [3.9395192526186182, 4.939519252618618, 5.939519252618618, 6.939519252618618, 7.939519252618618], \"xaxis\": \"x\", \"y\": [-3.8782985379501684, -2.990261001253568, -2.1022234645569684, -1.2141859278603686, -0.3261483911637679], \"yaxis\": \"y\"}, {\"legendgroup\": \"7\", \"line\": {\"color\": \"#7f7f7f\"}, \"mode\": \"lines\", \"name\": \"Pseudomonas aeruginosa\", \"showlegend\": false, \"type\": \"scatter\", \"x\": [3.785329835010767, 4.785329835010767, 5.785329835010767, 6.785329835010767, 7.785329835010767], \"xaxis\": \"x2\", \"y\": [-4.301466263697592, -3.2363892358851976, -2.171312208072803, -1.1062351802604082, -0.041158152448012686], \"yaxis\": \"y2\"}, {\"legendgroup\": \"7\", \"line\": {\"color\": \"#7f7f7f\"}, \"mode\": \"lines\", \"name\": \"Staphylococcus aureus\", \"showlegend\": false, \"type\": \"scatter\", \"x\": [5.181843587944773, 6.181843587944773, 7.181843587944773, 8.181843587944773], \"xaxis\": \"x3\", \"y\": [-3.1425555633249678, -2.022819443360717, -0.9030833233964657, 0.21665279656778402], \"yaxis\": \"y3\"}, {\"legendgroup\": \"7\", \"line\": {\"color\": \"#7f7f7f\"}, \"mode\": \"lines\", \"name\": \"Pseudomonas aeruginosa\", \"showlegend\": false, \"type\": \"scatter\", \"x\": [4.785329835010767, 6.785329835010767, 7.785329835010767], \"xaxis\": \"x4\", \"y\": [-3.1302449900177916, -1.05621881660392, -0.01920572989698499], \"yaxis\": \"y4\"}],\n",
       "                        {\"annotations\": [{\"font\": {\"size\": 16}, \"showarrow\": false, \"text\": \"1E0  Slope:0.89  R<sup>2</sup>:1.00\", \"x\": 0.225, \"xanchor\": \"center\", \"xref\": \"paper\", \"y\": 1.0, \"yanchor\": \"bottom\", \"yref\": \"paper\"}, {\"font\": {\"size\": 16}, \"showarrow\": false, \"text\": \"1E2  Slope:1.03  R<sup>2</sup>:1.00\", \"x\": 0.775, \"xanchor\": \"center\", \"xref\": \"paper\", \"y\": 1.0, \"yanchor\": \"bottom\", \"yref\": \"paper\"}, {\"font\": {\"size\": 16}, \"showarrow\": false, \"text\": \"1E4  Slope:1.05  R<sup>2</sup>:1.00\", \"x\": 0.225, \"xanchor\": \"center\", \"xref\": \"paper\", \"y\": 0.375, \"yanchor\": \"bottom\", \"yref\": \"paper\"}, {\"font\": {\"size\": 16}, \"showarrow\": false, \"text\": \"1E5  Slope:1.06  R<sup>2</sup>:0.98\", \"x\": 0.775, \"xanchor\": \"center\", \"xref\": \"paper\", \"y\": 0.375, \"yanchor\": \"bottom\", \"yref\": \"paper\"}], \"height\": 700, \"showlegend\": false, \"template\": {\"data\": {\"bar\": [{\"error_x\": {\"color\": \"#2a3f5f\"}, \"error_y\": {\"color\": \"#2a3f5f\"}, \"marker\": {\"line\": {\"color\": \"#E5ECF6\", \"width\": 0.5}}, \"type\": \"bar\"}], \"barpolar\": [{\"marker\": {\"line\": {\"color\": \"#E5ECF6\", \"width\": 0.5}}, \"type\": \"barpolar\"}], \"carpet\": [{\"aaxis\": {\"endlinecolor\": \"#2a3f5f\", \"gridcolor\": \"white\", \"linecolor\": \"white\", \"minorgridcolor\": \"white\", \"startlinecolor\": \"#2a3f5f\"}, \"baxis\": {\"endlinecolor\": \"#2a3f5f\", \"gridcolor\": \"white\", \"linecolor\": \"white\", \"minorgridcolor\": \"white\", \"startlinecolor\": \"#2a3f5f\"}, \"type\": \"carpet\"}], \"choropleth\": [{\"colorbar\": {\"outlinewidth\": 0, \"ticks\": \"\"}, \"type\": \"choropleth\"}], \"contour\": [{\"colorbar\": {\"outlinewidth\": 0, \"ticks\": \"\"}, \"colorscale\": [[0.0, \"#0d0887\"], [0.1111111111111111, \"#46039f\"], [0.2222222222222222, \"#7201a8\"], [0.3333333333333333, \"#9c179e\"], [0.4444444444444444, \"#bd3786\"], [0.5555555555555556, \"#d8576b\"], [0.6666666666666666, \"#ed7953\"], [0.7777777777777778, \"#fb9f3a\"], [0.8888888888888888, \"#fdca26\"], [1.0, \"#f0f921\"]], \"type\": \"contour\"}], \"contourcarpet\": [{\"colorbar\": {\"outlinewidth\": 0, \"ticks\": \"\"}, \"type\": \"contourcarpet\"}], \"heatmap\": [{\"colorbar\": {\"outlinewidth\": 0, \"ticks\": \"\"}, \"colorscale\": [[0.0, \"#0d0887\"], [0.1111111111111111, \"#46039f\"], [0.2222222222222222, \"#7201a8\"], [0.3333333333333333, \"#9c179e\"], [0.4444444444444444, \"#bd3786\"], [0.5555555555555556, \"#d8576b\"], [0.6666666666666666, \"#ed7953\"], [0.7777777777777778, \"#fb9f3a\"], [0.8888888888888888, \"#fdca26\"], [1.0, \"#f0f921\"]], \"type\": \"heatmap\"}], \"heatmapgl\": [{\"colorbar\": {\"outlinewidth\": 0, \"ticks\": \"\"}, \"colorscale\": [[0.0, \"#0d0887\"], [0.1111111111111111, \"#46039f\"], [0.2222222222222222, \"#7201a8\"], [0.3333333333333333, \"#9c179e\"], [0.4444444444444444, \"#bd3786\"], [0.5555555555555556, \"#d8576b\"], [0.6666666666666666, \"#ed7953\"], [0.7777777777777778, \"#fb9f3a\"], [0.8888888888888888, \"#fdca26\"], [1.0, \"#f0f921\"]], \"type\": \"heatmapgl\"}], \"histogram\": [{\"marker\": {\"colorbar\": {\"outlinewidth\": 0, \"ticks\": \"\"}}, \"type\": \"histogram\"}], \"histogram2d\": [{\"colorbar\": {\"outlinewidth\": 0, \"ticks\": \"\"}, \"colorscale\": [[0.0, \"#0d0887\"], [0.1111111111111111, \"#46039f\"], [0.2222222222222222, \"#7201a8\"], [0.3333333333333333, \"#9c179e\"], [0.4444444444444444, \"#bd3786\"], [0.5555555555555556, \"#d8576b\"], [0.6666666666666666, \"#ed7953\"], [0.7777777777777778, \"#fb9f3a\"], [0.8888888888888888, \"#fdca26\"], [1.0, \"#f0f921\"]], \"type\": \"histogram2d\"}], \"histogram2dcontour\": [{\"colorbar\": {\"outlinewidth\": 0, \"ticks\": \"\"}, \"colorscale\": [[0.0, \"#0d0887\"], [0.1111111111111111, \"#46039f\"], [0.2222222222222222, \"#7201a8\"], [0.3333333333333333, \"#9c179e\"], [0.4444444444444444, \"#bd3786\"], [0.5555555555555556, \"#d8576b\"], [0.6666666666666666, \"#ed7953\"], [0.7777777777777778, \"#fb9f3a\"], [0.8888888888888888, \"#fdca26\"], [1.0, \"#f0f921\"]], \"type\": \"histogram2dcontour\"}], \"mesh3d\": [{\"colorbar\": {\"outlinewidth\": 0, \"ticks\": \"\"}, \"type\": \"mesh3d\"}], \"parcoords\": [{\"line\": {\"colorbar\": {\"outlinewidth\": 0, \"ticks\": \"\"}}, \"type\": \"parcoords\"}], \"scatter\": [{\"marker\": {\"colorbar\": {\"outlinewidth\": 0, \"ticks\": \"\"}}, \"type\": \"scatter\"}], \"scatter3d\": [{\"line\": {\"colorbar\": {\"outlinewidth\": 0, \"ticks\": \"\"}}, \"marker\": {\"colorbar\": {\"outlinewidth\": 0, \"ticks\": \"\"}}, \"type\": \"scatter3d\"}], \"scattercarpet\": [{\"marker\": {\"colorbar\": {\"outlinewidth\": 0, \"ticks\": \"\"}}, \"type\": \"scattercarpet\"}], \"scattergeo\": [{\"marker\": {\"colorbar\": {\"outlinewidth\": 0, \"ticks\": \"\"}}, \"type\": \"scattergeo\"}], \"scattergl\": [{\"marker\": {\"colorbar\": {\"outlinewidth\": 0, \"ticks\": \"\"}}, \"type\": \"scattergl\"}], \"scattermapbox\": [{\"marker\": {\"colorbar\": {\"outlinewidth\": 0, \"ticks\": \"\"}}, \"type\": \"scattermapbox\"}], \"scatterpolar\": [{\"marker\": {\"colorbar\": {\"outlinewidth\": 0, \"ticks\": \"\"}}, \"type\": \"scatterpolar\"}], \"scatterpolargl\": [{\"marker\": {\"colorbar\": {\"outlinewidth\": 0, \"ticks\": \"\"}}, \"type\": \"scatterpolargl\"}], \"scatterternary\": [{\"marker\": {\"colorbar\": {\"outlinewidth\": 0, \"ticks\": \"\"}}, \"type\": \"scatterternary\"}], \"surface\": [{\"colorbar\": {\"outlinewidth\": 0, \"ticks\": \"\"}, \"colorscale\": [[0.0, \"#0d0887\"], [0.1111111111111111, \"#46039f\"], [0.2222222222222222, \"#7201a8\"], [0.3333333333333333, \"#9c179e\"], [0.4444444444444444, \"#bd3786\"], [0.5555555555555556, \"#d8576b\"], [0.6666666666666666, \"#ed7953\"], [0.7777777777777778, \"#fb9f3a\"], [0.8888888888888888, \"#fdca26\"], [1.0, \"#f0f921\"]], \"type\": \"surface\"}], \"table\": [{\"cells\": {\"fill\": {\"color\": \"#EBF0F8\"}, \"line\": {\"color\": \"white\"}}, \"header\": {\"fill\": {\"color\": \"#C8D4E3\"}, \"line\": {\"color\": \"white\"}}, \"type\": \"table\"}]}, \"layout\": {\"annotationdefaults\": {\"arrowcolor\": \"#2a3f5f\", \"arrowhead\": 0, \"arrowwidth\": 1}, \"colorscale\": {\"diverging\": [[0, \"#8e0152\"], [0.1, \"#c51b7d\"], [0.2, \"#de77ae\"], [0.3, \"#f1b6da\"], [0.4, \"#fde0ef\"], [0.5, \"#f7f7f7\"], [0.6, \"#e6f5d0\"], [0.7, \"#b8e186\"], [0.8, \"#7fbc41\"], [0.9, \"#4d9221\"], [1, \"#276419\"]], \"sequential\": [[0.0, \"#0d0887\"], [0.1111111111111111, \"#46039f\"], [0.2222222222222222, \"#7201a8\"], [0.3333333333333333, \"#9c179e\"], [0.4444444444444444, \"#bd3786\"], [0.5555555555555556, \"#d8576b\"], [0.6666666666666666, \"#ed7953\"], [0.7777777777777778, \"#fb9f3a\"], [0.8888888888888888, \"#fdca26\"], [1.0, \"#f0f921\"]], \"sequentialminus\": [[0.0, \"#0d0887\"], [0.1111111111111111, \"#46039f\"], [0.2222222222222222, \"#7201a8\"], [0.3333333333333333, \"#9c179e\"], [0.4444444444444444, \"#bd3786\"], [0.5555555555555556, \"#d8576b\"], [0.6666666666666666, \"#ed7953\"], [0.7777777777777778, \"#fb9f3a\"], [0.8888888888888888, \"#fdca26\"], [1.0, \"#f0f921\"]]}, \"colorway\": [\"#636efa\", \"#EF553B\", \"#00cc96\", \"#ab63fa\", \"#FFA15A\", \"#19d3f3\", \"#FF6692\", \"#B6E880\", \"#FF97FF\", \"#FECB52\"], \"font\": {\"color\": \"#2a3f5f\"}, \"geo\": {\"bgcolor\": \"white\", \"lakecolor\": \"white\", \"landcolor\": \"#E5ECF6\", \"showlakes\": true, \"showland\": true, \"subunitcolor\": \"white\"}, \"hoverlabel\": {\"align\": \"left\"}, \"hovermode\": \"closest\", \"mapbox\": {\"style\": \"light\"}, \"paper_bgcolor\": \"white\", \"plot_bgcolor\": \"#E5ECF6\", \"polar\": {\"angularaxis\": {\"gridcolor\": \"white\", \"linecolor\": \"white\", \"ticks\": \"\"}, \"bgcolor\": \"#E5ECF6\", \"radialaxis\": {\"gridcolor\": \"white\", \"linecolor\": \"white\", \"ticks\": \"\"}}, \"scene\": {\"xaxis\": {\"backgroundcolor\": \"#E5ECF6\", \"gridcolor\": \"white\", \"gridwidth\": 2, \"linecolor\": \"white\", \"showbackground\": true, \"ticks\": \"\", \"zerolinecolor\": \"white\"}, \"yaxis\": {\"backgroundcolor\": \"#E5ECF6\", \"gridcolor\": \"white\", \"gridwidth\": 2, \"linecolor\": \"white\", \"showbackground\": true, \"ticks\": \"\", \"zerolinecolor\": \"white\"}, \"zaxis\": {\"backgroundcolor\": \"#E5ECF6\", \"gridcolor\": \"white\", \"gridwidth\": 2, \"linecolor\": \"white\", \"showbackground\": true, \"ticks\": \"\", \"zerolinecolor\": \"white\"}}, \"shapedefaults\": {\"line\": {\"color\": \"#2a3f5f\"}}, \"ternary\": {\"aaxis\": {\"gridcolor\": \"white\", \"linecolor\": \"white\", \"ticks\": \"\"}, \"baxis\": {\"gridcolor\": \"white\", \"linecolor\": \"white\", \"ticks\": \"\"}, \"bgcolor\": \"#E5ECF6\", \"caxis\": {\"gridcolor\": \"white\", \"linecolor\": \"white\", \"ticks\": \"\"}}, \"title\": {\"x\": 0.05}, \"xaxis\": {\"automargin\": true, \"gridcolor\": \"white\", \"linecolor\": \"white\", \"ticks\": \"\", \"zerolinecolor\": \"white\", \"zerolinewidth\": 2}, \"yaxis\": {\"automargin\": true, \"gridcolor\": \"white\", \"linecolor\": \"white\", \"ticks\": \"\", \"zerolinecolor\": \"white\", \"zerolinewidth\": 2}}}, \"width\": 1000, \"xaxis\": {\"anchor\": \"y\", \"domain\": [0.0, 0.45]}, \"xaxis2\": {\"anchor\": \"y2\", \"domain\": [0.55, 1.0]}, \"xaxis3\": {\"anchor\": \"y3\", \"domain\": [0.0, 0.45]}, \"xaxis4\": {\"anchor\": \"y4\", \"domain\": [0.55, 1.0]}, \"yaxis\": {\"anchor\": \"x\", \"domain\": [0.625, 1.0]}, \"yaxis2\": {\"anchor\": \"x2\", \"domain\": [0.625, 1.0]}, \"yaxis3\": {\"anchor\": \"x3\", \"domain\": [0.0, 0.375]}, \"yaxis4\": {\"anchor\": \"x4\", \"domain\": [0.0, 0.375]}},\n",
       "                        {\"responsive\": true}\n",
       "                    ).then(function(){\n",
       "                            \n",
       "var gd = document.getElementById('e572f49e-68c9-4696-a18f-7dc65b7ffde5');\n",
       "var x = new MutationObserver(function (mutations, observer) {{\n",
       "        var display = window.getComputedStyle(gd).display;\n",
       "        if (!display || display === 'none') {{\n",
       "            console.log([gd, 'removed!']);\n",
       "            Plotly.purge(gd);\n",
       "            observer.disconnect();\n",
       "        }}\n",
       "}});\n",
       "\n",
       "// Listen for the removal of the full notebook cells\n",
       "var notebookContainer = gd.closest('#notebook-container');\n",
       "if (notebookContainer) {{\n",
       "    x.observe(notebookContainer, {childList: true});\n",
       "}}\n",
       "\n",
       "// Listen for the clearing of the current output cell\n",
       "var outputEl = gd.closest('.output');\n",
       "if (outputEl) {{\n",
       "    x.observe(outputEl, {childList: true});\n",
       "}}\n",
       "\n",
       "                        })\n",
       "                };\n",
       "                });\n",
       "            </script>\n",
       "        </div>"
      ]
     },
     "metadata": {},
     "output_type": "display_data"
    }
   ],
   "source": [
    "fig = plotly.subplots.make_subplots(\n",
    "    rows=2, cols=2,\n",
    "    subplot_titles=(\n",
    "        f\"1E0  Slope:{slope_a:0.2f}  R<sup>2</sup>:{rsq_a:0.2f}\",\n",
    "        f\"1E2  Slope:{slope_b:0.2f}  R<sup>2</sup>:{rsq_b:0.2f}\",\n",
    "        f\"1E4  Slope:{slope_c:0.2f}  R<sup>2</sup>:{rsq_c:0.2f}\",\n",
    "        f\"1E5  Slope:{slope_d:0.2f}  R<sup>2</sup>:{rsq_d:0.2f}\"\n",
    "    )\n",
    ")\n",
    "for trace_a, trace_b, trace_c, trace_d in zip(a_traces, b_traces, c_traces, d_traces):\n",
    "    fig.add_trace(trace_a, row=1, col=1)\n",
    "    fig.add_trace(trace_b, row=1, col=2)\n",
    "    fig.add_trace(trace_c, row=2, col=1)\n",
    "    fig.add_trace(trace_d, row=2, col=2)\n",
    "fig.update_layout(height=700, width=1000, showlegend=False)\n",
    "fig.show()"
   ]
  },
  {
   "cell_type": "markdown",
   "metadata": {},
   "source": [
    "## Linear models"
   ]
  },
  {
   "cell_type": "markdown",
   "metadata": {},
   "source": [
    "### All cell concentrations, all organisms"
   ]
  },
  {
   "cell_type": "code",
   "execution_count": 99,
   "metadata": {},
   "outputs": [],
   "source": [
    "reads_ls = []\n",
    "conc_ls = []\n",
    "for count_dict in [count_dict_a, count_dict_b, count_dict_c, count_dict_d]:\n",
    "    reads_org = []\n",
    "    conc_org = []\n",
    "    for org in count_dict:\n",
    "        reads_org.extend(count_dict[org]['reads_norm_log'])\n",
    "        conc_org.extend(count_dict[org]['conc_nonzero'])\n",
    "    reads_ls.extend(reads_org)\n",
    "    conc_ls.extend(conc_org)"
   ]
  },
  {
   "cell_type": "code",
   "execution_count": 102,
   "metadata": {},
   "outputs": [
    {
     "data": {
      "text/plain": [
       "LinregressResult(slope=0.9848044194290742, intercept=-7.9344708338488354, rvalue=0.9879931864050336, pvalue=2.9487626930708143e-116, stderr=0.012969039498783294)"
      ]
     },
     "execution_count": 102,
     "metadata": {},
     "output_type": "execute_result"
    }
   ],
   "source": [
    "slope_all, int_all, rval_all, pval_all, stderr_all = linregress(conc_ls, reads_ls)\n",
    "linregress(conc_ls, reads_ls)"
   ]
  },
  {
   "cell_type": "markdown",
   "metadata": {},
   "source": [
    "#### Linear model fit"
   ]
  },
  {
   "cell_type": "code",
   "execution_count": 126,
   "metadata": {},
   "outputs": [
    {
     "data": {
      "application/vnd.plotly.v1+json": {
       "config": {
        "plotlyServerURL": "https://plot.ly"
       },
       "data": [
        {
         "mode": "markers",
         "name": "1E0",
         "type": "scatter",
         "x": [
          3.785329835010767,
          4.785329835010767,
          5.785329835010767,
          6.785329835010767,
          7.785329835010767,
          3.929418925714293,
          4.929418925714293,
          5.929418925714293,
          6.929418925714293,
          7.929418925714293,
          4.181843587944773,
          5.181843587944773,
          6.181843587944773,
          7.181843587944773,
          8.181843587944773,
          4.164352855784436,
          5.164352855784436,
          6.164352855784436,
          7.164352855784436,
          8.164352855784436,
          4.012837224705173,
          5.012837224705173,
          6.012837224705173,
          7.012837224705173,
          8.012837224705173,
          4.334453751150932,
          5.334453751150932,
          6.334453751150932,
          7.334453751150932,
          8.334453751150932,
          4.143014800254095,
          5.143014800254095,
          6.143014800254095,
          7.143014800254095,
          8.143014800254095,
          3.9395192526186182,
          4.939519252618618,
          5.939519252618618,
          6.939519252618618,
          7.939519252618618
         ],
         "y": [
          -4.092764817667575,
          -3.2120210485124043,
          -1.968075322209816,
          -1.2719660046321326,
          -0.16231479677151328,
          -3.8105180513076538,
          -2.97343734125236,
          -1.9846259178273464,
          -1.3274329765793156,
          -0.30910302180703797,
          -3.825158577490544,
          -2.953743033269373,
          -1.9828990985268404,
          -1.4162882394471081,
          -0.3959270526608782,
          -3.795774799805334,
          -2.983171740293923,
          -1.973944255873914,
          -1.28977556305069,
          -0.35067192708612394,
          -4.064736094067332,
          -3.0521532014198374,
          -2.1014510364737395,
          -1.403153690517434,
          -0.39794000867203766,
          -3.80149465929275,
          -2.8391090455422976,
          -1.8350510824543285,
          -1.1775447920277708,
          -0.23360788243973468,
          -3.9926496647843073,
          -3.0444575848361874,
          -2.0363194824300437,
          -1.3069435881877038,
          -0.33403025576690654,
          -3.9128605887117764,
          -3.041130983142531,
          -1.9014260556996307,
          -1.324922596861716,
          -0.3307770983691847
         ]
        },
        {
         "mode": "markers",
         "name": "1E2",
         "type": "scatter",
         "x": [
          4.012837224705173,
          5.012837224705173,
          6.012837224705173,
          7.012837224705173,
          8.012837224705173,
          3.929418925714293,
          4.929418925714293,
          5.929418925714293,
          6.929418925714293,
          7.929418925714293,
          4.181843587944773,
          5.181843587944773,
          6.181843587944773,
          7.181843587944773,
          8.181843587944773,
          4.143014800254095,
          5.143014800254095,
          6.143014800254095,
          7.143014800254095,
          8.143014800254095,
          3.9395192526186182,
          4.939519252618618,
          5.939519252618618,
          6.939519252618618,
          7.939519252618618,
          4.334453751150932,
          5.334453751150932,
          6.334453751150932,
          7.334453751150932,
          8.334453751150932,
          4.164352855784436,
          5.164352855784436,
          6.164352855784436,
          7.164352855784436,
          8.164352855784436,
          3.785329835010767,
          4.785329835010767,
          5.785329835010767,
          6.785329835010767,
          7.785329835010767
         ],
         "y": [
          -4.125129838871882,
          -3.076177568502758,
          -2.234904011887101,
          -1.0670468459568023,
          -0.11747010916313491,
          -3.6655635985670627,
          -3.063440747099826,
          -2.0278522971400275,
          -0.978624943174265,
          0.13341304415200483,
          -3.8716180810001872,
          -2.997750961188715,
          -1.9359589673321855,
          -0.7660168502928212,
          0.21719506109655792,
          -3.9374353654898306,
          -3.046314887892729,
          -1.9363771613769238,
          -0.7516634460372689,
          0.18433238834846727,
          -3.8755131248837116,
          -3.0125672445668945,
          -1.9954463172125498,
          -0.9058859300240442,
          0.19068916027387106,
          -3.8062251194381957,
          -2.868117103372035,
          -1.7651666124668095,
          -0.640378203006195,
          0.29167221133319876,
          -3.963887700855119,
          -2.920936448420197,
          -1.8679982369550319,
          -0.7160333581122915,
          0.21304704024234333,
          -4.355578760250155,
          -3.1433128949203146,
          -2.2082815317666866,
          -1.095075569557046,
          -0.0543122838698161
         ]
        },
        {
         "mode": "markers",
         "name": "1E4",
         "type": "scatter",
         "x": [
          3.929418925714293,
          4.929418925714293,
          5.929418925714293,
          6.929418925714293,
          7.929418925714293,
          4.012837224705173,
          5.012837224705173,
          6.012837224705173,
          7.012837224705173,
          8.012837224705173,
          3.9395192526186182,
          4.939519252618618,
          5.939519252618618,
          6.939519252618618,
          7.939519252618618,
          4.164352855784436,
          5.164352855784436,
          6.164352855784436,
          7.164352855784436,
          8.164352855784436,
          3.785329835010767,
          4.785329835010767,
          5.785329835010767,
          6.785329835010767,
          7.785329835010767,
          5.143014800254095,
          6.143014800254095,
          7.143014800254095,
          8.143014800254095,
          5.334453751150932,
          6.334453751150932,
          7.334453751150932,
          8.334453751150932,
          5.181843587944773,
          6.181843587944773,
          7.181843587944773,
          8.181843587944773
         ],
         "y": [
          -3.7406494923396547,
          -3.0957747934284137,
          -2.072928173242841,
          -0.9447777208272068,
          0.2297618322507254,
          -4.168552724389135,
          -3.0380686605327134,
          -2.0278267167674917,
          -0.9274308659870545,
          0.14674187957110763,
          -3.8753480662371107,
          -3.1192558892779365,
          -1.9679002700126051,
          -0.9049803937205341,
          0.21653356651697028,
          -3.895551452325398,
          -2.9010414243166744,
          -1.8581009804647242,
          -0.8071894585404527,
          0.23120707312490632,
          -3.8286046626947847,
          -3.090097660536723,
          -2.15334029724781,
          -1.1005866657898027,
          0.025062403902567087,
          -3.006551609086648,
          -1.9413821374376001,
          -0.8358346399899826,
          0.20429911009995863,
          -2.8304603500309673,
          -1.8228458924384308,
          -0.7890912364476564,
          0.32690340723808986,
          -3.1614535690723917,
          -2.01009794980706,
          -0.8718322932615016,
          0.1915782786265912
         ]
        },
        {
         "mode": "markers",
         "name": "1E5",
         "type": "scatter",
         "x": [
          3.929418925714293,
          4.929418925714293,
          6.929418925714293,
          7.929418925714293,
          3.9395192526186182,
          4.939519252618618,
          6.939519252618618,
          7.939519252618618,
          5.334453751150932,
          7.334453751150932,
          8.334453751150932,
          5.143014800254095,
          7.143014800254095,
          8.143014800254095,
          5.181843587944773,
          7.181843587944773,
          8.181843587944773,
          5.012837224705173,
          7.012837224705173,
          8.012837224705173,
          5.164352855784436,
          7.164352855784436,
          8.164352855784436,
          4.785329835010767,
          6.785329835010767,
          7.785329835010767
         ],
         "y": [
          -3.606650028578439,
          -2.875080248527849,
          -1.1648375775303952,
          0.40887999473605047,
          -3.7157944980035067,
          -2.8343352808377893,
          -1.1620144181940162,
          0.4651399574365481,
          -2.7660940208541773,
          -0.7745938388116609,
          0.59403720235459,
          -2.861069534085034,
          -0.9753187845705891,
          0.4977357099175822,
          -2.930705462226429,
          -0.9430832500215753,
          0.48628707356420614,
          -3.2242474364978597,
          -1.3707740611903707,
          -0.15159093137974017,
          -3.074949354030115,
          -1.2602749052279822,
          0.4161648287782367,
          -3.019432026180284,
          -1.388657708116441,
          0.2024201977780304
         ]
        },
        {
         "mode": "lines",
         "showlegend": false,
         "type": "scatter",
         "x": [
          3.785329835010767,
          4.785329835010767,
          5.785329835010767,
          6.785329835010767,
          7.785329835010767,
          3.929418925714293,
          4.929418925714293,
          5.929418925714293,
          6.929418925714293,
          7.929418925714293,
          4.181843587944773,
          5.181843587944773,
          6.181843587944773,
          7.181843587944773,
          8.181843587944773,
          4.164352855784436,
          5.164352855784436,
          6.164352855784436,
          7.164352855784436,
          8.164352855784436,
          4.012837224705173,
          5.012837224705173,
          6.012837224705173,
          7.012837224705173,
          8.012837224705173,
          4.334453751150932,
          5.334453751150932,
          6.334453751150932,
          7.334453751150932,
          8.334453751150932,
          4.143014800254095,
          5.143014800254095,
          6.143014800254095,
          7.143014800254095,
          8.143014800254095,
          3.9395192526186182,
          4.939519252618618,
          5.939519252618618,
          6.939519252618618,
          7.939519252618618,
          4.012837224705173,
          5.012837224705173,
          6.012837224705173,
          7.012837224705173,
          8.012837224705173,
          3.929418925714293,
          4.929418925714293,
          5.929418925714293,
          6.929418925714293,
          7.929418925714293,
          4.181843587944773,
          5.181843587944773,
          6.181843587944773,
          7.181843587944773,
          8.181843587944773,
          4.143014800254095,
          5.143014800254095,
          6.143014800254095,
          7.143014800254095,
          8.143014800254095,
          3.9395192526186182,
          4.939519252618618,
          5.939519252618618,
          6.939519252618618,
          7.939519252618618,
          4.334453751150932,
          5.334453751150932,
          6.334453751150932,
          7.334453751150932,
          8.334453751150932,
          4.164352855784436,
          5.164352855784436,
          6.164352855784436,
          7.164352855784436,
          8.164352855784436,
          3.785329835010767,
          4.785329835010767,
          5.785329835010767,
          6.785329835010767,
          7.785329835010767,
          3.929418925714293,
          4.929418925714293,
          5.929418925714293,
          6.929418925714293,
          7.929418925714293,
          4.012837224705173,
          5.012837224705173,
          6.012837224705173,
          7.012837224705173,
          8.012837224705173,
          3.9395192526186182,
          4.939519252618618,
          5.939519252618618,
          6.939519252618618,
          7.939519252618618,
          4.164352855784436,
          5.164352855784436,
          6.164352855784436,
          7.164352855784436,
          8.164352855784436,
          3.785329835010767,
          4.785329835010767,
          5.785329835010767,
          6.785329835010767,
          7.785329835010767,
          5.143014800254095,
          6.143014800254095,
          7.143014800254095,
          8.143014800254095,
          5.334453751150932,
          6.334453751150932,
          7.334453751150932,
          8.334453751150932,
          5.181843587944773,
          6.181843587944773,
          7.181843587944773,
          8.181843587944773,
          3.929418925714293,
          4.929418925714293,
          6.929418925714293,
          7.929418925714293,
          3.9395192526186182,
          4.939519252618618,
          6.939519252618618,
          7.939519252618618,
          5.334453751150932,
          7.334453751150932,
          8.334453751150932,
          5.143014800254095,
          7.143014800254095,
          8.143014800254095,
          5.181843587944773,
          7.181843587944773,
          8.181843587944773,
          5.012837224705173,
          7.012837224705173,
          8.012837224705173,
          5.164352855784436,
          7.164352855784436,
          8.164352855784436,
          4.785329835010767,
          6.785329835010767,
          7.785329835010767
         ],
         "y": [
          -4.206661283333504,
          -3.2218568639044296,
          -2.2370524444753555,
          -1.2522480250462813,
          -0.26744360561720715,
          -4.064761710017155,
          -3.079957290588081,
          -2.095152871159007,
          -1.1103484517299327,
          -0.12554403230085853,
          -3.8161727870796875,
          -2.8313683676506134,
          -1.8465639482215392,
          -0.8617595287924651,
          0.12304489063660906,
          -3.8333977374102366,
          -2.8485933179811624,
          -1.8637888985520883,
          -0.8789844791230141,
          0.10581994030606001,
          -3.9826110005096806,
          -2.9978065810806065,
          -2.0130021616515323,
          -1.0281977422224582,
          -0.04339332279338404,
          -3.66588162390447,
          -2.681077204475396,
          -1.6962727850463217,
          -0.7114683656172476,
          0.27333605381182746,
          -3.8544115487985398,
          -2.8696071293694656,
          -1.8848027099403915,
          -0.8999982905113173,
          0.08480612891775596,
          -4.054814863444097,
          -3.070010444015023,
          -2.0852060245859487,
          -1.1004016051568746,
          -0.11559718572780042,
          -3.9826110005096806,
          -2.9978065810806065,
          -2.0130021616515323,
          -1.0281977422224582,
          -0.04339332279338404,
          -4.064761710017155,
          -3.079957290588081,
          -2.095152871159007,
          -1.1103484517299327,
          -0.12554403230085853,
          -3.8161727870796875,
          -2.8313683676506134,
          -1.8465639482215392,
          -0.8617595287924651,
          0.12304489063660906,
          -3.8544115487985398,
          -2.8696071293694656,
          -1.8848027099403915,
          -0.8999982905113173,
          0.08480612891775596,
          -4.054814863444097,
          -3.070010444015023,
          -2.0852060245859487,
          -1.1004016051568746,
          -0.11559718572780042,
          -3.66588162390447,
          -2.681077204475396,
          -1.6962727850463217,
          -0.7114683656172476,
          0.27333605381182746,
          -3.8333977374102366,
          -2.8485933179811624,
          -1.8637888985520883,
          -0.8789844791230141,
          0.10581994030606001,
          -4.206661283333504,
          -3.2218568639044296,
          -2.2370524444753555,
          -1.2522480250462813,
          -0.26744360561720715,
          -4.064761710017155,
          -3.079957290588081,
          -2.095152871159007,
          -1.1103484517299327,
          -0.12554403230085853,
          -3.9826110005096806,
          -2.9978065810806065,
          -2.0130021616515323,
          -1.0281977422224582,
          -0.04339332279338404,
          -4.054814863444097,
          -3.070010444015023,
          -2.0852060245859487,
          -1.1004016051568746,
          -0.11559718572780042,
          -3.8333977374102366,
          -2.8485933179811624,
          -1.8637888985520883,
          -0.8789844791230141,
          0.10581994030606001,
          -4.206661283333504,
          -3.2218568639044296,
          -2.2370524444753555,
          -1.2522480250462813,
          -0.26744360561720715,
          -2.8696071293694656,
          -1.8848027099403915,
          -0.8999982905113173,
          0.08480612891775596,
          -2.681077204475396,
          -1.6962727850463217,
          -0.7114683656172476,
          0.27333605381182746,
          -2.8313683676506134,
          -1.8465639482215392,
          -0.8617595287924651,
          0.12304489063660906,
          -4.064761710017155,
          -3.079957290588081,
          -1.1103484517299327,
          -0.12554403230085853,
          -4.054814863444097,
          -3.070010444015023,
          -1.1004016051568746,
          -0.11559718572780042,
          -2.681077204475396,
          -0.7114683656172476,
          0.27333605381182746,
          -2.8696071293694656,
          -0.8999982905113173,
          0.08480612891775596,
          -2.8313683676506134,
          -0.8617595287924651,
          0.12304489063660906,
          -2.9978065810806065,
          -1.0281977422224582,
          -0.04339332279338404,
          -2.8485933179811624,
          -0.8789844791230141,
          0.10581994030606001,
          -3.2218568639044296,
          -1.2522480250462813,
          -0.26744360561720715
         ]
        }
       ],
       "layout": {
        "annotations": [
         {
          "font": {
           "size": 14
          },
          "showarrow": false,
          "text": "Slope: 0.98<br>R<sup>2</sup>:0.98",
          "x": 6,
          "y": 0
         }
        ],
        "height": 700,
        "template": {
         "data": {
          "bar": [
           {
            "error_x": {
             "color": "#2a3f5f"
            },
            "error_y": {
             "color": "#2a3f5f"
            },
            "marker": {
             "line": {
              "color": "#E5ECF6",
              "width": 0.5
             }
            },
            "type": "bar"
           }
          ],
          "barpolar": [
           {
            "marker": {
             "line": {
              "color": "#E5ECF6",
              "width": 0.5
             }
            },
            "type": "barpolar"
           }
          ],
          "carpet": [
           {
            "aaxis": {
             "endlinecolor": "#2a3f5f",
             "gridcolor": "white",
             "linecolor": "white",
             "minorgridcolor": "white",
             "startlinecolor": "#2a3f5f"
            },
            "baxis": {
             "endlinecolor": "#2a3f5f",
             "gridcolor": "white",
             "linecolor": "white",
             "minorgridcolor": "white",
             "startlinecolor": "#2a3f5f"
            },
            "type": "carpet"
           }
          ],
          "choropleth": [
           {
            "colorbar": {
             "outlinewidth": 0,
             "ticks": ""
            },
            "type": "choropleth"
           }
          ],
          "contour": [
           {
            "colorbar": {
             "outlinewidth": 0,
             "ticks": ""
            },
            "colorscale": [
             [
              0,
              "#0d0887"
             ],
             [
              0.1111111111111111,
              "#46039f"
             ],
             [
              0.2222222222222222,
              "#7201a8"
             ],
             [
              0.3333333333333333,
              "#9c179e"
             ],
             [
              0.4444444444444444,
              "#bd3786"
             ],
             [
              0.5555555555555556,
              "#d8576b"
             ],
             [
              0.6666666666666666,
              "#ed7953"
             ],
             [
              0.7777777777777778,
              "#fb9f3a"
             ],
             [
              0.8888888888888888,
              "#fdca26"
             ],
             [
              1,
              "#f0f921"
             ]
            ],
            "type": "contour"
           }
          ],
          "contourcarpet": [
           {
            "colorbar": {
             "outlinewidth": 0,
             "ticks": ""
            },
            "type": "contourcarpet"
           }
          ],
          "heatmap": [
           {
            "colorbar": {
             "outlinewidth": 0,
             "ticks": ""
            },
            "colorscale": [
             [
              0,
              "#0d0887"
             ],
             [
              0.1111111111111111,
              "#46039f"
             ],
             [
              0.2222222222222222,
              "#7201a8"
             ],
             [
              0.3333333333333333,
              "#9c179e"
             ],
             [
              0.4444444444444444,
              "#bd3786"
             ],
             [
              0.5555555555555556,
              "#d8576b"
             ],
             [
              0.6666666666666666,
              "#ed7953"
             ],
             [
              0.7777777777777778,
              "#fb9f3a"
             ],
             [
              0.8888888888888888,
              "#fdca26"
             ],
             [
              1,
              "#f0f921"
             ]
            ],
            "type": "heatmap"
           }
          ],
          "heatmapgl": [
           {
            "colorbar": {
             "outlinewidth": 0,
             "ticks": ""
            },
            "colorscale": [
             [
              0,
              "#0d0887"
             ],
             [
              0.1111111111111111,
              "#46039f"
             ],
             [
              0.2222222222222222,
              "#7201a8"
             ],
             [
              0.3333333333333333,
              "#9c179e"
             ],
             [
              0.4444444444444444,
              "#bd3786"
             ],
             [
              0.5555555555555556,
              "#d8576b"
             ],
             [
              0.6666666666666666,
              "#ed7953"
             ],
             [
              0.7777777777777778,
              "#fb9f3a"
             ],
             [
              0.8888888888888888,
              "#fdca26"
             ],
             [
              1,
              "#f0f921"
             ]
            ],
            "type": "heatmapgl"
           }
          ],
          "histogram": [
           {
            "marker": {
             "colorbar": {
              "outlinewidth": 0,
              "ticks": ""
             }
            },
            "type": "histogram"
           }
          ],
          "histogram2d": [
           {
            "colorbar": {
             "outlinewidth": 0,
             "ticks": ""
            },
            "colorscale": [
             [
              0,
              "#0d0887"
             ],
             [
              0.1111111111111111,
              "#46039f"
             ],
             [
              0.2222222222222222,
              "#7201a8"
             ],
             [
              0.3333333333333333,
              "#9c179e"
             ],
             [
              0.4444444444444444,
              "#bd3786"
             ],
             [
              0.5555555555555556,
              "#d8576b"
             ],
             [
              0.6666666666666666,
              "#ed7953"
             ],
             [
              0.7777777777777778,
              "#fb9f3a"
             ],
             [
              0.8888888888888888,
              "#fdca26"
             ],
             [
              1,
              "#f0f921"
             ]
            ],
            "type": "histogram2d"
           }
          ],
          "histogram2dcontour": [
           {
            "colorbar": {
             "outlinewidth": 0,
             "ticks": ""
            },
            "colorscale": [
             [
              0,
              "#0d0887"
             ],
             [
              0.1111111111111111,
              "#46039f"
             ],
             [
              0.2222222222222222,
              "#7201a8"
             ],
             [
              0.3333333333333333,
              "#9c179e"
             ],
             [
              0.4444444444444444,
              "#bd3786"
             ],
             [
              0.5555555555555556,
              "#d8576b"
             ],
             [
              0.6666666666666666,
              "#ed7953"
             ],
             [
              0.7777777777777778,
              "#fb9f3a"
             ],
             [
              0.8888888888888888,
              "#fdca26"
             ],
             [
              1,
              "#f0f921"
             ]
            ],
            "type": "histogram2dcontour"
           }
          ],
          "mesh3d": [
           {
            "colorbar": {
             "outlinewidth": 0,
             "ticks": ""
            },
            "type": "mesh3d"
           }
          ],
          "parcoords": [
           {
            "line": {
             "colorbar": {
              "outlinewidth": 0,
              "ticks": ""
             }
            },
            "type": "parcoords"
           }
          ],
          "scatter": [
           {
            "marker": {
             "colorbar": {
              "outlinewidth": 0,
              "ticks": ""
             }
            },
            "type": "scatter"
           }
          ],
          "scatter3d": [
           {
            "line": {
             "colorbar": {
              "outlinewidth": 0,
              "ticks": ""
             }
            },
            "marker": {
             "colorbar": {
              "outlinewidth": 0,
              "ticks": ""
             }
            },
            "type": "scatter3d"
           }
          ],
          "scattercarpet": [
           {
            "marker": {
             "colorbar": {
              "outlinewidth": 0,
              "ticks": ""
             }
            },
            "type": "scattercarpet"
           }
          ],
          "scattergeo": [
           {
            "marker": {
             "colorbar": {
              "outlinewidth": 0,
              "ticks": ""
             }
            },
            "type": "scattergeo"
           }
          ],
          "scattergl": [
           {
            "marker": {
             "colorbar": {
              "outlinewidth": 0,
              "ticks": ""
             }
            },
            "type": "scattergl"
           }
          ],
          "scattermapbox": [
           {
            "marker": {
             "colorbar": {
              "outlinewidth": 0,
              "ticks": ""
             }
            },
            "type": "scattermapbox"
           }
          ],
          "scatterpolar": [
           {
            "marker": {
             "colorbar": {
              "outlinewidth": 0,
              "ticks": ""
             }
            },
            "type": "scatterpolar"
           }
          ],
          "scatterpolargl": [
           {
            "marker": {
             "colorbar": {
              "outlinewidth": 0,
              "ticks": ""
             }
            },
            "type": "scatterpolargl"
           }
          ],
          "scatterternary": [
           {
            "marker": {
             "colorbar": {
              "outlinewidth": 0,
              "ticks": ""
             }
            },
            "type": "scatterternary"
           }
          ],
          "surface": [
           {
            "colorbar": {
             "outlinewidth": 0,
             "ticks": ""
            },
            "colorscale": [
             [
              0,
              "#0d0887"
             ],
             [
              0.1111111111111111,
              "#46039f"
             ],
             [
              0.2222222222222222,
              "#7201a8"
             ],
             [
              0.3333333333333333,
              "#9c179e"
             ],
             [
              0.4444444444444444,
              "#bd3786"
             ],
             [
              0.5555555555555556,
              "#d8576b"
             ],
             [
              0.6666666666666666,
              "#ed7953"
             ],
             [
              0.7777777777777778,
              "#fb9f3a"
             ],
             [
              0.8888888888888888,
              "#fdca26"
             ],
             [
              1,
              "#f0f921"
             ]
            ],
            "type": "surface"
           }
          ],
          "table": [
           {
            "cells": {
             "fill": {
              "color": "#EBF0F8"
             },
             "line": {
              "color": "white"
             }
            },
            "header": {
             "fill": {
              "color": "#C8D4E3"
             },
             "line": {
              "color": "white"
             }
            },
            "type": "table"
           }
          ]
         },
         "layout": {
          "annotationdefaults": {
           "arrowcolor": "#2a3f5f",
           "arrowhead": 0,
           "arrowwidth": 1
          },
          "colorscale": {
           "diverging": [
            [
             0,
             "#8e0152"
            ],
            [
             0.1,
             "#c51b7d"
            ],
            [
             0.2,
             "#de77ae"
            ],
            [
             0.3,
             "#f1b6da"
            ],
            [
             0.4,
             "#fde0ef"
            ],
            [
             0.5,
             "#f7f7f7"
            ],
            [
             0.6,
             "#e6f5d0"
            ],
            [
             0.7,
             "#b8e186"
            ],
            [
             0.8,
             "#7fbc41"
            ],
            [
             0.9,
             "#4d9221"
            ],
            [
             1,
             "#276419"
            ]
           ],
           "sequential": [
            [
             0,
             "#0d0887"
            ],
            [
             0.1111111111111111,
             "#46039f"
            ],
            [
             0.2222222222222222,
             "#7201a8"
            ],
            [
             0.3333333333333333,
             "#9c179e"
            ],
            [
             0.4444444444444444,
             "#bd3786"
            ],
            [
             0.5555555555555556,
             "#d8576b"
            ],
            [
             0.6666666666666666,
             "#ed7953"
            ],
            [
             0.7777777777777778,
             "#fb9f3a"
            ],
            [
             0.8888888888888888,
             "#fdca26"
            ],
            [
             1,
             "#f0f921"
            ]
           ],
           "sequentialminus": [
            [
             0,
             "#0d0887"
            ],
            [
             0.1111111111111111,
             "#46039f"
            ],
            [
             0.2222222222222222,
             "#7201a8"
            ],
            [
             0.3333333333333333,
             "#9c179e"
            ],
            [
             0.4444444444444444,
             "#bd3786"
            ],
            [
             0.5555555555555556,
             "#d8576b"
            ],
            [
             0.6666666666666666,
             "#ed7953"
            ],
            [
             0.7777777777777778,
             "#fb9f3a"
            ],
            [
             0.8888888888888888,
             "#fdca26"
            ],
            [
             1,
             "#f0f921"
            ]
           ]
          },
          "colorway": [
           "#636efa",
           "#EF553B",
           "#00cc96",
           "#ab63fa",
           "#FFA15A",
           "#19d3f3",
           "#FF6692",
           "#B6E880",
           "#FF97FF",
           "#FECB52"
          ],
          "font": {
           "color": "#2a3f5f"
          },
          "geo": {
           "bgcolor": "white",
           "lakecolor": "white",
           "landcolor": "#E5ECF6",
           "showlakes": true,
           "showland": true,
           "subunitcolor": "white"
          },
          "hoverlabel": {
           "align": "left"
          },
          "hovermode": "closest",
          "mapbox": {
           "style": "light"
          },
          "paper_bgcolor": "white",
          "plot_bgcolor": "#E5ECF6",
          "polar": {
           "angularaxis": {
            "gridcolor": "white",
            "linecolor": "white",
            "ticks": ""
           },
           "bgcolor": "#E5ECF6",
           "radialaxis": {
            "gridcolor": "white",
            "linecolor": "white",
            "ticks": ""
           }
          },
          "scene": {
           "xaxis": {
            "backgroundcolor": "#E5ECF6",
            "gridcolor": "white",
            "gridwidth": 2,
            "linecolor": "white",
            "showbackground": true,
            "ticks": "",
            "zerolinecolor": "white"
           },
           "yaxis": {
            "backgroundcolor": "#E5ECF6",
            "gridcolor": "white",
            "gridwidth": 2,
            "linecolor": "white",
            "showbackground": true,
            "ticks": "",
            "zerolinecolor": "white"
           },
           "zaxis": {
            "backgroundcolor": "#E5ECF6",
            "gridcolor": "white",
            "gridwidth": 2,
            "linecolor": "white",
            "showbackground": true,
            "ticks": "",
            "zerolinecolor": "white"
           }
          },
          "shapedefaults": {
           "line": {
            "color": "#2a3f5f"
           }
          },
          "ternary": {
           "aaxis": {
            "gridcolor": "white",
            "linecolor": "white",
            "ticks": ""
           },
           "baxis": {
            "gridcolor": "white",
            "linecolor": "white",
            "ticks": ""
           },
           "bgcolor": "#E5ECF6",
           "caxis": {
            "gridcolor": "white",
            "linecolor": "white",
            "ticks": ""
           }
          },
          "title": {
           "x": 0.05
          },
          "xaxis": {
           "automargin": true,
           "gridcolor": "white",
           "linecolor": "white",
           "ticks": "",
           "zerolinecolor": "white",
           "zerolinewidth": 2
          },
          "yaxis": {
           "automargin": true,
           "gridcolor": "white",
           "linecolor": "white",
           "ticks": "",
           "zerolinecolor": "white",
           "zerolinewidth": 2
          }
         }
        },
        "width": 900,
        "xaxis": {
         "autorange": true,
         "range": [
          3.503295405454149,
          8.616488180707549
         ],
         "type": "linear"
        },
        "yaxis": {
         "autorange": true,
         "range": [
          -4.675342223632329,
          0.9138006657367641
         ],
         "type": "linear"
        }
       }
      },
      "image/png": "[encoded data removed]",
      "text/html": [
       "<div>\n",
       "        \n",
       "        \n",
       "            <div id=\"88e923c6-282c-4ae2-ade5-68da4f03b5c0\" class=\"plotly-graph-div\" style=\"height:700px; width:900px;\"></div>\n",
       "            <script type=\"text/javascript\">\n",
       "                require([\"plotly\"], function(Plotly) {\n",
       "                    window.PLOTLYENV=window.PLOTLYENV || {};\n",
       "                    \n",
       "                if (document.getElementById(\"88e923c6-282c-4ae2-ade5-68da4f03b5c0\")) {\n",
       "                    Plotly.newPlot(\n",
       "                        '88e923c6-282c-4ae2-ade5-68da4f03b5c0',\n",
       "                        [{\"mode\": \"markers\", \"name\": \"1E0\", \"type\": \"scatter\", \"x\": [3.785329835010767, 4.785329835010767, 5.785329835010767, 6.785329835010767, 7.785329835010767, 3.929418925714293, 4.929418925714293, 5.929418925714293, 6.929418925714293, 7.929418925714293, 4.181843587944773, 5.181843587944773, 6.181843587944773, 7.181843587944773, 8.181843587944773, 4.164352855784436, 5.164352855784436, 6.164352855784436, 7.164352855784436, 8.164352855784436, 4.012837224705173, 5.012837224705173, 6.012837224705173, 7.012837224705173, 8.012837224705173, 4.334453751150932, 5.334453751150932, 6.334453751150932, 7.334453751150932, 8.334453751150932, 4.143014800254095, 5.143014800254095, 6.143014800254095, 7.143014800254095, 8.143014800254095, 3.9395192526186182, 4.939519252618618, 5.939519252618618, 6.939519252618618, 7.939519252618618], \"y\": [-4.092764817667575, -3.2120210485124043, -1.968075322209816, -1.2719660046321326, -0.16231479677151328, -3.8105180513076538, -2.97343734125236, -1.9846259178273464, -1.3274329765793156, -0.30910302180703797, -3.825158577490544, -2.953743033269373, -1.9828990985268404, -1.4162882394471081, -0.3959270526608782, -3.795774799805334, -2.983171740293923, -1.973944255873914, -1.28977556305069, -0.35067192708612394, -4.064736094067332, -3.0521532014198374, -2.1014510364737395, -1.403153690517434, -0.39794000867203766, -3.80149465929275, -2.8391090455422976, -1.8350510824543285, -1.1775447920277708, -0.23360788243973468, -3.9926496647843073, -3.0444575848361874, -2.0363194824300437, -1.3069435881877038, -0.33403025576690654, -3.9128605887117764, -3.041130983142531, -1.9014260556996307, -1.324922596861716, -0.3307770983691847]}, {\"mode\": \"markers\", \"name\": \"1E2\", \"type\": \"scatter\", \"x\": [4.012837224705173, 5.012837224705173, 6.012837224705173, 7.012837224705173, 8.012837224705173, 3.929418925714293, 4.929418925714293, 5.929418925714293, 6.929418925714293, 7.929418925714293, 4.181843587944773, 5.181843587944773, 6.181843587944773, 7.181843587944773, 8.181843587944773, 4.143014800254095, 5.143014800254095, 6.143014800254095, 7.143014800254095, 8.143014800254095, 3.9395192526186182, 4.939519252618618, 5.939519252618618, 6.939519252618618, 7.939519252618618, 4.334453751150932, 5.334453751150932, 6.334453751150932, 7.334453751150932, 8.334453751150932, 4.164352855784436, 5.164352855784436, 6.164352855784436, 7.164352855784436, 8.164352855784436, 3.785329835010767, 4.785329835010767, 5.785329835010767, 6.785329835010767, 7.785329835010767], \"y\": [-4.125129838871882, -3.076177568502758, -2.234904011887101, -1.0670468459568023, -0.11747010916313491, -3.6655635985670627, -3.063440747099826, -2.0278522971400275, -0.978624943174265, 0.13341304415200483, -3.8716180810001872, -2.997750961188715, -1.9359589673321855, -0.7660168502928212, 0.21719506109655792, -3.9374353654898306, -3.046314887892729, -1.9363771613769238, -0.7516634460372689, 0.18433238834846727, -3.8755131248837116, -3.0125672445668945, -1.9954463172125498, -0.9058859300240442, 0.19068916027387106, -3.8062251194381957, -2.868117103372035, -1.7651666124668095, -0.640378203006195, 0.29167221133319876, -3.963887700855119, -2.920936448420197, -1.8679982369550319, -0.7160333581122915, 0.21304704024234333, -4.355578760250155, -3.1433128949203146, -2.2082815317666866, -1.095075569557046, -0.0543122838698161]}, {\"mode\": \"markers\", \"name\": \"1E4\", \"type\": \"scatter\", \"x\": [3.929418925714293, 4.929418925714293, 5.929418925714293, 6.929418925714293, 7.929418925714293, 4.012837224705173, 5.012837224705173, 6.012837224705173, 7.012837224705173, 8.012837224705173, 3.9395192526186182, 4.939519252618618, 5.939519252618618, 6.939519252618618, 7.939519252618618, 4.164352855784436, 5.164352855784436, 6.164352855784436, 7.164352855784436, 8.164352855784436, 3.785329835010767, 4.785329835010767, 5.785329835010767, 6.785329835010767, 7.785329835010767, 5.143014800254095, 6.143014800254095, 7.143014800254095, 8.143014800254095, 5.334453751150932, 6.334453751150932, 7.334453751150932, 8.334453751150932, 5.181843587944773, 6.181843587944773, 7.181843587944773, 8.181843587944773], \"y\": [-3.7406494923396547, -3.0957747934284137, -2.072928173242841, -0.9447777208272068, 0.2297618322507254, -4.168552724389135, -3.0380686605327134, -2.0278267167674917, -0.9274308659870545, 0.14674187957110763, -3.8753480662371107, -3.1192558892779365, -1.9679002700126051, -0.9049803937205341, 0.21653356651697028, -3.895551452325398, -2.9010414243166744, -1.8581009804647242, -0.8071894585404527, 0.23120707312490632, -3.8286046626947847, -3.090097660536723, -2.15334029724781, -1.1005866657898027, 0.025062403902567087, -3.006551609086648, -1.9413821374376001, -0.8358346399899826, 0.20429911009995863, -2.8304603500309673, -1.8228458924384308, -0.7890912364476564, 0.32690340723808986, -3.1614535690723917, -2.01009794980706, -0.8718322932615016, 0.1915782786265912]}, {\"mode\": \"markers\", \"name\": \"1E5\", \"type\": \"scatter\", \"x\": [3.929418925714293, 4.929418925714293, 6.929418925714293, 7.929418925714293, 3.9395192526186182, 4.939519252618618, 6.939519252618618, 7.939519252618618, 5.334453751150932, 7.334453751150932, 8.334453751150932, 5.143014800254095, 7.143014800254095, 8.143014800254095, 5.181843587944773, 7.181843587944773, 8.181843587944773, 5.012837224705173, 7.012837224705173, 8.012837224705173, 5.164352855784436, 7.164352855784436, 8.164352855784436, 4.785329835010767, 6.785329835010767, 7.785329835010767], \"y\": [-3.606650028578439, -2.875080248527849, -1.1648375775303952, 0.40887999473605047, -3.7157944980035067, -2.8343352808377893, -1.1620144181940162, 0.4651399574365481, -2.7660940208541773, -0.7745938388116609, 0.59403720235459, -2.861069534085034, -0.9753187845705891, 0.4977357099175822, -2.930705462226429, -0.9430832500215753, 0.48628707356420614, -3.2242474364978597, -1.3707740611903707, -0.15159093137974017, -3.074949354030115, -1.2602749052279822, 0.4161648287782367, -3.019432026180284, -1.388657708116441, 0.2024201977780304]}, {\"mode\": \"lines\", \"showlegend\": false, \"type\": \"scatter\", \"x\": [3.785329835010767, 4.785329835010767, 5.785329835010767, 6.785329835010767, 7.785329835010767, 3.929418925714293, 4.929418925714293, 5.929418925714293, 6.929418925714293, 7.929418925714293, 4.181843587944773, 5.181843587944773, 6.181843587944773, 7.181843587944773, 8.181843587944773, 4.164352855784436, 5.164352855784436, 6.164352855784436, 7.164352855784436, 8.164352855784436, 4.012837224705173, 5.012837224705173, 6.012837224705173, 7.012837224705173, 8.012837224705173, 4.334453751150932, 5.334453751150932, 6.334453751150932, 7.334453751150932, 8.334453751150932, 4.143014800254095, 5.143014800254095, 6.143014800254095, 7.143014800254095, 8.143014800254095, 3.9395192526186182, 4.939519252618618, 5.939519252618618, 6.939519252618618, 7.939519252618618, 4.012837224705173, 5.012837224705173, 6.012837224705173, 7.012837224705173, 8.012837224705173, 3.929418925714293, 4.929418925714293, 5.929418925714293, 6.929418925714293, 7.929418925714293, 4.181843587944773, 5.181843587944773, 6.181843587944773, 7.181843587944773, 8.181843587944773, 4.143014800254095, 5.143014800254095, 6.143014800254095, 7.143014800254095, 8.143014800254095, 3.9395192526186182, 4.939519252618618, 5.939519252618618, 6.939519252618618, 7.939519252618618, 4.334453751150932, 5.334453751150932, 6.334453751150932, 7.334453751150932, 8.334453751150932, 4.164352855784436, 5.164352855784436, 6.164352855784436, 7.164352855784436, 8.164352855784436, 3.785329835010767, 4.785329835010767, 5.785329835010767, 6.785329835010767, 7.785329835010767, 3.929418925714293, 4.929418925714293, 5.929418925714293, 6.929418925714293, 7.929418925714293, 4.012837224705173, 5.012837224705173, 6.012837224705173, 7.012837224705173, 8.012837224705173, 3.9395192526186182, 4.939519252618618, 5.939519252618618, 6.939519252618618, 7.939519252618618, 4.164352855784436, 5.164352855784436, 6.164352855784436, 7.164352855784436, 8.164352855784436, 3.785329835010767, 4.785329835010767, 5.785329835010767, 6.785329835010767, 7.785329835010767, 5.143014800254095, 6.143014800254095, 7.143014800254095, 8.143014800254095, 5.334453751150932, 6.334453751150932, 7.334453751150932, 8.334453751150932, 5.181843587944773, 6.181843587944773, 7.181843587944773, 8.181843587944773, 3.929418925714293, 4.929418925714293, 6.929418925714293, 7.929418925714293, 3.9395192526186182, 4.939519252618618, 6.939519252618618, 7.939519252618618, 5.334453751150932, 7.334453751150932, 8.334453751150932, 5.143014800254095, 7.143014800254095, 8.143014800254095, 5.181843587944773, 7.181843587944773, 8.181843587944773, 5.012837224705173, 7.012837224705173, 8.012837224705173, 5.164352855784436, 7.164352855784436, 8.164352855784436, 4.785329835010767, 6.785329835010767, 7.785329835010767], \"y\": [-4.206661283333504, -3.2218568639044296, -2.2370524444753555, -1.2522480250462813, -0.26744360561720715, -4.064761710017155, -3.079957290588081, -2.095152871159007, -1.1103484517299327, -0.12554403230085853, -3.8161727870796875, -2.8313683676506134, -1.8465639482215392, -0.8617595287924651, 0.12304489063660906, -3.8333977374102366, -2.8485933179811624, -1.8637888985520883, -0.8789844791230141, 0.10581994030606001, -3.9826110005096806, -2.9978065810806065, -2.0130021616515323, -1.0281977422224582, -0.04339332279338404, -3.66588162390447, -2.681077204475396, -1.6962727850463217, -0.7114683656172476, 0.27333605381182746, -3.8544115487985398, -2.8696071293694656, -1.8848027099403915, -0.8999982905113173, 0.08480612891775596, -4.054814863444097, -3.070010444015023, -2.0852060245859487, -1.1004016051568746, -0.11559718572780042, -3.9826110005096806, -2.9978065810806065, -2.0130021616515323, -1.0281977422224582, -0.04339332279338404, -4.064761710017155, -3.079957290588081, -2.095152871159007, -1.1103484517299327, -0.12554403230085853, -3.8161727870796875, -2.8313683676506134, -1.8465639482215392, -0.8617595287924651, 0.12304489063660906, -3.8544115487985398, -2.8696071293694656, -1.8848027099403915, -0.8999982905113173, 0.08480612891775596, -4.054814863444097, -3.070010444015023, -2.0852060245859487, -1.1004016051568746, -0.11559718572780042, -3.66588162390447, -2.681077204475396, -1.6962727850463217, -0.7114683656172476, 0.27333605381182746, -3.8333977374102366, -2.8485933179811624, -1.8637888985520883, -0.8789844791230141, 0.10581994030606001, -4.206661283333504, -3.2218568639044296, -2.2370524444753555, -1.2522480250462813, -0.26744360561720715, -4.064761710017155, -3.079957290588081, -2.095152871159007, -1.1103484517299327, -0.12554403230085853, -3.9826110005096806, -2.9978065810806065, -2.0130021616515323, -1.0281977422224582, -0.04339332279338404, -4.054814863444097, -3.070010444015023, -2.0852060245859487, -1.1004016051568746, -0.11559718572780042, -3.8333977374102366, -2.8485933179811624, -1.8637888985520883, -0.8789844791230141, 0.10581994030606001, -4.206661283333504, -3.2218568639044296, -2.2370524444753555, -1.2522480250462813, -0.26744360561720715, -2.8696071293694656, -1.8848027099403915, -0.8999982905113173, 0.08480612891775596, -2.681077204475396, -1.6962727850463217, -0.7114683656172476, 0.27333605381182746, -2.8313683676506134, -1.8465639482215392, -0.8617595287924651, 0.12304489063660906, -4.064761710017155, -3.079957290588081, -1.1103484517299327, -0.12554403230085853, -4.054814863444097, -3.070010444015023, -1.1004016051568746, -0.11559718572780042, -2.681077204475396, -0.7114683656172476, 0.27333605381182746, -2.8696071293694656, -0.8999982905113173, 0.08480612891775596, -2.8313683676506134, -0.8617595287924651, 0.12304489063660906, -2.9978065810806065, -1.0281977422224582, -0.04339332279338404, -2.8485933179811624, -0.8789844791230141, 0.10581994030606001, -3.2218568639044296, -1.2522480250462813, -0.26744360561720715]}],\n",
       "                        {\"annotations\": [{\"font\": {\"size\": 14}, \"showarrow\": false, \"text\": \"Slope: 0.98<br>R<sup>2</sup>:0.98\", \"x\": 6, \"y\": 0}], \"height\": 700, \"template\": {\"data\": {\"bar\": [{\"error_x\": {\"color\": \"#2a3f5f\"}, \"error_y\": {\"color\": \"#2a3f5f\"}, \"marker\": {\"line\": {\"color\": \"#E5ECF6\", \"width\": 0.5}}, \"type\": \"bar\"}], \"barpolar\": [{\"marker\": {\"line\": {\"color\": \"#E5ECF6\", \"width\": 0.5}}, \"type\": \"barpolar\"}], \"carpet\": [{\"aaxis\": {\"endlinecolor\": \"#2a3f5f\", \"gridcolor\": \"white\", \"linecolor\": \"white\", \"minorgridcolor\": \"white\", \"startlinecolor\": \"#2a3f5f\"}, \"baxis\": {\"endlinecolor\": \"#2a3f5f\", \"gridcolor\": \"white\", \"linecolor\": \"white\", \"minorgridcolor\": \"white\", \"startlinecolor\": \"#2a3f5f\"}, \"type\": \"carpet\"}], \"choropleth\": [{\"colorbar\": {\"outlinewidth\": 0, \"ticks\": \"\"}, \"type\": \"choropleth\"}], \"contour\": [{\"colorbar\": {\"outlinewidth\": 0, \"ticks\": \"\"}, \"colorscale\": [[0.0, \"#0d0887\"], [0.1111111111111111, \"#46039f\"], [0.2222222222222222, \"#7201a8\"], [0.3333333333333333, \"#9c179e\"], [0.4444444444444444, \"#bd3786\"], [0.5555555555555556, \"#d8576b\"], [0.6666666666666666, \"#ed7953\"], [0.7777777777777778, \"#fb9f3a\"], [0.8888888888888888, \"#fdca26\"], [1.0, \"#f0f921\"]], \"type\": \"contour\"}], \"contourcarpet\": [{\"colorbar\": {\"outlinewidth\": 0, \"ticks\": \"\"}, \"type\": \"contourcarpet\"}], \"heatmap\": [{\"colorbar\": {\"outlinewidth\": 0, \"ticks\": \"\"}, \"colorscale\": [[0.0, \"#0d0887\"], [0.1111111111111111, \"#46039f\"], [0.2222222222222222, \"#7201a8\"], [0.3333333333333333, \"#9c179e\"], [0.4444444444444444, \"#bd3786\"], [0.5555555555555556, \"#d8576b\"], [0.6666666666666666, \"#ed7953\"], [0.7777777777777778, \"#fb9f3a\"], [0.8888888888888888, \"#fdca26\"], [1.0, \"#f0f921\"]], \"type\": \"heatmap\"}], \"heatmapgl\": [{\"colorbar\": {\"outlinewidth\": 0, \"ticks\": \"\"}, \"colorscale\": [[0.0, \"#0d0887\"], [0.1111111111111111, \"#46039f\"], [0.2222222222222222, \"#7201a8\"], [0.3333333333333333, \"#9c179e\"], [0.4444444444444444, \"#bd3786\"], [0.5555555555555556, \"#d8576b\"], [0.6666666666666666, \"#ed7953\"], [0.7777777777777778, \"#fb9f3a\"], [0.8888888888888888, \"#fdca26\"], [1.0, \"#f0f921\"]], \"type\": \"heatmapgl\"}], \"histogram\": [{\"marker\": {\"colorbar\": {\"outlinewidth\": 0, \"ticks\": \"\"}}, \"type\": \"histogram\"}], \"histogram2d\": [{\"colorbar\": {\"outlinewidth\": 0, \"ticks\": \"\"}, \"colorscale\": [[0.0, \"#0d0887\"], [0.1111111111111111, \"#46039f\"], [0.2222222222222222, \"#7201a8\"], [0.3333333333333333, \"#9c179e\"], [0.4444444444444444, \"#bd3786\"], [0.5555555555555556, \"#d8576b\"], [0.6666666666666666, \"#ed7953\"], [0.7777777777777778, \"#fb9f3a\"], [0.8888888888888888, \"#fdca26\"], [1.0, \"#f0f921\"]], \"type\": \"histogram2d\"}], \"histogram2dcontour\": [{\"colorbar\": {\"outlinewidth\": 0, \"ticks\": \"\"}, \"colorscale\": [[0.0, \"#0d0887\"], [0.1111111111111111, \"#46039f\"], [0.2222222222222222, \"#7201a8\"], [0.3333333333333333, \"#9c179e\"], [0.4444444444444444, \"#bd3786\"], [0.5555555555555556, \"#d8576b\"], [0.6666666666666666, \"#ed7953\"], [0.7777777777777778, \"#fb9f3a\"], [0.8888888888888888, \"#fdca26\"], [1.0, \"#f0f921\"]], \"type\": \"histogram2dcontour\"}], \"mesh3d\": [{\"colorbar\": {\"outlinewidth\": 0, \"ticks\": \"\"}, \"type\": \"mesh3d\"}], \"parcoords\": [{\"line\": {\"colorbar\": {\"outlinewidth\": 0, \"ticks\": \"\"}}, \"type\": \"parcoords\"}], \"scatter\": [{\"marker\": {\"colorbar\": {\"outlinewidth\": 0, \"ticks\": \"\"}}, \"type\": \"scatter\"}], \"scatter3d\": [{\"line\": {\"colorbar\": {\"outlinewidth\": 0, \"ticks\": \"\"}}, \"marker\": {\"colorbar\": {\"outlinewidth\": 0, \"ticks\": \"\"}}, \"type\": \"scatter3d\"}], \"scattercarpet\": [{\"marker\": {\"colorbar\": {\"outlinewidth\": 0, \"ticks\": \"\"}}, \"type\": \"scattercarpet\"}], \"scattergeo\": [{\"marker\": {\"colorbar\": {\"outlinewidth\": 0, \"ticks\": \"\"}}, \"type\": \"scattergeo\"}], \"scattergl\": [{\"marker\": {\"colorbar\": {\"outlinewidth\": 0, \"ticks\": \"\"}}, \"type\": \"scattergl\"}], \"scattermapbox\": [{\"marker\": {\"colorbar\": {\"outlinewidth\": 0, \"ticks\": \"\"}}, \"type\": \"scattermapbox\"}], \"scatterpolar\": [{\"marker\": {\"colorbar\": {\"outlinewidth\": 0, \"ticks\": \"\"}}, \"type\": \"scatterpolar\"}], \"scatterpolargl\": [{\"marker\": {\"colorbar\": {\"outlinewidth\": 0, \"ticks\": \"\"}}, \"type\": \"scatterpolargl\"}], \"scatterternary\": [{\"marker\": {\"colorbar\": {\"outlinewidth\": 0, \"ticks\": \"\"}}, \"type\": \"scatterternary\"}], \"surface\": [{\"colorbar\": {\"outlinewidth\": 0, \"ticks\": \"\"}, \"colorscale\": [[0.0, \"#0d0887\"], [0.1111111111111111, \"#46039f\"], [0.2222222222222222, \"#7201a8\"], [0.3333333333333333, \"#9c179e\"], [0.4444444444444444, \"#bd3786\"], [0.5555555555555556, \"#d8576b\"], [0.6666666666666666, \"#ed7953\"], [0.7777777777777778, \"#fb9f3a\"], [0.8888888888888888, \"#fdca26\"], [1.0, \"#f0f921\"]], \"type\": \"surface\"}], \"table\": [{\"cells\": {\"fill\": {\"color\": \"#EBF0F8\"}, \"line\": {\"color\": \"white\"}}, \"header\": {\"fill\": {\"color\": \"#C8D4E3\"}, \"line\": {\"color\": \"white\"}}, \"type\": \"table\"}]}, \"layout\": {\"annotationdefaults\": {\"arrowcolor\": \"#2a3f5f\", \"arrowhead\": 0, \"arrowwidth\": 1}, \"colorscale\": {\"diverging\": [[0, \"#8e0152\"], [0.1, \"#c51b7d\"], [0.2, \"#de77ae\"], [0.3, \"#f1b6da\"], [0.4, \"#fde0ef\"], [0.5, \"#f7f7f7\"], [0.6, \"#e6f5d0\"], [0.7, \"#b8e186\"], [0.8, \"#7fbc41\"], [0.9, \"#4d9221\"], [1, \"#276419\"]], \"sequential\": [[0.0, \"#0d0887\"], [0.1111111111111111, \"#46039f\"], [0.2222222222222222, \"#7201a8\"], [0.3333333333333333, \"#9c179e\"], [0.4444444444444444, \"#bd3786\"], [0.5555555555555556, \"#d8576b\"], [0.6666666666666666, \"#ed7953\"], [0.7777777777777778, \"#fb9f3a\"], [0.8888888888888888, \"#fdca26\"], [1.0, \"#f0f921\"]], \"sequentialminus\": [[0.0, \"#0d0887\"], [0.1111111111111111, \"#46039f\"], [0.2222222222222222, \"#7201a8\"], [0.3333333333333333, \"#9c179e\"], [0.4444444444444444, \"#bd3786\"], [0.5555555555555556, \"#d8576b\"], [0.6666666666666666, \"#ed7953\"], [0.7777777777777778, \"#fb9f3a\"], [0.8888888888888888, \"#fdca26\"], [1.0, \"#f0f921\"]]}, \"colorway\": [\"#636efa\", \"#EF553B\", \"#00cc96\", \"#ab63fa\", \"#FFA15A\", \"#19d3f3\", \"#FF6692\", \"#B6E880\", \"#FF97FF\", \"#FECB52\"], \"font\": {\"color\": \"#2a3f5f\"}, \"geo\": {\"bgcolor\": \"white\", \"lakecolor\": \"white\", \"landcolor\": \"#E5ECF6\", \"showlakes\": true, \"showland\": true, \"subunitcolor\": \"white\"}, \"hoverlabel\": {\"align\": \"left\"}, \"hovermode\": \"closest\", \"mapbox\": {\"style\": \"light\"}, \"paper_bgcolor\": \"white\", \"plot_bgcolor\": \"#E5ECF6\", \"polar\": {\"angularaxis\": {\"gridcolor\": \"white\", \"linecolor\": \"white\", \"ticks\": \"\"}, \"bgcolor\": \"#E5ECF6\", \"radialaxis\": {\"gridcolor\": \"white\", \"linecolor\": \"white\", \"ticks\": \"\"}}, \"scene\": {\"xaxis\": {\"backgroundcolor\": \"#E5ECF6\", \"gridcolor\": \"white\", \"gridwidth\": 2, \"linecolor\": \"white\", \"showbackground\": true, \"ticks\": \"\", \"zerolinecolor\": \"white\"}, \"yaxis\": {\"backgroundcolor\": \"#E5ECF6\", \"gridcolor\": \"white\", \"gridwidth\": 2, \"linecolor\": \"white\", \"showbackground\": true, \"ticks\": \"\", \"zerolinecolor\": \"white\"}, \"zaxis\": {\"backgroundcolor\": \"#E5ECF6\", \"gridcolor\": \"white\", \"gridwidth\": 2, \"linecolor\": \"white\", \"showbackground\": true, \"ticks\": \"\", \"zerolinecolor\": \"white\"}}, \"shapedefaults\": {\"line\": {\"color\": \"#2a3f5f\"}}, \"ternary\": {\"aaxis\": {\"gridcolor\": \"white\", \"linecolor\": \"white\", \"ticks\": \"\"}, \"baxis\": {\"gridcolor\": \"white\", \"linecolor\": \"white\", \"ticks\": \"\"}, \"bgcolor\": \"#E5ECF6\", \"caxis\": {\"gridcolor\": \"white\", \"linecolor\": \"white\", \"ticks\": \"\"}}, \"title\": {\"x\": 0.05}, \"xaxis\": {\"automargin\": true, \"gridcolor\": \"white\", \"linecolor\": \"white\", \"ticks\": \"\", \"zerolinecolor\": \"white\", \"zerolinewidth\": 2}, \"yaxis\": {\"automargin\": true, \"gridcolor\": \"white\", \"linecolor\": \"white\", \"ticks\": \"\", \"zerolinecolor\": \"white\", \"zerolinewidth\": 2}}}, \"width\": 900},\n",
       "                        {\"responsive\": true}\n",
       "                    ).then(function(){\n",
       "                            \n",
       "var gd = document.getElementById('88e923c6-282c-4ae2-ade5-68da4f03b5c0');\n",
       "var x = new MutationObserver(function (mutations, observer) {{\n",
       "        var display = window.getComputedStyle(gd).display;\n",
       "        if (!display || display === 'none') {{\n",
       "            console.log([gd, 'removed!']);\n",
       "            Plotly.purge(gd);\n",
       "            observer.disconnect();\n",
       "        }}\n",
       "}});\n",
       "\n",
       "// Listen for the removal of the full notebook cells\n",
       "var notebookContainer = gd.closest('#notebook-container');\n",
       "if (notebookContainer) {{\n",
       "    x.observe(notebookContainer, {childList: true});\n",
       "}}\n",
       "\n",
       "// Listen for the clearing of the current output cell\n",
       "var outputEl = gd.closest('.output');\n",
       "if (outputEl) {{\n",
       "    x.observe(outputEl, {childList: true});\n",
       "}}\n",
       "\n",
       "                        })\n",
       "                };\n",
       "                });\n",
       "            </script>\n",
       "        </div>"
      ]
     },
     "metadata": {},
     "output_type": "display_data"
    }
   ],
   "source": [
    "data = []\n",
    "for name, count_dict in zip(['1E0', '1E2', '1E4', '1E5'], [count_dict_a, count_dict_b, count_dict_c, count_dict_d]):\n",
    "    trace = go.Scatter(\n",
    "        x=list(itertools.chain.from_iterable([count_dict[key]['conc_nonzero'].tolist() for key in count_dict])),\n",
    "        y=list(itertools.chain.from_iterable([count_dict[key]['reads_norm_log'].tolist() for key in count_dict])),\n",
    "        mode='markers',\n",
    "        name=name\n",
    "    )\n",
    "    data.append(trace)\n",
    "data.append(\n",
    "    go.Scatter(\n",
    "        x=conc_ls,\n",
    "        y=slope_all*np.array(conc_ls)+int_all,\n",
    "        mode='lines', \n",
    "        showlegend=False\n",
    "    )\n",
    ")\n",
    "layout = go.Layout(\n",
    "    height=700,\n",
    "    width=900,\n",
    "    annotations=[dict(\n",
    "        x=6,\n",
    "        y=0,\n",
    "        text=f\"Slope: {slope_all:0.2f}<br>R<sup>2</sup>:{rval_all**2:0.2f}\",\n",
    "        font=dict(\n",
    "            size=14\n",
    "        ),\n",
    "        showarrow=False\n",
    "    )]\n",
    ")\n",
    "fig = go.Figure(data, layout)\n",
    "fig.show()"
   ]
  },
  {
   "cell_type": "markdown",
   "metadata": {},
   "source": [
    "#### Absolute deviation"
   ]
  },
  {
   "cell_type": "code",
   "execution_count": 135,
   "metadata": {},
   "outputs": [
    {
     "data": {
      "application/vnd.plotly.v1+json": {
       "config": {
        "plotlyServerURL": "https://plot.ly"
       },
       "data": [
        {
         "name": "1E0",
         "type": "histogram",
         "x": [
          -0.11389646566592848,
          -0.009835815392025271,
          -0.2689771222655395,
          0.01971797958585131,
          -0.10512880884569387,
          -0.2542436587095014,
          -0.10651994933572118,
          -0.1105269533316604,
          0.2170845248493829,
          0.18355898950617944,
          0.008985790410856342,
          0.12237466561875943,
          0.1363351503053012,
          0.554528710654643,
          0.5189719432974873,
          -0.03762293760490243,
          0.13457842231276063,
          0.11015535732182569,
          0.4107910839276758,
          0.45649186739218395,
          0.08212509355765096,
          0.05434662033923088,
          0.0884488748222072,
          0.3749559482949758,
          0.3545466858786536,
          0.13561303538828007,
          0.1580318410669017,
          0.13877829740800673,
          0.46607642641052327,
          0.5069439362515622,
          0.13823811598576752,
          0.17485045546672184,
          0.15151677248965223,
          0.40694529767638654,
          0.4188363846846625,
          -0.14195427473232058,
          -0.028879460872492047,
          -0.18377996888631798,
          0.2245209917048414,
          0.21517991264138425
         ]
        },
        {
         "name": "1E2",
         "type": "histogram",
         "x": [
          0.14251883836220092,
          0.07837098742215165,
          0.22190185023556852,
          0.03884910373434414,
          0.07407678636975087,
          -0.39919811145009243,
          -0.016516543488255042,
          -0.06730057401897938,
          -0.13172350855566772,
          -0.25895707645286337,
          0.05544529392049968,
          0.1663825935381018,
          0.08939501911064629,
          -0.09574267849964391,
          -0.09415017045994886,
          0.08302381669129089,
          0.17670775852326326,
          0.05157445143653239,
          -0.14833484447404843,
          -0.0995262594307113,
          -0.17930173856038545,
          -0.05744319944812837,
          -0.08975970737339889,
          -0.1945156751328304,
          -0.3062863460016715,
          0.14034349553372572,
          0.1870398988966393,
          0.06889382742048777,
          -0.07109016261105261,
          -0.0183361575213713,
          0.1304899634448824,
          0.07234313043903473,
          0.004209338402943574,
          -0.16295112101072262,
          -0.10722709993628332,
          0.14891747691665103,
          -0.07854396898411498,
          -0.028770912708668828,
          -0.1571724554892353,
          -0.21313132174739105
         ]
        },
        {
         "name": "1E4",
         "type": "histogram",
         "x": [
          -0.3241122176775004,
          0.015817502840332676,
          -0.02222469791616577,
          -0.1655707309027259,
          -0.35530586455158397,
          0.18594172387945473,
          0.040262079452106914,
          0.01482455511595937,
          -0.1007668762354037,
          -0.19013520236449166,
          -0.17946679720698633,
          0.049245445262913634,
          -0.11730575457334358,
          -0.1954212114363405,
          -0.33213075224477073,
          0.062153714915161196,
          0.052448106335512,
          -0.00568791808736413,
          -0.07179502058256149,
          -0.1253871328188463,
          -0.37805662063871903,
          -0.1317592033677064,
          -0.0837121472275455,
          -0.1516613592564786,
          -0.29250600951977423,
          0.1369444797171826,
          0.05657942749720868,
          -0.06416365052133466,
          -0.11949298118220267,
          0.14938314555557142,
          0.12657310739210903,
          0.07762287083040886,
          -0.0535673534262624,
          0.33008520142177833,
          0.1635340015855209,
          0.010072764469036488,
          -0.06853338798998213
         ]
        },
        {
         "name": "1E5",
         "type": "histogram",
         "x": [
          -0.4581116814387163,
          -0.20487704206023194,
          0.0544891258004625,
          -0.5344240270369089,
          -0.33902036544059033,
          -0.23567516317723358,
          0.06161281303714161,
          -0.5807371431643485,
          0.08501681637878145,
          0.0631254731944133,
          -0.32070114854276255,
          -0.008537595284431543,
          0.07532049405927177,
          -0.41292958099982624,
          0.09933709457581541,
          0.08132372122911025,
          -0.3632421829275971,
          0.22644085541725323,
          0.3425763189679125,
          0.10819760858635613,
          0.2263560360489527,
          0.3812904261049681,
          -0.31034488847217667,
          -0.20242483772414577,
          0.13640968307015977,
          -0.46986380339523753
         ]
        }
       ],
       "layout": {
        "height": 700,
        "template": {
         "data": {
          "bar": [
           {
            "error_x": {
             "color": "#2a3f5f"
            },
            "error_y": {
             "color": "#2a3f5f"
            },
            "marker": {
             "line": {
              "color": "#E5ECF6",
              "width": 0.5
             }
            },
            "type": "bar"
           }
          ],
          "barpolar": [
           {
            "marker": {
             "line": {
              "color": "#E5ECF6",
              "width": 0.5
             }
            },
            "type": "barpolar"
           }
          ],
          "carpet": [
           {
            "aaxis": {
             "endlinecolor": "#2a3f5f",
             "gridcolor": "white",
             "linecolor": "white",
             "minorgridcolor": "white",
             "startlinecolor": "#2a3f5f"
            },
            "baxis": {
             "endlinecolor": "#2a3f5f",
             "gridcolor": "white",
             "linecolor": "white",
             "minorgridcolor": "white",
             "startlinecolor": "#2a3f5f"
            },
            "type": "carpet"
           }
          ],
          "choropleth": [
           {
            "colorbar": {
             "outlinewidth": 0,
             "ticks": ""
            },
            "type": "choropleth"
           }
          ],
          "contour": [
           {
            "colorbar": {
             "outlinewidth": 0,
             "ticks": ""
            },
            "colorscale": [
             [
              0,
              "#0d0887"
             ],
             [
              0.1111111111111111,
              "#46039f"
             ],
             [
              0.2222222222222222,
              "#7201a8"
             ],
             [
              0.3333333333333333,
              "#9c179e"
             ],
             [
              0.4444444444444444,
              "#bd3786"
             ],
             [
              0.5555555555555556,
              "#d8576b"
             ],
             [
              0.6666666666666666,
              "#ed7953"
             ],
             [
              0.7777777777777778,
              "#fb9f3a"
             ],
             [
              0.8888888888888888,
              "#fdca26"
             ],
             [
              1,
              "#f0f921"
             ]
            ],
            "type": "contour"
           }
          ],
          "contourcarpet": [
           {
            "colorbar": {
             "outlinewidth": 0,
             "ticks": ""
            },
            "type": "contourcarpet"
           }
          ],
          "heatmap": [
           {
            "colorbar": {
             "outlinewidth": 0,
             "ticks": ""
            },
            "colorscale": [
             [
              0,
              "#0d0887"
             ],
             [
              0.1111111111111111,
              "#46039f"
             ],
             [
              0.2222222222222222,
              "#7201a8"
             ],
             [
              0.3333333333333333,
              "#9c179e"
             ],
             [
              0.4444444444444444,
              "#bd3786"
             ],
             [
              0.5555555555555556,
              "#d8576b"
             ],
             [
              0.6666666666666666,
              "#ed7953"
             ],
             [
              0.7777777777777778,
              "#fb9f3a"
             ],
             [
              0.8888888888888888,
              "#fdca26"
             ],
             [
              1,
              "#f0f921"
             ]
            ],
            "type": "heatmap"
           }
          ],
          "heatmapgl": [
           {
            "colorbar": {
             "outlinewidth": 0,
             "ticks": ""
            },
            "colorscale": [
             [
              0,
              "#0d0887"
             ],
             [
              0.1111111111111111,
              "#46039f"
             ],
             [
              0.2222222222222222,
              "#7201a8"
             ],
             [
              0.3333333333333333,
              "#9c179e"
             ],
             [
              0.4444444444444444,
              "#bd3786"
             ],
             [
              0.5555555555555556,
              "#d8576b"
             ],
             [
              0.6666666666666666,
              "#ed7953"
             ],
             [
              0.7777777777777778,
              "#fb9f3a"
             ],
             [
              0.8888888888888888,
              "#fdca26"
             ],
             [
              1,
              "#f0f921"
             ]
            ],
            "type": "heatmapgl"
           }
          ],
          "histogram": [
           {
            "marker": {
             "colorbar": {
              "outlinewidth": 0,
              "ticks": ""
             }
            },
            "type": "histogram"
           }
          ],
          "histogram2d": [
           {
            "colorbar": {
             "outlinewidth": 0,
             "ticks": ""
            },
            "colorscale": [
             [
              0,
              "#0d0887"
             ],
             [
              0.1111111111111111,
              "#46039f"
             ],
             [
              0.2222222222222222,
              "#7201a8"
             ],
             [
              0.3333333333333333,
              "#9c179e"
             ],
             [
              0.4444444444444444,
              "#bd3786"
             ],
             [
              0.5555555555555556,
              "#d8576b"
             ],
             [
              0.6666666666666666,
              "#ed7953"
             ],
             [
              0.7777777777777778,
              "#fb9f3a"
             ],
             [
              0.8888888888888888,
              "#fdca26"
             ],
             [
              1,
              "#f0f921"
             ]
            ],
            "type": "histogram2d"
           }
          ],
          "histogram2dcontour": [
           {
            "colorbar": {
             "outlinewidth": 0,
             "ticks": ""
            },
            "colorscale": [
             [
              0,
              "#0d0887"
             ],
             [
              0.1111111111111111,
              "#46039f"
             ],
             [
              0.2222222222222222,
              "#7201a8"
             ],
             [
              0.3333333333333333,
              "#9c179e"
             ],
             [
              0.4444444444444444,
              "#bd3786"
             ],
             [
              0.5555555555555556,
              "#d8576b"
             ],
             [
              0.6666666666666666,
              "#ed7953"
             ],
             [
              0.7777777777777778,
              "#fb9f3a"
             ],
             [
              0.8888888888888888,
              "#fdca26"
             ],
             [
              1,
              "#f0f921"
             ]
            ],
            "type": "histogram2dcontour"
           }
          ],
          "mesh3d": [
           {
            "colorbar": {
             "outlinewidth": 0,
             "ticks": ""
            },
            "type": "mesh3d"
           }
          ],
          "parcoords": [
           {
            "line": {
             "colorbar": {
              "outlinewidth": 0,
              "ticks": ""
             }
            },
            "type": "parcoords"
           }
          ],
          "scatter": [
           {
            "marker": {
             "colorbar": {
              "outlinewidth": 0,
              "ticks": ""
             }
            },
            "type": "scatter"
           }
          ],
          "scatter3d": [
           {
            "line": {
             "colorbar": {
              "outlinewidth": 0,
              "ticks": ""
             }
            },
            "marker": {
             "colorbar": {
              "outlinewidth": 0,
              "ticks": ""
             }
            },
            "type": "scatter3d"
           }
          ],
          "scattercarpet": [
           {
            "marker": {
             "colorbar": {
              "outlinewidth": 0,
              "ticks": ""
             }
            },
            "type": "scattercarpet"
           }
          ],
          "scattergeo": [
           {
            "marker": {
             "colorbar": {
              "outlinewidth": 0,
              "ticks": ""
             }
            },
            "type": "scattergeo"
           }
          ],
          "scattergl": [
           {
            "marker": {
             "colorbar": {
              "outlinewidth": 0,
              "ticks": ""
             }
            },
            "type": "scattergl"
           }
          ],
          "scattermapbox": [
           {
            "marker": {
             "colorbar": {
              "outlinewidth": 0,
              "ticks": ""
             }
            },
            "type": "scattermapbox"
           }
          ],
          "scatterpolar": [
           {
            "marker": {
             "colorbar": {
              "outlinewidth": 0,
              "ticks": ""
             }
            },
            "type": "scatterpolar"
           }
          ],
          "scatterpolargl": [
           {
            "marker": {
             "colorbar": {
              "outlinewidth": 0,
              "ticks": ""
             }
            },
            "type": "scatterpolargl"
           }
          ],
          "scatterternary": [
           {
            "marker": {
             "colorbar": {
              "outlinewidth": 0,
              "ticks": ""
             }
            },
            "type": "scatterternary"
           }
          ],
          "surface": [
           {
            "colorbar": {
             "outlinewidth": 0,
             "ticks": ""
            },
            "colorscale": [
             [
              0,
              "#0d0887"
             ],
             [
              0.1111111111111111,
              "#46039f"
             ],
             [
              0.2222222222222222,
              "#7201a8"
             ],
             [
              0.3333333333333333,
              "#9c179e"
             ],
             [
              0.4444444444444444,
              "#bd3786"
             ],
             [
              0.5555555555555556,
              "#d8576b"
             ],
             [
              0.6666666666666666,
              "#ed7953"
             ],
             [
              0.7777777777777778,
              "#fb9f3a"
             ],
             [
              0.8888888888888888,
              "#fdca26"
             ],
             [
              1,
              "#f0f921"
             ]
            ],
            "type": "surface"
           }
          ],
          "table": [
           {
            "cells": {
             "fill": {
              "color": "#EBF0F8"
             },
             "line": {
              "color": "white"
             }
            },
            "header": {
             "fill": {
              "color": "#C8D4E3"
             },
             "line": {
              "color": "white"
             }
            },
            "type": "table"
           }
          ]
         },
         "layout": {
          "annotationdefaults": {
           "arrowcolor": "#2a3f5f",
           "arrowhead": 0,
           "arrowwidth": 1
          },
          "colorscale": {
           "diverging": [
            [
             0,
             "#8e0152"
            ],
            [
             0.1,
             "#c51b7d"
            ],
            [
             0.2,
             "#de77ae"
            ],
            [
             0.3,
             "#f1b6da"
            ],
            [
             0.4,
             "#fde0ef"
            ],
            [
             0.5,
             "#f7f7f7"
            ],
            [
             0.6,
             "#e6f5d0"
            ],
            [
             0.7,
             "#b8e186"
            ],
            [
             0.8,
             "#7fbc41"
            ],
            [
             0.9,
             "#4d9221"
            ],
            [
             1,
             "#276419"
            ]
           ],
           "sequential": [
            [
             0,
             "#0d0887"
            ],
            [
             0.1111111111111111,
             "#46039f"
            ],
            [
             0.2222222222222222,
             "#7201a8"
            ],
            [
             0.3333333333333333,
             "#9c179e"
            ],
            [
             0.4444444444444444,
             "#bd3786"
            ],
            [
             0.5555555555555556,
             "#d8576b"
            ],
            [
             0.6666666666666666,
             "#ed7953"
            ],
            [
             0.7777777777777778,
             "#fb9f3a"
            ],
            [
             0.8888888888888888,
             "#fdca26"
            ],
            [
             1,
             "#f0f921"
            ]
           ],
           "sequentialminus": [
            [
             0,
             "#0d0887"
            ],
            [
             0.1111111111111111,
             "#46039f"
            ],
            [
             0.2222222222222222,
             "#7201a8"
            ],
            [
             0.3333333333333333,
             "#9c179e"
            ],
            [
             0.4444444444444444,
             "#bd3786"
            ],
            [
             0.5555555555555556,
             "#d8576b"
            ],
            [
             0.6666666666666666,
             "#ed7953"
            ],
            [
             0.7777777777777778,
             "#fb9f3a"
            ],
            [
             0.8888888888888888,
             "#fdca26"
            ],
            [
             1,
             "#f0f921"
            ]
           ]
          },
          "colorway": [
           "#636efa",
           "#EF553B",
           "#00cc96",
           "#ab63fa",
           "#FFA15A",
           "#19d3f3",
           "#FF6692",
           "#B6E880",
           "#FF97FF",
           "#FECB52"
          ],
          "font": {
           "color": "#2a3f5f"
          },
          "geo": {
           "bgcolor": "white",
           "lakecolor": "white",
           "landcolor": "#E5ECF6",
           "showlakes": true,
           "showland": true,
           "subunitcolor": "white"
          },
          "hoverlabel": {
           "align": "left"
          },
          "hovermode": "closest",
          "mapbox": {
           "style": "light"
          },
          "paper_bgcolor": "white",
          "plot_bgcolor": "#E5ECF6",
          "polar": {
           "angularaxis": {
            "gridcolor": "white",
            "linecolor": "white",
            "ticks": ""
           },
           "bgcolor": "#E5ECF6",
           "radialaxis": {
            "gridcolor": "white",
            "linecolor": "white",
            "ticks": ""
           }
          },
          "scene": {
           "xaxis": {
            "backgroundcolor": "#E5ECF6",
            "gridcolor": "white",
            "gridwidth": 2,
            "linecolor": "white",
            "showbackground": true,
            "ticks": "",
            "zerolinecolor": "white"
           },
           "yaxis": {
            "backgroundcolor": "#E5ECF6",
            "gridcolor": "white",
            "gridwidth": 2,
            "linecolor": "white",
            "showbackground": true,
            "ticks": "",
            "zerolinecolor": "white"
           },
           "zaxis": {
            "backgroundcolor": "#E5ECF6",
            "gridcolor": "white",
            "gridwidth": 2,
            "linecolor": "white",
            "showbackground": true,
            "ticks": "",
            "zerolinecolor": "white"
           }
          },
          "shapedefaults": {
           "line": {
            "color": "#2a3f5f"
           }
          },
          "ternary": {
           "aaxis": {
            "gridcolor": "white",
            "linecolor": "white",
            "ticks": ""
           },
           "baxis": {
            "gridcolor": "white",
            "linecolor": "white",
            "ticks": ""
           },
           "bgcolor": "#E5ECF6",
           "caxis": {
            "gridcolor": "white",
            "linecolor": "white",
            "ticks": ""
           }
          },
          "title": {
           "x": 0.05
          },
          "xaxis": {
           "automargin": true,
           "gridcolor": "white",
           "linecolor": "white",
           "ticks": "",
           "zerolinecolor": "white",
           "zerolinewidth": 2
          },
          "yaxis": {
           "automargin": true,
           "gridcolor": "white",
           "linecolor": "white",
           "ticks": "",
           "zerolinecolor": "white",
           "zerolinewidth": 2
          }
         }
        },
        "width": 900,
        "xaxis": {
         "autorange": true,
         "range": [
          -0.6000000000000001,
          0.6000000000000001
         ],
         "type": "linear"
        },
        "yaxis": {
         "autorange": true,
         "range": [
          0,
          11.578947368421053
         ]
        }
       }
      },
      "image/png": "[encoded data removed]",
      "text/html": [
       "<div>\n",
       "        \n",
       "        \n",
       "            <div id=\"7c9a57b8-7829-4988-9808-3da090c15039\" class=\"plotly-graph-div\" style=\"height:700px; width:900px;\"></div>\n",
       "            <script type=\"text/javascript\">\n",
       "                require([\"plotly\"], function(Plotly) {\n",
       "                    window.PLOTLYENV=window.PLOTLYENV || {};\n",
       "                    \n",
       "                if (document.getElementById(\"7c9a57b8-7829-4988-9808-3da090c15039\")) {\n",
       "                    Plotly.newPlot(\n",
       "                        '7c9a57b8-7829-4988-9808-3da090c15039',\n",
       "                        [{\"name\": \"1E0\", \"type\": \"histogram\", \"x\": [-0.11389646566592848, -0.009835815392025271, -0.2689771222655395, 0.01971797958585131, -0.10512880884569387, -0.2542436587095014, -0.10651994933572118, -0.1105269533316604, 0.2170845248493829, 0.18355898950617944, 0.008985790410856342, 0.12237466561875943, 0.1363351503053012, 0.554528710654643, 0.5189719432974873, -0.03762293760490243, 0.13457842231276063, 0.11015535732182569, 0.4107910839276758, 0.45649186739218395, 0.08212509355765096, 0.05434662033923088, 0.0884488748222072, 0.3749559482949758, 0.3545466858786536, 0.13561303538828007, 0.1580318410669017, 0.13877829740800673, 0.46607642641052327, 0.5069439362515622, 0.13823811598576752, 0.17485045546672184, 0.15151677248965223, 0.40694529767638654, 0.4188363846846625, -0.14195427473232058, -0.028879460872492047, -0.18377996888631798, 0.2245209917048414, 0.21517991264138425]}, {\"name\": \"1E2\", \"type\": \"histogram\", \"x\": [0.14251883836220092, 0.07837098742215165, 0.22190185023556852, 0.03884910373434414, 0.07407678636975087, -0.39919811145009243, -0.016516543488255042, -0.06730057401897938, -0.13172350855566772, -0.25895707645286337, 0.05544529392049968, 0.1663825935381018, 0.08939501911064629, -0.09574267849964391, -0.09415017045994886, 0.08302381669129089, 0.17670775852326326, 0.05157445143653239, -0.14833484447404843, -0.0995262594307113, -0.17930173856038545, -0.05744319944812837, -0.08975970737339889, -0.1945156751328304, -0.3062863460016715, 0.14034349553372572, 0.1870398988966393, 0.06889382742048777, -0.07109016261105261, -0.0183361575213713, 0.1304899634448824, 0.07234313043903473, 0.004209338402943574, -0.16295112101072262, -0.10722709993628332, 0.14891747691665103, -0.07854396898411498, -0.028770912708668828, -0.1571724554892353, -0.21313132174739105]}, {\"name\": \"1E4\", \"type\": \"histogram\", \"x\": [-0.3241122176775004, 0.015817502840332676, -0.02222469791616577, -0.1655707309027259, -0.35530586455158397, 0.18594172387945473, 0.040262079452106914, 0.01482455511595937, -0.1007668762354037, -0.19013520236449166, -0.17946679720698633, 0.049245445262913634, -0.11730575457334358, -0.1954212114363405, -0.33213075224477073, 0.062153714915161196, 0.052448106335512, -0.00568791808736413, -0.07179502058256149, -0.1253871328188463, -0.37805662063871903, -0.1317592033677064, -0.0837121472275455, -0.1516613592564786, -0.29250600951977423, 0.1369444797171826, 0.05657942749720868, -0.06416365052133466, -0.11949298118220267, 0.14938314555557142, 0.12657310739210903, 0.07762287083040886, -0.0535673534262624, 0.33008520142177833, 0.1635340015855209, 0.010072764469036488, -0.06853338798998213]}, {\"name\": \"1E5\", \"type\": \"histogram\", \"x\": [-0.4581116814387163, -0.20487704206023194, 0.0544891258004625, -0.5344240270369089, -0.33902036544059033, -0.23567516317723358, 0.06161281303714161, -0.5807371431643485, 0.08501681637878145, 0.0631254731944133, -0.32070114854276255, -0.008537595284431543, 0.07532049405927177, -0.41292958099982624, 0.09933709457581541, 0.08132372122911025, -0.3632421829275971, 0.22644085541725323, 0.3425763189679125, 0.10819760858635613, 0.2263560360489527, 0.3812904261049681, -0.31034488847217667, -0.20242483772414577, 0.13640968307015977, -0.46986380339523753]}],\n",
       "                        {\"height\": 700, \"template\": {\"data\": {\"bar\": [{\"error_x\": {\"color\": \"#2a3f5f\"}, \"error_y\": {\"color\": \"#2a3f5f\"}, \"marker\": {\"line\": {\"color\": \"#E5ECF6\", \"width\": 0.5}}, \"type\": \"bar\"}], \"barpolar\": [{\"marker\": {\"line\": {\"color\": \"#E5ECF6\", \"width\": 0.5}}, \"type\": \"barpolar\"}], \"carpet\": [{\"aaxis\": {\"endlinecolor\": \"#2a3f5f\", \"gridcolor\": \"white\", \"linecolor\": \"white\", \"minorgridcolor\": \"white\", \"startlinecolor\": \"#2a3f5f\"}, \"baxis\": {\"endlinecolor\": \"#2a3f5f\", \"gridcolor\": \"white\", \"linecolor\": \"white\", \"minorgridcolor\": \"white\", \"startlinecolor\": \"#2a3f5f\"}, \"type\": \"carpet\"}], \"choropleth\": [{\"colorbar\": {\"outlinewidth\": 0, \"ticks\": \"\"}, \"type\": \"choropleth\"}], \"contour\": [{\"colorbar\": {\"outlinewidth\": 0, \"ticks\": \"\"}, \"colorscale\": [[0.0, \"#0d0887\"], [0.1111111111111111, \"#46039f\"], [0.2222222222222222, \"#7201a8\"], [0.3333333333333333, \"#9c179e\"], [0.4444444444444444, \"#bd3786\"], [0.5555555555555556, \"#d8576b\"], [0.6666666666666666, \"#ed7953\"], [0.7777777777777778, \"#fb9f3a\"], [0.8888888888888888, \"#fdca26\"], [1.0, \"#f0f921\"]], \"type\": \"contour\"}], \"contourcarpet\": [{\"colorbar\": {\"outlinewidth\": 0, \"ticks\": \"\"}, \"type\": \"contourcarpet\"}], \"heatmap\": [{\"colorbar\": {\"outlinewidth\": 0, \"ticks\": \"\"}, \"colorscale\": [[0.0, \"#0d0887\"], [0.1111111111111111, \"#46039f\"], [0.2222222222222222, \"#7201a8\"], [0.3333333333333333, \"#9c179e\"], [0.4444444444444444, \"#bd3786\"], [0.5555555555555556, \"#d8576b\"], [0.6666666666666666, \"#ed7953\"], [0.7777777777777778, \"#fb9f3a\"], [0.8888888888888888, \"#fdca26\"], [1.0, \"#f0f921\"]], \"type\": \"heatmap\"}], \"heatmapgl\": [{\"colorbar\": {\"outlinewidth\": 0, \"ticks\": \"\"}, \"colorscale\": [[0.0, \"#0d0887\"], [0.1111111111111111, \"#46039f\"], [0.2222222222222222, \"#7201a8\"], [0.3333333333333333, \"#9c179e\"], [0.4444444444444444, \"#bd3786\"], [0.5555555555555556, \"#d8576b\"], [0.6666666666666666, \"#ed7953\"], [0.7777777777777778, \"#fb9f3a\"], [0.8888888888888888, \"#fdca26\"], [1.0, \"#f0f921\"]], \"type\": \"heatmapgl\"}], \"histogram\": [{\"marker\": {\"colorbar\": {\"outlinewidth\": 0, \"ticks\": \"\"}}, \"type\": \"histogram\"}], \"histogram2d\": [{\"colorbar\": {\"outlinewidth\": 0, \"ticks\": \"\"}, \"colorscale\": [[0.0, \"#0d0887\"], [0.1111111111111111, \"#46039f\"], [0.2222222222222222, \"#7201a8\"], [0.3333333333333333, \"#9c179e\"], [0.4444444444444444, \"#bd3786\"], [0.5555555555555556, \"#d8576b\"], [0.6666666666666666, \"#ed7953\"], [0.7777777777777778, \"#fb9f3a\"], [0.8888888888888888, \"#fdca26\"], [1.0, \"#f0f921\"]], \"type\": \"histogram2d\"}], \"histogram2dcontour\": [{\"colorbar\": {\"outlinewidth\": 0, \"ticks\": \"\"}, \"colorscale\": [[0.0, \"#0d0887\"], [0.1111111111111111, \"#46039f\"], [0.2222222222222222, \"#7201a8\"], [0.3333333333333333, \"#9c179e\"], [0.4444444444444444, \"#bd3786\"], [0.5555555555555556, \"#d8576b\"], [0.6666666666666666, \"#ed7953\"], [0.7777777777777778, \"#fb9f3a\"], [0.8888888888888888, \"#fdca26\"], [1.0, \"#f0f921\"]], \"type\": \"histogram2dcontour\"}], \"mesh3d\": [{\"colorbar\": {\"outlinewidth\": 0, \"ticks\": \"\"}, \"type\": \"mesh3d\"}], \"parcoords\": [{\"line\": {\"colorbar\": {\"outlinewidth\": 0, \"ticks\": \"\"}}, \"type\": \"parcoords\"}], \"scatter\": [{\"marker\": {\"colorbar\": {\"outlinewidth\": 0, \"ticks\": \"\"}}, \"type\": \"scatter\"}], \"scatter3d\": [{\"line\": {\"colorbar\": {\"outlinewidth\": 0, \"ticks\": \"\"}}, \"marker\": {\"colorbar\": {\"outlinewidth\": 0, \"ticks\": \"\"}}, \"type\": \"scatter3d\"}], \"scattercarpet\": [{\"marker\": {\"colorbar\": {\"outlinewidth\": 0, \"ticks\": \"\"}}, \"type\": \"scattercarpet\"}], \"scattergeo\": [{\"marker\": {\"colorbar\": {\"outlinewidth\": 0, \"ticks\": \"\"}}, \"type\": \"scattergeo\"}], \"scattergl\": [{\"marker\": {\"colorbar\": {\"outlinewidth\": 0, \"ticks\": \"\"}}, \"type\": \"scattergl\"}], \"scattermapbox\": [{\"marker\": {\"colorbar\": {\"outlinewidth\": 0, \"ticks\": \"\"}}, \"type\": \"scattermapbox\"}], \"scatterpolar\": [{\"marker\": {\"colorbar\": {\"outlinewidth\": 0, \"ticks\": \"\"}}, \"type\": \"scatterpolar\"}], \"scatterpolargl\": [{\"marker\": {\"colorbar\": {\"outlinewidth\": 0, \"ticks\": \"\"}}, \"type\": \"scatterpolargl\"}], \"scatterternary\": [{\"marker\": {\"colorbar\": {\"outlinewidth\": 0, \"ticks\": \"\"}}, \"type\": \"scatterternary\"}], \"surface\": [{\"colorbar\": {\"outlinewidth\": 0, \"ticks\": \"\"}, \"colorscale\": [[0.0, \"#0d0887\"], [0.1111111111111111, \"#46039f\"], [0.2222222222222222, \"#7201a8\"], [0.3333333333333333, \"#9c179e\"], [0.4444444444444444, \"#bd3786\"], [0.5555555555555556, \"#d8576b\"], [0.6666666666666666, \"#ed7953\"], [0.7777777777777778, \"#fb9f3a\"], [0.8888888888888888, \"#fdca26\"], [1.0, \"#f0f921\"]], \"type\": \"surface\"}], \"table\": [{\"cells\": {\"fill\": {\"color\": \"#EBF0F8\"}, \"line\": {\"color\": \"white\"}}, \"header\": {\"fill\": {\"color\": \"#C8D4E3\"}, \"line\": {\"color\": \"white\"}}, \"type\": \"table\"}]}, \"layout\": {\"annotationdefaults\": {\"arrowcolor\": \"#2a3f5f\", \"arrowhead\": 0, \"arrowwidth\": 1}, \"colorscale\": {\"diverging\": [[0, \"#8e0152\"], [0.1, \"#c51b7d\"], [0.2, \"#de77ae\"], [0.3, \"#f1b6da\"], [0.4, \"#fde0ef\"], [0.5, \"#f7f7f7\"], [0.6, \"#e6f5d0\"], [0.7, \"#b8e186\"], [0.8, \"#7fbc41\"], [0.9, \"#4d9221\"], [1, \"#276419\"]], \"sequential\": [[0.0, \"#0d0887\"], [0.1111111111111111, \"#46039f\"], [0.2222222222222222, \"#7201a8\"], [0.3333333333333333, \"#9c179e\"], [0.4444444444444444, \"#bd3786\"], [0.5555555555555556, \"#d8576b\"], [0.6666666666666666, \"#ed7953\"], [0.7777777777777778, \"#fb9f3a\"], [0.8888888888888888, \"#fdca26\"], [1.0, \"#f0f921\"]], \"sequentialminus\": [[0.0, \"#0d0887\"], [0.1111111111111111, \"#46039f\"], [0.2222222222222222, \"#7201a8\"], [0.3333333333333333, \"#9c179e\"], [0.4444444444444444, \"#bd3786\"], [0.5555555555555556, \"#d8576b\"], [0.6666666666666666, \"#ed7953\"], [0.7777777777777778, \"#fb9f3a\"], [0.8888888888888888, \"#fdca26\"], [1.0, \"#f0f921\"]]}, \"colorway\": [\"#636efa\", \"#EF553B\", \"#00cc96\", \"#ab63fa\", \"#FFA15A\", \"#19d3f3\", \"#FF6692\", \"#B6E880\", \"#FF97FF\", \"#FECB52\"], \"font\": {\"color\": \"#2a3f5f\"}, \"geo\": {\"bgcolor\": \"white\", \"lakecolor\": \"white\", \"landcolor\": \"#E5ECF6\", \"showlakes\": true, \"showland\": true, \"subunitcolor\": \"white\"}, \"hoverlabel\": {\"align\": \"left\"}, \"hovermode\": \"closest\", \"mapbox\": {\"style\": \"light\"}, \"paper_bgcolor\": \"white\", \"plot_bgcolor\": \"#E5ECF6\", \"polar\": {\"angularaxis\": {\"gridcolor\": \"white\", \"linecolor\": \"white\", \"ticks\": \"\"}, \"bgcolor\": \"#E5ECF6\", \"radialaxis\": {\"gridcolor\": \"white\", \"linecolor\": \"white\", \"ticks\": \"\"}}, \"scene\": {\"xaxis\": {\"backgroundcolor\": \"#E5ECF6\", \"gridcolor\": \"white\", \"gridwidth\": 2, \"linecolor\": \"white\", \"showbackground\": true, \"ticks\": \"\", \"zerolinecolor\": \"white\"}, \"yaxis\": {\"backgroundcolor\": \"#E5ECF6\", \"gridcolor\": \"white\", \"gridwidth\": 2, \"linecolor\": \"white\", \"showbackground\": true, \"ticks\": \"\", \"zerolinecolor\": \"white\"}, \"zaxis\": {\"backgroundcolor\": \"#E5ECF6\", \"gridcolor\": \"white\", \"gridwidth\": 2, \"linecolor\": \"white\", \"showbackground\": true, \"ticks\": \"\", \"zerolinecolor\": \"white\"}}, \"shapedefaults\": {\"line\": {\"color\": \"#2a3f5f\"}}, \"ternary\": {\"aaxis\": {\"gridcolor\": \"white\", \"linecolor\": \"white\", \"ticks\": \"\"}, \"baxis\": {\"gridcolor\": \"white\", \"linecolor\": \"white\", \"ticks\": \"\"}, \"bgcolor\": \"#E5ECF6\", \"caxis\": {\"gridcolor\": \"white\", \"linecolor\": \"white\", \"ticks\": \"\"}}, \"title\": {\"x\": 0.05}, \"xaxis\": {\"automargin\": true, \"gridcolor\": \"white\", \"linecolor\": \"white\", \"ticks\": \"\", \"zerolinecolor\": \"white\", \"zerolinewidth\": 2}, \"yaxis\": {\"automargin\": true, \"gridcolor\": \"white\", \"linecolor\": \"white\", \"ticks\": \"\", \"zerolinecolor\": \"white\", \"zerolinewidth\": 2}}}, \"width\": 900},\n",
       "                        {\"responsive\": true}\n",
       "                    ).then(function(){\n",
       "                            \n",
       "var gd = document.getElementById('7c9a57b8-7829-4988-9808-3da090c15039');\n",
       "var x = new MutationObserver(function (mutations, observer) {{\n",
       "        var display = window.getComputedStyle(gd).display;\n",
       "        if (!display || display === 'none') {{\n",
       "            console.log([gd, 'removed!']);\n",
       "            Plotly.purge(gd);\n",
       "            observer.disconnect();\n",
       "        }}\n",
       "}});\n",
       "\n",
       "// Listen for the removal of the full notebook cells\n",
       "var notebookContainer = gd.closest('#notebook-container');\n",
       "if (notebookContainer) {{\n",
       "    x.observe(notebookContainer, {childList: true});\n",
       "}}\n",
       "\n",
       "// Listen for the clearing of the current output cell\n",
       "var outputEl = gd.closest('.output');\n",
       "if (outputEl) {{\n",
       "    x.observe(outputEl, {childList: true});\n",
       "}}\n",
       "\n",
       "                        })\n",
       "                };\n",
       "                });\n",
       "            </script>\n",
       "        </div>"
      ]
     },
     "metadata": {},
     "output_type": "display_data"
    }
   ],
   "source": [
    "data = []\n",
    "for name, count_dict in zip(['1E0', '1E2', '1E4', '1E5'], [count_dict_a, count_dict_b, count_dict_c, count_dict_d]):\n",
    "    x = np.array(list(itertools.chain.from_iterable([count_dict[key]['conc_nonzero'].tolist() for key in count_dict])))\n",
    "    y = np.array(list(itertools.chain.from_iterable([count_dict[key]['reads_norm_log'].tolist() for key in count_dict])))\n",
    "    y_pred = slope_all * np.array(x) + int_all\n",
    "    y_diff = y_pred - y\n",
    "    trace = go.Histogram(\n",
    "        x=y_diff,\n",
    "        name=name\n",
    "    )\n",
    "    data.append(trace)\n",
    "layout = go.Layout(\n",
    "    height=700,\n",
    "    width=900\n",
    ")\n",
    "fig = go.Figure(data, layout)\n",
    "fig.show()"
   ]
  },
  {
   "cell_type": "code",
   "execution_count": null,
   "metadata": {},
   "outputs": [],
   "source": []
  }
 ],
 "metadata": {
  "kernelspec": {
   "display_name": "Python 3",
   "language": "python",
   "name": "python3"
  },
  "language_info": {
   "codemirror_mode": {
    "name": "ipython",
    "version": 3
   },
   "file_extension": ".py",
   "mimetype": "text/x-python",
   "name": "python",
   "nbconvert_exporter": "python",
   "pygments_lexer": "ipython3",
   "version": "3.7.2"
  }
 },
 "nbformat": 4,
 "nbformat_minor": 2
}
