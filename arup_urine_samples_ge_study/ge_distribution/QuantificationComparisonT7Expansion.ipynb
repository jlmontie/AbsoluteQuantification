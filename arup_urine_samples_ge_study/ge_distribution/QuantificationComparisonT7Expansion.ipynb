{
 "cells": [
  {
   "cell_type": "code",
   "execution_count": 11,
   "metadata": {},
   "outputs": [],
   "source": [
    "import pandas as pd\n",
    "import plotly.graph_objects as go\n",
    "import plotly.express as px\n",
    "import numpy as np"
   ]
  },
  {
   "cell_type": "code",
   "execution_count": 4,
   "metadata": {},
   "outputs": [],
   "source": [
    "t7_exp = pd.read_csv('quantifications.csv', index_col=0)\n",
    "no_t7_exp = pd.read_csv('quantifications_no_t7_expansion.csv', index_col=0)"
   ]
  },
  {
   "cell_type": "code",
   "execution_count": 5,
   "metadata": {},
   "outputs": [
    {
     "data": {
      "text/html": [
       "<div>\n",
       "<style scoped>\n",
       "    .dataframe tbody tr th:only-of-type {\n",
       "        vertical-align: middle;\n",
       "    }\n",
       "\n",
       "    .dataframe tbody tr th {\n",
       "        vertical-align: top;\n",
       "    }\n",
       "\n",
       "    .dataframe thead th {\n",
       "        text-align: right;\n",
       "    }\n",
       "</style>\n",
       "<table border=\"1\" class=\"dataframe\">\n",
       "  <thead>\n",
       "    <tr style=\"text-align: right;\">\n",
       "      <th></th>\n",
       "      <th>Accession</th>\n",
       "      <th>IDBD #</th>\n",
       "      <th>Detected Organism</th>\n",
       "      <th>log(Genomic Equivalents)/ml</th>\n",
       "      <th>log(cfu/ml)</th>\n",
       "      <th>Plate count log(cfu)/ml</th>\n",
       "    </tr>\n",
       "  </thead>\n",
       "  <tbody>\n",
       "    <tr>\n",
       "      <th>0</th>\n",
       "      <td>IDBD-D100387</td>\n",
       "      <td>IDbyDNA-5381</td>\n",
       "      <td>Escherichia coli</td>\n",
       "      <td>7.875025</td>\n",
       "      <td>5.0</td>\n",
       "      <td>6.041393</td>\n",
       "    </tr>\n",
       "    <tr>\n",
       "      <th>1</th>\n",
       "      <td>IDBD-D100388</td>\n",
       "      <td>IDbyDNA-5382</td>\n",
       "      <td>Escherichia coli</td>\n",
       "      <td>7.728532</td>\n",
       "      <td>5.0</td>\n",
       "      <td>5.698970</td>\n",
       "    </tr>\n",
       "    <tr>\n",
       "      <th>2</th>\n",
       "      <td>IDBD-D100389</td>\n",
       "      <td>IDbyDNA-5383</td>\n",
       "      <td>Escherichia coli</td>\n",
       "      <td>7.631641</td>\n",
       "      <td>5.0</td>\n",
       "      <td>6.146128</td>\n",
       "    </tr>\n",
       "    <tr>\n",
       "      <th>3</th>\n",
       "      <td>IDBD-D100390</td>\n",
       "      <td>IDbyDNA-5384</td>\n",
       "      <td>Escherichia coli</td>\n",
       "      <td>7.831336</td>\n",
       "      <td>5.0</td>\n",
       "      <td>6.342423</td>\n",
       "    </tr>\n",
       "    <tr>\n",
       "      <th>4</th>\n",
       "      <td>IDBD-D100391</td>\n",
       "      <td>IDbyDNA-5385</td>\n",
       "      <td>Escherichia coli</td>\n",
       "      <td>7.893857</td>\n",
       "      <td>5.0</td>\n",
       "      <td>5.602060</td>\n",
       "    </tr>\n",
       "  </tbody>\n",
       "</table>\n",
       "</div>"
      ],
      "text/plain": [
       "      Accession        IDBD # Detected Organism  log(Genomic Equivalents)/ml  \\\n",
       "0  IDBD-D100387  IDbyDNA-5381  Escherichia coli                     7.875025   \n",
       "1  IDBD-D100388  IDbyDNA-5382  Escherichia coli                     7.728532   \n",
       "2  IDBD-D100389  IDbyDNA-5383  Escherichia coli                     7.631641   \n",
       "3  IDBD-D100390  IDbyDNA-5384  Escherichia coli                     7.831336   \n",
       "4  IDBD-D100391  IDbyDNA-5385  Escherichia coli                     7.893857   \n",
       "\n",
       "   log(cfu/ml)  Plate count log(cfu)/ml  \n",
       "0          5.0                 6.041393  \n",
       "1          5.0                 5.698970  \n",
       "2          5.0                 6.146128  \n",
       "3          5.0                 6.342423  \n",
       "4          5.0                 5.602060  "
      ]
     },
     "execution_count": 5,
     "metadata": {},
     "output_type": "execute_result"
    }
   ],
   "source": [
    "t7_exp.head()"
   ]
  },
  {
   "cell_type": "code",
   "execution_count": 6,
   "metadata": {},
   "outputs": [
    {
     "data": {
      "text/html": [
       "<div>\n",
       "<style scoped>\n",
       "    .dataframe tbody tr th:only-of-type {\n",
       "        vertical-align: middle;\n",
       "    }\n",
       "\n",
       "    .dataframe tbody tr th {\n",
       "        vertical-align: top;\n",
       "    }\n",
       "\n",
       "    .dataframe thead th {\n",
       "        text-align: right;\n",
       "    }\n",
       "</style>\n",
       "<table border=\"1\" class=\"dataframe\">\n",
       "  <thead>\n",
       "    <tr style=\"text-align: right;\">\n",
       "      <th></th>\n",
       "      <th>Accession</th>\n",
       "      <th>IDBD #</th>\n",
       "      <th>Detected Organism</th>\n",
       "      <th>log(Genomic Equivalents)/ml</th>\n",
       "      <th>log(cfu/ml)</th>\n",
       "      <th>Plate count log(cfu)/ml</th>\n",
       "    </tr>\n",
       "  </thead>\n",
       "  <tbody>\n",
       "    <tr>\n",
       "      <th>0</th>\n",
       "      <td>IDBD-D100387</td>\n",
       "      <td>IDbyDNA-5381</td>\n",
       "      <td>Escherichia coli</td>\n",
       "      <td>9.025555</td>\n",
       "      <td>5.0</td>\n",
       "      <td>6.041393</td>\n",
       "    </tr>\n",
       "    <tr>\n",
       "      <th>1</th>\n",
       "      <td>IDBD-D100388</td>\n",
       "      <td>IDbyDNA-5382</td>\n",
       "      <td>Escherichia coli</td>\n",
       "      <td>8.230548</td>\n",
       "      <td>5.0</td>\n",
       "      <td>5.698970</td>\n",
       "    </tr>\n",
       "    <tr>\n",
       "      <th>2</th>\n",
       "      <td>IDBD-D100389</td>\n",
       "      <td>IDbyDNA-5383</td>\n",
       "      <td>Escherichia coli</td>\n",
       "      <td>9.333082</td>\n",
       "      <td>5.0</td>\n",
       "      <td>6.146128</td>\n",
       "    </tr>\n",
       "    <tr>\n",
       "      <th>3</th>\n",
       "      <td>IDBD-D100390</td>\n",
       "      <td>IDbyDNA-5384</td>\n",
       "      <td>Escherichia coli</td>\n",
       "      <td>9.054023</td>\n",
       "      <td>5.0</td>\n",
       "      <td>6.342423</td>\n",
       "    </tr>\n",
       "    <tr>\n",
       "      <th>4</th>\n",
       "      <td>IDBD-D100391</td>\n",
       "      <td>IDbyDNA-5385</td>\n",
       "      <td>Escherichia coli</td>\n",
       "      <td>8.135538</td>\n",
       "      <td>5.0</td>\n",
       "      <td>5.602060</td>\n",
       "    </tr>\n",
       "  </tbody>\n",
       "</table>\n",
       "</div>"
      ],
      "text/plain": [
       "      Accession        IDBD # Detected Organism  log(Genomic Equivalents)/ml  \\\n",
       "0  IDBD-D100387  IDbyDNA-5381  Escherichia coli                     9.025555   \n",
       "1  IDBD-D100388  IDbyDNA-5382  Escherichia coli                     8.230548   \n",
       "2  IDBD-D100389  IDbyDNA-5383  Escherichia coli                     9.333082   \n",
       "3  IDBD-D100390  IDbyDNA-5384  Escherichia coli                     9.054023   \n",
       "4  IDBD-D100391  IDbyDNA-5385  Escherichia coli                     8.135538   \n",
       "\n",
       "   log(cfu/ml)  Plate count log(cfu)/ml  \n",
       "0          5.0                 6.041393  \n",
       "1          5.0                 5.698970  \n",
       "2          5.0                 6.146128  \n",
       "3          5.0                 6.342423  \n",
       "4          5.0                 5.602060  "
      ]
     },
     "execution_count": 6,
     "metadata": {},
     "output_type": "execute_result"
    }
   ],
   "source": [
    "no_t7_exp.head()"
   ]
  },
  {
   "cell_type": "code",
   "execution_count": 8,
   "metadata": {},
   "outputs": [
    {
     "data": {
      "text/plain": [
       "True"
      ]
     },
     "execution_count": 8,
     "metadata": {},
     "output_type": "execute_result"
    }
   ],
   "source": [
    "all(t7_exp['Accession'] == no_t7_exp['Accession'])"
   ]
  },
  {
   "cell_type": "code",
   "execution_count": 9,
   "metadata": {},
   "outputs": [],
   "source": [
    "t7_exp = t7_exp.rename(columns={'log(Genomic Equivalents)/ml': 'log(GE)/ml, Expanded Reporting ID'})\n",
    "no_t7_exp = no_t7_exp.rename(columns={'log(Genomic Equivalents)/ml': 'log(GE)/ml, T7 Only Reporting ID'})\n",
    "merged = t7_exp.merge(no_t7_exp[['Accession', 'log(GE)/ml, T7 Only Reporting ID']], on='Accession')"
   ]
  },
  {
   "cell_type": "code",
   "execution_count": 13,
   "metadata": {},
   "outputs": [
    {
     "data": {
      "application/vnd.plotly.v1+json": {
       "config": {
        "plotlyServerURL": "https://plot.ly"
       },
       "data": [
        {
         "hoverlabel": {
          "namelength": 0
         },
         "hovertemplate": "log(GE)/ml, T7 Only Reporting ID=%{x}<br>log(GE)/ml, Expanded Reporting ID=%{y}",
         "legendgroup": "",
         "marker": {
          "color": "#636efa",
          "symbol": "circle"
         },
         "mode": "markers",
         "name": "",
         "showlegend": false,
         "type": "scatter",
         "x": [
          9.025554822072145,
          8.230548001858736,
          9.333081886425344,
          9.054023411743156,
          8.135537815229414,
          9.971747244314576,
          7.90956225037727,
          7.782809419414757,
          9.12536532187906,
          8.823385960306528,
          8.153560766962496,
          9.256716276594387,
          7.396635990687167,
          8.49668734478632,
          8.61248623201435,
          6.541101664668696,
          9.431302493896633,
          9.094124619072051,
          5.88299381763617,
          10.069135674389717,
          9.86852343461751,
          8.716199683950203,
          9.086336315691993,
          10.64564424183913,
          8.998541470790277,
          6.782634180120685,
          7.636444336219665,
          7.355762103130719,
          7.769074417369525,
          7.864840361644511,
          9.10107349207388,
          8.311055959523593,
          9.484703578194155,
          9.956200805370527,
          9.110454381830829,
          9.934659375113363,
          5.968481824811633,
          null,
          6.293561019961957,
          5.738895764978096,
          null,
          6.0364254543446325,
          null,
          5.821444692909192,
          6.47013855072265,
          7.121509611423049,
          7.59311355135971,
          5.8183599897518326,
          6.91634172953251,
          6.679876944211966,
          8.58234358873146,
          8.652789620813518,
          8.732680617367095,
          9.385914375464578,
          8.453079598932018,
          9.603570382612608,
          9.64154724769069,
          8.459430784598723,
          6.942910866202936,
          null,
          null,
          5.397043068397067,
          7.168485119781119,
          6.488704827760824,
          6.661334236228558,
          8.68199371758011,
          8.593826202630616,
          7.789847532392835,
          7.960916229888724,
          9.878884099606204,
          9.16876468371738,
          8.41687784268019,
          7.900525042276616,
          9.376763586915423,
          8.357402197305596,
          9.92936503958228,
          7.960972835127944,
          8.912036625194842,
          8.411143879713284,
          9.73695075017624,
          9.259977801631381,
          6.833513391127157,
          8.48799863979358,
          9.06739107122033,
          8.498816256149228,
          9.108257050413467,
          8.179008985106478,
          8.288760352350259,
          8.71342755889932,
          8.80426857356995,
          7.951325223975369,
          8.462837616351349,
          8.196292810902655,
          7.571253944067919,
          7.0210796370755055,
          8.615117969893888,
          null,
          null,
          null,
          5.909914043034888,
          null,
          5.860452719319085,
          9.497649060317887
         ],
         "xaxis": "x",
         "y": [
          7.875024592002988,
          7.72853235738853,
          7.631641023911525,
          7.831336435912278,
          7.89385704734639,
          8.561953990372196,
          7.488413083822398,
          7.538577576984983,
          7.752226405487546,
          7.991376179407876,
          7.658447914920353,
          8.35906639026054,
          7.25263025933951,
          7.513613667963942,
          7.736465282535208,
          6.416955501968589,
          8.098431682655868,
          7.661178419567278,
          5.766731600611884,
          8.00069463646691,
          7.4754203313061165,
          7.905944479863093,
          8.18000293349171,
          7.761721137047161,
          7.562534244587883,
          6.658222256791046,
          7.2797580838935945,
          7.120670340252604,
          7.59905396766985,
          7.595029047787452,
          8.178262090725134,
          7.77523204252045,
          7.927456847429383,
          7.981133474669637,
          8.283922354877745,
          8.515122529013329,
          5.846791882026409,
          null,
          6.158730561053594,
          5.614361647980038,
          null,
          5.8730819577862645,
          null,
          5.696742645985094,
          6.33743814993122,
          6.923043082361669,
          7.113257129726268,
          5.685738787693969,
          6.763959419621456,
          6.551010616425325,
          7.9482481940021685,
          7.680037419378225,
          7.529758496512831,
          7.752587320717044,
          7.707749992363984,
          8.047990278724518,
          8.31125686668605,
          8.127499413982747,
          6.783100180518493,
          null,
          null,
          5.278166318905222,
          7.024645484422536,
          6.332578087875932,
          6.550598320567888,
          7.473661362220472,
          7.876343829691267,
          7.609377620208813,
          7.425110812039023,
          8.086853752082238,
          7.651462940515558,
          8.012514386890256,
          7.613534005273577,
          8.116096364146616,
          7.816823073740123,
          8.109790493971111,
          7.658157505205259,
          7.5054348911326905,
          7.9853002996122715,
          8.08446689400186,
          8.123689639224986,
          6.678256603978128,
          7.685438632623184,
          7.872668561008787,
          7.581514821803495,
          7.7091469793624565,
          7.819033316031356,
          7.801649206741557,
          7.77720555082433,
          7.688054358985528,
          7.548385199826993,
          7.877871071893952,
          7.755245312548518,
          7.221855093698022,
          6.870886295085303,
          7.902372087563193,
          null,
          null,
          null,
          5.790903942700624,
          null,
          5.714890139220926,
          7.834198003333589
         ],
         "yaxis": "y"
        },
        {
         "mode": "lines",
         "showlegend": false,
         "type": "scatter",
         "x": [
          5,
          6,
          7,
          8,
          9,
          10
         ],
         "y": [
          5,
          6,
          7,
          8,
          9,
          10
         ]
        }
       ],
       "layout": {
        "autosize": true,
        "legend": {
         "tracegroupgap": 0
        },
        "margin": {
         "t": 60
        },
        "template": {
         "data": {
          "bar": [
           {
            "error_x": {
             "color": "#2a3f5f"
            },
            "error_y": {
             "color": "#2a3f5f"
            },
            "marker": {
             "line": {
              "color": "#E5ECF6",
              "width": 0.5
             }
            },
            "type": "bar"
           }
          ],
          "barpolar": [
           {
            "marker": {
             "line": {
              "color": "#E5ECF6",
              "width": 0.5
             }
            },
            "type": "barpolar"
           }
          ],
          "carpet": [
           {
            "aaxis": {
             "endlinecolor": "#2a3f5f",
             "gridcolor": "white",
             "linecolor": "white",
             "minorgridcolor": "white",
             "startlinecolor": "#2a3f5f"
            },
            "baxis": {
             "endlinecolor": "#2a3f5f",
             "gridcolor": "white",
             "linecolor": "white",
             "minorgridcolor": "white",
             "startlinecolor": "#2a3f5f"
            },
            "type": "carpet"
           }
          ],
          "choropleth": [
           {
            "colorbar": {
             "outlinewidth": 0,
             "ticks": ""
            },
            "type": "choropleth"
           }
          ],
          "contour": [
           {
            "colorbar": {
             "outlinewidth": 0,
             "ticks": ""
            },
            "colorscale": [
             [
              0,
              "#0d0887"
             ],
             [
              0.1111111111111111,
              "#46039f"
             ],
             [
              0.2222222222222222,
              "#7201a8"
             ],
             [
              0.3333333333333333,
              "#9c179e"
             ],
             [
              0.4444444444444444,
              "#bd3786"
             ],
             [
              0.5555555555555556,
              "#d8576b"
             ],
             [
              0.6666666666666666,
              "#ed7953"
             ],
             [
              0.7777777777777778,
              "#fb9f3a"
             ],
             [
              0.8888888888888888,
              "#fdca26"
             ],
             [
              1,
              "#f0f921"
             ]
            ],
            "type": "contour"
           }
          ],
          "contourcarpet": [
           {
            "colorbar": {
             "outlinewidth": 0,
             "ticks": ""
            },
            "type": "contourcarpet"
           }
          ],
          "heatmap": [
           {
            "colorbar": {
             "outlinewidth": 0,
             "ticks": ""
            },
            "colorscale": [
             [
              0,
              "#0d0887"
             ],
             [
              0.1111111111111111,
              "#46039f"
             ],
             [
              0.2222222222222222,
              "#7201a8"
             ],
             [
              0.3333333333333333,
              "#9c179e"
             ],
             [
              0.4444444444444444,
              "#bd3786"
             ],
             [
              0.5555555555555556,
              "#d8576b"
             ],
             [
              0.6666666666666666,
              "#ed7953"
             ],
             [
              0.7777777777777778,
              "#fb9f3a"
             ],
             [
              0.8888888888888888,
              "#fdca26"
             ],
             [
              1,
              "#f0f921"
             ]
            ],
            "type": "heatmap"
           }
          ],
          "heatmapgl": [
           {
            "colorbar": {
             "outlinewidth": 0,
             "ticks": ""
            },
            "colorscale": [
             [
              0,
              "#0d0887"
             ],
             [
              0.1111111111111111,
              "#46039f"
             ],
             [
              0.2222222222222222,
              "#7201a8"
             ],
             [
              0.3333333333333333,
              "#9c179e"
             ],
             [
              0.4444444444444444,
              "#bd3786"
             ],
             [
              0.5555555555555556,
              "#d8576b"
             ],
             [
              0.6666666666666666,
              "#ed7953"
             ],
             [
              0.7777777777777778,
              "#fb9f3a"
             ],
             [
              0.8888888888888888,
              "#fdca26"
             ],
             [
              1,
              "#f0f921"
             ]
            ],
            "type": "heatmapgl"
           }
          ],
          "histogram": [
           {
            "marker": {
             "colorbar": {
              "outlinewidth": 0,
              "ticks": ""
             }
            },
            "type": "histogram"
           }
          ],
          "histogram2d": [
           {
            "colorbar": {
             "outlinewidth": 0,
             "ticks": ""
            },
            "colorscale": [
             [
              0,
              "#0d0887"
             ],
             [
              0.1111111111111111,
              "#46039f"
             ],
             [
              0.2222222222222222,
              "#7201a8"
             ],
             [
              0.3333333333333333,
              "#9c179e"
             ],
             [
              0.4444444444444444,
              "#bd3786"
             ],
             [
              0.5555555555555556,
              "#d8576b"
             ],
             [
              0.6666666666666666,
              "#ed7953"
             ],
             [
              0.7777777777777778,
              "#fb9f3a"
             ],
             [
              0.8888888888888888,
              "#fdca26"
             ],
             [
              1,
              "#f0f921"
             ]
            ],
            "type": "histogram2d"
           }
          ],
          "histogram2dcontour": [
           {
            "colorbar": {
             "outlinewidth": 0,
             "ticks": ""
            },
            "colorscale": [
             [
              0,
              "#0d0887"
             ],
             [
              0.1111111111111111,
              "#46039f"
             ],
             [
              0.2222222222222222,
              "#7201a8"
             ],
             [
              0.3333333333333333,
              "#9c179e"
             ],
             [
              0.4444444444444444,
              "#bd3786"
             ],
             [
              0.5555555555555556,
              "#d8576b"
             ],
             [
              0.6666666666666666,
              "#ed7953"
             ],
             [
              0.7777777777777778,
              "#fb9f3a"
             ],
             [
              0.8888888888888888,
              "#fdca26"
             ],
             [
              1,
              "#f0f921"
             ]
            ],
            "type": "histogram2dcontour"
           }
          ],
          "mesh3d": [
           {
            "colorbar": {
             "outlinewidth": 0,
             "ticks": ""
            },
            "type": "mesh3d"
           }
          ],
          "parcoords": [
           {
            "line": {
             "colorbar": {
              "outlinewidth": 0,
              "ticks": ""
             }
            },
            "type": "parcoords"
           }
          ],
          "scatter": [
           {
            "marker": {
             "colorbar": {
              "outlinewidth": 0,
              "ticks": ""
             }
            },
            "type": "scatter"
           }
          ],
          "scatter3d": [
           {
            "line": {
             "colorbar": {
              "outlinewidth": 0,
              "ticks": ""
             }
            },
            "marker": {
             "colorbar": {
              "outlinewidth": 0,
              "ticks": ""
             }
            },
            "type": "scatter3d"
           }
          ],
          "scattercarpet": [
           {
            "marker": {
             "colorbar": {
              "outlinewidth": 0,
              "ticks": ""
             }
            },
            "type": "scattercarpet"
           }
          ],
          "scattergeo": [
           {
            "marker": {
             "colorbar": {
              "outlinewidth": 0,
              "ticks": ""
             }
            },
            "type": "scattergeo"
           }
          ],
          "scattergl": [
           {
            "marker": {
             "colorbar": {
              "outlinewidth": 0,
              "ticks": ""
             }
            },
            "type": "scattergl"
           }
          ],
          "scattermapbox": [
           {
            "marker": {
             "colorbar": {
              "outlinewidth": 0,
              "ticks": ""
             }
            },
            "type": "scattermapbox"
           }
          ],
          "scatterpolar": [
           {
            "marker": {
             "colorbar": {
              "outlinewidth": 0,
              "ticks": ""
             }
            },
            "type": "scatterpolar"
           }
          ],
          "scatterpolargl": [
           {
            "marker": {
             "colorbar": {
              "outlinewidth": 0,
              "ticks": ""
             }
            },
            "type": "scatterpolargl"
           }
          ],
          "scatterternary": [
           {
            "marker": {
             "colorbar": {
              "outlinewidth": 0,
              "ticks": ""
             }
            },
            "type": "scatterternary"
           }
          ],
          "surface": [
           {
            "colorbar": {
             "outlinewidth": 0,
             "ticks": ""
            },
            "colorscale": [
             [
              0,
              "#0d0887"
             ],
             [
              0.1111111111111111,
              "#46039f"
             ],
             [
              0.2222222222222222,
              "#7201a8"
             ],
             [
              0.3333333333333333,
              "#9c179e"
             ],
             [
              0.4444444444444444,
              "#bd3786"
             ],
             [
              0.5555555555555556,
              "#d8576b"
             ],
             [
              0.6666666666666666,
              "#ed7953"
             ],
             [
              0.7777777777777778,
              "#fb9f3a"
             ],
             [
              0.8888888888888888,
              "#fdca26"
             ],
             [
              1,
              "#f0f921"
             ]
            ],
            "type": "surface"
           }
          ],
          "table": [
           {
            "cells": {
             "fill": {
              "color": "#EBF0F8"
             },
             "line": {
              "color": "white"
             }
            },
            "header": {
             "fill": {
              "color": "#C8D4E3"
             },
             "line": {
              "color": "white"
             }
            },
            "type": "table"
           }
          ]
         },
         "layout": {
          "annotationdefaults": {
           "arrowcolor": "#2a3f5f",
           "arrowhead": 0,
           "arrowwidth": 1
          },
          "colorscale": {
           "diverging": [
            [
             0,
             "#8e0152"
            ],
            [
             0.1,
             "#c51b7d"
            ],
            [
             0.2,
             "#de77ae"
            ],
            [
             0.3,
             "#f1b6da"
            ],
            [
             0.4,
             "#fde0ef"
            ],
            [
             0.5,
             "#f7f7f7"
            ],
            [
             0.6,
             "#e6f5d0"
            ],
            [
             0.7,
             "#b8e186"
            ],
            [
             0.8,
             "#7fbc41"
            ],
            [
             0.9,
             "#4d9221"
            ],
            [
             1,
             "#276419"
            ]
           ],
           "sequential": [
            [
             0,
             "#0d0887"
            ],
            [
             0.1111111111111111,
             "#46039f"
            ],
            [
             0.2222222222222222,
             "#7201a8"
            ],
            [
             0.3333333333333333,
             "#9c179e"
            ],
            [
             0.4444444444444444,
             "#bd3786"
            ],
            [
             0.5555555555555556,
             "#d8576b"
            ],
            [
             0.6666666666666666,
             "#ed7953"
            ],
            [
             0.7777777777777778,
             "#fb9f3a"
            ],
            [
             0.8888888888888888,
             "#fdca26"
            ],
            [
             1,
             "#f0f921"
            ]
           ],
           "sequentialminus": [
            [
             0,
             "#0d0887"
            ],
            [
             0.1111111111111111,
             "#46039f"
            ],
            [
             0.2222222222222222,
             "#7201a8"
            ],
            [
             0.3333333333333333,
             "#9c179e"
            ],
            [
             0.4444444444444444,
             "#bd3786"
            ],
            [
             0.5555555555555556,
             "#d8576b"
            ],
            [
             0.6666666666666666,
             "#ed7953"
            ],
            [
             0.7777777777777778,
             "#fb9f3a"
            ],
            [
             0.8888888888888888,
             "#fdca26"
            ],
            [
             1,
             "#f0f921"
            ]
           ]
          },
          "colorway": [
           "#636efa",
           "#EF553B",
           "#00cc96",
           "#ab63fa",
           "#FFA15A",
           "#19d3f3",
           "#FF6692",
           "#B6E880",
           "#FF97FF",
           "#FECB52"
          ],
          "font": {
           "color": "#2a3f5f"
          },
          "geo": {
           "bgcolor": "white",
           "lakecolor": "white",
           "landcolor": "#E5ECF6",
           "showlakes": true,
           "showland": true,
           "subunitcolor": "white"
          },
          "hoverlabel": {
           "align": "left"
          },
          "hovermode": "closest",
          "mapbox": {
           "style": "light"
          },
          "paper_bgcolor": "white",
          "plot_bgcolor": "#E5ECF6",
          "polar": {
           "angularaxis": {
            "gridcolor": "white",
            "linecolor": "white",
            "ticks": ""
           },
           "bgcolor": "#E5ECF6",
           "radialaxis": {
            "gridcolor": "white",
            "linecolor": "white",
            "ticks": ""
           }
          },
          "scene": {
           "xaxis": {
            "backgroundcolor": "#E5ECF6",
            "gridcolor": "white",
            "gridwidth": 2,
            "linecolor": "white",
            "showbackground": true,
            "ticks": "",
            "zerolinecolor": "white"
           },
           "yaxis": {
            "backgroundcolor": "#E5ECF6",
            "gridcolor": "white",
            "gridwidth": 2,
            "linecolor": "white",
            "showbackground": true,
            "ticks": "",
            "zerolinecolor": "white"
           },
           "zaxis": {
            "backgroundcolor": "#E5ECF6",
            "gridcolor": "white",
            "gridwidth": 2,
            "linecolor": "white",
            "showbackground": true,
            "ticks": "",
            "zerolinecolor": "white"
           }
          },
          "shapedefaults": {
           "line": {
            "color": "#2a3f5f"
           }
          },
          "ternary": {
           "aaxis": {
            "gridcolor": "white",
            "linecolor": "white",
            "ticks": ""
           },
           "baxis": {
            "gridcolor": "white",
            "linecolor": "white",
            "ticks": ""
           },
           "bgcolor": "#E5ECF6",
           "caxis": {
            "gridcolor": "white",
            "linecolor": "white",
            "ticks": ""
           }
          },
          "title": {
           "x": 0.05
          },
          "xaxis": {
           "automargin": true,
           "gridcolor": "white",
           "linecolor": "white",
           "ticks": "",
           "zerolinecolor": "white",
           "zerolinewidth": 2
          },
          "yaxis": {
           "automargin": true,
           "gridcolor": "white",
           "linecolor": "white",
           "ticks": "",
           "zerolinecolor": "white",
           "zerolinewidth": 2
          }
         }
        },
        "xaxis": {
         "anchor": "y",
         "autorange": true,
         "domain": [
          0,
          0.98
         ],
         "range": [
          5,
          10.970585821245976
         ],
         "title": {
          "text": "log(GE)/ml, T7 Only Reporting ID"
         },
         "type": "linear"
        },
        "yaxis": {
         "anchor": "x",
         "domain": [
          0,
          1
         ],
         "range": [
          5,
          9
         ],
         "title": {
          "text": "log(GE)/ml, Expanded Reporting ID"
         },
         "type": "linear"
        }
       }
      },
      "image/png": "[encoded data removed]",
      "text/html": [
       "<div>\n",
       "        \n",
       "        \n",
       "            <div id=\"7e01f0e0-df30-4da6-b4aa-c6f9011a3db0\" class=\"plotly-graph-div\" style=\"height:600px; width:100%;\"></div>\n",
       "            <script type=\"text/javascript\">\n",
       "                require([\"plotly\"], function(Plotly) {\n",
       "                    window.PLOTLYENV=window.PLOTLYENV || {};\n",
       "                    \n",
       "                if (document.getElementById(\"7e01f0e0-df30-4da6-b4aa-c6f9011a3db0\")) {\n",
       "                    Plotly.newPlot(\n",
       "                        '7e01f0e0-df30-4da6-b4aa-c6f9011a3db0',\n",
       "                        [{\"hoverlabel\": {\"namelength\": 0}, \"hovertemplate\": \"log(GE)/ml, T7 Only Reporting ID=%{x}<br>log(GE)/ml, Expanded Reporting ID=%{y}\", \"legendgroup\": \"\", \"marker\": {\"color\": \"#636efa\", \"symbol\": \"circle\"}, \"mode\": \"markers\", \"name\": \"\", \"showlegend\": false, \"type\": \"scatter\", \"x\": [9.025554822072145, 8.230548001858736, 9.333081886425344, 9.054023411743156, 8.135537815229414, 9.971747244314576, 7.90956225037727, 7.782809419414757, 9.12536532187906, 8.823385960306528, 8.153560766962496, 9.256716276594387, 7.396635990687167, 8.49668734478632, 8.61248623201435, 6.541101664668696, 9.431302493896633, 9.094124619072051, 5.88299381763617, 10.069135674389717, 9.86852343461751, 8.716199683950203, 9.086336315691993, 10.64564424183913, 8.998541470790277, 6.782634180120685, 7.636444336219665, 7.355762103130719, 7.769074417369525, 7.864840361644511, 9.10107349207388, 8.311055959523593, 9.484703578194155, 9.956200805370527, 9.110454381830829, 9.934659375113363, 5.968481824811633, null, 6.293561019961957, 5.738895764978096, null, 6.0364254543446325, null, 5.821444692909192, 6.47013855072265, 7.121509611423049, 7.59311355135971, 5.8183599897518326, 6.91634172953251, 6.679876944211966, 8.58234358873146, 8.652789620813518, 8.732680617367095, 9.385914375464578, 8.453079598932018, 9.603570382612608, 9.64154724769069, 8.459430784598723, 6.942910866202936, null, null, 5.397043068397067, 7.168485119781119, 6.488704827760824, 6.661334236228558, 8.68199371758011, 8.593826202630616, 7.789847532392835, 7.960916229888724, 9.878884099606204, 9.16876468371738, 8.41687784268019, 7.900525042276616, 9.376763586915423, 8.357402197305596, 9.92936503958228, 7.960972835127944, 8.912036625194842, 8.411143879713284, 9.73695075017624, 9.259977801631381, 6.833513391127157, 8.48799863979358, 9.06739107122033, 8.498816256149228, 9.108257050413467, 8.179008985106478, 8.288760352350259, 8.71342755889932, 8.80426857356995, 7.951325223975369, 8.462837616351349, 8.196292810902655, 7.571253944067919, 7.0210796370755055, 8.615117969893888, null, null, null, 5.909914043034888, null, 5.860452719319085, 9.497649060317887], \"xaxis\": \"x\", \"y\": [7.875024592002988, 7.72853235738853, 7.631641023911525, 7.831336435912278, 7.89385704734639, 8.561953990372196, 7.488413083822398, 7.538577576984983, 7.752226405487546, 7.991376179407876, 7.658447914920353, 8.35906639026054, 7.25263025933951, 7.513613667963942, 7.736465282535208, 6.416955501968589, 8.098431682655868, 7.661178419567278, 5.766731600611884, 8.00069463646691, 7.4754203313061165, 7.905944479863093, 8.18000293349171, 7.761721137047161, 7.562534244587883, 6.658222256791046, 7.2797580838935945, 7.120670340252604, 7.59905396766985, 7.595029047787452, 8.178262090725134, 7.77523204252045, 7.927456847429383, 7.981133474669637, 8.283922354877745, 8.515122529013329, 5.846791882026409, null, 6.158730561053594, 5.614361647980038, null, 5.8730819577862645, null, 5.696742645985094, 6.33743814993122, 6.923043082361669, 7.113257129726268, 5.685738787693969, 6.763959419621456, 6.551010616425325, 7.9482481940021685, 7.680037419378225, 7.529758496512831, 7.752587320717044, 7.707749992363984, 8.047990278724518, 8.31125686668605, 8.127499413982747, 6.783100180518493, null, null, 5.278166318905222, 7.024645484422536, 6.332578087875932, 6.550598320567888, 7.473661362220472, 7.876343829691267, 7.609377620208813, 7.425110812039023, 8.086853752082238, 7.651462940515558, 8.012514386890256, 7.613534005273577, 8.116096364146616, 7.816823073740123, 8.109790493971111, 7.658157505205259, 7.5054348911326905, 7.9853002996122715, 8.08446689400186, 8.123689639224986, 6.678256603978128, 7.685438632623184, 7.872668561008787, 7.581514821803495, 7.7091469793624565, 7.819033316031356, 7.801649206741557, 7.77720555082433, 7.688054358985528, 7.548385199826993, 7.877871071893952, 7.755245312548518, 7.221855093698022, 6.870886295085303, 7.902372087563193, null, null, null, 5.790903942700624, null, 5.714890139220926, 7.834198003333589], \"yaxis\": \"y\"}, {\"mode\": \"lines\", \"showlegend\": false, \"type\": \"scatter\", \"x\": [5, 6, 7, 8, 9, 10], \"y\": [5, 6, 7, 8, 9, 10]}],\n",
       "                        {\"height\": 600, \"legend\": {\"tracegroupgap\": 0}, \"margin\": {\"t\": 60}, \"template\": {\"data\": {\"bar\": [{\"error_x\": {\"color\": \"#2a3f5f\"}, \"error_y\": {\"color\": \"#2a3f5f\"}, \"marker\": {\"line\": {\"color\": \"#E5ECF6\", \"width\": 0.5}}, \"type\": \"bar\"}], \"barpolar\": [{\"marker\": {\"line\": {\"color\": \"#E5ECF6\", \"width\": 0.5}}, \"type\": \"barpolar\"}], \"carpet\": [{\"aaxis\": {\"endlinecolor\": \"#2a3f5f\", \"gridcolor\": \"white\", \"linecolor\": \"white\", \"minorgridcolor\": \"white\", \"startlinecolor\": \"#2a3f5f\"}, \"baxis\": {\"endlinecolor\": \"#2a3f5f\", \"gridcolor\": \"white\", \"linecolor\": \"white\", \"minorgridcolor\": \"white\", \"startlinecolor\": \"#2a3f5f\"}, \"type\": \"carpet\"}], \"choropleth\": [{\"colorbar\": {\"outlinewidth\": 0, \"ticks\": \"\"}, \"type\": \"choropleth\"}], \"contour\": [{\"colorbar\": {\"outlinewidth\": 0, \"ticks\": \"\"}, \"colorscale\": [[0.0, \"#0d0887\"], [0.1111111111111111, \"#46039f\"], [0.2222222222222222, \"#7201a8\"], [0.3333333333333333, \"#9c179e\"], [0.4444444444444444, \"#bd3786\"], [0.5555555555555556, \"#d8576b\"], [0.6666666666666666, \"#ed7953\"], [0.7777777777777778, \"#fb9f3a\"], [0.8888888888888888, \"#fdca26\"], [1.0, \"#f0f921\"]], \"type\": \"contour\"}], \"contourcarpet\": [{\"colorbar\": {\"outlinewidth\": 0, \"ticks\": \"\"}, \"type\": \"contourcarpet\"}], \"heatmap\": [{\"colorbar\": {\"outlinewidth\": 0, \"ticks\": \"\"}, \"colorscale\": [[0.0, \"#0d0887\"], [0.1111111111111111, \"#46039f\"], [0.2222222222222222, \"#7201a8\"], [0.3333333333333333, \"#9c179e\"], [0.4444444444444444, \"#bd3786\"], [0.5555555555555556, \"#d8576b\"], [0.6666666666666666, \"#ed7953\"], [0.7777777777777778, \"#fb9f3a\"], [0.8888888888888888, \"#fdca26\"], [1.0, \"#f0f921\"]], \"type\": \"heatmap\"}], \"heatmapgl\": [{\"colorbar\": {\"outlinewidth\": 0, \"ticks\": \"\"}, \"colorscale\": [[0.0, \"#0d0887\"], [0.1111111111111111, \"#46039f\"], [0.2222222222222222, \"#7201a8\"], [0.3333333333333333, \"#9c179e\"], [0.4444444444444444, \"#bd3786\"], [0.5555555555555556, \"#d8576b\"], [0.6666666666666666, \"#ed7953\"], [0.7777777777777778, \"#fb9f3a\"], [0.8888888888888888, \"#fdca26\"], [1.0, \"#f0f921\"]], \"type\": \"heatmapgl\"}], \"histogram\": [{\"marker\": {\"colorbar\": {\"outlinewidth\": 0, \"ticks\": \"\"}}, \"type\": \"histogram\"}], \"histogram2d\": [{\"colorbar\": {\"outlinewidth\": 0, \"ticks\": \"\"}, \"colorscale\": [[0.0, \"#0d0887\"], [0.1111111111111111, \"#46039f\"], [0.2222222222222222, \"#7201a8\"], [0.3333333333333333, \"#9c179e\"], [0.4444444444444444, \"#bd3786\"], [0.5555555555555556, \"#d8576b\"], [0.6666666666666666, \"#ed7953\"], [0.7777777777777778, \"#fb9f3a\"], [0.8888888888888888, \"#fdca26\"], [1.0, \"#f0f921\"]], \"type\": \"histogram2d\"}], \"histogram2dcontour\": [{\"colorbar\": {\"outlinewidth\": 0, \"ticks\": \"\"}, \"colorscale\": [[0.0, \"#0d0887\"], [0.1111111111111111, \"#46039f\"], [0.2222222222222222, \"#7201a8\"], [0.3333333333333333, \"#9c179e\"], [0.4444444444444444, \"#bd3786\"], [0.5555555555555556, \"#d8576b\"], [0.6666666666666666, \"#ed7953\"], [0.7777777777777778, \"#fb9f3a\"], [0.8888888888888888, \"#fdca26\"], [1.0, \"#f0f921\"]], \"type\": \"histogram2dcontour\"}], \"mesh3d\": [{\"colorbar\": {\"outlinewidth\": 0, \"ticks\": \"\"}, \"type\": \"mesh3d\"}], \"parcoords\": [{\"line\": {\"colorbar\": {\"outlinewidth\": 0, \"ticks\": \"\"}}, \"type\": \"parcoords\"}], \"scatter\": [{\"marker\": {\"colorbar\": {\"outlinewidth\": 0, \"ticks\": \"\"}}, \"type\": \"scatter\"}], \"scatter3d\": [{\"line\": {\"colorbar\": {\"outlinewidth\": 0, \"ticks\": \"\"}}, \"marker\": {\"colorbar\": {\"outlinewidth\": 0, \"ticks\": \"\"}}, \"type\": \"scatter3d\"}], \"scattercarpet\": [{\"marker\": {\"colorbar\": {\"outlinewidth\": 0, \"ticks\": \"\"}}, \"type\": \"scattercarpet\"}], \"scattergeo\": [{\"marker\": {\"colorbar\": {\"outlinewidth\": 0, \"ticks\": \"\"}}, \"type\": \"scattergeo\"}], \"scattergl\": [{\"marker\": {\"colorbar\": {\"outlinewidth\": 0, \"ticks\": \"\"}}, \"type\": \"scattergl\"}], \"scattermapbox\": [{\"marker\": {\"colorbar\": {\"outlinewidth\": 0, \"ticks\": \"\"}}, \"type\": \"scattermapbox\"}], \"scatterpolar\": [{\"marker\": {\"colorbar\": {\"outlinewidth\": 0, \"ticks\": \"\"}}, \"type\": \"scatterpolar\"}], \"scatterpolargl\": [{\"marker\": {\"colorbar\": {\"outlinewidth\": 0, \"ticks\": \"\"}}, \"type\": \"scatterpolargl\"}], \"scatterternary\": [{\"marker\": {\"colorbar\": {\"outlinewidth\": 0, \"ticks\": \"\"}}, \"type\": \"scatterternary\"}], \"surface\": [{\"colorbar\": {\"outlinewidth\": 0, \"ticks\": \"\"}, \"colorscale\": [[0.0, \"#0d0887\"], [0.1111111111111111, \"#46039f\"], [0.2222222222222222, \"#7201a8\"], [0.3333333333333333, \"#9c179e\"], [0.4444444444444444, \"#bd3786\"], [0.5555555555555556, \"#d8576b\"], [0.6666666666666666, \"#ed7953\"], [0.7777777777777778, \"#fb9f3a\"], [0.8888888888888888, \"#fdca26\"], [1.0, \"#f0f921\"]], \"type\": \"surface\"}], \"table\": [{\"cells\": {\"fill\": {\"color\": \"#EBF0F8\"}, \"line\": {\"color\": \"white\"}}, \"header\": {\"fill\": {\"color\": \"#C8D4E3\"}, \"line\": {\"color\": \"white\"}}, \"type\": \"table\"}]}, \"layout\": {\"annotationdefaults\": {\"arrowcolor\": \"#2a3f5f\", \"arrowhead\": 0, \"arrowwidth\": 1}, \"colorscale\": {\"diverging\": [[0, \"#8e0152\"], [0.1, \"#c51b7d\"], [0.2, \"#de77ae\"], [0.3, \"#f1b6da\"], [0.4, \"#fde0ef\"], [0.5, \"#f7f7f7\"], [0.6, \"#e6f5d0\"], [0.7, \"#b8e186\"], [0.8, \"#7fbc41\"], [0.9, \"#4d9221\"], [1, \"#276419\"]], \"sequential\": [[0.0, \"#0d0887\"], [0.1111111111111111, \"#46039f\"], [0.2222222222222222, \"#7201a8\"], [0.3333333333333333, \"#9c179e\"], [0.4444444444444444, \"#bd3786\"], [0.5555555555555556, \"#d8576b\"], [0.6666666666666666, \"#ed7953\"], [0.7777777777777778, \"#fb9f3a\"], [0.8888888888888888, \"#fdca26\"], [1.0, \"#f0f921\"]], \"sequentialminus\": [[0.0, \"#0d0887\"], [0.1111111111111111, \"#46039f\"], [0.2222222222222222, \"#7201a8\"], [0.3333333333333333, \"#9c179e\"], [0.4444444444444444, \"#bd3786\"], [0.5555555555555556, \"#d8576b\"], [0.6666666666666666, \"#ed7953\"], [0.7777777777777778, \"#fb9f3a\"], [0.8888888888888888, \"#fdca26\"], [1.0, \"#f0f921\"]]}, \"colorway\": [\"#636efa\", \"#EF553B\", \"#00cc96\", \"#ab63fa\", \"#FFA15A\", \"#19d3f3\", \"#FF6692\", \"#B6E880\", \"#FF97FF\", \"#FECB52\"], \"font\": {\"color\": \"#2a3f5f\"}, \"geo\": {\"bgcolor\": \"white\", \"lakecolor\": \"white\", \"landcolor\": \"#E5ECF6\", \"showlakes\": true, \"showland\": true, \"subunitcolor\": \"white\"}, \"hoverlabel\": {\"align\": \"left\"}, \"hovermode\": \"closest\", \"mapbox\": {\"style\": \"light\"}, \"paper_bgcolor\": \"white\", \"plot_bgcolor\": \"#E5ECF6\", \"polar\": {\"angularaxis\": {\"gridcolor\": \"white\", \"linecolor\": \"white\", \"ticks\": \"\"}, \"bgcolor\": \"#E5ECF6\", \"radialaxis\": {\"gridcolor\": \"white\", \"linecolor\": \"white\", \"ticks\": \"\"}}, \"scene\": {\"xaxis\": {\"backgroundcolor\": \"#E5ECF6\", \"gridcolor\": \"white\", \"gridwidth\": 2, \"linecolor\": \"white\", \"showbackground\": true, \"ticks\": \"\", \"zerolinecolor\": \"white\"}, \"yaxis\": {\"backgroundcolor\": \"#E5ECF6\", \"gridcolor\": \"white\", \"gridwidth\": 2, \"linecolor\": \"white\", \"showbackground\": true, \"ticks\": \"\", \"zerolinecolor\": \"white\"}, \"zaxis\": {\"backgroundcolor\": \"#E5ECF6\", \"gridcolor\": \"white\", \"gridwidth\": 2, \"linecolor\": \"white\", \"showbackground\": true, \"ticks\": \"\", \"zerolinecolor\": \"white\"}}, \"shapedefaults\": {\"line\": {\"color\": \"#2a3f5f\"}}, \"ternary\": {\"aaxis\": {\"gridcolor\": \"white\", \"linecolor\": \"white\", \"ticks\": \"\"}, \"baxis\": {\"gridcolor\": \"white\", \"linecolor\": \"white\", \"ticks\": \"\"}, \"bgcolor\": \"#E5ECF6\", \"caxis\": {\"gridcolor\": \"white\", \"linecolor\": \"white\", \"ticks\": \"\"}}, \"title\": {\"x\": 0.05}, \"xaxis\": {\"automargin\": true, \"gridcolor\": \"white\", \"linecolor\": \"white\", \"ticks\": \"\", \"zerolinecolor\": \"white\", \"zerolinewidth\": 2}, \"yaxis\": {\"automargin\": true, \"gridcolor\": \"white\", \"linecolor\": \"white\", \"ticks\": \"\", \"zerolinecolor\": \"white\", \"zerolinewidth\": 2}}}, \"xaxis\": {\"anchor\": \"y\", \"domain\": [0.0, 0.98], \"title\": {\"text\": \"log(GE)/ml, T7 Only Reporting ID\"}}, \"yaxis\": {\"anchor\": \"x\", \"domain\": [0.0, 1.0], \"range\": [5, 9], \"title\": {\"text\": \"log(GE)/ml, Expanded Reporting ID\"}}},\n",
       "                        {\"responsive\": true}\n",
       "                    ).then(function(){\n",
       "                            \n",
       "var gd = document.getElementById('7e01f0e0-df30-4da6-b4aa-c6f9011a3db0');\n",
       "var x = new MutationObserver(function (mutations, observer) {{\n",
       "        var display = window.getComputedStyle(gd).display;\n",
       "        if (!display || display === 'none') {{\n",
       "            console.log([gd, 'removed!']);\n",
       "            Plotly.purge(gd);\n",
       "            observer.disconnect();\n",
       "        }}\n",
       "}});\n",
       "\n",
       "// Listen for the removal of the full notebook cells\n",
       "var notebookContainer = gd.closest('#notebook-container');\n",
       "if (notebookContainer) {{\n",
       "    x.observe(notebookContainer, {childList: true});\n",
       "}}\n",
       "\n",
       "// Listen for the clearing of the current output cell\n",
       "var outputEl = gd.closest('.output');\n",
       "if (outputEl) {{\n",
       "    x.observe(outputEl, {childList: true});\n",
       "}}\n",
       "\n",
       "                        })\n",
       "                };\n",
       "                });\n",
       "            </script>\n",
       "        </div>"
      ]
     },
     "metadata": {},
     "output_type": "display_data"
    }
   ],
   "source": [
    "fig = px.scatter(merged, x='log(GE)/ml, T7 Only Reporting ID', y='log(GE)/ml, Expanded Reporting ID')\n",
    "fig.add_trace(go.Scatter(x=np.arange(5, 11), y=np.arange(5, 11), mode='lines', showlegend=False))\n",
    "fig.update_yaxes(range=[5, 9])\n",
    "fig.show()"
   ]
  },
  {
   "cell_type": "code",
   "execution_count": 25,
   "metadata": {},
   "outputs": [
    {
     "data": {
      "application/vnd.plotly.v1+json": {
       "config": {
        "plotlyServerURL": "https://plot.ly"
       },
       "data": [
        {
         "showlegend": false,
         "type": "scatter",
         "x": [
          "Expanded Reporting ID",
          "T7 Only Reporting ID"
         ],
         "y": [
          7.875024592002988,
          9.025554822072145
         ]
        },
        {
         "showlegend": false,
         "type": "scatter",
         "x": [
          "Expanded Reporting ID",
          "T7 Only Reporting ID"
         ],
         "y": [
          7.72853235738853,
          8.230548001858736
         ]
        },
        {
         "showlegend": false,
         "type": "scatter",
         "x": [
          "Expanded Reporting ID",
          "T7 Only Reporting ID"
         ],
         "y": [
          7.631641023911525,
          9.333081886425344
         ]
        },
        {
         "showlegend": false,
         "type": "scatter",
         "x": [
          "Expanded Reporting ID",
          "T7 Only Reporting ID"
         ],
         "y": [
          7.831336435912278,
          9.054023411743156
         ]
        },
        {
         "showlegend": false,
         "type": "scatter",
         "x": [
          "Expanded Reporting ID",
          "T7 Only Reporting ID"
         ],
         "y": [
          7.89385704734639,
          8.135537815229414
         ]
        },
        {
         "showlegend": false,
         "type": "scatter",
         "x": [
          "Expanded Reporting ID",
          "T7 Only Reporting ID"
         ],
         "y": [
          8.561953990372196,
          9.971747244314576
         ]
        },
        {
         "showlegend": false,
         "type": "scatter",
         "x": [
          "Expanded Reporting ID",
          "T7 Only Reporting ID"
         ],
         "y": [
          7.488413083822398,
          7.90956225037727
         ]
        },
        {
         "showlegend": false,
         "type": "scatter",
         "x": [
          "Expanded Reporting ID",
          "T7 Only Reporting ID"
         ],
         "y": [
          7.538577576984983,
          7.782809419414757
         ]
        },
        {
         "showlegend": false,
         "type": "scatter",
         "x": [
          "Expanded Reporting ID",
          "T7 Only Reporting ID"
         ],
         "y": [
          7.752226405487546,
          9.12536532187906
         ]
        },
        {
         "showlegend": false,
         "type": "scatter",
         "x": [
          "Expanded Reporting ID",
          "T7 Only Reporting ID"
         ],
         "y": [
          7.991376179407876,
          8.823385960306528
         ]
        },
        {
         "showlegend": false,
         "type": "scatter",
         "x": [
          "Expanded Reporting ID",
          "T7 Only Reporting ID"
         ],
         "y": [
          7.658447914920353,
          8.153560766962496
         ]
        },
        {
         "showlegend": false,
         "type": "scatter",
         "x": [
          "Expanded Reporting ID",
          "T7 Only Reporting ID"
         ],
         "y": [
          8.35906639026054,
          9.256716276594387
         ]
        },
        {
         "showlegend": false,
         "type": "scatter",
         "x": [
          "Expanded Reporting ID",
          "T7 Only Reporting ID"
         ],
         "y": [
          7.25263025933951,
          7.396635990687167
         ]
        },
        {
         "showlegend": false,
         "type": "scatter",
         "x": [
          "Expanded Reporting ID",
          "T7 Only Reporting ID"
         ],
         "y": [
          7.513613667963942,
          8.49668734478632
         ]
        },
        {
         "showlegend": false,
         "type": "scatter",
         "x": [
          "Expanded Reporting ID",
          "T7 Only Reporting ID"
         ],
         "y": [
          7.736465282535208,
          8.61248623201435
         ]
        },
        {
         "showlegend": false,
         "type": "scatter",
         "x": [
          "Expanded Reporting ID",
          "T7 Only Reporting ID"
         ],
         "y": [
          6.416955501968589,
          6.541101664668696
         ]
        },
        {
         "showlegend": false,
         "type": "scatter",
         "x": [
          "Expanded Reporting ID",
          "T7 Only Reporting ID"
         ],
         "y": [
          8.098431682655868,
          9.431302493896633
         ]
        },
        {
         "showlegend": false,
         "type": "scatter",
         "x": [
          "Expanded Reporting ID",
          "T7 Only Reporting ID"
         ],
         "y": [
          7.661178419567278,
          9.094124619072051
         ]
        },
        {
         "showlegend": false,
         "type": "scatter",
         "x": [
          "Expanded Reporting ID",
          "T7 Only Reporting ID"
         ],
         "y": [
          5.766731600611884,
          5.88299381763617
         ]
        },
        {
         "showlegend": false,
         "type": "scatter",
         "x": [
          "Expanded Reporting ID",
          "T7 Only Reporting ID"
         ],
         "y": [
          8.00069463646691,
          10.069135674389717
         ]
        },
        {
         "showlegend": false,
         "type": "scatter",
         "x": [
          "Expanded Reporting ID",
          "T7 Only Reporting ID"
         ],
         "y": [
          7.4754203313061165,
          9.86852343461751
         ]
        },
        {
         "showlegend": false,
         "type": "scatter",
         "x": [
          "Expanded Reporting ID",
          "T7 Only Reporting ID"
         ],
         "y": [
          7.905944479863093,
          8.716199683950203
         ]
        },
        {
         "showlegend": false,
         "type": "scatter",
         "x": [
          "Expanded Reporting ID",
          "T7 Only Reporting ID"
         ],
         "y": [
          8.18000293349171,
          9.086336315691993
         ]
        },
        {
         "showlegend": false,
         "type": "scatter",
         "x": [
          "Expanded Reporting ID",
          "T7 Only Reporting ID"
         ],
         "y": [
          7.761721137047161,
          10.64564424183913
         ]
        },
        {
         "showlegend": false,
         "type": "scatter",
         "x": [
          "Expanded Reporting ID",
          "T7 Only Reporting ID"
         ],
         "y": [
          7.562534244587883,
          8.998541470790277
         ]
        },
        {
         "showlegend": false,
         "type": "scatter",
         "x": [
          "Expanded Reporting ID",
          "T7 Only Reporting ID"
         ],
         "y": [
          6.658222256791046,
          6.782634180120685
         ]
        },
        {
         "showlegend": false,
         "type": "scatter",
         "x": [
          "Expanded Reporting ID",
          "T7 Only Reporting ID"
         ],
         "y": [
          7.2797580838935945,
          7.636444336219665
         ]
        },
        {
         "showlegend": false,
         "type": "scatter",
         "x": [
          "Expanded Reporting ID",
          "T7 Only Reporting ID"
         ],
         "y": [
          7.120670340252604,
          7.355762103130719
         ]
        },
        {
         "showlegend": false,
         "type": "scatter",
         "x": [
          "Expanded Reporting ID",
          "T7 Only Reporting ID"
         ],
         "y": [
          7.59905396766985,
          7.769074417369525
         ]
        },
        {
         "showlegend": false,
         "type": "scatter",
         "x": [
          "Expanded Reporting ID",
          "T7 Only Reporting ID"
         ],
         "y": [
          7.595029047787452,
          7.864840361644511
         ]
        },
        {
         "showlegend": false,
         "type": "scatter",
         "x": [
          "Expanded Reporting ID",
          "T7 Only Reporting ID"
         ],
         "y": [
          8.178262090725134,
          9.10107349207388
         ]
        },
        {
         "showlegend": false,
         "type": "scatter",
         "x": [
          "Expanded Reporting ID",
          "T7 Only Reporting ID"
         ],
         "y": [
          7.77523204252045,
          8.311055959523593
         ]
        },
        {
         "showlegend": false,
         "type": "scatter",
         "x": [
          "Expanded Reporting ID",
          "T7 Only Reporting ID"
         ],
         "y": [
          7.927456847429383,
          9.484703578194155
         ]
        },
        {
         "showlegend": false,
         "type": "scatter",
         "x": [
          "Expanded Reporting ID",
          "T7 Only Reporting ID"
         ],
         "y": [
          7.981133474669637,
          9.956200805370527
         ]
        },
        {
         "showlegend": false,
         "type": "scatter",
         "x": [
          "Expanded Reporting ID",
          "T7 Only Reporting ID"
         ],
         "y": [
          8.283922354877745,
          9.110454381830829
         ]
        },
        {
         "showlegend": false,
         "type": "scatter",
         "x": [
          "Expanded Reporting ID",
          "T7 Only Reporting ID"
         ],
         "y": [
          8.515122529013329,
          9.934659375113363
         ]
        },
        {
         "showlegend": false,
         "type": "scatter",
         "x": [
          "Expanded Reporting ID",
          "T7 Only Reporting ID"
         ],
         "y": [
          5.846791882026409,
          5.968481824811633
         ]
        },
        {
         "showlegend": false,
         "type": "scatter",
         "x": [
          "Expanded Reporting ID",
          "T7 Only Reporting ID"
         ],
         "y": [
          null,
          null
         ]
        },
        {
         "showlegend": false,
         "type": "scatter",
         "x": [
          "Expanded Reporting ID",
          "T7 Only Reporting ID"
         ],
         "y": [
          6.158730561053594,
          6.293561019961957
         ]
        },
        {
         "showlegend": false,
         "type": "scatter",
         "x": [
          "Expanded Reporting ID",
          "T7 Only Reporting ID"
         ],
         "y": [
          5.614361647980038,
          5.738895764978096
         ]
        },
        {
         "showlegend": false,
         "type": "scatter",
         "x": [
          "Expanded Reporting ID",
          "T7 Only Reporting ID"
         ],
         "y": [
          null,
          null
         ]
        },
        {
         "showlegend": false,
         "type": "scatter",
         "x": [
          "Expanded Reporting ID",
          "T7 Only Reporting ID"
         ],
         "y": [
          5.8730819577862645,
          6.0364254543446325
         ]
        },
        {
         "showlegend": false,
         "type": "scatter",
         "x": [
          "Expanded Reporting ID",
          "T7 Only Reporting ID"
         ],
         "y": [
          null,
          null
         ]
        },
        {
         "showlegend": false,
         "type": "scatter",
         "x": [
          "Expanded Reporting ID",
          "T7 Only Reporting ID"
         ],
         "y": [
          5.696742645985094,
          5.821444692909192
         ]
        },
        {
         "showlegend": false,
         "type": "scatter",
         "x": [
          "Expanded Reporting ID",
          "T7 Only Reporting ID"
         ],
         "y": [
          6.33743814993122,
          6.47013855072265
         ]
        },
        {
         "showlegend": false,
         "type": "scatter",
         "x": [
          "Expanded Reporting ID",
          "T7 Only Reporting ID"
         ],
         "y": [
          6.923043082361669,
          7.121509611423049
         ]
        },
        {
         "showlegend": false,
         "type": "scatter",
         "x": [
          "Expanded Reporting ID",
          "T7 Only Reporting ID"
         ],
         "y": [
          7.113257129726268,
          7.59311355135971
         ]
        },
        {
         "showlegend": false,
         "type": "scatter",
         "x": [
          "Expanded Reporting ID",
          "T7 Only Reporting ID"
         ],
         "y": [
          5.685738787693969,
          5.8183599897518326
         ]
        },
        {
         "showlegend": false,
         "type": "scatter",
         "x": [
          "Expanded Reporting ID",
          "T7 Only Reporting ID"
         ],
         "y": [
          6.763959419621456,
          6.91634172953251
         ]
        },
        {
         "showlegend": false,
         "type": "scatter",
         "x": [
          "Expanded Reporting ID",
          "T7 Only Reporting ID"
         ],
         "y": [
          6.551010616425325,
          6.679876944211966
         ]
        },
        {
         "showlegend": false,
         "type": "scatter",
         "x": [
          "Expanded Reporting ID",
          "T7 Only Reporting ID"
         ],
         "y": [
          7.9482481940021685,
          8.58234358873146
         ]
        },
        {
         "showlegend": false,
         "type": "scatter",
         "x": [
          "Expanded Reporting ID",
          "T7 Only Reporting ID"
         ],
         "y": [
          7.680037419378225,
          8.652789620813518
         ]
        },
        {
         "showlegend": false,
         "type": "scatter",
         "x": [
          "Expanded Reporting ID",
          "T7 Only Reporting ID"
         ],
         "y": [
          7.529758496512831,
          8.732680617367095
         ]
        },
        {
         "showlegend": false,
         "type": "scatter",
         "x": [
          "Expanded Reporting ID",
          "T7 Only Reporting ID"
         ],
         "y": [
          7.752587320717044,
          9.385914375464578
         ]
        },
        {
         "showlegend": false,
         "type": "scatter",
         "x": [
          "Expanded Reporting ID",
          "T7 Only Reporting ID"
         ],
         "y": [
          7.707749992363984,
          8.453079598932018
         ]
        },
        {
         "showlegend": false,
         "type": "scatter",
         "x": [
          "Expanded Reporting ID",
          "T7 Only Reporting ID"
         ],
         "y": [
          8.047990278724518,
          9.603570382612608
         ]
        },
        {
         "showlegend": false,
         "type": "scatter",
         "x": [
          "Expanded Reporting ID",
          "T7 Only Reporting ID"
         ],
         "y": [
          8.31125686668605,
          9.64154724769069
         ]
        },
        {
         "showlegend": false,
         "type": "scatter",
         "x": [
          "Expanded Reporting ID",
          "T7 Only Reporting ID"
         ],
         "y": [
          8.127499413982747,
          8.459430784598723
         ]
        },
        {
         "showlegend": false,
         "type": "scatter",
         "x": [
          "Expanded Reporting ID",
          "T7 Only Reporting ID"
         ],
         "y": [
          6.783100180518493,
          6.942910866202936
         ]
        },
        {
         "showlegend": false,
         "type": "scatter",
         "x": [
          "Expanded Reporting ID",
          "T7 Only Reporting ID"
         ],
         "y": [
          null,
          null
         ]
        },
        {
         "showlegend": false,
         "type": "scatter",
         "x": [
          "Expanded Reporting ID",
          "T7 Only Reporting ID"
         ],
         "y": [
          null,
          null
         ]
        },
        {
         "showlegend": false,
         "type": "scatter",
         "x": [
          "Expanded Reporting ID",
          "T7 Only Reporting ID"
         ],
         "y": [
          5.278166318905222,
          5.397043068397067
         ]
        },
        {
         "showlegend": false,
         "type": "scatter",
         "x": [
          "Expanded Reporting ID",
          "T7 Only Reporting ID"
         ],
         "y": [
          7.024645484422536,
          7.168485119781119
         ]
        },
        {
         "showlegend": false,
         "type": "scatter",
         "x": [
          "Expanded Reporting ID",
          "T7 Only Reporting ID"
         ],
         "y": [
          6.332578087875932,
          6.488704827760824
         ]
        },
        {
         "showlegend": false,
         "type": "scatter",
         "x": [
          "Expanded Reporting ID",
          "T7 Only Reporting ID"
         ],
         "y": [
          6.550598320567888,
          6.661334236228558
         ]
        },
        {
         "showlegend": false,
         "type": "scatter",
         "x": [
          "Expanded Reporting ID",
          "T7 Only Reporting ID"
         ],
         "y": [
          7.473661362220472,
          8.68199371758011
         ]
        },
        {
         "showlegend": false,
         "type": "scatter",
         "x": [
          "Expanded Reporting ID",
          "T7 Only Reporting ID"
         ],
         "y": [
          7.876343829691267,
          8.593826202630616
         ]
        },
        {
         "showlegend": false,
         "type": "scatter",
         "x": [
          "Expanded Reporting ID",
          "T7 Only Reporting ID"
         ],
         "y": [
          7.609377620208813,
          7.789847532392835
         ]
        },
        {
         "showlegend": false,
         "type": "scatter",
         "x": [
          "Expanded Reporting ID",
          "T7 Only Reporting ID"
         ],
         "y": [
          7.425110812039023,
          7.960916229888724
         ]
        },
        {
         "showlegend": false,
         "type": "scatter",
         "x": [
          "Expanded Reporting ID",
          "T7 Only Reporting ID"
         ],
         "y": [
          8.086853752082238,
          9.878884099606204
         ]
        },
        {
         "showlegend": false,
         "type": "scatter",
         "x": [
          "Expanded Reporting ID",
          "T7 Only Reporting ID"
         ],
         "y": [
          7.651462940515558,
          9.16876468371738
         ]
        },
        {
         "showlegend": false,
         "type": "scatter",
         "x": [
          "Expanded Reporting ID",
          "T7 Only Reporting ID"
         ],
         "y": [
          8.012514386890256,
          8.41687784268019
         ]
        },
        {
         "showlegend": false,
         "type": "scatter",
         "x": [
          "Expanded Reporting ID",
          "T7 Only Reporting ID"
         ],
         "y": [
          7.613534005273577,
          7.900525042276616
         ]
        },
        {
         "showlegend": false,
         "type": "scatter",
         "x": [
          "Expanded Reporting ID",
          "T7 Only Reporting ID"
         ],
         "y": [
          8.116096364146616,
          9.376763586915423
         ]
        },
        {
         "showlegend": false,
         "type": "scatter",
         "x": [
          "Expanded Reporting ID",
          "T7 Only Reporting ID"
         ],
         "y": [
          7.816823073740123,
          8.357402197305596
         ]
        },
        {
         "showlegend": false,
         "type": "scatter",
         "x": [
          "Expanded Reporting ID",
          "T7 Only Reporting ID"
         ],
         "y": [
          8.109790493971111,
          9.92936503958228
         ]
        },
        {
         "showlegend": false,
         "type": "scatter",
         "x": [
          "Expanded Reporting ID",
          "T7 Only Reporting ID"
         ],
         "y": [
          7.658157505205259,
          7.960972835127944
         ]
        },
        {
         "showlegend": false,
         "type": "scatter",
         "x": [
          "Expanded Reporting ID",
          "T7 Only Reporting ID"
         ],
         "y": [
          7.5054348911326905,
          8.912036625194842
         ]
        },
        {
         "showlegend": false,
         "type": "scatter",
         "x": [
          "Expanded Reporting ID",
          "T7 Only Reporting ID"
         ],
         "y": [
          7.9853002996122715,
          8.411143879713284
         ]
        },
        {
         "showlegend": false,
         "type": "scatter",
         "x": [
          "Expanded Reporting ID",
          "T7 Only Reporting ID"
         ],
         "y": [
          8.08446689400186,
          9.73695075017624
         ]
        },
        {
         "showlegend": false,
         "type": "scatter",
         "x": [
          "Expanded Reporting ID",
          "T7 Only Reporting ID"
         ],
         "y": [
          8.123689639224986,
          9.259977801631381
         ]
        },
        {
         "showlegend": false,
         "type": "scatter",
         "x": [
          "Expanded Reporting ID",
          "T7 Only Reporting ID"
         ],
         "y": [
          6.678256603978128,
          6.833513391127157
         ]
        },
        {
         "showlegend": false,
         "type": "scatter",
         "x": [
          "Expanded Reporting ID",
          "T7 Only Reporting ID"
         ],
         "y": [
          7.685438632623184,
          8.48799863979358
         ]
        },
        {
         "showlegend": false,
         "type": "scatter",
         "x": [
          "Expanded Reporting ID",
          "T7 Only Reporting ID"
         ],
         "y": [
          7.872668561008787,
          9.06739107122033
         ]
        },
        {
         "showlegend": false,
         "type": "scatter",
         "x": [
          "Expanded Reporting ID",
          "T7 Only Reporting ID"
         ],
         "y": [
          7.581514821803495,
          8.498816256149228
         ]
        },
        {
         "showlegend": false,
         "type": "scatter",
         "x": [
          "Expanded Reporting ID",
          "T7 Only Reporting ID"
         ],
         "y": [
          7.7091469793624565,
          9.108257050413467
         ]
        },
        {
         "showlegend": false,
         "type": "scatter",
         "x": [
          "Expanded Reporting ID",
          "T7 Only Reporting ID"
         ],
         "y": [
          7.819033316031356,
          8.179008985106478
         ]
        },
        {
         "showlegend": false,
         "type": "scatter",
         "x": [
          "Expanded Reporting ID",
          "T7 Only Reporting ID"
         ],
         "y": [
          7.801649206741557,
          8.288760352350259
         ]
        },
        {
         "showlegend": false,
         "type": "scatter",
         "x": [
          "Expanded Reporting ID",
          "T7 Only Reporting ID"
         ],
         "y": [
          7.77720555082433,
          8.71342755889932
         ]
        },
        {
         "showlegend": false,
         "type": "scatter",
         "x": [
          "Expanded Reporting ID",
          "T7 Only Reporting ID"
         ],
         "y": [
          7.688054358985528,
          8.80426857356995
         ]
        },
        {
         "showlegend": false,
         "type": "scatter",
         "x": [
          "Expanded Reporting ID",
          "T7 Only Reporting ID"
         ],
         "y": [
          7.548385199826993,
          7.951325223975369
         ]
        },
        {
         "showlegend": false,
         "type": "scatter",
         "x": [
          "Expanded Reporting ID",
          "T7 Only Reporting ID"
         ],
         "y": [
          7.877871071893952,
          8.462837616351349
         ]
        },
        {
         "showlegend": false,
         "type": "scatter",
         "x": [
          "Expanded Reporting ID",
          "T7 Only Reporting ID"
         ],
         "y": [
          7.755245312548518,
          8.196292810902655
         ]
        },
        {
         "showlegend": false,
         "type": "scatter",
         "x": [
          "Expanded Reporting ID",
          "T7 Only Reporting ID"
         ],
         "y": [
          7.221855093698022,
          7.571253944067919
         ]
        },
        {
         "showlegend": false,
         "type": "scatter",
         "x": [
          "Expanded Reporting ID",
          "T7 Only Reporting ID"
         ],
         "y": [
          6.870886295085303,
          7.0210796370755055
         ]
        },
        {
         "showlegend": false,
         "type": "scatter",
         "x": [
          "Expanded Reporting ID",
          "T7 Only Reporting ID"
         ],
         "y": [
          7.902372087563193,
          8.615117969893888
         ]
        },
        {
         "showlegend": false,
         "type": "scatter",
         "x": [
          "Expanded Reporting ID",
          "T7 Only Reporting ID"
         ],
         "y": [
          null,
          null
         ]
        },
        {
         "showlegend": false,
         "type": "scatter",
         "x": [
          "Expanded Reporting ID",
          "T7 Only Reporting ID"
         ],
         "y": [
          null,
          null
         ]
        },
        {
         "showlegend": false,
         "type": "scatter",
         "x": [
          "Expanded Reporting ID",
          "T7 Only Reporting ID"
         ],
         "y": [
          null,
          null
         ]
        },
        {
         "showlegend": false,
         "type": "scatter",
         "x": [
          "Expanded Reporting ID",
          "T7 Only Reporting ID"
         ],
         "y": [
          5.790903942700624,
          5.909914043034888
         ]
        },
        {
         "showlegend": false,
         "type": "scatter",
         "x": [
          "Expanded Reporting ID",
          "T7 Only Reporting ID"
         ],
         "y": [
          null,
          null
         ]
        },
        {
         "showlegend": false,
         "type": "scatter",
         "x": [
          "Expanded Reporting ID",
          "T7 Only Reporting ID"
         ],
         "y": [
          5.714890139220926,
          5.860452719319085
         ]
        },
        {
         "showlegend": false,
         "type": "scatter",
         "x": [
          "Expanded Reporting ID",
          "T7 Only Reporting ID"
         ],
         "y": [
          7.834198003333589,
          9.497649060317887
         ]
        }
       ],
       "layout": {
        "height": 800,
        "template": {
         "data": {
          "bar": [
           {
            "error_x": {
             "color": "#2a3f5f"
            },
            "error_y": {
             "color": "#2a3f5f"
            },
            "marker": {
             "line": {
              "color": "#E5ECF6",
              "width": 0.5
             }
            },
            "type": "bar"
           }
          ],
          "barpolar": [
           {
            "marker": {
             "line": {
              "color": "#E5ECF6",
              "width": 0.5
             }
            },
            "type": "barpolar"
           }
          ],
          "carpet": [
           {
            "aaxis": {
             "endlinecolor": "#2a3f5f",
             "gridcolor": "white",
             "linecolor": "white",
             "minorgridcolor": "white",
             "startlinecolor": "#2a3f5f"
            },
            "baxis": {
             "endlinecolor": "#2a3f5f",
             "gridcolor": "white",
             "linecolor": "white",
             "minorgridcolor": "white",
             "startlinecolor": "#2a3f5f"
            },
            "type": "carpet"
           }
          ],
          "choropleth": [
           {
            "colorbar": {
             "outlinewidth": 0,
             "ticks": ""
            },
            "type": "choropleth"
           }
          ],
          "contour": [
           {
            "colorbar": {
             "outlinewidth": 0,
             "ticks": ""
            },
            "colorscale": [
             [
              0,
              "#0d0887"
             ],
             [
              0.1111111111111111,
              "#46039f"
             ],
             [
              0.2222222222222222,
              "#7201a8"
             ],
             [
              0.3333333333333333,
              "#9c179e"
             ],
             [
              0.4444444444444444,
              "#bd3786"
             ],
             [
              0.5555555555555556,
              "#d8576b"
             ],
             [
              0.6666666666666666,
              "#ed7953"
             ],
             [
              0.7777777777777778,
              "#fb9f3a"
             ],
             [
              0.8888888888888888,
              "#fdca26"
             ],
             [
              1,
              "#f0f921"
             ]
            ],
            "type": "contour"
           }
          ],
          "contourcarpet": [
           {
            "colorbar": {
             "outlinewidth": 0,
             "ticks": ""
            },
            "type": "contourcarpet"
           }
          ],
          "heatmap": [
           {
            "colorbar": {
             "outlinewidth": 0,
             "ticks": ""
            },
            "colorscale": [
             [
              0,
              "#0d0887"
             ],
             [
              0.1111111111111111,
              "#46039f"
             ],
             [
              0.2222222222222222,
              "#7201a8"
             ],
             [
              0.3333333333333333,
              "#9c179e"
             ],
             [
              0.4444444444444444,
              "#bd3786"
             ],
             [
              0.5555555555555556,
              "#d8576b"
             ],
             [
              0.6666666666666666,
              "#ed7953"
             ],
             [
              0.7777777777777778,
              "#fb9f3a"
             ],
             [
              0.8888888888888888,
              "#fdca26"
             ],
             [
              1,
              "#f0f921"
             ]
            ],
            "type": "heatmap"
           }
          ],
          "heatmapgl": [
           {
            "colorbar": {
             "outlinewidth": 0,
             "ticks": ""
            },
            "colorscale": [
             [
              0,
              "#0d0887"
             ],
             [
              0.1111111111111111,
              "#46039f"
             ],
             [
              0.2222222222222222,
              "#7201a8"
             ],
             [
              0.3333333333333333,
              "#9c179e"
             ],
             [
              0.4444444444444444,
              "#bd3786"
             ],
             [
              0.5555555555555556,
              "#d8576b"
             ],
             [
              0.6666666666666666,
              "#ed7953"
             ],
             [
              0.7777777777777778,
              "#fb9f3a"
             ],
             [
              0.8888888888888888,
              "#fdca26"
             ],
             [
              1,
              "#f0f921"
             ]
            ],
            "type": "heatmapgl"
           }
          ],
          "histogram": [
           {
            "marker": {
             "colorbar": {
              "outlinewidth": 0,
              "ticks": ""
             }
            },
            "type": "histogram"
           }
          ],
          "histogram2d": [
           {
            "colorbar": {
             "outlinewidth": 0,
             "ticks": ""
            },
            "colorscale": [
             [
              0,
              "#0d0887"
             ],
             [
              0.1111111111111111,
              "#46039f"
             ],
             [
              0.2222222222222222,
              "#7201a8"
             ],
             [
              0.3333333333333333,
              "#9c179e"
             ],
             [
              0.4444444444444444,
              "#bd3786"
             ],
             [
              0.5555555555555556,
              "#d8576b"
             ],
             [
              0.6666666666666666,
              "#ed7953"
             ],
             [
              0.7777777777777778,
              "#fb9f3a"
             ],
             [
              0.8888888888888888,
              "#fdca26"
             ],
             [
              1,
              "#f0f921"
             ]
            ],
            "type": "histogram2d"
           }
          ],
          "histogram2dcontour": [
           {
            "colorbar": {
             "outlinewidth": 0,
             "ticks": ""
            },
            "colorscale": [
             [
              0,
              "#0d0887"
             ],
             [
              0.1111111111111111,
              "#46039f"
             ],
             [
              0.2222222222222222,
              "#7201a8"
             ],
             [
              0.3333333333333333,
              "#9c179e"
             ],
             [
              0.4444444444444444,
              "#bd3786"
             ],
             [
              0.5555555555555556,
              "#d8576b"
             ],
             [
              0.6666666666666666,
              "#ed7953"
             ],
             [
              0.7777777777777778,
              "#fb9f3a"
             ],
             [
              0.8888888888888888,
              "#fdca26"
             ],
             [
              1,
              "#f0f921"
             ]
            ],
            "type": "histogram2dcontour"
           }
          ],
          "mesh3d": [
           {
            "colorbar": {
             "outlinewidth": 0,
             "ticks": ""
            },
            "type": "mesh3d"
           }
          ],
          "parcoords": [
           {
            "line": {
             "colorbar": {
              "outlinewidth": 0,
              "ticks": ""
             }
            },
            "type": "parcoords"
           }
          ],
          "scatter": [
           {
            "marker": {
             "colorbar": {
              "outlinewidth": 0,
              "ticks": ""
             }
            },
            "type": "scatter"
           }
          ],
          "scatter3d": [
           {
            "line": {
             "colorbar": {
              "outlinewidth": 0,
              "ticks": ""
             }
            },
            "marker": {
             "colorbar": {
              "outlinewidth": 0,
              "ticks": ""
             }
            },
            "type": "scatter3d"
           }
          ],
          "scattercarpet": [
           {
            "marker": {
             "colorbar": {
              "outlinewidth": 0,
              "ticks": ""
             }
            },
            "type": "scattercarpet"
           }
          ],
          "scattergeo": [
           {
            "marker": {
             "colorbar": {
              "outlinewidth": 0,
              "ticks": ""
             }
            },
            "type": "scattergeo"
           }
          ],
          "scattergl": [
           {
            "marker": {
             "colorbar": {
              "outlinewidth": 0,
              "ticks": ""
             }
            },
            "type": "scattergl"
           }
          ],
          "scattermapbox": [
           {
            "marker": {
             "colorbar": {
              "outlinewidth": 0,
              "ticks": ""
             }
            },
            "type": "scattermapbox"
           }
          ],
          "scatterpolar": [
           {
            "marker": {
             "colorbar": {
              "outlinewidth": 0,
              "ticks": ""
             }
            },
            "type": "scatterpolar"
           }
          ],
          "scatterpolargl": [
           {
            "marker": {
             "colorbar": {
              "outlinewidth": 0,
              "ticks": ""
             }
            },
            "type": "scatterpolargl"
           }
          ],
          "scatterternary": [
           {
            "marker": {
             "colorbar": {
              "outlinewidth": 0,
              "ticks": ""
             }
            },
            "type": "scatterternary"
           }
          ],
          "surface": [
           {
            "colorbar": {
             "outlinewidth": 0,
             "ticks": ""
            },
            "colorscale": [
             [
              0,
              "#0d0887"
             ],
             [
              0.1111111111111111,
              "#46039f"
             ],
             [
              0.2222222222222222,
              "#7201a8"
             ],
             [
              0.3333333333333333,
              "#9c179e"
             ],
             [
              0.4444444444444444,
              "#bd3786"
             ],
             [
              0.5555555555555556,
              "#d8576b"
             ],
             [
              0.6666666666666666,
              "#ed7953"
             ],
             [
              0.7777777777777778,
              "#fb9f3a"
             ],
             [
              0.8888888888888888,
              "#fdca26"
             ],
             [
              1,
              "#f0f921"
             ]
            ],
            "type": "surface"
           }
          ],
          "table": [
           {
            "cells": {
             "fill": {
              "color": "#EBF0F8"
             },
             "line": {
              "color": "white"
             }
            },
            "header": {
             "fill": {
              "color": "#C8D4E3"
             },
             "line": {
              "color": "white"
             }
            },
            "type": "table"
           }
          ]
         },
         "layout": {
          "annotationdefaults": {
           "arrowcolor": "#2a3f5f",
           "arrowhead": 0,
           "arrowwidth": 1
          },
          "colorscale": {
           "diverging": [
            [
             0,
             "#8e0152"
            ],
            [
             0.1,
             "#c51b7d"
            ],
            [
             0.2,
             "#de77ae"
            ],
            [
             0.3,
             "#f1b6da"
            ],
            [
             0.4,
             "#fde0ef"
            ],
            [
             0.5,
             "#f7f7f7"
            ],
            [
             0.6,
             "#e6f5d0"
            ],
            [
             0.7,
             "#b8e186"
            ],
            [
             0.8,
             "#7fbc41"
            ],
            [
             0.9,
             "#4d9221"
            ],
            [
             1,
             "#276419"
            ]
           ],
           "sequential": [
            [
             0,
             "#0d0887"
            ],
            [
             0.1111111111111111,
             "#46039f"
            ],
            [
             0.2222222222222222,
             "#7201a8"
            ],
            [
             0.3333333333333333,
             "#9c179e"
            ],
            [
             0.4444444444444444,
             "#bd3786"
            ],
            [
             0.5555555555555556,
             "#d8576b"
            ],
            [
             0.6666666666666666,
             "#ed7953"
            ],
            [
             0.7777777777777778,
             "#fb9f3a"
            ],
            [
             0.8888888888888888,
             "#fdca26"
            ],
            [
             1,
             "#f0f921"
            ]
           ],
           "sequentialminus": [
            [
             0,
             "#0d0887"
            ],
            [
             0.1111111111111111,
             "#46039f"
            ],
            [
             0.2222222222222222,
             "#7201a8"
            ],
            [
             0.3333333333333333,
             "#9c179e"
            ],
            [
             0.4444444444444444,
             "#bd3786"
            ],
            [
             0.5555555555555556,
             "#d8576b"
            ],
            [
             0.6666666666666666,
             "#ed7953"
            ],
            [
             0.7777777777777778,
             "#fb9f3a"
            ],
            [
             0.8888888888888888,
             "#fdca26"
            ],
            [
             1,
             "#f0f921"
            ]
           ]
          },
          "colorway": [
           "#636efa",
           "#EF553B",
           "#00cc96",
           "#ab63fa",
           "#FFA15A",
           "#19d3f3",
           "#FF6692",
           "#B6E880",
           "#FF97FF",
           "#FECB52"
          ],
          "font": {
           "color": "#2a3f5f"
          },
          "geo": {
           "bgcolor": "white",
           "lakecolor": "white",
           "landcolor": "#E5ECF6",
           "showlakes": true,
           "showland": true,
           "subunitcolor": "white"
          },
          "hoverlabel": {
           "align": "left"
          },
          "hovermode": "closest",
          "mapbox": {
           "style": "light"
          },
          "paper_bgcolor": "white",
          "plot_bgcolor": "#E5ECF6",
          "polar": {
           "angularaxis": {
            "gridcolor": "white",
            "linecolor": "white",
            "ticks": ""
           },
           "bgcolor": "#E5ECF6",
           "radialaxis": {
            "gridcolor": "white",
            "linecolor": "white",
            "ticks": ""
           }
          },
          "scene": {
           "xaxis": {
            "backgroundcolor": "#E5ECF6",
            "gridcolor": "white",
            "gridwidth": 2,
            "linecolor": "white",
            "showbackground": true,
            "ticks": "",
            "zerolinecolor": "white"
           },
           "yaxis": {
            "backgroundcolor": "#E5ECF6",
            "gridcolor": "white",
            "gridwidth": 2,
            "linecolor": "white",
            "showbackground": true,
            "ticks": "",
            "zerolinecolor": "white"
           },
           "zaxis": {
            "backgroundcolor": "#E5ECF6",
            "gridcolor": "white",
            "gridwidth": 2,
            "linecolor": "white",
            "showbackground": true,
            "ticks": "",
            "zerolinecolor": "white"
           }
          },
          "shapedefaults": {
           "line": {
            "color": "#2a3f5f"
           }
          },
          "ternary": {
           "aaxis": {
            "gridcolor": "white",
            "linecolor": "white",
            "ticks": ""
           },
           "baxis": {
            "gridcolor": "white",
            "linecolor": "white",
            "ticks": ""
           },
           "bgcolor": "#E5ECF6",
           "caxis": {
            "gridcolor": "white",
            "linecolor": "white",
            "ticks": ""
           }
          },
          "title": {
           "x": 0.05
          },
          "xaxis": {
           "automargin": true,
           "gridcolor": "white",
           "linecolor": "white",
           "ticks": "",
           "zerolinecolor": "white",
           "zerolinewidth": 2
          },
          "yaxis": {
           "automargin": true,
           "gridcolor": "white",
           "linecolor": "white",
           "ticks": "",
           "zerolinecolor": "white",
           "zerolinewidth": 2
          }
         }
        },
        "width": 600,
        "xaxis": {
         "autorange": true,
         "nticks": 2,
         "range": [
          -0.06640625,
          1.06640625
         ],
         "tickangle": 35,
         "type": "category"
        },
        "yaxis": {
         "autorange": true,
         "range": [
          4.937902951706439,
          10.985907609037913
         ],
         "title": {
          "text": "log(GE)/ml"
         },
         "type": "linear"
        }
       }
      },
      "image/png": "[encoded data removed]",
      "text/html": [
       "<div>\n",
       "        \n",
       "        \n",
       "            <div id=\"4518ca8e-8212-4716-9b59-ee2c68f18c30\" class=\"plotly-graph-div\" style=\"height:800px; width:600px;\"></div>\n",
       "            <script type=\"text/javascript\">\n",
       "                require([\"plotly\"], function(Plotly) {\n",
       "                    window.PLOTLYENV=window.PLOTLYENV || {};\n",
       "                    \n",
       "                if (document.getElementById(\"4518ca8e-8212-4716-9b59-ee2c68f18c30\")) {\n",
       "                    Plotly.newPlot(\n",
       "                        '4518ca8e-8212-4716-9b59-ee2c68f18c30',\n",
       "                        [{\"showlegend\": false, \"type\": \"scatter\", \"x\": [\"Expanded Reporting ID\", \"T7 Only Reporting ID\"], \"y\": [7.875024592002988, 9.025554822072145]}, {\"showlegend\": false, \"type\": \"scatter\", \"x\": [\"Expanded Reporting ID\", \"T7 Only Reporting ID\"], \"y\": [7.72853235738853, 8.230548001858736]}, {\"showlegend\": false, \"type\": \"scatter\", \"x\": [\"Expanded Reporting ID\", \"T7 Only Reporting ID\"], \"y\": [7.631641023911525, 9.333081886425344]}, {\"showlegend\": false, \"type\": \"scatter\", \"x\": [\"Expanded Reporting ID\", \"T7 Only Reporting ID\"], \"y\": [7.831336435912278, 9.054023411743156]}, {\"showlegend\": false, \"type\": \"scatter\", \"x\": [\"Expanded Reporting ID\", \"T7 Only Reporting ID\"], \"y\": [7.89385704734639, 8.135537815229414]}, {\"showlegend\": false, \"type\": \"scatter\", \"x\": [\"Expanded Reporting ID\", \"T7 Only Reporting ID\"], \"y\": [8.561953990372196, 9.971747244314576]}, {\"showlegend\": false, \"type\": \"scatter\", \"x\": [\"Expanded Reporting ID\", \"T7 Only Reporting ID\"], \"y\": [7.488413083822398, 7.90956225037727]}, {\"showlegend\": false, \"type\": \"scatter\", \"x\": [\"Expanded Reporting ID\", \"T7 Only Reporting ID\"], \"y\": [7.538577576984983, 7.782809419414757]}, {\"showlegend\": false, \"type\": \"scatter\", \"x\": [\"Expanded Reporting ID\", \"T7 Only Reporting ID\"], \"y\": [7.752226405487546, 9.12536532187906]}, {\"showlegend\": false, \"type\": \"scatter\", \"x\": [\"Expanded Reporting ID\", \"T7 Only Reporting ID\"], \"y\": [7.991376179407876, 8.823385960306528]}, {\"showlegend\": false, \"type\": \"scatter\", \"x\": [\"Expanded Reporting ID\", \"T7 Only Reporting ID\"], \"y\": [7.658447914920353, 8.153560766962496]}, {\"showlegend\": false, \"type\": \"scatter\", \"x\": [\"Expanded Reporting ID\", \"T7 Only Reporting ID\"], \"y\": [8.35906639026054, 9.256716276594387]}, {\"showlegend\": false, \"type\": \"scatter\", \"x\": [\"Expanded Reporting ID\", \"T7 Only Reporting ID\"], \"y\": [7.25263025933951, 7.396635990687167]}, {\"showlegend\": false, \"type\": \"scatter\", \"x\": [\"Expanded Reporting ID\", \"T7 Only Reporting ID\"], \"y\": [7.513613667963942, 8.49668734478632]}, {\"showlegend\": false, \"type\": \"scatter\", \"x\": [\"Expanded Reporting ID\", \"T7 Only Reporting ID\"], \"y\": [7.736465282535208, 8.61248623201435]}, {\"showlegend\": false, \"type\": \"scatter\", \"x\": [\"Expanded Reporting ID\", \"T7 Only Reporting ID\"], \"y\": [6.416955501968589, 6.541101664668696]}, {\"showlegend\": false, \"type\": \"scatter\", \"x\": [\"Expanded Reporting ID\", \"T7 Only Reporting ID\"], \"y\": [8.098431682655868, 9.431302493896633]}, {\"showlegend\": false, \"type\": \"scatter\", \"x\": [\"Expanded Reporting ID\", \"T7 Only Reporting ID\"], \"y\": [7.661178419567278, 9.094124619072051]}, {\"showlegend\": false, \"type\": \"scatter\", \"x\": [\"Expanded Reporting ID\", \"T7 Only Reporting ID\"], \"y\": [5.766731600611884, 5.88299381763617]}, {\"showlegend\": false, \"type\": \"scatter\", \"x\": [\"Expanded Reporting ID\", \"T7 Only Reporting ID\"], \"y\": [8.00069463646691, 10.069135674389717]}, {\"showlegend\": false, \"type\": \"scatter\", \"x\": [\"Expanded Reporting ID\", \"T7 Only Reporting ID\"], \"y\": [7.4754203313061165, 9.86852343461751]}, {\"showlegend\": false, \"type\": \"scatter\", \"x\": [\"Expanded Reporting ID\", \"T7 Only Reporting ID\"], \"y\": [7.905944479863093, 8.716199683950203]}, {\"showlegend\": false, \"type\": \"scatter\", \"x\": [\"Expanded Reporting ID\", \"T7 Only Reporting ID\"], \"y\": [8.18000293349171, 9.086336315691993]}, {\"showlegend\": false, \"type\": \"scatter\", \"x\": [\"Expanded Reporting ID\", \"T7 Only Reporting ID\"], \"y\": [7.761721137047161, 10.64564424183913]}, {\"showlegend\": false, \"type\": \"scatter\", \"x\": [\"Expanded Reporting ID\", \"T7 Only Reporting ID\"], \"y\": [7.562534244587883, 8.998541470790277]}, {\"showlegend\": false, \"type\": \"scatter\", \"x\": [\"Expanded Reporting ID\", \"T7 Only Reporting ID\"], \"y\": [6.658222256791046, 6.782634180120685]}, {\"showlegend\": false, \"type\": \"scatter\", \"x\": [\"Expanded Reporting ID\", \"T7 Only Reporting ID\"], \"y\": [7.2797580838935945, 7.636444336219665]}, {\"showlegend\": false, \"type\": \"scatter\", \"x\": [\"Expanded Reporting ID\", \"T7 Only Reporting ID\"], \"y\": [7.120670340252604, 7.355762103130719]}, {\"showlegend\": false, \"type\": \"scatter\", \"x\": [\"Expanded Reporting ID\", \"T7 Only Reporting ID\"], \"y\": [7.59905396766985, 7.769074417369525]}, {\"showlegend\": false, \"type\": \"scatter\", \"x\": [\"Expanded Reporting ID\", \"T7 Only Reporting ID\"], \"y\": [7.595029047787452, 7.864840361644511]}, {\"showlegend\": false, \"type\": \"scatter\", \"x\": [\"Expanded Reporting ID\", \"T7 Only Reporting ID\"], \"y\": [8.178262090725134, 9.10107349207388]}, {\"showlegend\": false, \"type\": \"scatter\", \"x\": [\"Expanded Reporting ID\", \"T7 Only Reporting ID\"], \"y\": [7.77523204252045, 8.311055959523593]}, {\"showlegend\": false, \"type\": \"scatter\", \"x\": [\"Expanded Reporting ID\", \"T7 Only Reporting ID\"], \"y\": [7.927456847429383, 9.484703578194155]}, {\"showlegend\": false, \"type\": \"scatter\", \"x\": [\"Expanded Reporting ID\", \"T7 Only Reporting ID\"], \"y\": [7.981133474669637, 9.956200805370527]}, {\"showlegend\": false, \"type\": \"scatter\", \"x\": [\"Expanded Reporting ID\", \"T7 Only Reporting ID\"], \"y\": [8.283922354877745, 9.110454381830829]}, {\"showlegend\": false, \"type\": \"scatter\", \"x\": [\"Expanded Reporting ID\", \"T7 Only Reporting ID\"], \"y\": [8.515122529013329, 9.934659375113363]}, {\"showlegend\": false, \"type\": \"scatter\", \"x\": [\"Expanded Reporting ID\", \"T7 Only Reporting ID\"], \"y\": [5.846791882026409, 5.968481824811633]}, {\"showlegend\": false, \"type\": \"scatter\", \"x\": [\"Expanded Reporting ID\", \"T7 Only Reporting ID\"], \"y\": [null, null]}, {\"showlegend\": false, \"type\": \"scatter\", \"x\": [\"Expanded Reporting ID\", \"T7 Only Reporting ID\"], \"y\": [6.158730561053594, 6.293561019961957]}, {\"showlegend\": false, \"type\": \"scatter\", \"x\": [\"Expanded Reporting ID\", \"T7 Only Reporting ID\"], \"y\": [5.614361647980038, 5.738895764978096]}, {\"showlegend\": false, \"type\": \"scatter\", \"x\": [\"Expanded Reporting ID\", \"T7 Only Reporting ID\"], \"y\": [null, null]}, {\"showlegend\": false, \"type\": \"scatter\", \"x\": [\"Expanded Reporting ID\", \"T7 Only Reporting ID\"], \"y\": [5.8730819577862645, 6.0364254543446325]}, {\"showlegend\": false, \"type\": \"scatter\", \"x\": [\"Expanded Reporting ID\", \"T7 Only Reporting ID\"], \"y\": [null, null]}, {\"showlegend\": false, \"type\": \"scatter\", \"x\": [\"Expanded Reporting ID\", \"T7 Only Reporting ID\"], \"y\": [5.696742645985094, 5.821444692909192]}, {\"showlegend\": false, \"type\": \"scatter\", \"x\": [\"Expanded Reporting ID\", \"T7 Only Reporting ID\"], \"y\": [6.33743814993122, 6.47013855072265]}, {\"showlegend\": false, \"type\": \"scatter\", \"x\": [\"Expanded Reporting ID\", \"T7 Only Reporting ID\"], \"y\": [6.923043082361669, 7.121509611423049]}, {\"showlegend\": false, \"type\": \"scatter\", \"x\": [\"Expanded Reporting ID\", \"T7 Only Reporting ID\"], \"y\": [7.113257129726268, 7.59311355135971]}, {\"showlegend\": false, \"type\": \"scatter\", \"x\": [\"Expanded Reporting ID\", \"T7 Only Reporting ID\"], \"y\": [5.685738787693969, 5.8183599897518326]}, {\"showlegend\": false, \"type\": \"scatter\", \"x\": [\"Expanded Reporting ID\", \"T7 Only Reporting ID\"], \"y\": [6.763959419621456, 6.91634172953251]}, {\"showlegend\": false, \"type\": \"scatter\", \"x\": [\"Expanded Reporting ID\", \"T7 Only Reporting ID\"], \"y\": [6.551010616425325, 6.679876944211966]}, {\"showlegend\": false, \"type\": \"scatter\", \"x\": [\"Expanded Reporting ID\", \"T7 Only Reporting ID\"], \"y\": [7.9482481940021685, 8.58234358873146]}, {\"showlegend\": false, \"type\": \"scatter\", \"x\": [\"Expanded Reporting ID\", \"T7 Only Reporting ID\"], \"y\": [7.680037419378225, 8.652789620813518]}, {\"showlegend\": false, \"type\": \"scatter\", \"x\": [\"Expanded Reporting ID\", \"T7 Only Reporting ID\"], \"y\": [7.529758496512831, 8.732680617367095]}, {\"showlegend\": false, \"type\": \"scatter\", \"x\": [\"Expanded Reporting ID\", \"T7 Only Reporting ID\"], \"y\": [7.752587320717044, 9.385914375464578]}, {\"showlegend\": false, \"type\": \"scatter\", \"x\": [\"Expanded Reporting ID\", \"T7 Only Reporting ID\"], \"y\": [7.707749992363984, 8.453079598932018]}, {\"showlegend\": false, \"type\": \"scatter\", \"x\": [\"Expanded Reporting ID\", \"T7 Only Reporting ID\"], \"y\": [8.047990278724518, 9.603570382612608]}, {\"showlegend\": false, \"type\": \"scatter\", \"x\": [\"Expanded Reporting ID\", \"T7 Only Reporting ID\"], \"y\": [8.31125686668605, 9.64154724769069]}, {\"showlegend\": false, \"type\": \"scatter\", \"x\": [\"Expanded Reporting ID\", \"T7 Only Reporting ID\"], \"y\": [8.127499413982747, 8.459430784598723]}, {\"showlegend\": false, \"type\": \"scatter\", \"x\": [\"Expanded Reporting ID\", \"T7 Only Reporting ID\"], \"y\": [6.783100180518493, 6.942910866202936]}, {\"showlegend\": false, \"type\": \"scatter\", \"x\": [\"Expanded Reporting ID\", \"T7 Only Reporting ID\"], \"y\": [null, null]}, {\"showlegend\": false, \"type\": \"scatter\", \"x\": [\"Expanded Reporting ID\", \"T7 Only Reporting ID\"], \"y\": [null, null]}, {\"showlegend\": false, \"type\": \"scatter\", \"x\": [\"Expanded Reporting ID\", \"T7 Only Reporting ID\"], \"y\": [5.278166318905222, 5.397043068397067]}, {\"showlegend\": false, \"type\": \"scatter\", \"x\": [\"Expanded Reporting ID\", \"T7 Only Reporting ID\"], \"y\": [7.024645484422536, 7.168485119781119]}, {\"showlegend\": false, \"type\": \"scatter\", \"x\": [\"Expanded Reporting ID\", \"T7 Only Reporting ID\"], \"y\": [6.332578087875932, 6.488704827760824]}, {\"showlegend\": false, \"type\": \"scatter\", \"x\": [\"Expanded Reporting ID\", \"T7 Only Reporting ID\"], \"y\": [6.550598320567888, 6.661334236228558]}, {\"showlegend\": false, \"type\": \"scatter\", \"x\": [\"Expanded Reporting ID\", \"T7 Only Reporting ID\"], \"y\": [7.473661362220472, 8.68199371758011]}, {\"showlegend\": false, \"type\": \"scatter\", \"x\": [\"Expanded Reporting ID\", \"T7 Only Reporting ID\"], \"y\": [7.876343829691267, 8.593826202630616]}, {\"showlegend\": false, \"type\": \"scatter\", \"x\": [\"Expanded Reporting ID\", \"T7 Only Reporting ID\"], \"y\": [7.609377620208813, 7.789847532392835]}, {\"showlegend\": false, \"type\": \"scatter\", \"x\": [\"Expanded Reporting ID\", \"T7 Only Reporting ID\"], \"y\": [7.425110812039023, 7.960916229888724]}, {\"showlegend\": false, \"type\": \"scatter\", \"x\": [\"Expanded Reporting ID\", \"T7 Only Reporting ID\"], \"y\": [8.086853752082238, 9.878884099606204]}, {\"showlegend\": false, \"type\": \"scatter\", \"x\": [\"Expanded Reporting ID\", \"T7 Only Reporting ID\"], \"y\": [7.651462940515558, 9.16876468371738]}, {\"showlegend\": false, \"type\": \"scatter\", \"x\": [\"Expanded Reporting ID\", \"T7 Only Reporting ID\"], \"y\": [8.012514386890256, 8.41687784268019]}, {\"showlegend\": false, \"type\": \"scatter\", \"x\": [\"Expanded Reporting ID\", \"T7 Only Reporting ID\"], \"y\": [7.613534005273577, 7.900525042276616]}, {\"showlegend\": false, \"type\": \"scatter\", \"x\": [\"Expanded Reporting ID\", \"T7 Only Reporting ID\"], \"y\": [8.116096364146616, 9.376763586915423]}, {\"showlegend\": false, \"type\": \"scatter\", \"x\": [\"Expanded Reporting ID\", \"T7 Only Reporting ID\"], \"y\": [7.816823073740123, 8.357402197305596]}, {\"showlegend\": false, \"type\": \"scatter\", \"x\": [\"Expanded Reporting ID\", \"T7 Only Reporting ID\"], \"y\": [8.109790493971111, 9.92936503958228]}, {\"showlegend\": false, \"type\": \"scatter\", \"x\": [\"Expanded Reporting ID\", \"T7 Only Reporting ID\"], \"y\": [7.658157505205259, 7.960972835127944]}, {\"showlegend\": false, \"type\": \"scatter\", \"x\": [\"Expanded Reporting ID\", \"T7 Only Reporting ID\"], \"y\": [7.5054348911326905, 8.912036625194842]}, {\"showlegend\": false, \"type\": \"scatter\", \"x\": [\"Expanded Reporting ID\", \"T7 Only Reporting ID\"], \"y\": [7.9853002996122715, 8.411143879713284]}, {\"showlegend\": false, \"type\": \"scatter\", \"x\": [\"Expanded Reporting ID\", \"T7 Only Reporting ID\"], \"y\": [8.08446689400186, 9.73695075017624]}, {\"showlegend\": false, \"type\": \"scatter\", \"x\": [\"Expanded Reporting ID\", \"T7 Only Reporting ID\"], \"y\": [8.123689639224986, 9.259977801631381]}, {\"showlegend\": false, \"type\": \"scatter\", \"x\": [\"Expanded Reporting ID\", \"T7 Only Reporting ID\"], \"y\": [6.678256603978128, 6.833513391127157]}, {\"showlegend\": false, \"type\": \"scatter\", \"x\": [\"Expanded Reporting ID\", \"T7 Only Reporting ID\"], \"y\": [7.685438632623184, 8.48799863979358]}, {\"showlegend\": false, \"type\": \"scatter\", \"x\": [\"Expanded Reporting ID\", \"T7 Only Reporting ID\"], \"y\": [7.872668561008787, 9.06739107122033]}, {\"showlegend\": false, \"type\": \"scatter\", \"x\": [\"Expanded Reporting ID\", \"T7 Only Reporting ID\"], \"y\": [7.581514821803495, 8.498816256149228]}, {\"showlegend\": false, \"type\": \"scatter\", \"x\": [\"Expanded Reporting ID\", \"T7 Only Reporting ID\"], \"y\": [7.7091469793624565, 9.108257050413467]}, {\"showlegend\": false, \"type\": \"scatter\", \"x\": [\"Expanded Reporting ID\", \"T7 Only Reporting ID\"], \"y\": [7.819033316031356, 8.179008985106478]}, {\"showlegend\": false, \"type\": \"scatter\", \"x\": [\"Expanded Reporting ID\", \"T7 Only Reporting ID\"], \"y\": [7.801649206741557, 8.288760352350259]}, {\"showlegend\": false, \"type\": \"scatter\", \"x\": [\"Expanded Reporting ID\", \"T7 Only Reporting ID\"], \"y\": [7.77720555082433, 8.71342755889932]}, {\"showlegend\": false, \"type\": \"scatter\", \"x\": [\"Expanded Reporting ID\", \"T7 Only Reporting ID\"], \"y\": [7.688054358985528, 8.80426857356995]}, {\"showlegend\": false, \"type\": \"scatter\", \"x\": [\"Expanded Reporting ID\", \"T7 Only Reporting ID\"], \"y\": [7.548385199826993, 7.951325223975369]}, {\"showlegend\": false, \"type\": \"scatter\", \"x\": [\"Expanded Reporting ID\", \"T7 Only Reporting ID\"], \"y\": [7.877871071893952, 8.462837616351349]}, {\"showlegend\": false, \"type\": \"scatter\", \"x\": [\"Expanded Reporting ID\", \"T7 Only Reporting ID\"], \"y\": [7.755245312548518, 8.196292810902655]}, {\"showlegend\": false, \"type\": \"scatter\", \"x\": [\"Expanded Reporting ID\", \"T7 Only Reporting ID\"], \"y\": [7.221855093698022, 7.571253944067919]}, {\"showlegend\": false, \"type\": \"scatter\", \"x\": [\"Expanded Reporting ID\", \"T7 Only Reporting ID\"], \"y\": [6.870886295085303, 7.0210796370755055]}, {\"showlegend\": false, \"type\": \"scatter\", \"x\": [\"Expanded Reporting ID\", \"T7 Only Reporting ID\"], \"y\": [7.902372087563193, 8.615117969893888]}, {\"showlegend\": false, \"type\": \"scatter\", \"x\": [\"Expanded Reporting ID\", \"T7 Only Reporting ID\"], \"y\": [null, null]}, {\"showlegend\": false, \"type\": \"scatter\", \"x\": [\"Expanded Reporting ID\", \"T7 Only Reporting ID\"], \"y\": [null, null]}, {\"showlegend\": false, \"type\": \"scatter\", \"x\": [\"Expanded Reporting ID\", \"T7 Only Reporting ID\"], \"y\": [null, null]}, {\"showlegend\": false, \"type\": \"scatter\", \"x\": [\"Expanded Reporting ID\", \"T7 Only Reporting ID\"], \"y\": [5.790903942700624, 5.909914043034888]}, {\"showlegend\": false, \"type\": \"scatter\", \"x\": [\"Expanded Reporting ID\", \"T7 Only Reporting ID\"], \"y\": [null, null]}, {\"showlegend\": false, \"type\": \"scatter\", \"x\": [\"Expanded Reporting ID\", \"T7 Only Reporting ID\"], \"y\": [5.714890139220926, 5.860452719319085]}, {\"showlegend\": false, \"type\": \"scatter\", \"x\": [\"Expanded Reporting ID\", \"T7 Only Reporting ID\"], \"y\": [7.834198003333589, 9.497649060317887]}],\n",
       "                        {\"height\": 800, \"template\": {\"data\": {\"bar\": [{\"error_x\": {\"color\": \"#2a3f5f\"}, \"error_y\": {\"color\": \"#2a3f5f\"}, \"marker\": {\"line\": {\"color\": \"#E5ECF6\", \"width\": 0.5}}, \"type\": \"bar\"}], \"barpolar\": [{\"marker\": {\"line\": {\"color\": \"#E5ECF6\", \"width\": 0.5}}, \"type\": \"barpolar\"}], \"carpet\": [{\"aaxis\": {\"endlinecolor\": \"#2a3f5f\", \"gridcolor\": \"white\", \"linecolor\": \"white\", \"minorgridcolor\": \"white\", \"startlinecolor\": \"#2a3f5f\"}, \"baxis\": {\"endlinecolor\": \"#2a3f5f\", \"gridcolor\": \"white\", \"linecolor\": \"white\", \"minorgridcolor\": \"white\", \"startlinecolor\": \"#2a3f5f\"}, \"type\": \"carpet\"}], \"choropleth\": [{\"colorbar\": {\"outlinewidth\": 0, \"ticks\": \"\"}, \"type\": \"choropleth\"}], \"contour\": [{\"colorbar\": {\"outlinewidth\": 0, \"ticks\": \"\"}, \"colorscale\": [[0.0, \"#0d0887\"], [0.1111111111111111, \"#46039f\"], [0.2222222222222222, \"#7201a8\"], [0.3333333333333333, \"#9c179e\"], [0.4444444444444444, \"#bd3786\"], [0.5555555555555556, \"#d8576b\"], [0.6666666666666666, \"#ed7953\"], [0.7777777777777778, \"#fb9f3a\"], [0.8888888888888888, \"#fdca26\"], [1.0, \"#f0f921\"]], \"type\": \"contour\"}], \"contourcarpet\": [{\"colorbar\": {\"outlinewidth\": 0, \"ticks\": \"\"}, \"type\": \"contourcarpet\"}], \"heatmap\": [{\"colorbar\": {\"outlinewidth\": 0, \"ticks\": \"\"}, \"colorscale\": [[0.0, \"#0d0887\"], [0.1111111111111111, \"#46039f\"], [0.2222222222222222, \"#7201a8\"], [0.3333333333333333, \"#9c179e\"], [0.4444444444444444, \"#bd3786\"], [0.5555555555555556, \"#d8576b\"], [0.6666666666666666, \"#ed7953\"], [0.7777777777777778, \"#fb9f3a\"], [0.8888888888888888, \"#fdca26\"], [1.0, \"#f0f921\"]], \"type\": \"heatmap\"}], \"heatmapgl\": [{\"colorbar\": {\"outlinewidth\": 0, \"ticks\": \"\"}, \"colorscale\": [[0.0, \"#0d0887\"], [0.1111111111111111, \"#46039f\"], [0.2222222222222222, \"#7201a8\"], [0.3333333333333333, \"#9c179e\"], [0.4444444444444444, \"#bd3786\"], [0.5555555555555556, \"#d8576b\"], [0.6666666666666666, \"#ed7953\"], [0.7777777777777778, \"#fb9f3a\"], [0.8888888888888888, \"#fdca26\"], [1.0, \"#f0f921\"]], \"type\": \"heatmapgl\"}], \"histogram\": [{\"marker\": {\"colorbar\": {\"outlinewidth\": 0, \"ticks\": \"\"}}, \"type\": \"histogram\"}], \"histogram2d\": [{\"colorbar\": {\"outlinewidth\": 0, \"ticks\": \"\"}, \"colorscale\": [[0.0, \"#0d0887\"], [0.1111111111111111, \"#46039f\"], [0.2222222222222222, \"#7201a8\"], [0.3333333333333333, \"#9c179e\"], [0.4444444444444444, \"#bd3786\"], [0.5555555555555556, \"#d8576b\"], [0.6666666666666666, \"#ed7953\"], [0.7777777777777778, \"#fb9f3a\"], [0.8888888888888888, \"#fdca26\"], [1.0, \"#f0f921\"]], \"type\": \"histogram2d\"}], \"histogram2dcontour\": [{\"colorbar\": {\"outlinewidth\": 0, \"ticks\": \"\"}, \"colorscale\": [[0.0, \"#0d0887\"], [0.1111111111111111, \"#46039f\"], [0.2222222222222222, \"#7201a8\"], [0.3333333333333333, \"#9c179e\"], [0.4444444444444444, \"#bd3786\"], [0.5555555555555556, \"#d8576b\"], [0.6666666666666666, \"#ed7953\"], [0.7777777777777778, \"#fb9f3a\"], [0.8888888888888888, \"#fdca26\"], [1.0, \"#f0f921\"]], \"type\": \"histogram2dcontour\"}], \"mesh3d\": [{\"colorbar\": {\"outlinewidth\": 0, \"ticks\": \"\"}, \"type\": \"mesh3d\"}], \"parcoords\": [{\"line\": {\"colorbar\": {\"outlinewidth\": 0, \"ticks\": \"\"}}, \"type\": \"parcoords\"}], \"scatter\": [{\"marker\": {\"colorbar\": {\"outlinewidth\": 0, \"ticks\": \"\"}}, \"type\": \"scatter\"}], \"scatter3d\": [{\"line\": {\"colorbar\": {\"outlinewidth\": 0, \"ticks\": \"\"}}, \"marker\": {\"colorbar\": {\"outlinewidth\": 0, \"ticks\": \"\"}}, \"type\": \"scatter3d\"}], \"scattercarpet\": [{\"marker\": {\"colorbar\": {\"outlinewidth\": 0, \"ticks\": \"\"}}, \"type\": \"scattercarpet\"}], \"scattergeo\": [{\"marker\": {\"colorbar\": {\"outlinewidth\": 0, \"ticks\": \"\"}}, \"type\": \"scattergeo\"}], \"scattergl\": [{\"marker\": {\"colorbar\": {\"outlinewidth\": 0, \"ticks\": \"\"}}, \"type\": \"scattergl\"}], \"scattermapbox\": [{\"marker\": {\"colorbar\": {\"outlinewidth\": 0, \"ticks\": \"\"}}, \"type\": \"scattermapbox\"}], \"scatterpolar\": [{\"marker\": {\"colorbar\": {\"outlinewidth\": 0, \"ticks\": \"\"}}, \"type\": \"scatterpolar\"}], \"scatterpolargl\": [{\"marker\": {\"colorbar\": {\"outlinewidth\": 0, \"ticks\": \"\"}}, \"type\": \"scatterpolargl\"}], \"scatterternary\": [{\"marker\": {\"colorbar\": {\"outlinewidth\": 0, \"ticks\": \"\"}}, \"type\": \"scatterternary\"}], \"surface\": [{\"colorbar\": {\"outlinewidth\": 0, \"ticks\": \"\"}, \"colorscale\": [[0.0, \"#0d0887\"], [0.1111111111111111, \"#46039f\"], [0.2222222222222222, \"#7201a8\"], [0.3333333333333333, \"#9c179e\"], [0.4444444444444444, \"#bd3786\"], [0.5555555555555556, \"#d8576b\"], [0.6666666666666666, \"#ed7953\"], [0.7777777777777778, \"#fb9f3a\"], [0.8888888888888888, \"#fdca26\"], [1.0, \"#f0f921\"]], \"type\": \"surface\"}], \"table\": [{\"cells\": {\"fill\": {\"color\": \"#EBF0F8\"}, \"line\": {\"color\": \"white\"}}, \"header\": {\"fill\": {\"color\": \"#C8D4E3\"}, \"line\": {\"color\": \"white\"}}, \"type\": \"table\"}]}, \"layout\": {\"annotationdefaults\": {\"arrowcolor\": \"#2a3f5f\", \"arrowhead\": 0, \"arrowwidth\": 1}, \"colorscale\": {\"diverging\": [[0, \"#8e0152\"], [0.1, \"#c51b7d\"], [0.2, \"#de77ae\"], [0.3, \"#f1b6da\"], [0.4, \"#fde0ef\"], [0.5, \"#f7f7f7\"], [0.6, \"#e6f5d0\"], [0.7, \"#b8e186\"], [0.8, \"#7fbc41\"], [0.9, \"#4d9221\"], [1, \"#276419\"]], \"sequential\": [[0.0, \"#0d0887\"], [0.1111111111111111, \"#46039f\"], [0.2222222222222222, \"#7201a8\"], [0.3333333333333333, \"#9c179e\"], [0.4444444444444444, \"#bd3786\"], [0.5555555555555556, \"#d8576b\"], [0.6666666666666666, \"#ed7953\"], [0.7777777777777778, \"#fb9f3a\"], [0.8888888888888888, \"#fdca26\"], [1.0, \"#f0f921\"]], \"sequentialminus\": [[0.0, \"#0d0887\"], [0.1111111111111111, \"#46039f\"], [0.2222222222222222, \"#7201a8\"], [0.3333333333333333, \"#9c179e\"], [0.4444444444444444, \"#bd3786\"], [0.5555555555555556, \"#d8576b\"], [0.6666666666666666, \"#ed7953\"], [0.7777777777777778, \"#fb9f3a\"], [0.8888888888888888, \"#fdca26\"], [1.0, \"#f0f921\"]]}, \"colorway\": [\"#636efa\", \"#EF553B\", \"#00cc96\", \"#ab63fa\", \"#FFA15A\", \"#19d3f3\", \"#FF6692\", \"#B6E880\", \"#FF97FF\", \"#FECB52\"], \"font\": {\"color\": \"#2a3f5f\"}, \"geo\": {\"bgcolor\": \"white\", \"lakecolor\": \"white\", \"landcolor\": \"#E5ECF6\", \"showlakes\": true, \"showland\": true, \"subunitcolor\": \"white\"}, \"hoverlabel\": {\"align\": \"left\"}, \"hovermode\": \"closest\", \"mapbox\": {\"style\": \"light\"}, \"paper_bgcolor\": \"white\", \"plot_bgcolor\": \"#E5ECF6\", \"polar\": {\"angularaxis\": {\"gridcolor\": \"white\", \"linecolor\": \"white\", \"ticks\": \"\"}, \"bgcolor\": \"#E5ECF6\", \"radialaxis\": {\"gridcolor\": \"white\", \"linecolor\": \"white\", \"ticks\": \"\"}}, \"scene\": {\"xaxis\": {\"backgroundcolor\": \"#E5ECF6\", \"gridcolor\": \"white\", \"gridwidth\": 2, \"linecolor\": \"white\", \"showbackground\": true, \"ticks\": \"\", \"zerolinecolor\": \"white\"}, \"yaxis\": {\"backgroundcolor\": \"#E5ECF6\", \"gridcolor\": \"white\", \"gridwidth\": 2, \"linecolor\": \"white\", \"showbackground\": true, \"ticks\": \"\", \"zerolinecolor\": \"white\"}, \"zaxis\": {\"backgroundcolor\": \"#E5ECF6\", \"gridcolor\": \"white\", \"gridwidth\": 2, \"linecolor\": \"white\", \"showbackground\": true, \"ticks\": \"\", \"zerolinecolor\": \"white\"}}, \"shapedefaults\": {\"line\": {\"color\": \"#2a3f5f\"}}, \"ternary\": {\"aaxis\": {\"gridcolor\": \"white\", \"linecolor\": \"white\", \"ticks\": \"\"}, \"baxis\": {\"gridcolor\": \"white\", \"linecolor\": \"white\", \"ticks\": \"\"}, \"bgcolor\": \"#E5ECF6\", \"caxis\": {\"gridcolor\": \"white\", \"linecolor\": \"white\", \"ticks\": \"\"}}, \"title\": {\"x\": 0.05}, \"xaxis\": {\"automargin\": true, \"gridcolor\": \"white\", \"linecolor\": \"white\", \"ticks\": \"\", \"zerolinecolor\": \"white\", \"zerolinewidth\": 2}, \"yaxis\": {\"automargin\": true, \"gridcolor\": \"white\", \"linecolor\": \"white\", \"ticks\": \"\", \"zerolinecolor\": \"white\", \"zerolinewidth\": 2}}}, \"width\": 600, \"xaxis\": {\"nticks\": 2, \"tickangle\": 35}, \"yaxis\": {\"title\": {\"text\": \"log(GE)/ml\"}}},\n",
       "                        {\"responsive\": true}\n",
       "                    ).then(function(){\n",
       "                            \n",
       "var gd = document.getElementById('4518ca8e-8212-4716-9b59-ee2c68f18c30');\n",
       "var x = new MutationObserver(function (mutations, observer) {{\n",
       "        var display = window.getComputedStyle(gd).display;\n",
       "        if (!display || display === 'none') {{\n",
       "            console.log([gd, 'removed!']);\n",
       "            Plotly.purge(gd);\n",
       "            observer.disconnect();\n",
       "        }}\n",
       "}});\n",
       "\n",
       "// Listen for the removal of the full notebook cells\n",
       "var notebookContainer = gd.closest('#notebook-container');\n",
       "if (notebookContainer) {{\n",
       "    x.observe(notebookContainer, {childList: true});\n",
       "}}\n",
       "\n",
       "// Listen for the clearing of the current output cell\n",
       "var outputEl = gd.closest('.output');\n",
       "if (outputEl) {{\n",
       "    x.observe(outputEl, {childList: true});\n",
       "}}\n",
       "\n",
       "                        })\n",
       "                };\n",
       "                });\n",
       "            </script>\n",
       "        </div>"
      ]
     },
     "metadata": {},
     "output_type": "display_data"
    }
   ],
   "source": [
    "fig = go.Figure()\n",
    "for idx, row in merged.iterrows():\n",
    "    fig.add_trace(go.Scatter(y=[row['log(GE)/ml, Expanded Reporting ID'], row['log(GE)/ml, T7 Only Reporting ID']],\n",
    "                             x=['Expanded Reporting ID', 'T7 Only Reporting ID'], showlegend=False))\n",
    "fig.update_layout(height=800, width=600)\n",
    "fig.update_yaxes(title='log(GE)/ml')\n",
    "fig.update_xaxes(nticks=2, tickangle=35)\n",
    "fig.show()"
   ]
  },
  {
   "cell_type": "code",
   "execution_count": null,
   "metadata": {},
   "outputs": [],
   "source": []
  }
 ],
 "metadata": {
  "kernelspec": {
   "display_name": "Python 3",
   "language": "python",
   "name": "python3"
  },
  "language_info": {
   "codemirror_mode": {
    "name": "ipython",
    "version": 3
   },
   "file_extension": ".py",
   "mimetype": "text/x-python",
   "name": "python",
   "nbconvert_exporter": "python",
   "pygments_lexer": "ipython3",
   "version": "3.7.1"
  }
 },
 "nbformat": 4,
 "nbformat_minor": 2
}
