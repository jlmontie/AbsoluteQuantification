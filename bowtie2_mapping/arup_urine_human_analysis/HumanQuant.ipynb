{
 "cells": [
  {
   "cell_type": "markdown",
   "metadata": {},
   "source": [
    "# Quantification of Human Background"
   ]
  },
  {
   "cell_type": "markdown",
   "metadata": {},
   "source": [
    "10 genes were chosen to quantify human background."
   ]
  },
  {
   "cell_type": "code",
   "execution_count": 36,
   "metadata": {},
   "outputs": [],
   "source": [
    "import pandas as pd\n",
    "import numpy as np\n",
    "import plotly.express as px"
   ]
  },
  {
   "cell_type": "markdown",
   "metadata": {},
   "source": [
    "## Human gene coverage"
   ]
  },
  {
   "cell_type": "code",
   "execution_count": 37,
   "metadata": {},
   "outputs": [],
   "source": [
    "idbd_coeff = [1.025813761718345, 10.195966838524328] # slope, intercept"
   ]
  },
  {
   "cell_type": "code",
   "execution_count": 38,
   "metadata": {},
   "outputs": [
    {
     "data": {
      "text/html": [
       "<div>\n",
       "<style scoped>\n",
       "    .dataframe tbody tr th:only-of-type {\n",
       "        vertical-align: middle;\n",
       "    }\n",
       "\n",
       "    .dataframe tbody tr th {\n",
       "        vertical-align: top;\n",
       "    }\n",
       "\n",
       "    .dataframe thead th {\n",
       "        text-align: right;\n",
       "    }\n",
       "</style>\n",
       "<table border=\"1\" class=\"dataframe\">\n",
       "  <thead>\n",
       "    <tr style=\"text-align: right;\">\n",
       "      <th></th>\n",
       "      <th>Accession</th>\n",
       "      <th>mean_geomean</th>\n",
       "      <th>mean_nonzero_geomean</th>\n",
       "      <th>median_geomean</th>\n",
       "      <th>median_nonzero_geomean</th>\n",
       "    </tr>\n",
       "  </thead>\n",
       "  <tbody>\n",
       "    <tr>\n",
       "      <th>0</th>\n",
       "      <td>IDBD-D100464</td>\n",
       "      <td>7.137423</td>\n",
       "      <td>12.840228</td>\n",
       "      <td>0.000000</td>\n",
       "      <td>12.977531</td>\n",
       "    </tr>\n",
       "    <tr>\n",
       "      <th>1</th>\n",
       "      <td>IDBD-D100376</td>\n",
       "      <td>1149.271131</td>\n",
       "      <td>1610.919670</td>\n",
       "      <td>445.421051</td>\n",
       "      <td>1690.888964</td>\n",
       "    </tr>\n",
       "    <tr>\n",
       "      <th>2</th>\n",
       "      <td>IDBD-D100380</td>\n",
       "      <td>464.543120</td>\n",
       "      <td>679.541705</td>\n",
       "      <td>0.000000</td>\n",
       "      <td>726.837851</td>\n",
       "    </tr>\n",
       "    <tr>\n",
       "      <th>3</th>\n",
       "      <td>IDBD-D100381</td>\n",
       "      <td>669.737102</td>\n",
       "      <td>979.465719</td>\n",
       "      <td>0.000000</td>\n",
       "      <td>1033.378447</td>\n",
       "    </tr>\n",
       "    <tr>\n",
       "      <th>4</th>\n",
       "      <td>IDBD-D100382</td>\n",
       "      <td>750.383770</td>\n",
       "      <td>1093.596359</td>\n",
       "      <td>0.000000</td>\n",
       "      <td>1164.950251</td>\n",
       "    </tr>\n",
       "  </tbody>\n",
       "</table>\n",
       "</div>"
      ],
      "text/plain": [
       "      Accession  mean_geomean  mean_nonzero_geomean  median_geomean  \\\n",
       "0  IDBD-D100464      7.137423             12.840228        0.000000   \n",
       "1  IDBD-D100376   1149.271131           1610.919670      445.421051   \n",
       "2  IDBD-D100380    464.543120            679.541705        0.000000   \n",
       "3  IDBD-D100381    669.737102            979.465719        0.000000   \n",
       "4  IDBD-D100382    750.383770           1093.596359        0.000000   \n",
       "\n",
       "   median_nonzero_geomean  \n",
       "0               12.977531  \n",
       "1             1690.888964  \n",
       "2              726.837851  \n",
       "3             1033.378447  \n",
       "4             1164.950251  "
      ]
     },
     "execution_count": 38,
     "metadata": {},
     "output_type": "execute_result"
    }
   ],
   "source": [
    "coverage = pd.read_csv('coverage_stats_all_samples.txt', sep='\\t')\n",
    "coverage = coverage.rename(columns={'accession': 'Accession'})\n",
    "coverage.head()"
   ]
  },
  {
   "cell_type": "markdown",
   "metadata": {},
   "source": [
    "## Normalize coverage to IC counts"
   ]
  },
  {
   "cell_type": "code",
   "execution_count": 39,
   "metadata": {},
   "outputs": [
    {
     "data": {
      "text/html": [
       "<div>\n",
       "<style scoped>\n",
       "    .dataframe tbody tr th:only-of-type {\n",
       "        vertical-align: middle;\n",
       "    }\n",
       "\n",
       "    .dataframe tbody tr th {\n",
       "        vertical-align: top;\n",
       "    }\n",
       "\n",
       "    .dataframe thead th {\n",
       "        text-align: right;\n",
       "    }\n",
       "</style>\n",
       "<table border=\"1\" class=\"dataframe\">\n",
       "  <thead>\n",
       "    <tr style=\"text-align: right;\">\n",
       "      <th></th>\n",
       "      <th>Accession</th>\n",
       "      <th>Ctrl Count</th>\n",
       "      <th>Normalized IC</th>\n",
       "      <th>Total Reads</th>\n",
       "      <th>Organism Read Count</th>\n",
       "      <th>Quantification</th>\n",
       "      <th>Median Coverage</th>\n",
       "      <th>Mean Coverage</th>\n",
       "      <th>Coverage Q1</th>\n",
       "      <th>Detection</th>\n",
       "      <th>log Quantification</th>\n",
       "    </tr>\n",
       "  </thead>\n",
       "  <tbody>\n",
       "    <tr>\n",
       "      <th>0</th>\n",
       "      <td>IDBD-D100387</td>\n",
       "      <td>9526</td>\n",
       "      <td>14129.313327</td>\n",
       "      <td>6742012</td>\n",
       "      <td>6707.0</td>\n",
       "      <td>7.499367e+07</td>\n",
       "      <td>763.0</td>\n",
       "      <td>702.263789</td>\n",
       "      <td>613.5</td>\n",
       "      <td>TP</td>\n",
       "      <td>18.132914</td>\n",
       "    </tr>\n",
       "    <tr>\n",
       "      <th>1</th>\n",
       "      <td>IDBD-D100388</td>\n",
       "      <td>8693</td>\n",
       "      <td>16315.062953</td>\n",
       "      <td>5328205</td>\n",
       "      <td>4175.0</td>\n",
       "      <td>5.352200e+07</td>\n",
       "      <td>483.0</td>\n",
       "      <td>444.992806</td>\n",
       "      <td>394.0</td>\n",
       "      <td>TP</td>\n",
       "      <td>17.795603</td>\n",
       "    </tr>\n",
       "    <tr>\n",
       "      <th>2</th>\n",
       "      <td>IDBD-D100389</td>\n",
       "      <td>16631</td>\n",
       "      <td>26856.438601</td>\n",
       "      <td>6192556</td>\n",
       "      <td>7460.0</td>\n",
       "      <td>4.281944e+07</td>\n",
       "      <td>893.0</td>\n",
       "      <td>805.960831</td>\n",
       "      <td>655.0</td>\n",
       "      <td>TP</td>\n",
       "      <td>17.572503</td>\n",
       "    </tr>\n",
       "    <tr>\n",
       "      <th>3</th>\n",
       "      <td>IDBD-D100390</td>\n",
       "      <td>5756</td>\n",
       "      <td>9461.803230</td>\n",
       "      <td>6083407</td>\n",
       "      <td>6912.0</td>\n",
       "      <td>6.781667e+07</td>\n",
       "      <td>868.0</td>\n",
       "      <td>698.164668</td>\n",
       "      <td>467.0</td>\n",
       "      <td>TP</td>\n",
       "      <td>18.032319</td>\n",
       "    </tr>\n",
       "    <tr>\n",
       "      <th>4</th>\n",
       "      <td>IDBD-D100391</td>\n",
       "      <td>246</td>\n",
       "      <td>431.114856</td>\n",
       "      <td>5706136</td>\n",
       "      <td>126.0</td>\n",
       "      <td>7.831718e+07</td>\n",
       "      <td>13.0</td>\n",
       "      <td>13.011200</td>\n",
       "      <td>11.0</td>\n",
       "      <td>TP</td>\n",
       "      <td>18.176278</td>\n",
       "    </tr>\n",
       "  </tbody>\n",
       "</table>\n",
       "</div>"
      ],
      "text/plain": [
       "      Accession  Ctrl Count  Normalized IC  Total Reads  Organism Read Count  \\\n",
       "0  IDBD-D100387        9526   14129.313327      6742012               6707.0   \n",
       "1  IDBD-D100388        8693   16315.062953      5328205               4175.0   \n",
       "2  IDBD-D100389       16631   26856.438601      6192556               7460.0   \n",
       "3  IDBD-D100390        5756    9461.803230      6083407               6912.0   \n",
       "4  IDBD-D100391         246     431.114856      5706136                126.0   \n",
       "\n",
       "   Quantification  Median Coverage  Mean Coverage  Coverage Q1 Detection  \\\n",
       "0    7.499367e+07            763.0     702.263789        613.5        TP   \n",
       "1    5.352200e+07            483.0     444.992806        394.0        TP   \n",
       "2    4.281944e+07            893.0     805.960831        655.0        TP   \n",
       "3    6.781667e+07            868.0     698.164668        467.0        TP   \n",
       "4    7.831718e+07             13.0      13.011200         11.0        TP   \n",
       "\n",
       "   log Quantification  \n",
       "0           18.132914  \n",
       "1           17.795603  \n",
       "2           17.572503  \n",
       "3           18.032319  \n",
       "4           18.176278  "
      ]
     },
     "execution_count": 39,
     "metadata": {},
     "output_type": "execute_result"
    }
   ],
   "source": [
    "ic_counts = pd.read_csv('../../arup_urine_samples_ge_study/ge_distribution/Normalized_IC_Counts.csv', index_col=0)\n",
    "ic_counts.head()"
   ]
  },
  {
   "cell_type": "code",
   "execution_count": 40,
   "metadata": {},
   "outputs": [
    {
     "data": {
      "text/html": [
       "<div>\n",
       "<style scoped>\n",
       "    .dataframe tbody tr th:only-of-type {\n",
       "        vertical-align: middle;\n",
       "    }\n",
       "\n",
       "    .dataframe tbody tr th {\n",
       "        vertical-align: top;\n",
       "    }\n",
       "\n",
       "    .dataframe thead th {\n",
       "        text-align: right;\n",
       "    }\n",
       "</style>\n",
       "<table border=\"1\" class=\"dataframe\">\n",
       "  <thead>\n",
       "    <tr style=\"text-align: right;\">\n",
       "      <th></th>\n",
       "      <th>mean_geomean</th>\n",
       "      <th>mean_nonzero_geomean</th>\n",
       "      <th>median_geomean</th>\n",
       "      <th>median_nonzero_geomean</th>\n",
       "      <th>Ctrl Count</th>\n",
       "    </tr>\n",
       "    <tr>\n",
       "      <th>Accession</th>\n",
       "      <th></th>\n",
       "      <th></th>\n",
       "      <th></th>\n",
       "      <th></th>\n",
       "      <th></th>\n",
       "    </tr>\n",
       "  </thead>\n",
       "  <tbody>\n",
       "    <tr>\n",
       "      <th>IDBD-D100464</th>\n",
       "      <td>7.137423</td>\n",
       "      <td>12.840228</td>\n",
       "      <td>0.000000</td>\n",
       "      <td>12.977531</td>\n",
       "      <td>7800</td>\n",
       "    </tr>\n",
       "    <tr>\n",
       "      <th>IDBD-D100376</th>\n",
       "      <td>1149.271131</td>\n",
       "      <td>1610.919670</td>\n",
       "      <td>445.421051</td>\n",
       "      <td>1690.888964</td>\n",
       "      <td>79</td>\n",
       "    </tr>\n",
       "    <tr>\n",
       "      <th>IDBD-D100380</th>\n",
       "      <td>464.543120</td>\n",
       "      <td>679.541705</td>\n",
       "      <td>0.000000</td>\n",
       "      <td>726.837851</td>\n",
       "      <td>1779</td>\n",
       "    </tr>\n",
       "    <tr>\n",
       "      <th>IDBD-D100381</th>\n",
       "      <td>669.737102</td>\n",
       "      <td>979.465719</td>\n",
       "      <td>0.000000</td>\n",
       "      <td>1033.378447</td>\n",
       "      <td>7911</td>\n",
       "    </tr>\n",
       "    <tr>\n",
       "      <th>IDBD-D100382</th>\n",
       "      <td>750.383770</td>\n",
       "      <td>1093.596359</td>\n",
       "      <td>0.000000</td>\n",
       "      <td>1164.950251</td>\n",
       "      <td>1275</td>\n",
       "    </tr>\n",
       "  </tbody>\n",
       "</table>\n",
       "</div>"
      ],
      "text/plain": [
       "              mean_geomean  mean_nonzero_geomean  median_geomean  \\\n",
       "Accession                                                          \n",
       "IDBD-D100464      7.137423             12.840228        0.000000   \n",
       "IDBD-D100376   1149.271131           1610.919670      445.421051   \n",
       "IDBD-D100380    464.543120            679.541705        0.000000   \n",
       "IDBD-D100381    669.737102            979.465719        0.000000   \n",
       "IDBD-D100382    750.383770           1093.596359        0.000000   \n",
       "\n",
       "              median_nonzero_geomean  Ctrl Count  \n",
       "Accession                                         \n",
       "IDBD-D100464               12.977531        7800  \n",
       "IDBD-D100376             1690.888964          79  \n",
       "IDBD-D100380              726.837851        1779  \n",
       "IDBD-D100381             1033.378447        7911  \n",
       "IDBD-D100382             1164.950251        1275  "
      ]
     },
     "execution_count": 40,
     "metadata": {},
     "output_type": "execute_result"
    }
   ],
   "source": [
    "coverage_with_counts = coverage.merge(ic_counts[['Accession', 'Ctrl Count']], on='Accession', how='inner')\n",
    "coverage_with_counts = coverage_with_counts.set_index('Accession')\n",
    "coverage_with_counts.head()"
   ]
  },
  {
   "cell_type": "code",
   "execution_count": 41,
   "metadata": {},
   "outputs": [
    {
     "name": "stderr",
     "output_type": "stream",
     "text": [
      "/Users/jmontgomery/anaconda3/lib/python3.7/site-packages/ipykernel_launcher.py:5: RuntimeWarning:\n",
      "\n",
      "divide by zero encountered in log10\n",
      "\n"
     ]
    },
    {
     "data": {
      "text/html": [
       "<div>\n",
       "<style scoped>\n",
       "    .dataframe tbody tr th:only-of-type {\n",
       "        vertical-align: middle;\n",
       "    }\n",
       "\n",
       "    .dataframe tbody tr th {\n",
       "        vertical-align: top;\n",
       "    }\n",
       "\n",
       "    .dataframe thead th {\n",
       "        text-align: right;\n",
       "    }\n",
       "</style>\n",
       "<table border=\"1\" class=\"dataframe\">\n",
       "  <thead>\n",
       "    <tr style=\"text-align: right;\">\n",
       "      <th></th>\n",
       "      <th>mean_geomean</th>\n",
       "      <th>mean_nonzero_geomean</th>\n",
       "      <th>median_geomean</th>\n",
       "      <th>median_nonzero_geomean</th>\n",
       "    </tr>\n",
       "    <tr>\n",
       "      <th>Accession</th>\n",
       "      <th></th>\n",
       "      <th></th>\n",
       "      <th></th>\n",
       "      <th></th>\n",
       "    </tr>\n",
       "  </thead>\n",
       "  <tbody>\n",
       "    <tr>\n",
       "      <th>IDBD-D100464</th>\n",
       "      <td>-3.038553</td>\n",
       "      <td>-2.783522</td>\n",
       "      <td>-inf</td>\n",
       "      <td>-2.778903</td>\n",
       "    </tr>\n",
       "    <tr>\n",
       "      <th>IDBD-D100376</th>\n",
       "      <td>1.162795</td>\n",
       "      <td>1.309447</td>\n",
       "      <td>0.751144</td>\n",
       "      <td>1.330488</td>\n",
       "    </tr>\n",
       "    <tr>\n",
       "      <th>IDBD-D100380</th>\n",
       "      <td>-0.583150</td>\n",
       "      <td>-0.417960</td>\n",
       "      <td>-inf</td>\n",
       "      <td>-0.388738</td>\n",
       "    </tr>\n",
       "    <tr>\n",
       "      <th>IDBD-D100381</th>\n",
       "      <td>-1.072327</td>\n",
       "      <td>-0.907242</td>\n",
       "      <td>-inf</td>\n",
       "      <td>-0.883972</td>\n",
       "    </tr>\n",
       "    <tr>\n",
       "      <th>IDBD-D100382</th>\n",
       "      <td>-0.230227</td>\n",
       "      <td>-0.066653</td>\n",
       "      <td>-inf</td>\n",
       "      <td>-0.039203</td>\n",
       "    </tr>\n",
       "  </tbody>\n",
       "</table>\n",
       "</div>"
      ],
      "text/plain": [
       "              mean_geomean  mean_nonzero_geomean  median_geomean  \\\n",
       "Accession                                                          \n",
       "IDBD-D100464     -3.038553             -2.783522            -inf   \n",
       "IDBD-D100376      1.162795              1.309447        0.751144   \n",
       "IDBD-D100380     -0.583150             -0.417960            -inf   \n",
       "IDBD-D100381     -1.072327             -0.907242            -inf   \n",
       "IDBD-D100382     -0.230227             -0.066653            -inf   \n",
       "\n",
       "              median_nonzero_geomean  \n",
       "Accession                             \n",
       "IDBD-D100464               -2.778903  \n",
       "IDBD-D100376                1.330488  \n",
       "IDBD-D100380               -0.388738  \n",
       "IDBD-D100381               -0.883972  \n",
       "IDBD-D100382               -0.039203  "
      ]
     },
     "execution_count": 41,
     "metadata": {},
     "output_type": "execute_result"
    }
   ],
   "source": [
    "coverage_norm = coverage_with_counts.copy()\n",
    "coverage_norm.loc[:, 'mean_geomean':'median_nonzero_geomean'] = \\\n",
    "    coverage_norm.loc[:, 'mean_geomean':'median_nonzero_geomean'].div(coverage_norm['Ctrl Count'], axis=0)\n",
    "coverage_norm = coverage_norm.drop(columns='Ctrl Count')\n",
    "coverage_norm = np.log10(coverage_norm)\n",
    "coverage_norm.head()"
   ]
  },
  {
   "cell_type": "markdown",
   "metadata": {},
   "source": [
    "## Calculate GE/ml from coverage using 16S standard curve model"
   ]
  },
  {
   "cell_type": "code",
   "execution_count": 42,
   "metadata": {},
   "outputs": [],
   "source": [
    "ge = coverage_norm.copy()\n",
    "ge = idbd_coeff[0] * ge + idbd_coeff[1] "
   ]
  },
  {
   "cell_type": "code",
   "execution_count": 43,
   "metadata": {},
   "outputs": [
    {
     "data": {
      "text/html": [
       "<div>\n",
       "<style scoped>\n",
       "    .dataframe tbody tr th:only-of-type {\n",
       "        vertical-align: middle;\n",
       "    }\n",
       "\n",
       "    .dataframe tbody tr th {\n",
       "        vertical-align: top;\n",
       "    }\n",
       "\n",
       "    .dataframe thead th {\n",
       "        text-align: right;\n",
       "    }\n",
       "</style>\n",
       "<table border=\"1\" class=\"dataframe\">\n",
       "  <thead>\n",
       "    <tr style=\"text-align: right;\">\n",
       "      <th></th>\n",
       "      <th>mean_geomean</th>\n",
       "      <th>mean_nonzero_geomean</th>\n",
       "      <th>median_geomean</th>\n",
       "      <th>median_nonzero_geomean</th>\n",
       "    </tr>\n",
       "    <tr>\n",
       "      <th>Accession</th>\n",
       "      <th></th>\n",
       "      <th></th>\n",
       "      <th></th>\n",
       "      <th></th>\n",
       "    </tr>\n",
       "  </thead>\n",
       "  <tbody>\n",
       "    <tr>\n",
       "      <th>IDBD-D100464</th>\n",
       "      <td>7.078977</td>\n",
       "      <td>7.340592</td>\n",
       "      <td>-inf</td>\n",
       "      <td>7.345330</td>\n",
       "    </tr>\n",
       "    <tr>\n",
       "      <th>IDBD-D100376</th>\n",
       "      <td>11.388778</td>\n",
       "      <td>11.539215</td>\n",
       "      <td>10.966500</td>\n",
       "      <td>11.560800</td>\n",
       "    </tr>\n",
       "    <tr>\n",
       "      <th>IDBD-D100380</th>\n",
       "      <td>9.597764</td>\n",
       "      <td>9.767218</td>\n",
       "      <td>-inf</td>\n",
       "      <td>9.797194</td>\n",
       "    </tr>\n",
       "    <tr>\n",
       "      <th>IDBD-D100381</th>\n",
       "      <td>9.095959</td>\n",
       "      <td>9.265305</td>\n",
       "      <td>-inf</td>\n",
       "      <td>9.289176</td>\n",
       "    </tr>\n",
       "    <tr>\n",
       "      <th>IDBD-D100382</th>\n",
       "      <td>9.959797</td>\n",
       "      <td>10.127593</td>\n",
       "      <td>-inf</td>\n",
       "      <td>10.155752</td>\n",
       "    </tr>\n",
       "  </tbody>\n",
       "</table>\n",
       "</div>"
      ],
      "text/plain": [
       "              mean_geomean  mean_nonzero_geomean  median_geomean  \\\n",
       "Accession                                                          \n",
       "IDBD-D100464      7.078977              7.340592            -inf   \n",
       "IDBD-D100376     11.388778             11.539215       10.966500   \n",
       "IDBD-D100380      9.597764              9.767218            -inf   \n",
       "IDBD-D100381      9.095959              9.265305            -inf   \n",
       "IDBD-D100382      9.959797             10.127593            -inf   \n",
       "\n",
       "              median_nonzero_geomean  \n",
       "Accession                             \n",
       "IDBD-D100464                7.345330  \n",
       "IDBD-D100376               11.560800  \n",
       "IDBD-D100380                9.797194  \n",
       "IDBD-D100381                9.289176  \n",
       "IDBD-D100382               10.155752  "
      ]
     },
     "execution_count": 43,
     "metadata": {},
     "output_type": "execute_result"
    }
   ],
   "source": [
    "ge.head()"
   ]
  },
  {
   "cell_type": "code",
   "execution_count": 44,
   "metadata": {},
   "outputs": [
    {
     "data": {
      "application/vnd.plotly.v1+json": {
       "config": {
        "plotlyServerURL": "https://plot.ly"
       },
       "data": [
        {
         "alignmentgroup": "True",
         "hoverlabel": {
          "namelength": 0
         },
         "hovertemplate": "coverage estimation=%{x}<br>log(GE)/ml=%{y}",
         "legendgroup": "",
         "marker": {
          "color": "#636efa"
         },
         "name": "",
         "notched": false,
         "offsetgroup": "",
         "orientation": "v",
         "showlegend": false,
         "type": "box",
         "x": [
          "mean_geomean",
          "mean_geomean",
          "mean_geomean",
          "mean_geomean",
          "mean_geomean",
          "mean_geomean",
          "mean_geomean",
          "mean_geomean",
          "mean_geomean",
          "mean_geomean",
          "mean_geomean",
          "mean_geomean",
          "mean_geomean",
          "mean_geomean",
          "mean_geomean",
          "mean_geomean",
          "mean_geomean",
          "mean_geomean",
          "mean_geomean",
          "mean_geomean",
          "mean_geomean",
          "mean_geomean",
          "mean_geomean",
          "mean_geomean",
          "mean_geomean",
          "mean_geomean",
          "mean_geomean",
          "mean_geomean",
          "mean_geomean",
          "mean_geomean",
          "mean_geomean",
          "mean_geomean",
          "mean_geomean",
          "mean_geomean",
          "mean_geomean",
          "mean_geomean",
          "mean_geomean",
          "mean_geomean",
          "mean_geomean",
          "mean_geomean",
          "mean_geomean",
          "mean_geomean",
          "mean_geomean",
          "mean_geomean",
          "mean_geomean",
          "mean_geomean",
          "mean_geomean",
          "mean_geomean",
          "mean_geomean",
          "mean_geomean",
          "mean_geomean",
          "mean_geomean",
          "mean_geomean",
          "mean_geomean",
          "mean_geomean",
          "mean_geomean",
          "mean_geomean",
          "mean_geomean",
          "mean_geomean",
          "mean_geomean",
          "mean_geomean",
          "mean_geomean",
          "mean_geomean",
          "mean_geomean",
          "mean_geomean",
          "mean_geomean",
          "mean_geomean",
          "mean_geomean",
          "mean_geomean",
          "mean_geomean",
          "mean_geomean",
          "mean_geomean",
          "mean_geomean",
          "mean_geomean",
          "mean_geomean",
          "mean_geomean",
          "mean_geomean",
          "mean_geomean",
          "mean_geomean",
          "mean_geomean",
          "mean_geomean",
          "mean_geomean",
          "mean_geomean",
          "mean_geomean",
          "mean_geomean",
          "mean_geomean",
          "mean_geomean",
          "mean_geomean",
          "mean_geomean",
          "mean_geomean",
          "mean_geomean",
          "mean_geomean",
          "mean_geomean",
          "mean_nonzero_geomean",
          "mean_nonzero_geomean",
          "mean_nonzero_geomean",
          "mean_nonzero_geomean",
          "mean_nonzero_geomean",
          "mean_nonzero_geomean",
          "mean_nonzero_geomean",
          "mean_nonzero_geomean",
          "mean_nonzero_geomean",
          "mean_nonzero_geomean",
          "mean_nonzero_geomean",
          "mean_nonzero_geomean",
          "mean_nonzero_geomean",
          "mean_nonzero_geomean",
          "mean_nonzero_geomean",
          "mean_nonzero_geomean",
          "mean_nonzero_geomean",
          "mean_nonzero_geomean",
          "mean_nonzero_geomean",
          "mean_nonzero_geomean",
          "mean_nonzero_geomean",
          "mean_nonzero_geomean",
          "mean_nonzero_geomean",
          "mean_nonzero_geomean",
          "mean_nonzero_geomean",
          "mean_nonzero_geomean",
          "mean_nonzero_geomean",
          "mean_nonzero_geomean",
          "mean_nonzero_geomean",
          "mean_nonzero_geomean",
          "mean_nonzero_geomean",
          "mean_nonzero_geomean",
          "mean_nonzero_geomean",
          "mean_nonzero_geomean",
          "mean_nonzero_geomean",
          "mean_nonzero_geomean",
          "mean_nonzero_geomean",
          "mean_nonzero_geomean",
          "mean_nonzero_geomean",
          "mean_nonzero_geomean",
          "mean_nonzero_geomean",
          "mean_nonzero_geomean",
          "mean_nonzero_geomean",
          "mean_nonzero_geomean",
          "mean_nonzero_geomean",
          "mean_nonzero_geomean",
          "mean_nonzero_geomean",
          "mean_nonzero_geomean",
          "mean_nonzero_geomean",
          "mean_nonzero_geomean",
          "mean_nonzero_geomean",
          "mean_nonzero_geomean",
          "mean_nonzero_geomean",
          "mean_nonzero_geomean",
          "mean_nonzero_geomean",
          "mean_nonzero_geomean",
          "mean_nonzero_geomean",
          "mean_nonzero_geomean",
          "mean_nonzero_geomean",
          "mean_nonzero_geomean",
          "mean_nonzero_geomean",
          "mean_nonzero_geomean",
          "mean_nonzero_geomean",
          "mean_nonzero_geomean",
          "mean_nonzero_geomean",
          "mean_nonzero_geomean",
          "mean_nonzero_geomean",
          "mean_nonzero_geomean",
          "mean_nonzero_geomean",
          "mean_nonzero_geomean",
          "mean_nonzero_geomean",
          "mean_nonzero_geomean",
          "mean_nonzero_geomean",
          "mean_nonzero_geomean",
          "mean_nonzero_geomean",
          "mean_nonzero_geomean",
          "mean_nonzero_geomean",
          "mean_nonzero_geomean",
          "mean_nonzero_geomean",
          "mean_nonzero_geomean",
          "mean_nonzero_geomean",
          "mean_nonzero_geomean",
          "mean_nonzero_geomean",
          "mean_nonzero_geomean",
          "mean_nonzero_geomean",
          "mean_nonzero_geomean",
          "mean_nonzero_geomean",
          "mean_nonzero_geomean",
          "mean_nonzero_geomean",
          "mean_nonzero_geomean",
          "mean_nonzero_geomean",
          "mean_nonzero_geomean",
          "mean_nonzero_geomean",
          "median_geomean",
          "median_geomean",
          "median_geomean",
          "median_geomean",
          "median_geomean",
          "median_geomean",
          "median_geomean",
          "median_geomean",
          "median_geomean",
          "median_geomean",
          "median_geomean",
          "median_geomean",
          "median_geomean",
          "median_geomean",
          "median_geomean",
          "median_geomean",
          "median_geomean",
          "median_geomean",
          "median_geomean",
          "median_geomean",
          "median_geomean",
          "median_geomean",
          "median_geomean",
          "median_geomean",
          "median_geomean",
          "median_geomean",
          "median_geomean",
          "median_geomean",
          "median_geomean",
          "median_geomean",
          "median_geomean",
          "median_geomean",
          "median_geomean",
          "median_geomean",
          "median_geomean",
          "median_geomean",
          "median_geomean",
          "median_geomean",
          "median_geomean",
          "median_geomean",
          "median_geomean",
          "median_geomean",
          "median_geomean",
          "median_geomean",
          "median_geomean",
          "median_geomean",
          "median_geomean",
          "median_geomean",
          "median_geomean",
          "median_geomean",
          "median_geomean",
          "median_geomean",
          "median_geomean",
          "median_geomean",
          "median_geomean",
          "median_geomean",
          "median_geomean",
          "median_geomean",
          "median_geomean",
          "median_geomean",
          "median_geomean",
          "median_geomean",
          "median_geomean",
          "median_geomean",
          "median_geomean",
          "median_geomean",
          "median_geomean",
          "median_geomean",
          "median_geomean",
          "median_geomean",
          "median_geomean",
          "median_geomean",
          "median_geomean",
          "median_geomean",
          "median_geomean",
          "median_geomean",
          "median_geomean",
          "median_geomean",
          "median_geomean",
          "median_geomean",
          "median_geomean",
          "median_geomean",
          "median_geomean",
          "median_geomean",
          "median_geomean",
          "median_geomean",
          "median_geomean",
          "median_geomean",
          "median_geomean",
          "median_geomean",
          "median_geomean",
          "median_geomean",
          "median_geomean",
          "median_nonzero_geomean",
          "median_nonzero_geomean",
          "median_nonzero_geomean",
          "median_nonzero_geomean",
          "median_nonzero_geomean",
          "median_nonzero_geomean",
          "median_nonzero_geomean",
          "median_nonzero_geomean",
          "median_nonzero_geomean",
          "median_nonzero_geomean",
          "median_nonzero_geomean",
          "median_nonzero_geomean",
          "median_nonzero_geomean",
          "median_nonzero_geomean",
          "median_nonzero_geomean",
          "median_nonzero_geomean",
          "median_nonzero_geomean",
          "median_nonzero_geomean",
          "median_nonzero_geomean",
          "median_nonzero_geomean",
          "median_nonzero_geomean",
          "median_nonzero_geomean",
          "median_nonzero_geomean",
          "median_nonzero_geomean",
          "median_nonzero_geomean",
          "median_nonzero_geomean",
          "median_nonzero_geomean",
          "median_nonzero_geomean",
          "median_nonzero_geomean",
          "median_nonzero_geomean",
          "median_nonzero_geomean",
          "median_nonzero_geomean",
          "median_nonzero_geomean",
          "median_nonzero_geomean",
          "median_nonzero_geomean",
          "median_nonzero_geomean",
          "median_nonzero_geomean",
          "median_nonzero_geomean",
          "median_nonzero_geomean",
          "median_nonzero_geomean",
          "median_nonzero_geomean",
          "median_nonzero_geomean",
          "median_nonzero_geomean",
          "median_nonzero_geomean",
          "median_nonzero_geomean",
          "median_nonzero_geomean",
          "median_nonzero_geomean",
          "median_nonzero_geomean",
          "median_nonzero_geomean",
          "median_nonzero_geomean",
          "median_nonzero_geomean",
          "median_nonzero_geomean",
          "median_nonzero_geomean",
          "median_nonzero_geomean",
          "median_nonzero_geomean",
          "median_nonzero_geomean",
          "median_nonzero_geomean",
          "median_nonzero_geomean",
          "median_nonzero_geomean",
          "median_nonzero_geomean",
          "median_nonzero_geomean",
          "median_nonzero_geomean",
          "median_nonzero_geomean",
          "median_nonzero_geomean",
          "median_nonzero_geomean",
          "median_nonzero_geomean",
          "median_nonzero_geomean",
          "median_nonzero_geomean",
          "median_nonzero_geomean",
          "median_nonzero_geomean",
          "median_nonzero_geomean",
          "median_nonzero_geomean",
          "median_nonzero_geomean",
          "median_nonzero_geomean",
          "median_nonzero_geomean",
          "median_nonzero_geomean",
          "median_nonzero_geomean",
          "median_nonzero_geomean",
          "median_nonzero_geomean",
          "median_nonzero_geomean",
          "median_nonzero_geomean",
          "median_nonzero_geomean",
          "median_nonzero_geomean",
          "median_nonzero_geomean",
          "median_nonzero_geomean",
          "median_nonzero_geomean",
          "median_nonzero_geomean",
          "median_nonzero_geomean",
          "median_nonzero_geomean",
          "median_nonzero_geomean",
          "median_nonzero_geomean",
          "median_nonzero_geomean",
          "median_nonzero_geomean"
         ],
         "x0": " ",
         "xaxis": "x",
         "y": [
          7.078977174744356,
          11.38877836858883,
          9.597763630043515,
          9.095959018130467,
          9.959797067363576,
          null,
          10.100623524419943,
          8.758431066204764,
          8.565277180800667,
          7.71753222790478,
          8.054030659600222,
          9.022085349095859,
          10.883316482089802,
          10.308293675693337,
          10.189715778221448,
          9.066393432448937,
          8.561117794706277,
          8.779570155232769,
          9.256602066877878,
          11.392337919990586,
          7.672382861560653,
          11.288056893958423,
          10.805042309790498,
          11.42929632221449,
          8.00618159992615,
          7.60234817859698,
          11.25138333937084,
          10.165766339655228,
          9.00400706627777,
          9.814904242804769,
          8.702856931442225,
          6.727785822830784,
          9.164095646445727,
          8.912719168355295,
          8.070533530428746,
          8.920657983850088,
          10.27529929737201,
          9.197287790791618,
          8.874123904528862,
          7.860826717892254,
          8.555555216866525,
          9.101254165904068,
          8.788294826888054,
          8.796434626921716,
          9.452278571169423,
          10.230189134426823,
          9.919066321455693,
          8.763469064897896,
          7.484939637658819,
          10.727025968809505,
          10.164542996046054,
          8.347831584092392,
          8.615062156460871,
          10.104393109610605,
          9.23145658100964,
          10.152479824524441,
          7.752050062532337,
          9.514588360607942,
          9.02580192714291,
          8.541347136668513,
          8.589703817401746,
          9.56259392222204,
          9.397653999597289,
          10.196671762664927,
          9.922333046716675,
          9.28595110673903,
          9.492674106059628,
          9.739481506026127,
          7.637513146670576,
          9.42789135861385,
          8.639678437337395,
          8.517413704238159,
          7.710809783026549,
          8.582973677696815,
          10.898179437363403,
          9.789074466756416,
          8.476541965283454,
          8.092461143675102,
          10.582287248900418,
          8.126539871461173,
          10.219568381574772,
          6.82524736433982,
          11.207723727907567,
          10.046023632370785,
          9.163391739403714,
          7.350113268053381,
          9.582187798028608,
          7.624205278075952,
          9.914035854120813,
          9.544637810263463,
          7.780321210638613,
          10.139967318639268,
          10.24861404616084,
          7.340591804113924,
          11.539215379196122,
          9.76721789033595,
          9.265305361983113,
          10.127593141536368,
          null,
          10.25442023078817,
          8.953230397892955,
          8.75485617139734,
          7.92313974031546,
          8.250389821481244,
          9.2018392049661,
          11.04475460487579,
          10.475303336130024,
          10.341106409514984,
          9.236957932985996,
          8.74912906464821,
          8.95957950940198,
          9.435130402941887,
          11.528454887218398,
          7.919220733273535,
          11.445013530190415,
          10.949306453031166,
          11.57437121170011,
          8.1722588657457,
          7.8395864565162015,
          11.409429095444587,
          10.330570125700653,
          9.20589502953733,
          9.970190469741182,
          8.90001499654648,
          6.939873224568987,
          9.351010104588118,
          9.098121464795884,
          8.261711183362749,
          9.066370790407063,
          10.419171878481889,
          9.385878547756457,
          9.051336501843371,
          8.056034041070419,
          8.731895711719963,
          9.28144005688326,
          8.948227875999486,
          8.96478258680285,
          9.62000330818241,
          10.398523050484398,
          10.075726466812199,
          8.943636387135824,
          7.686469617907703,
          10.885554425130167,
          10.30536733262061,
          8.532055160297222,
          8.815513982842823,
          10.258133775463373,
          9.412442212112618,
          10.307962234590134,
          7.959301605879645,
          9.678380722081315,
          9.218367840104499,
          8.745774127997775,
          8.761637102644759,
          9.728888061454528,
          9.565840304445338,
          10.360829167834959,
          10.081428624670933,
          9.470558358282318,
          9.664041540266965,
          9.911172537427543,
          7.852660014741633,
          9.594014181067559,
          8.83668925227694,
          8.715456890923141,
          7.90795807667722,
          8.780476099110386,
          11.065088101534126,
          9.948013549708154,
          8.670567443664297,
          8.29481345945107,
          10.71000889057815,
          8.344806667987672,
          10.381722979501134,
          7.1099519438486265,
          11.36670564861929,
          10.20958920758283,
          9.34332630536991,
          7.577068791984187,
          9.7635479393836,
          7.842615079454484,
          10.090711642312195,
          9.738437912280327,
          8.003038572725677,
          10.313043642773417,
          10.41599193720295,
          null,
          10.966500328846303,
          null,
          null,
          null,
          null,
          9.68177077150698,
          null,
          null,
          null,
          null,
          null,
          10.448338138361295,
          null,
          null,
          null,
          null,
          null,
          null,
          10.950687000731481,
          null,
          10.846478416632893,
          10.375973993387309,
          10.991113493196599,
          null,
          null,
          10.816677500400914,
          null,
          null,
          null,
          null,
          null,
          null,
          null,
          null,
          8.503365117980456,
          null,
          null,
          null,
          null,
          null,
          null,
          null,
          null,
          null,
          null,
          null,
          null,
          null,
          10.306493930702826,
          null,
          null,
          null,
          9.698957446772177,
          null,
          null,
          null,
          9.105655514610987,
          null,
          null,
          null,
          null,
          null,
          9.768232360089463,
          9.51048937483105,
          null,
          null,
          null,
          null,
          9.018522438210614,
          null,
          null,
          null,
          null,
          null,
          9.403516803856776,
          null,
          null,
          10.16257854020784,
          null,
          null,
          null,
          null,
          null,
          null,
          null,
          null,
          null,
          null,
          null,
          null,
          null,
          null,
          7.3453303953727325,
          11.560799737033708,
          9.797193625538236,
          9.28917621103821,
          10.155752061105854,
          null,
          10.285952034746556,
          8.966547457025385,
          8.77812510719829,
          7.927899016075976,
          8.26826882999325,
          9.21391369563221,
          11.051351433163719,
          10.476822839826799,
          10.347909350431097,
          9.261428076813521,
          8.762950691851092,
          8.986570424269361,
          9.456531303202313,
          11.543742295796752,
          7.913313704036769,
          11.454875949710825,
          10.969375998122217,
          11.565884662961174,
          8.191427896407701,
          7.818889170155918,
          11.414603743155187,
          10.35569396313754,
          9.222325844755556,
          10.001726983073606,
          8.915650416134095,
          6.955135204392041,
          9.383878357308078,
          9.102695332210066,
          8.256408476369566,
          9.089343015029941,
          10.439179797306084,
          9.395329908283859,
          9.073718859310478,
          8.070860013191709,
          8.757273356605658,
          9.298916094923948,
          8.968755914122703,
          8.99440453409108,
          9.64485660406683,
          10.41833830143613,
          10.08647282000408,
          8.967956426638468,
          7.7033582790146795,
          10.901151746392957,
          10.334643098155103,
          8.546605869495487,
          8.84127742007315,
          10.271187253788591,
          9.43763336745722,
          10.323098596053848,
          7.986102718263831,
          9.703824172323294,
          9.238301983536713,
          8.754982813839918,
          8.782164687672646,
          9.751013818764452,
          9.593117692733781,
          10.359341112914262,
          10.11254346605451,
          9.49318461958325,
          9.690288007171372,
          9.931420358665932,
          7.860725989452309,
          9.61926943075379,
          8.859380734284821,
          8.731785300287324,
          7.926977405857645,
          8.797176097339015,
          11.086229696687235,
          9.988086094933989,
          8.675877143794867,
          8.29813875654825,
          10.609739402757402,
          8.35675099122876,
          10.408369028430602,
          7.076498319268955,
          11.395222353411002,
          10.224571371434859,
          9.36615481482478,
          7.536453165530963,
          9.78248876307474,
          7.867182089983926,
          10.108569350146123,
          9.75593958263344,
          8.0130859160485,
          10.323498764559131,
          10.446763824611061
         ],
         "y0": " ",
         "yaxis": "y"
        }
       ],
       "layout": {
        "autosize": true,
        "boxmode": "group",
        "legend": {
         "tracegroupgap": 0
        },
        "margin": {
         "t": 60
        },
        "template": {
         "data": {
          "bar": [
           {
            "error_x": {
             "color": "#2a3f5f"
            },
            "error_y": {
             "color": "#2a3f5f"
            },
            "marker": {
             "line": {
              "color": "#E5ECF6",
              "width": 0.5
             }
            },
            "type": "bar"
           }
          ],
          "barpolar": [
           {
            "marker": {
             "line": {
              "color": "#E5ECF6",
              "width": 0.5
             }
            },
            "type": "barpolar"
           }
          ],
          "carpet": [
           {
            "aaxis": {
             "endlinecolor": "#2a3f5f",
             "gridcolor": "white",
             "linecolor": "white",
             "minorgridcolor": "white",
             "startlinecolor": "#2a3f5f"
            },
            "baxis": {
             "endlinecolor": "#2a3f5f",
             "gridcolor": "white",
             "linecolor": "white",
             "minorgridcolor": "white",
             "startlinecolor": "#2a3f5f"
            },
            "type": "carpet"
           }
          ],
          "choropleth": [
           {
            "colorbar": {
             "outlinewidth": 0,
             "ticks": ""
            },
            "type": "choropleth"
           }
          ],
          "contour": [
           {
            "colorbar": {
             "outlinewidth": 0,
             "ticks": ""
            },
            "colorscale": [
             [
              0,
              "#0d0887"
             ],
             [
              0.1111111111111111,
              "#46039f"
             ],
             [
              0.2222222222222222,
              "#7201a8"
             ],
             [
              0.3333333333333333,
              "#9c179e"
             ],
             [
              0.4444444444444444,
              "#bd3786"
             ],
             [
              0.5555555555555556,
              "#d8576b"
             ],
             [
              0.6666666666666666,
              "#ed7953"
             ],
             [
              0.7777777777777778,
              "#fb9f3a"
             ],
             [
              0.8888888888888888,
              "#fdca26"
             ],
             [
              1,
              "#f0f921"
             ]
            ],
            "type": "contour"
           }
          ],
          "contourcarpet": [
           {
            "colorbar": {
             "outlinewidth": 0,
             "ticks": ""
            },
            "type": "contourcarpet"
           }
          ],
          "heatmap": [
           {
            "colorbar": {
             "outlinewidth": 0,
             "ticks": ""
            },
            "colorscale": [
             [
              0,
              "#0d0887"
             ],
             [
              0.1111111111111111,
              "#46039f"
             ],
             [
              0.2222222222222222,
              "#7201a8"
             ],
             [
              0.3333333333333333,
              "#9c179e"
             ],
             [
              0.4444444444444444,
              "#bd3786"
             ],
             [
              0.5555555555555556,
              "#d8576b"
             ],
             [
              0.6666666666666666,
              "#ed7953"
             ],
             [
              0.7777777777777778,
              "#fb9f3a"
             ],
             [
              0.8888888888888888,
              "#fdca26"
             ],
             [
              1,
              "#f0f921"
             ]
            ],
            "type": "heatmap"
           }
          ],
          "heatmapgl": [
           {
            "colorbar": {
             "outlinewidth": 0,
             "ticks": ""
            },
            "colorscale": [
             [
              0,
              "#0d0887"
             ],
             [
              0.1111111111111111,
              "#46039f"
             ],
             [
              0.2222222222222222,
              "#7201a8"
             ],
             [
              0.3333333333333333,
              "#9c179e"
             ],
             [
              0.4444444444444444,
              "#bd3786"
             ],
             [
              0.5555555555555556,
              "#d8576b"
             ],
             [
              0.6666666666666666,
              "#ed7953"
             ],
             [
              0.7777777777777778,
              "#fb9f3a"
             ],
             [
              0.8888888888888888,
              "#fdca26"
             ],
             [
              1,
              "#f0f921"
             ]
            ],
            "type": "heatmapgl"
           }
          ],
          "histogram": [
           {
            "marker": {
             "colorbar": {
              "outlinewidth": 0,
              "ticks": ""
             }
            },
            "type": "histogram"
           }
          ],
          "histogram2d": [
           {
            "colorbar": {
             "outlinewidth": 0,
             "ticks": ""
            },
            "colorscale": [
             [
              0,
              "#0d0887"
             ],
             [
              0.1111111111111111,
              "#46039f"
             ],
             [
              0.2222222222222222,
              "#7201a8"
             ],
             [
              0.3333333333333333,
              "#9c179e"
             ],
             [
              0.4444444444444444,
              "#bd3786"
             ],
             [
              0.5555555555555556,
              "#d8576b"
             ],
             [
              0.6666666666666666,
              "#ed7953"
             ],
             [
              0.7777777777777778,
              "#fb9f3a"
             ],
             [
              0.8888888888888888,
              "#fdca26"
             ],
             [
              1,
              "#f0f921"
             ]
            ],
            "type": "histogram2d"
           }
          ],
          "histogram2dcontour": [
           {
            "colorbar": {
             "outlinewidth": 0,
             "ticks": ""
            },
            "colorscale": [
             [
              0,
              "#0d0887"
             ],
             [
              0.1111111111111111,
              "#46039f"
             ],
             [
              0.2222222222222222,
              "#7201a8"
             ],
             [
              0.3333333333333333,
              "#9c179e"
             ],
             [
              0.4444444444444444,
              "#bd3786"
             ],
             [
              0.5555555555555556,
              "#d8576b"
             ],
             [
              0.6666666666666666,
              "#ed7953"
             ],
             [
              0.7777777777777778,
              "#fb9f3a"
             ],
             [
              0.8888888888888888,
              "#fdca26"
             ],
             [
              1,
              "#f0f921"
             ]
            ],
            "type": "histogram2dcontour"
           }
          ],
          "mesh3d": [
           {
            "colorbar": {
             "outlinewidth": 0,
             "ticks": ""
            },
            "type": "mesh3d"
           }
          ],
          "parcoords": [
           {
            "line": {
             "colorbar": {
              "outlinewidth": 0,
              "ticks": ""
             }
            },
            "type": "parcoords"
           }
          ],
          "scatter": [
           {
            "marker": {
             "colorbar": {
              "outlinewidth": 0,
              "ticks": ""
             }
            },
            "type": "scatter"
           }
          ],
          "scatter3d": [
           {
            "line": {
             "colorbar": {
              "outlinewidth": 0,
              "ticks": ""
             }
            },
            "marker": {
             "colorbar": {
              "outlinewidth": 0,
              "ticks": ""
             }
            },
            "type": "scatter3d"
           }
          ],
          "scattercarpet": [
           {
            "marker": {
             "colorbar": {
              "outlinewidth": 0,
              "ticks": ""
             }
            },
            "type": "scattercarpet"
           }
          ],
          "scattergeo": [
           {
            "marker": {
             "colorbar": {
              "outlinewidth": 0,
              "ticks": ""
             }
            },
            "type": "scattergeo"
           }
          ],
          "scattergl": [
           {
            "marker": {
             "colorbar": {
              "outlinewidth": 0,
              "ticks": ""
             }
            },
            "type": "scattergl"
           }
          ],
          "scattermapbox": [
           {
            "marker": {
             "colorbar": {
              "outlinewidth": 0,
              "ticks": ""
             }
            },
            "type": "scattermapbox"
           }
          ],
          "scatterpolar": [
           {
            "marker": {
             "colorbar": {
              "outlinewidth": 0,
              "ticks": ""
             }
            },
            "type": "scatterpolar"
           }
          ],
          "scatterpolargl": [
           {
            "marker": {
             "colorbar": {
              "outlinewidth": 0,
              "ticks": ""
             }
            },
            "type": "scatterpolargl"
           }
          ],
          "scatterternary": [
           {
            "marker": {
             "colorbar": {
              "outlinewidth": 0,
              "ticks": ""
             }
            },
            "type": "scatterternary"
           }
          ],
          "surface": [
           {
            "colorbar": {
             "outlinewidth": 0,
             "ticks": ""
            },
            "colorscale": [
             [
              0,
              "#0d0887"
             ],
             [
              0.1111111111111111,
              "#46039f"
             ],
             [
              0.2222222222222222,
              "#7201a8"
             ],
             [
              0.3333333333333333,
              "#9c179e"
             ],
             [
              0.4444444444444444,
              "#bd3786"
             ],
             [
              0.5555555555555556,
              "#d8576b"
             ],
             [
              0.6666666666666666,
              "#ed7953"
             ],
             [
              0.7777777777777778,
              "#fb9f3a"
             ],
             [
              0.8888888888888888,
              "#fdca26"
             ],
             [
              1,
              "#f0f921"
             ]
            ],
            "type": "surface"
           }
          ],
          "table": [
           {
            "cells": {
             "fill": {
              "color": "#EBF0F8"
             },
             "line": {
              "color": "white"
             }
            },
            "header": {
             "fill": {
              "color": "#C8D4E3"
             },
             "line": {
              "color": "white"
             }
            },
            "type": "table"
           }
          ]
         },
         "layout": {
          "annotationdefaults": {
           "arrowcolor": "#2a3f5f",
           "arrowhead": 0,
           "arrowwidth": 1
          },
          "colorscale": {
           "diverging": [
            [
             0,
             "#8e0152"
            ],
            [
             0.1,
             "#c51b7d"
            ],
            [
             0.2,
             "#de77ae"
            ],
            [
             0.3,
             "#f1b6da"
            ],
            [
             0.4,
             "#fde0ef"
            ],
            [
             0.5,
             "#f7f7f7"
            ],
            [
             0.6,
             "#e6f5d0"
            ],
            [
             0.7,
             "#b8e186"
            ],
            [
             0.8,
             "#7fbc41"
            ],
            [
             0.9,
             "#4d9221"
            ],
            [
             1,
             "#276419"
            ]
           ],
           "sequential": [
            [
             0,
             "#0d0887"
            ],
            [
             0.1111111111111111,
             "#46039f"
            ],
            [
             0.2222222222222222,
             "#7201a8"
            ],
            [
             0.3333333333333333,
             "#9c179e"
            ],
            [
             0.4444444444444444,
             "#bd3786"
            ],
            [
             0.5555555555555556,
             "#d8576b"
            ],
            [
             0.6666666666666666,
             "#ed7953"
            ],
            [
             0.7777777777777778,
             "#fb9f3a"
            ],
            [
             0.8888888888888888,
             "#fdca26"
            ],
            [
             1,
             "#f0f921"
            ]
           ],
           "sequentialminus": [
            [
             0,
             "#0d0887"
            ],
            [
             0.1111111111111111,
             "#46039f"
            ],
            [
             0.2222222222222222,
             "#7201a8"
            ],
            [
             0.3333333333333333,
             "#9c179e"
            ],
            [
             0.4444444444444444,
             "#bd3786"
            ],
            [
             0.5555555555555556,
             "#d8576b"
            ],
            [
             0.6666666666666666,
             "#ed7953"
            ],
            [
             0.7777777777777778,
             "#fb9f3a"
            ],
            [
             0.8888888888888888,
             "#fdca26"
            ],
            [
             1,
             "#f0f921"
            ]
           ]
          },
          "colorway": [
           "#636efa",
           "#EF553B",
           "#00cc96",
           "#ab63fa",
           "#FFA15A",
           "#19d3f3",
           "#FF6692",
           "#B6E880",
           "#FF97FF",
           "#FECB52"
          ],
          "font": {
           "color": "#2a3f5f"
          },
          "geo": {
           "bgcolor": "white",
           "lakecolor": "white",
           "landcolor": "#E5ECF6",
           "showlakes": true,
           "showland": true,
           "subunitcolor": "white"
          },
          "hoverlabel": {
           "align": "left"
          },
          "hovermode": "closest",
          "mapbox": {
           "style": "light"
          },
          "paper_bgcolor": "white",
          "plot_bgcolor": "#E5ECF6",
          "polar": {
           "angularaxis": {
            "gridcolor": "white",
            "linecolor": "white",
            "ticks": ""
           },
           "bgcolor": "#E5ECF6",
           "radialaxis": {
            "gridcolor": "white",
            "linecolor": "white",
            "ticks": ""
           }
          },
          "scene": {
           "xaxis": {
            "backgroundcolor": "#E5ECF6",
            "gridcolor": "white",
            "gridwidth": 2,
            "linecolor": "white",
            "showbackground": true,
            "ticks": "",
            "zerolinecolor": "white"
           },
           "yaxis": {
            "backgroundcolor": "#E5ECF6",
            "gridcolor": "white",
            "gridwidth": 2,
            "linecolor": "white",
            "showbackground": true,
            "ticks": "",
            "zerolinecolor": "white"
           },
           "zaxis": {
            "backgroundcolor": "#E5ECF6",
            "gridcolor": "white",
            "gridwidth": 2,
            "linecolor": "white",
            "showbackground": true,
            "ticks": "",
            "zerolinecolor": "white"
           }
          },
          "shapedefaults": {
           "line": {
            "color": "#2a3f5f"
           }
          },
          "ternary": {
           "aaxis": {
            "gridcolor": "white",
            "linecolor": "white",
            "ticks": ""
           },
           "baxis": {
            "gridcolor": "white",
            "linecolor": "white",
            "ticks": ""
           },
           "bgcolor": "#E5ECF6",
           "caxis": {
            "gridcolor": "white",
            "linecolor": "white",
            "ticks": ""
           }
          },
          "title": {
           "x": 0.05
          },
          "xaxis": {
           "automargin": true,
           "gridcolor": "white",
           "linecolor": "white",
           "ticks": "",
           "zerolinecolor": "white",
           "zerolinewidth": 2
          },
          "yaxis": {
           "automargin": true,
           "gridcolor": "white",
           "linecolor": "white",
           "ticks": "",
           "zerolinecolor": "white",
           "zerolinewidth": 2
          }
         }
        },
        "xaxis": {
         "anchor": "y",
         "autorange": true,
         "domain": [
          0,
          0.98
         ],
         "range": [
          -0.5,
          3.5
         ],
         "title": {
          "text": "coverage estimation"
         },
         "type": "category"
        },
        "yaxis": {
         "anchor": "x",
         "autorange": true,
         "domain": [
          0,
          1
         ],
         "range": [
          6.45853107900471,
          11.843625955526182
         ],
         "title": {
          "text": "log(GE)/ml"
         },
         "type": "linear"
        }
       }
      },
      "image/png": "[encoded data removed]",
      "text/html": [
       "<div>\n",
       "        \n",
       "        \n",
       "            <div id=\"142aad60-a11b-4491-9279-d6ffff3989ed\" class=\"plotly-graph-div\" style=\"height:600px; width:100%;\"></div>\n",
       "            <script type=\"text/javascript\">\n",
       "                require([\"plotly\"], function(Plotly) {\n",
       "                    window.PLOTLYENV=window.PLOTLYENV || {};\n",
       "                    \n",
       "                if (document.getElementById(\"142aad60-a11b-4491-9279-d6ffff3989ed\")) {\n",
       "                    Plotly.newPlot(\n",
       "                        '142aad60-a11b-4491-9279-d6ffff3989ed',\n",
       "                        [{\"alignmentgroup\": \"True\", \"hoverlabel\": {\"namelength\": 0}, \"hovertemplate\": \"coverage estimation=%{x}<br>log(GE)/ml=%{y}\", \"legendgroup\": \"\", \"marker\": {\"color\": \"#636efa\"}, \"name\": \"\", \"notched\": false, \"offsetgroup\": \"\", \"orientation\": \"v\", \"showlegend\": false, \"type\": \"box\", \"x\": [\"mean_geomean\", \"mean_geomean\", \"mean_geomean\", \"mean_geomean\", \"mean_geomean\", \"mean_geomean\", \"mean_geomean\", \"mean_geomean\", \"mean_geomean\", \"mean_geomean\", \"mean_geomean\", \"mean_geomean\", \"mean_geomean\", \"mean_geomean\", \"mean_geomean\", \"mean_geomean\", \"mean_geomean\", \"mean_geomean\", \"mean_geomean\", \"mean_geomean\", \"mean_geomean\", \"mean_geomean\", \"mean_geomean\", \"mean_geomean\", \"mean_geomean\", \"mean_geomean\", \"mean_geomean\", \"mean_geomean\", \"mean_geomean\", \"mean_geomean\", \"mean_geomean\", \"mean_geomean\", \"mean_geomean\", \"mean_geomean\", \"mean_geomean\", \"mean_geomean\", \"mean_geomean\", \"mean_geomean\", \"mean_geomean\", \"mean_geomean\", \"mean_geomean\", \"mean_geomean\", \"mean_geomean\", \"mean_geomean\", \"mean_geomean\", \"mean_geomean\", \"mean_geomean\", \"mean_geomean\", \"mean_geomean\", \"mean_geomean\", \"mean_geomean\", \"mean_geomean\", \"mean_geomean\", \"mean_geomean\", \"mean_geomean\", \"mean_geomean\", \"mean_geomean\", \"mean_geomean\", \"mean_geomean\", \"mean_geomean\", \"mean_geomean\", \"mean_geomean\", \"mean_geomean\", \"mean_geomean\", \"mean_geomean\", \"mean_geomean\", \"mean_geomean\", \"mean_geomean\", \"mean_geomean\", \"mean_geomean\", \"mean_geomean\", \"mean_geomean\", \"mean_geomean\", \"mean_geomean\", \"mean_geomean\", \"mean_geomean\", \"mean_geomean\", \"mean_geomean\", \"mean_geomean\", \"mean_geomean\", \"mean_geomean\", \"mean_geomean\", \"mean_geomean\", \"mean_geomean\", \"mean_geomean\", \"mean_geomean\", \"mean_geomean\", \"mean_geomean\", \"mean_geomean\", \"mean_geomean\", \"mean_geomean\", \"mean_geomean\", \"mean_geomean\", \"mean_nonzero_geomean\", \"mean_nonzero_geomean\", \"mean_nonzero_geomean\", \"mean_nonzero_geomean\", \"mean_nonzero_geomean\", \"mean_nonzero_geomean\", \"mean_nonzero_geomean\", \"mean_nonzero_geomean\", \"mean_nonzero_geomean\", \"mean_nonzero_geomean\", \"mean_nonzero_geomean\", \"mean_nonzero_geomean\", \"mean_nonzero_geomean\", \"mean_nonzero_geomean\", \"mean_nonzero_geomean\", \"mean_nonzero_geomean\", \"mean_nonzero_geomean\", \"mean_nonzero_geomean\", \"mean_nonzero_geomean\", \"mean_nonzero_geomean\", \"mean_nonzero_geomean\", \"mean_nonzero_geomean\", \"mean_nonzero_geomean\", \"mean_nonzero_geomean\", \"mean_nonzero_geomean\", \"mean_nonzero_geomean\", \"mean_nonzero_geomean\", \"mean_nonzero_geomean\", \"mean_nonzero_geomean\", \"mean_nonzero_geomean\", \"mean_nonzero_geomean\", \"mean_nonzero_geomean\", \"mean_nonzero_geomean\", \"mean_nonzero_geomean\", \"mean_nonzero_geomean\", \"mean_nonzero_geomean\", \"mean_nonzero_geomean\", \"mean_nonzero_geomean\", \"mean_nonzero_geomean\", \"mean_nonzero_geomean\", \"mean_nonzero_geomean\", \"mean_nonzero_geomean\", \"mean_nonzero_geomean\", \"mean_nonzero_geomean\", \"mean_nonzero_geomean\", \"mean_nonzero_geomean\", \"mean_nonzero_geomean\", \"mean_nonzero_geomean\", \"mean_nonzero_geomean\", \"mean_nonzero_geomean\", \"mean_nonzero_geomean\", \"mean_nonzero_geomean\", \"mean_nonzero_geomean\", \"mean_nonzero_geomean\", \"mean_nonzero_geomean\", \"mean_nonzero_geomean\", \"mean_nonzero_geomean\", \"mean_nonzero_geomean\", \"mean_nonzero_geomean\", \"mean_nonzero_geomean\", \"mean_nonzero_geomean\", \"mean_nonzero_geomean\", \"mean_nonzero_geomean\", \"mean_nonzero_geomean\", \"mean_nonzero_geomean\", \"mean_nonzero_geomean\", \"mean_nonzero_geomean\", \"mean_nonzero_geomean\", \"mean_nonzero_geomean\", \"mean_nonzero_geomean\", \"mean_nonzero_geomean\", \"mean_nonzero_geomean\", \"mean_nonzero_geomean\", \"mean_nonzero_geomean\", \"mean_nonzero_geomean\", \"mean_nonzero_geomean\", \"mean_nonzero_geomean\", \"mean_nonzero_geomean\", \"mean_nonzero_geomean\", \"mean_nonzero_geomean\", \"mean_nonzero_geomean\", \"mean_nonzero_geomean\", \"mean_nonzero_geomean\", \"mean_nonzero_geomean\", \"mean_nonzero_geomean\", \"mean_nonzero_geomean\", \"mean_nonzero_geomean\", \"mean_nonzero_geomean\", \"mean_nonzero_geomean\", \"mean_nonzero_geomean\", \"mean_nonzero_geomean\", \"mean_nonzero_geomean\", \"mean_nonzero_geomean\", \"median_geomean\", \"median_geomean\", \"median_geomean\", \"median_geomean\", \"median_geomean\", \"median_geomean\", \"median_geomean\", \"median_geomean\", \"median_geomean\", \"median_geomean\", \"median_geomean\", \"median_geomean\", \"median_geomean\", \"median_geomean\", \"median_geomean\", \"median_geomean\", \"median_geomean\", \"median_geomean\", \"median_geomean\", \"median_geomean\", \"median_geomean\", \"median_geomean\", \"median_geomean\", \"median_geomean\", \"median_geomean\", \"median_geomean\", \"median_geomean\", \"median_geomean\", \"median_geomean\", \"median_geomean\", \"median_geomean\", \"median_geomean\", \"median_geomean\", \"median_geomean\", \"median_geomean\", \"median_geomean\", \"median_geomean\", \"median_geomean\", \"median_geomean\", \"median_geomean\", \"median_geomean\", \"median_geomean\", \"median_geomean\", \"median_geomean\", \"median_geomean\", \"median_geomean\", \"median_geomean\", \"median_geomean\", \"median_geomean\", \"median_geomean\", \"median_geomean\", \"median_geomean\", \"median_geomean\", \"median_geomean\", \"median_geomean\", \"median_geomean\", \"median_geomean\", \"median_geomean\", \"median_geomean\", \"median_geomean\", \"median_geomean\", \"median_geomean\", \"median_geomean\", \"median_geomean\", \"median_geomean\", \"median_geomean\", \"median_geomean\", \"median_geomean\", \"median_geomean\", \"median_geomean\", \"median_geomean\", \"median_geomean\", \"median_geomean\", \"median_geomean\", \"median_geomean\", \"median_geomean\", \"median_geomean\", \"median_geomean\", \"median_geomean\", \"median_geomean\", \"median_geomean\", \"median_geomean\", \"median_geomean\", \"median_geomean\", \"median_geomean\", \"median_geomean\", \"median_geomean\", \"median_geomean\", \"median_geomean\", \"median_geomean\", \"median_geomean\", \"median_geomean\", \"median_geomean\", \"median_nonzero_geomean\", \"median_nonzero_geomean\", \"median_nonzero_geomean\", \"median_nonzero_geomean\", \"median_nonzero_geomean\", \"median_nonzero_geomean\", \"median_nonzero_geomean\", \"median_nonzero_geomean\", \"median_nonzero_geomean\", \"median_nonzero_geomean\", \"median_nonzero_geomean\", \"median_nonzero_geomean\", \"median_nonzero_geomean\", \"median_nonzero_geomean\", \"median_nonzero_geomean\", \"median_nonzero_geomean\", \"median_nonzero_geomean\", \"median_nonzero_geomean\", \"median_nonzero_geomean\", \"median_nonzero_geomean\", \"median_nonzero_geomean\", \"median_nonzero_geomean\", \"median_nonzero_geomean\", \"median_nonzero_geomean\", \"median_nonzero_geomean\", \"median_nonzero_geomean\", \"median_nonzero_geomean\", \"median_nonzero_geomean\", \"median_nonzero_geomean\", \"median_nonzero_geomean\", \"median_nonzero_geomean\", \"median_nonzero_geomean\", \"median_nonzero_geomean\", \"median_nonzero_geomean\", \"median_nonzero_geomean\", \"median_nonzero_geomean\", \"median_nonzero_geomean\", \"median_nonzero_geomean\", \"median_nonzero_geomean\", \"median_nonzero_geomean\", \"median_nonzero_geomean\", \"median_nonzero_geomean\", \"median_nonzero_geomean\", \"median_nonzero_geomean\", \"median_nonzero_geomean\", \"median_nonzero_geomean\", \"median_nonzero_geomean\", \"median_nonzero_geomean\", \"median_nonzero_geomean\", \"median_nonzero_geomean\", \"median_nonzero_geomean\", \"median_nonzero_geomean\", \"median_nonzero_geomean\", \"median_nonzero_geomean\", \"median_nonzero_geomean\", \"median_nonzero_geomean\", \"median_nonzero_geomean\", \"median_nonzero_geomean\", \"median_nonzero_geomean\", \"median_nonzero_geomean\", \"median_nonzero_geomean\", \"median_nonzero_geomean\", \"median_nonzero_geomean\", \"median_nonzero_geomean\", \"median_nonzero_geomean\", \"median_nonzero_geomean\", \"median_nonzero_geomean\", \"median_nonzero_geomean\", \"median_nonzero_geomean\", \"median_nonzero_geomean\", \"median_nonzero_geomean\", \"median_nonzero_geomean\", \"median_nonzero_geomean\", \"median_nonzero_geomean\", \"median_nonzero_geomean\", \"median_nonzero_geomean\", \"median_nonzero_geomean\", \"median_nonzero_geomean\", \"median_nonzero_geomean\", \"median_nonzero_geomean\", \"median_nonzero_geomean\", \"median_nonzero_geomean\", \"median_nonzero_geomean\", \"median_nonzero_geomean\", \"median_nonzero_geomean\", \"median_nonzero_geomean\", \"median_nonzero_geomean\", \"median_nonzero_geomean\", \"median_nonzero_geomean\", \"median_nonzero_geomean\", \"median_nonzero_geomean\", \"median_nonzero_geomean\", \"median_nonzero_geomean\"], \"x0\": \" \", \"xaxis\": \"x\", \"y\": [7.078977174744356, 11.38877836858883, 9.597763630043515, 9.095959018130467, 9.959797067363576, null, 10.100623524419943, 8.758431066204764, 8.565277180800667, 7.71753222790478, 8.054030659600222, 9.022085349095859, 10.883316482089802, 10.308293675693337, 10.189715778221448, 9.066393432448937, 8.561117794706277, 8.779570155232769, 9.256602066877878, 11.392337919990586, 7.672382861560653, 11.288056893958423, 10.805042309790498, 11.42929632221449, 8.00618159992615, 7.60234817859698, 11.25138333937084, 10.165766339655228, 9.00400706627777, 9.814904242804769, 8.702856931442225, 6.727785822830784, 9.164095646445727, 8.912719168355295, 8.070533530428746, 8.920657983850088, 10.27529929737201, 9.197287790791618, 8.874123904528862, 7.860826717892254, 8.555555216866525, 9.101254165904068, 8.788294826888054, 8.796434626921716, 9.452278571169423, 10.230189134426823, 9.919066321455693, 8.763469064897896, 7.484939637658819, 10.727025968809505, 10.164542996046054, 8.347831584092392, 8.615062156460871, 10.104393109610605, 9.23145658100964, 10.152479824524441, 7.752050062532337, 9.514588360607942, 9.02580192714291, 8.541347136668513, 8.589703817401746, 9.56259392222204, 9.397653999597289, 10.196671762664927, 9.922333046716675, 9.28595110673903, 9.492674106059628, 9.739481506026127, 7.637513146670576, 9.42789135861385, 8.639678437337395, 8.517413704238159, 7.710809783026549, 8.582973677696815, 10.898179437363403, 9.789074466756416, 8.476541965283454, 8.092461143675102, 10.582287248900418, 8.126539871461173, 10.219568381574772, 6.82524736433982, 11.207723727907567, 10.046023632370785, 9.163391739403714, 7.350113268053381, 9.582187798028608, 7.624205278075952, 9.914035854120813, 9.544637810263463, 7.780321210638613, 10.139967318639268, 10.24861404616084, 7.340591804113924, 11.539215379196122, 9.76721789033595, 9.265305361983113, 10.127593141536368, null, 10.25442023078817, 8.953230397892955, 8.75485617139734, 7.92313974031546, 8.250389821481244, 9.2018392049661, 11.04475460487579, 10.475303336130024, 10.341106409514984, 9.236957932985996, 8.74912906464821, 8.95957950940198, 9.435130402941887, 11.528454887218398, 7.919220733273535, 11.445013530190415, 10.949306453031166, 11.57437121170011, 8.1722588657457, 7.8395864565162015, 11.409429095444587, 10.330570125700653, 9.20589502953733, 9.970190469741182, 8.90001499654648, 6.939873224568987, 9.351010104588118, 9.098121464795884, 8.261711183362749, 9.066370790407063, 10.419171878481889, 9.385878547756457, 9.051336501843371, 8.056034041070419, 8.731895711719963, 9.28144005688326, 8.948227875999486, 8.96478258680285, 9.62000330818241, 10.398523050484398, 10.075726466812199, 8.943636387135824, 7.686469617907703, 10.885554425130167, 10.30536733262061, 8.532055160297222, 8.815513982842823, 10.258133775463373, 9.412442212112618, 10.307962234590134, 7.959301605879645, 9.678380722081315, 9.218367840104499, 8.745774127997775, 8.761637102644759, 9.728888061454528, 9.565840304445338, 10.360829167834959, 10.081428624670933, 9.470558358282318, 9.664041540266965, 9.911172537427543, 7.852660014741633, 9.594014181067559, 8.83668925227694, 8.715456890923141, 7.90795807667722, 8.780476099110386, 11.065088101534126, 9.948013549708154, 8.670567443664297, 8.29481345945107, 10.71000889057815, 8.344806667987672, 10.381722979501134, 7.1099519438486265, 11.36670564861929, 10.20958920758283, 9.34332630536991, 7.577068791984187, 9.7635479393836, 7.842615079454484, 10.090711642312195, 9.738437912280327, 8.003038572725677, 10.313043642773417, 10.41599193720295, null, 10.966500328846303, null, null, null, null, 9.68177077150698, null, null, null, null, null, 10.448338138361295, null, null, null, null, null, null, 10.950687000731481, null, 10.846478416632893, 10.375973993387309, 10.991113493196599, null, null, 10.816677500400914, null, null, null, null, null, null, null, null, 8.503365117980456, null, null, null, null, null, null, null, null, null, null, null, null, null, 10.306493930702826, null, null, null, 9.698957446772177, null, null, null, 9.105655514610987, null, null, null, null, null, 9.768232360089463, 9.51048937483105, null, null, null, null, 9.018522438210614, null, null, null, null, null, 9.403516803856776, null, null, 10.16257854020784, null, null, null, null, null, null, null, null, null, null, null, null, null, null, 7.3453303953727325, 11.560799737033708, 9.797193625538236, 9.28917621103821, 10.155752061105854, null, 10.285952034746556, 8.966547457025385, 8.77812510719829, 7.927899016075976, 8.26826882999325, 9.21391369563221, 11.051351433163719, 10.476822839826799, 10.347909350431097, 9.261428076813521, 8.762950691851092, 8.986570424269361, 9.456531303202313, 11.543742295796752, 7.913313704036769, 11.454875949710825, 10.969375998122217, 11.565884662961174, 8.191427896407701, 7.818889170155918, 11.414603743155187, 10.35569396313754, 9.222325844755556, 10.001726983073606, 8.915650416134095, 6.955135204392041, 9.383878357308078, 9.102695332210066, 8.256408476369566, 9.089343015029941, 10.439179797306084, 9.395329908283859, 9.073718859310478, 8.070860013191709, 8.757273356605658, 9.298916094923948, 8.968755914122703, 8.99440453409108, 9.64485660406683, 10.41833830143613, 10.08647282000408, 8.967956426638468, 7.7033582790146795, 10.901151746392957, 10.334643098155103, 8.546605869495487, 8.84127742007315, 10.271187253788591, 9.43763336745722, 10.323098596053848, 7.986102718263831, 9.703824172323294, 9.238301983536713, 8.754982813839918, 8.782164687672646, 9.751013818764452, 9.593117692733781, 10.359341112914262, 10.11254346605451, 9.49318461958325, 9.690288007171372, 9.931420358665932, 7.860725989452309, 9.61926943075379, 8.859380734284821, 8.731785300287324, 7.926977405857645, 8.797176097339015, 11.086229696687235, 9.988086094933989, 8.675877143794867, 8.29813875654825, 10.609739402757402, 8.35675099122876, 10.408369028430602, 7.076498319268955, 11.395222353411002, 10.224571371434859, 9.36615481482478, 7.536453165530963, 9.78248876307474, 7.867182089983926, 10.108569350146123, 9.75593958263344, 8.0130859160485, 10.323498764559131, 10.446763824611061], \"y0\": \" \", \"yaxis\": \"y\"}],\n",
       "                        {\"boxmode\": \"group\", \"height\": 600, \"legend\": {\"tracegroupgap\": 0}, \"margin\": {\"t\": 60}, \"template\": {\"data\": {\"bar\": [{\"error_x\": {\"color\": \"#2a3f5f\"}, \"error_y\": {\"color\": \"#2a3f5f\"}, \"marker\": {\"line\": {\"color\": \"#E5ECF6\", \"width\": 0.5}}, \"type\": \"bar\"}], \"barpolar\": [{\"marker\": {\"line\": {\"color\": \"#E5ECF6\", \"width\": 0.5}}, \"type\": \"barpolar\"}], \"carpet\": [{\"aaxis\": {\"endlinecolor\": \"#2a3f5f\", \"gridcolor\": \"white\", \"linecolor\": \"white\", \"minorgridcolor\": \"white\", \"startlinecolor\": \"#2a3f5f\"}, \"baxis\": {\"endlinecolor\": \"#2a3f5f\", \"gridcolor\": \"white\", \"linecolor\": \"white\", \"minorgridcolor\": \"white\", \"startlinecolor\": \"#2a3f5f\"}, \"type\": \"carpet\"}], \"choropleth\": [{\"colorbar\": {\"outlinewidth\": 0, \"ticks\": \"\"}, \"type\": \"choropleth\"}], \"contour\": [{\"colorbar\": {\"outlinewidth\": 0, \"ticks\": \"\"}, \"colorscale\": [[0.0, \"#0d0887\"], [0.1111111111111111, \"#46039f\"], [0.2222222222222222, \"#7201a8\"], [0.3333333333333333, \"#9c179e\"], [0.4444444444444444, \"#bd3786\"], [0.5555555555555556, \"#d8576b\"], [0.6666666666666666, \"#ed7953\"], [0.7777777777777778, \"#fb9f3a\"], [0.8888888888888888, \"#fdca26\"], [1.0, \"#f0f921\"]], \"type\": \"contour\"}], \"contourcarpet\": [{\"colorbar\": {\"outlinewidth\": 0, \"ticks\": \"\"}, \"type\": \"contourcarpet\"}], \"heatmap\": [{\"colorbar\": {\"outlinewidth\": 0, \"ticks\": \"\"}, \"colorscale\": [[0.0, \"#0d0887\"], [0.1111111111111111, \"#46039f\"], [0.2222222222222222, \"#7201a8\"], [0.3333333333333333, \"#9c179e\"], [0.4444444444444444, \"#bd3786\"], [0.5555555555555556, \"#d8576b\"], [0.6666666666666666, \"#ed7953\"], [0.7777777777777778, \"#fb9f3a\"], [0.8888888888888888, \"#fdca26\"], [1.0, \"#f0f921\"]], \"type\": \"heatmap\"}], \"heatmapgl\": [{\"colorbar\": {\"outlinewidth\": 0, \"ticks\": \"\"}, \"colorscale\": [[0.0, \"#0d0887\"], [0.1111111111111111, \"#46039f\"], [0.2222222222222222, \"#7201a8\"], [0.3333333333333333, \"#9c179e\"], [0.4444444444444444, \"#bd3786\"], [0.5555555555555556, \"#d8576b\"], [0.6666666666666666, \"#ed7953\"], [0.7777777777777778, \"#fb9f3a\"], [0.8888888888888888, \"#fdca26\"], [1.0, \"#f0f921\"]], \"type\": \"heatmapgl\"}], \"histogram\": [{\"marker\": {\"colorbar\": {\"outlinewidth\": 0, \"ticks\": \"\"}}, \"type\": \"histogram\"}], \"histogram2d\": [{\"colorbar\": {\"outlinewidth\": 0, \"ticks\": \"\"}, \"colorscale\": [[0.0, \"#0d0887\"], [0.1111111111111111, \"#46039f\"], [0.2222222222222222, \"#7201a8\"], [0.3333333333333333, \"#9c179e\"], [0.4444444444444444, \"#bd3786\"], [0.5555555555555556, \"#d8576b\"], [0.6666666666666666, \"#ed7953\"], [0.7777777777777778, \"#fb9f3a\"], [0.8888888888888888, \"#fdca26\"], [1.0, \"#f0f921\"]], \"type\": \"histogram2d\"}], \"histogram2dcontour\": [{\"colorbar\": {\"outlinewidth\": 0, \"ticks\": \"\"}, \"colorscale\": [[0.0, \"#0d0887\"], [0.1111111111111111, \"#46039f\"], [0.2222222222222222, \"#7201a8\"], [0.3333333333333333, \"#9c179e\"], [0.4444444444444444, \"#bd3786\"], [0.5555555555555556, \"#d8576b\"], [0.6666666666666666, \"#ed7953\"], [0.7777777777777778, \"#fb9f3a\"], [0.8888888888888888, \"#fdca26\"], [1.0, \"#f0f921\"]], \"type\": \"histogram2dcontour\"}], \"mesh3d\": [{\"colorbar\": {\"outlinewidth\": 0, \"ticks\": \"\"}, \"type\": \"mesh3d\"}], \"parcoords\": [{\"line\": {\"colorbar\": {\"outlinewidth\": 0, \"ticks\": \"\"}}, \"type\": \"parcoords\"}], \"scatter\": [{\"marker\": {\"colorbar\": {\"outlinewidth\": 0, \"ticks\": \"\"}}, \"type\": \"scatter\"}], \"scatter3d\": [{\"line\": {\"colorbar\": {\"outlinewidth\": 0, \"ticks\": \"\"}}, \"marker\": {\"colorbar\": {\"outlinewidth\": 0, \"ticks\": \"\"}}, \"type\": \"scatter3d\"}], \"scattercarpet\": [{\"marker\": {\"colorbar\": {\"outlinewidth\": 0, \"ticks\": \"\"}}, \"type\": \"scattercarpet\"}], \"scattergeo\": [{\"marker\": {\"colorbar\": {\"outlinewidth\": 0, \"ticks\": \"\"}}, \"type\": \"scattergeo\"}], \"scattergl\": [{\"marker\": {\"colorbar\": {\"outlinewidth\": 0, \"ticks\": \"\"}}, \"type\": \"scattergl\"}], \"scattermapbox\": [{\"marker\": {\"colorbar\": {\"outlinewidth\": 0, \"ticks\": \"\"}}, \"type\": \"scattermapbox\"}], \"scatterpolar\": [{\"marker\": {\"colorbar\": {\"outlinewidth\": 0, \"ticks\": \"\"}}, \"type\": \"scatterpolar\"}], \"scatterpolargl\": [{\"marker\": {\"colorbar\": {\"outlinewidth\": 0, \"ticks\": \"\"}}, \"type\": \"scatterpolargl\"}], \"scatterternary\": [{\"marker\": {\"colorbar\": {\"outlinewidth\": 0, \"ticks\": \"\"}}, \"type\": \"scatterternary\"}], \"surface\": [{\"colorbar\": {\"outlinewidth\": 0, \"ticks\": \"\"}, \"colorscale\": [[0.0, \"#0d0887\"], [0.1111111111111111, \"#46039f\"], [0.2222222222222222, \"#7201a8\"], [0.3333333333333333, \"#9c179e\"], [0.4444444444444444, \"#bd3786\"], [0.5555555555555556, \"#d8576b\"], [0.6666666666666666, \"#ed7953\"], [0.7777777777777778, \"#fb9f3a\"], [0.8888888888888888, \"#fdca26\"], [1.0, \"#f0f921\"]], \"type\": \"surface\"}], \"table\": [{\"cells\": {\"fill\": {\"color\": \"#EBF0F8\"}, \"line\": {\"color\": \"white\"}}, \"header\": {\"fill\": {\"color\": \"#C8D4E3\"}, \"line\": {\"color\": \"white\"}}, \"type\": \"table\"}]}, \"layout\": {\"annotationdefaults\": {\"arrowcolor\": \"#2a3f5f\", \"arrowhead\": 0, \"arrowwidth\": 1}, \"colorscale\": {\"diverging\": [[0, \"#8e0152\"], [0.1, \"#c51b7d\"], [0.2, \"#de77ae\"], [0.3, \"#f1b6da\"], [0.4, \"#fde0ef\"], [0.5, \"#f7f7f7\"], [0.6, \"#e6f5d0\"], [0.7, \"#b8e186\"], [0.8, \"#7fbc41\"], [0.9, \"#4d9221\"], [1, \"#276419\"]], \"sequential\": [[0.0, \"#0d0887\"], [0.1111111111111111, \"#46039f\"], [0.2222222222222222, \"#7201a8\"], [0.3333333333333333, \"#9c179e\"], [0.4444444444444444, \"#bd3786\"], [0.5555555555555556, \"#d8576b\"], [0.6666666666666666, \"#ed7953\"], [0.7777777777777778, \"#fb9f3a\"], [0.8888888888888888, \"#fdca26\"], [1.0, \"#f0f921\"]], \"sequentialminus\": [[0.0, \"#0d0887\"], [0.1111111111111111, \"#46039f\"], [0.2222222222222222, \"#7201a8\"], [0.3333333333333333, \"#9c179e\"], [0.4444444444444444, \"#bd3786\"], [0.5555555555555556, \"#d8576b\"], [0.6666666666666666, \"#ed7953\"], [0.7777777777777778, \"#fb9f3a\"], [0.8888888888888888, \"#fdca26\"], [1.0, \"#f0f921\"]]}, \"colorway\": [\"#636efa\", \"#EF553B\", \"#00cc96\", \"#ab63fa\", \"#FFA15A\", \"#19d3f3\", \"#FF6692\", \"#B6E880\", \"#FF97FF\", \"#FECB52\"], \"font\": {\"color\": \"#2a3f5f\"}, \"geo\": {\"bgcolor\": \"white\", \"lakecolor\": \"white\", \"landcolor\": \"#E5ECF6\", \"showlakes\": true, \"showland\": true, \"subunitcolor\": \"white\"}, \"hoverlabel\": {\"align\": \"left\"}, \"hovermode\": \"closest\", \"mapbox\": {\"style\": \"light\"}, \"paper_bgcolor\": \"white\", \"plot_bgcolor\": \"#E5ECF6\", \"polar\": {\"angularaxis\": {\"gridcolor\": \"white\", \"linecolor\": \"white\", \"ticks\": \"\"}, \"bgcolor\": \"#E5ECF6\", \"radialaxis\": {\"gridcolor\": \"white\", \"linecolor\": \"white\", \"ticks\": \"\"}}, \"scene\": {\"xaxis\": {\"backgroundcolor\": \"#E5ECF6\", \"gridcolor\": \"white\", \"gridwidth\": 2, \"linecolor\": \"white\", \"showbackground\": true, \"ticks\": \"\", \"zerolinecolor\": \"white\"}, \"yaxis\": {\"backgroundcolor\": \"#E5ECF6\", \"gridcolor\": \"white\", \"gridwidth\": 2, \"linecolor\": \"white\", \"showbackground\": true, \"ticks\": \"\", \"zerolinecolor\": \"white\"}, \"zaxis\": {\"backgroundcolor\": \"#E5ECF6\", \"gridcolor\": \"white\", \"gridwidth\": 2, \"linecolor\": \"white\", \"showbackground\": true, \"ticks\": \"\", \"zerolinecolor\": \"white\"}}, \"shapedefaults\": {\"line\": {\"color\": \"#2a3f5f\"}}, \"ternary\": {\"aaxis\": {\"gridcolor\": \"white\", \"linecolor\": \"white\", \"ticks\": \"\"}, \"baxis\": {\"gridcolor\": \"white\", \"linecolor\": \"white\", \"ticks\": \"\"}, \"bgcolor\": \"#E5ECF6\", \"caxis\": {\"gridcolor\": \"white\", \"linecolor\": \"white\", \"ticks\": \"\"}}, \"title\": {\"x\": 0.05}, \"xaxis\": {\"automargin\": true, \"gridcolor\": \"white\", \"linecolor\": \"white\", \"ticks\": \"\", \"zerolinecolor\": \"white\", \"zerolinewidth\": 2}, \"yaxis\": {\"automargin\": true, \"gridcolor\": \"white\", \"linecolor\": \"white\", \"ticks\": \"\", \"zerolinecolor\": \"white\", \"zerolinewidth\": 2}}}, \"xaxis\": {\"anchor\": \"y\", \"domain\": [0.0, 0.98], \"title\": {\"text\": \"coverage estimation\"}}, \"yaxis\": {\"anchor\": \"x\", \"domain\": [0.0, 1.0], \"title\": {\"text\": \"log(GE)/ml\"}}},\n",
       "                        {\"responsive\": true}\n",
       "                    ).then(function(){\n",
       "                            \n",
       "var gd = document.getElementById('142aad60-a11b-4491-9279-d6ffff3989ed');\n",
       "var x = new MutationObserver(function (mutations, observer) {{\n",
       "        var display = window.getComputedStyle(gd).display;\n",
       "        if (!display || display === 'none') {{\n",
       "            console.log([gd, 'removed!']);\n",
       "            Plotly.purge(gd);\n",
       "            observer.disconnect();\n",
       "        }}\n",
       "}});\n",
       "\n",
       "// Listen for the removal of the full notebook cells\n",
       "var notebookContainer = gd.closest('#notebook-container');\n",
       "if (notebookContainer) {{\n",
       "    x.observe(notebookContainer, {childList: true});\n",
       "}}\n",
       "\n",
       "// Listen for the clearing of the current output cell\n",
       "var outputEl = gd.closest('.output');\n",
       "if (outputEl) {{\n",
       "    x.observe(outputEl, {childList: true});\n",
       "}}\n",
       "\n",
       "                        })\n",
       "                };\n",
       "                });\n",
       "            </script>\n",
       "        </div>"
      ]
     },
     "metadata": {},
     "output_type": "display_data"
    }
   ],
   "source": [
    "ge_melt = pd.melt(ge, var_name='coverage estimation', value_name='log(GE)/ml')\n",
    "px.box(ge_melt, y='log(GE)/ml', x='coverage estimation')"
   ]
  },
  {
   "cell_type": "code",
   "execution_count": 45,
   "metadata": {},
   "outputs": [
    {
     "data": {
      "application/vnd.plotly.v1+json": {
       "config": {
        "plotlyServerURL": "https://plot.ly"
       },
       "data": [
        {
         "alignmentgroup": "True",
         "bingroup": "x",
         "hoverlabel": {
          "namelength": 0
         },
         "hovertemplate": "mean_geomean=%{x}<br>count=%{y}",
         "legendgroup": "",
         "marker": {
          "color": "#636efa"
         },
         "name": "",
         "offsetgroup": "",
         "orientation": "v",
         "showlegend": false,
         "type": "histogram",
         "x": [
          7.078977174744356,
          11.38877836858883,
          9.597763630043515,
          9.095959018130467,
          9.959797067363576,
          null,
          10.100623524419943,
          8.758431066204764,
          8.565277180800667,
          7.71753222790478,
          8.054030659600222,
          9.022085349095859,
          10.883316482089802,
          10.308293675693337,
          10.189715778221448,
          9.066393432448937,
          8.561117794706277,
          8.779570155232769,
          9.256602066877878,
          11.392337919990586,
          7.672382861560653,
          11.288056893958423,
          10.805042309790498,
          11.42929632221449,
          8.00618159992615,
          7.60234817859698,
          11.25138333937084,
          10.165766339655228,
          9.00400706627777,
          9.814904242804769,
          8.702856931442225,
          6.727785822830784,
          9.164095646445727,
          8.912719168355295,
          8.070533530428746,
          8.920657983850088,
          10.27529929737201,
          9.197287790791618,
          8.874123904528862,
          7.860826717892254,
          8.555555216866525,
          9.101254165904068,
          8.788294826888054,
          8.796434626921716,
          9.452278571169423,
          10.230189134426823,
          9.919066321455693,
          8.763469064897896,
          7.484939637658819,
          10.727025968809505,
          10.164542996046054,
          8.347831584092392,
          8.615062156460871,
          10.104393109610605,
          9.23145658100964,
          10.152479824524441,
          7.752050062532337,
          9.514588360607942,
          9.02580192714291,
          8.541347136668513,
          8.589703817401746,
          9.56259392222204,
          9.397653999597289,
          10.196671762664927,
          9.922333046716675,
          9.28595110673903,
          9.492674106059628,
          9.739481506026127,
          7.637513146670576,
          9.42789135861385,
          8.639678437337395,
          8.517413704238159,
          7.710809783026549,
          8.582973677696815,
          10.898179437363403,
          9.789074466756416,
          8.476541965283454,
          8.092461143675102,
          10.582287248900418,
          8.126539871461173,
          10.219568381574772,
          6.82524736433982,
          11.207723727907567,
          10.046023632370785,
          9.163391739403714,
          7.350113268053381,
          9.582187798028608,
          7.624205278075952,
          9.914035854120813,
          9.544637810263463,
          7.780321210638613,
          10.139967318639268,
          10.24861404616084
         ],
         "xaxis": "x",
         "yaxis": "y"
        }
       ],
       "layout": {
        "autosize": true,
        "barmode": "relative",
        "legend": {
         "tracegroupgap": 0
        },
        "margin": {
         "t": 60
        },
        "template": {
         "data": {
          "bar": [
           {
            "error_x": {
             "color": "#2a3f5f"
            },
            "error_y": {
             "color": "#2a3f5f"
            },
            "marker": {
             "line": {
              "color": "#E5ECF6",
              "width": 0.5
             }
            },
            "type": "bar"
           }
          ],
          "barpolar": [
           {
            "marker": {
             "line": {
              "color": "#E5ECF6",
              "width": 0.5
             }
            },
            "type": "barpolar"
           }
          ],
          "carpet": [
           {
            "aaxis": {
             "endlinecolor": "#2a3f5f",
             "gridcolor": "white",
             "linecolor": "white",
             "minorgridcolor": "white",
             "startlinecolor": "#2a3f5f"
            },
            "baxis": {
             "endlinecolor": "#2a3f5f",
             "gridcolor": "white",
             "linecolor": "white",
             "minorgridcolor": "white",
             "startlinecolor": "#2a3f5f"
            },
            "type": "carpet"
           }
          ],
          "choropleth": [
           {
            "colorbar": {
             "outlinewidth": 0,
             "ticks": ""
            },
            "type": "choropleth"
           }
          ],
          "contour": [
           {
            "colorbar": {
             "outlinewidth": 0,
             "ticks": ""
            },
            "colorscale": [
             [
              0,
              "#0d0887"
             ],
             [
              0.1111111111111111,
              "#46039f"
             ],
             [
              0.2222222222222222,
              "#7201a8"
             ],
             [
              0.3333333333333333,
              "#9c179e"
             ],
             [
              0.4444444444444444,
              "#bd3786"
             ],
             [
              0.5555555555555556,
              "#d8576b"
             ],
             [
              0.6666666666666666,
              "#ed7953"
             ],
             [
              0.7777777777777778,
              "#fb9f3a"
             ],
             [
              0.8888888888888888,
              "#fdca26"
             ],
             [
              1,
              "#f0f921"
             ]
            ],
            "type": "contour"
           }
          ],
          "contourcarpet": [
           {
            "colorbar": {
             "outlinewidth": 0,
             "ticks": ""
            },
            "type": "contourcarpet"
           }
          ],
          "heatmap": [
           {
            "colorbar": {
             "outlinewidth": 0,
             "ticks": ""
            },
            "colorscale": [
             [
              0,
              "#0d0887"
             ],
             [
              0.1111111111111111,
              "#46039f"
             ],
             [
              0.2222222222222222,
              "#7201a8"
             ],
             [
              0.3333333333333333,
              "#9c179e"
             ],
             [
              0.4444444444444444,
              "#bd3786"
             ],
             [
              0.5555555555555556,
              "#d8576b"
             ],
             [
              0.6666666666666666,
              "#ed7953"
             ],
             [
              0.7777777777777778,
              "#fb9f3a"
             ],
             [
              0.8888888888888888,
              "#fdca26"
             ],
             [
              1,
              "#f0f921"
             ]
            ],
            "type": "heatmap"
           }
          ],
          "heatmapgl": [
           {
            "colorbar": {
             "outlinewidth": 0,
             "ticks": ""
            },
            "colorscale": [
             [
              0,
              "#0d0887"
             ],
             [
              0.1111111111111111,
              "#46039f"
             ],
             [
              0.2222222222222222,
              "#7201a8"
             ],
             [
              0.3333333333333333,
              "#9c179e"
             ],
             [
              0.4444444444444444,
              "#bd3786"
             ],
             [
              0.5555555555555556,
              "#d8576b"
             ],
             [
              0.6666666666666666,
              "#ed7953"
             ],
             [
              0.7777777777777778,
              "#fb9f3a"
             ],
             [
              0.8888888888888888,
              "#fdca26"
             ],
             [
              1,
              "#f0f921"
             ]
            ],
            "type": "heatmapgl"
           }
          ],
          "histogram": [
           {
            "marker": {
             "colorbar": {
              "outlinewidth": 0,
              "ticks": ""
             }
            },
            "type": "histogram"
           }
          ],
          "histogram2d": [
           {
            "colorbar": {
             "outlinewidth": 0,
             "ticks": ""
            },
            "colorscale": [
             [
              0,
              "#0d0887"
             ],
             [
              0.1111111111111111,
              "#46039f"
             ],
             [
              0.2222222222222222,
              "#7201a8"
             ],
             [
              0.3333333333333333,
              "#9c179e"
             ],
             [
              0.4444444444444444,
              "#bd3786"
             ],
             [
              0.5555555555555556,
              "#d8576b"
             ],
             [
              0.6666666666666666,
              "#ed7953"
             ],
             [
              0.7777777777777778,
              "#fb9f3a"
             ],
             [
              0.8888888888888888,
              "#fdca26"
             ],
             [
              1,
              "#f0f921"
             ]
            ],
            "type": "histogram2d"
           }
          ],
          "histogram2dcontour": [
           {
            "colorbar": {
             "outlinewidth": 0,
             "ticks": ""
            },
            "colorscale": [
             [
              0,
              "#0d0887"
             ],
             [
              0.1111111111111111,
              "#46039f"
             ],
             [
              0.2222222222222222,
              "#7201a8"
             ],
             [
              0.3333333333333333,
              "#9c179e"
             ],
             [
              0.4444444444444444,
              "#bd3786"
             ],
             [
              0.5555555555555556,
              "#d8576b"
             ],
             [
              0.6666666666666666,
              "#ed7953"
             ],
             [
              0.7777777777777778,
              "#fb9f3a"
             ],
             [
              0.8888888888888888,
              "#fdca26"
             ],
             [
              1,
              "#f0f921"
             ]
            ],
            "type": "histogram2dcontour"
           }
          ],
          "mesh3d": [
           {
            "colorbar": {
             "outlinewidth": 0,
             "ticks": ""
            },
            "type": "mesh3d"
           }
          ],
          "parcoords": [
           {
            "line": {
             "colorbar": {
              "outlinewidth": 0,
              "ticks": ""
             }
            },
            "type": "parcoords"
           }
          ],
          "scatter": [
           {
            "marker": {
             "colorbar": {
              "outlinewidth": 0,
              "ticks": ""
             }
            },
            "type": "scatter"
           }
          ],
          "scatter3d": [
           {
            "line": {
             "colorbar": {
              "outlinewidth": 0,
              "ticks": ""
             }
            },
            "marker": {
             "colorbar": {
              "outlinewidth": 0,
              "ticks": ""
             }
            },
            "type": "scatter3d"
           }
          ],
          "scattercarpet": [
           {
            "marker": {
             "colorbar": {
              "outlinewidth": 0,
              "ticks": ""
             }
            },
            "type": "scattercarpet"
           }
          ],
          "scattergeo": [
           {
            "marker": {
             "colorbar": {
              "outlinewidth": 0,
              "ticks": ""
             }
            },
            "type": "scattergeo"
           }
          ],
          "scattergl": [
           {
            "marker": {
             "colorbar": {
              "outlinewidth": 0,
              "ticks": ""
             }
            },
            "type": "scattergl"
           }
          ],
          "scattermapbox": [
           {
            "marker": {
             "colorbar": {
              "outlinewidth": 0,
              "ticks": ""
             }
            },
            "type": "scattermapbox"
           }
          ],
          "scatterpolar": [
           {
            "marker": {
             "colorbar": {
              "outlinewidth": 0,
              "ticks": ""
             }
            },
            "type": "scatterpolar"
           }
          ],
          "scatterpolargl": [
           {
            "marker": {
             "colorbar": {
              "outlinewidth": 0,
              "ticks": ""
             }
            },
            "type": "scatterpolargl"
           }
          ],
          "scatterternary": [
           {
            "marker": {
             "colorbar": {
              "outlinewidth": 0,
              "ticks": ""
             }
            },
            "type": "scatterternary"
           }
          ],
          "surface": [
           {
            "colorbar": {
             "outlinewidth": 0,
             "ticks": ""
            },
            "colorscale": [
             [
              0,
              "#0d0887"
             ],
             [
              0.1111111111111111,
              "#46039f"
             ],
             [
              0.2222222222222222,
              "#7201a8"
             ],
             [
              0.3333333333333333,
              "#9c179e"
             ],
             [
              0.4444444444444444,
              "#bd3786"
             ],
             [
              0.5555555555555556,
              "#d8576b"
             ],
             [
              0.6666666666666666,
              "#ed7953"
             ],
             [
              0.7777777777777778,
              "#fb9f3a"
             ],
             [
              0.8888888888888888,
              "#fdca26"
             ],
             [
              1,
              "#f0f921"
             ]
            ],
            "type": "surface"
           }
          ],
          "table": [
           {
            "cells": {
             "fill": {
              "color": "#EBF0F8"
             },
             "line": {
              "color": "white"
             }
            },
            "header": {
             "fill": {
              "color": "#C8D4E3"
             },
             "line": {
              "color": "white"
             }
            },
            "type": "table"
           }
          ]
         },
         "layout": {
          "annotationdefaults": {
           "arrowcolor": "#2a3f5f",
           "arrowhead": 0,
           "arrowwidth": 1
          },
          "colorscale": {
           "diverging": [
            [
             0,
             "#8e0152"
            ],
            [
             0.1,
             "#c51b7d"
            ],
            [
             0.2,
             "#de77ae"
            ],
            [
             0.3,
             "#f1b6da"
            ],
            [
             0.4,
             "#fde0ef"
            ],
            [
             0.5,
             "#f7f7f7"
            ],
            [
             0.6,
             "#e6f5d0"
            ],
            [
             0.7,
             "#b8e186"
            ],
            [
             0.8,
             "#7fbc41"
            ],
            [
             0.9,
             "#4d9221"
            ],
            [
             1,
             "#276419"
            ]
           ],
           "sequential": [
            [
             0,
             "#0d0887"
            ],
            [
             0.1111111111111111,
             "#46039f"
            ],
            [
             0.2222222222222222,
             "#7201a8"
            ],
            [
             0.3333333333333333,
             "#9c179e"
            ],
            [
             0.4444444444444444,
             "#bd3786"
            ],
            [
             0.5555555555555556,
             "#d8576b"
            ],
            [
             0.6666666666666666,
             "#ed7953"
            ],
            [
             0.7777777777777778,
             "#fb9f3a"
            ],
            [
             0.8888888888888888,
             "#fdca26"
            ],
            [
             1,
             "#f0f921"
            ]
           ],
           "sequentialminus": [
            [
             0,
             "#0d0887"
            ],
            [
             0.1111111111111111,
             "#46039f"
            ],
            [
             0.2222222222222222,
             "#7201a8"
            ],
            [
             0.3333333333333333,
             "#9c179e"
            ],
            [
             0.4444444444444444,
             "#bd3786"
            ],
            [
             0.5555555555555556,
             "#d8576b"
            ],
            [
             0.6666666666666666,
             "#ed7953"
            ],
            [
             0.7777777777777778,
             "#fb9f3a"
            ],
            [
             0.8888888888888888,
             "#fdca26"
            ],
            [
             1,
             "#f0f921"
            ]
           ]
          },
          "colorway": [
           "#636efa",
           "#EF553B",
           "#00cc96",
           "#ab63fa",
           "#FFA15A",
           "#19d3f3",
           "#FF6692",
           "#B6E880",
           "#FF97FF",
           "#FECB52"
          ],
          "font": {
           "color": "#2a3f5f"
          },
          "geo": {
           "bgcolor": "white",
           "lakecolor": "white",
           "landcolor": "#E5ECF6",
           "showlakes": true,
           "showland": true,
           "subunitcolor": "white"
          },
          "hoverlabel": {
           "align": "left"
          },
          "hovermode": "closest",
          "mapbox": {
           "style": "light"
          },
          "paper_bgcolor": "white",
          "plot_bgcolor": "#E5ECF6",
          "polar": {
           "angularaxis": {
            "gridcolor": "white",
            "linecolor": "white",
            "ticks": ""
           },
           "bgcolor": "#E5ECF6",
           "radialaxis": {
            "gridcolor": "white",
            "linecolor": "white",
            "ticks": ""
           }
          },
          "scene": {
           "xaxis": {
            "backgroundcolor": "#E5ECF6",
            "gridcolor": "white",
            "gridwidth": 2,
            "linecolor": "white",
            "showbackground": true,
            "ticks": "",
            "zerolinecolor": "white"
           },
           "yaxis": {
            "backgroundcolor": "#E5ECF6",
            "gridcolor": "white",
            "gridwidth": 2,
            "linecolor": "white",
            "showbackground": true,
            "ticks": "",
            "zerolinecolor": "white"
           },
           "zaxis": {
            "backgroundcolor": "#E5ECF6",
            "gridcolor": "white",
            "gridwidth": 2,
            "linecolor": "white",
            "showbackground": true,
            "ticks": "",
            "zerolinecolor": "white"
           }
          },
          "shapedefaults": {
           "line": {
            "color": "#2a3f5f"
           }
          },
          "ternary": {
           "aaxis": {
            "gridcolor": "white",
            "linecolor": "white",
            "ticks": ""
           },
           "baxis": {
            "gridcolor": "white",
            "linecolor": "white",
            "ticks": ""
           },
           "bgcolor": "#E5ECF6",
           "caxis": {
            "gridcolor": "white",
            "linecolor": "white",
            "ticks": ""
           }
          },
          "title": {
           "x": 0.05
          },
          "xaxis": {
           "automargin": true,
           "gridcolor": "white",
           "linecolor": "white",
           "ticks": "",
           "zerolinecolor": "white",
           "zerolinewidth": 2
          },
          "yaxis": {
           "automargin": true,
           "gridcolor": "white",
           "linecolor": "white",
           "ticks": "",
           "zerolinecolor": "white",
           "zerolinewidth": 2
          }
         }
        },
        "xaxis": {
         "anchor": "y",
         "autorange": true,
         "domain": [
          0,
          0.98
         ],
         "range": [
          6.5,
          11.5
         ],
         "title": {
          "text": "mean_geomean"
         },
         "type": "linear"
        },
        "yaxis": {
         "anchor": "x",
         "autorange": true,
         "domain": [
          0,
          1
         ],
         "range": [
          0,
          18.94736842105263
         ],
         "title": {
          "text": "count"
         }
        }
       }
      },
      "image/png": "[encoded data removed]",
      "text/html": [
       "<div>\n",
       "        \n",
       "        \n",
       "            <div id=\"089c2094-7491-4e4a-a09c-365bee9233d5\" class=\"plotly-graph-div\" style=\"height:600px; width:100%;\"></div>\n",
       "            <script type=\"text/javascript\">\n",
       "                require([\"plotly\"], function(Plotly) {\n",
       "                    window.PLOTLYENV=window.PLOTLYENV || {};\n",
       "                    \n",
       "                if (document.getElementById(\"089c2094-7491-4e4a-a09c-365bee9233d5\")) {\n",
       "                    Plotly.newPlot(\n",
       "                        '089c2094-7491-4e4a-a09c-365bee9233d5',\n",
       "                        [{\"alignmentgroup\": \"True\", \"bingroup\": \"x\", \"hoverlabel\": {\"namelength\": 0}, \"hovertemplate\": \"mean_geomean=%{x}<br>count=%{y}\", \"legendgroup\": \"\", \"marker\": {\"color\": \"#636efa\"}, \"name\": \"\", \"offsetgroup\": \"\", \"orientation\": \"v\", \"showlegend\": false, \"type\": \"histogram\", \"x\": [7.078977174744356, 11.38877836858883, 9.597763630043515, 9.095959018130467, 9.959797067363576, null, 10.100623524419943, 8.758431066204764, 8.565277180800667, 7.71753222790478, 8.054030659600222, 9.022085349095859, 10.883316482089802, 10.308293675693337, 10.189715778221448, 9.066393432448937, 8.561117794706277, 8.779570155232769, 9.256602066877878, 11.392337919990586, 7.672382861560653, 11.288056893958423, 10.805042309790498, 11.42929632221449, 8.00618159992615, 7.60234817859698, 11.25138333937084, 10.165766339655228, 9.00400706627777, 9.814904242804769, 8.702856931442225, 6.727785822830784, 9.164095646445727, 8.912719168355295, 8.070533530428746, 8.920657983850088, 10.27529929737201, 9.197287790791618, 8.874123904528862, 7.860826717892254, 8.555555216866525, 9.101254165904068, 8.788294826888054, 8.796434626921716, 9.452278571169423, 10.230189134426823, 9.919066321455693, 8.763469064897896, 7.484939637658819, 10.727025968809505, 10.164542996046054, 8.347831584092392, 8.615062156460871, 10.104393109610605, 9.23145658100964, 10.152479824524441, 7.752050062532337, 9.514588360607942, 9.02580192714291, 8.541347136668513, 8.589703817401746, 9.56259392222204, 9.397653999597289, 10.196671762664927, 9.922333046716675, 9.28595110673903, 9.492674106059628, 9.739481506026127, 7.637513146670576, 9.42789135861385, 8.639678437337395, 8.517413704238159, 7.710809783026549, 8.582973677696815, 10.898179437363403, 9.789074466756416, 8.476541965283454, 8.092461143675102, 10.582287248900418, 8.126539871461173, 10.219568381574772, 6.82524736433982, 11.207723727907567, 10.046023632370785, 9.163391739403714, 7.350113268053381, 9.582187798028608, 7.624205278075952, 9.914035854120813, 9.544637810263463, 7.780321210638613, 10.139967318639268, 10.24861404616084], \"xaxis\": \"x\", \"yaxis\": \"y\"}],\n",
       "                        {\"barmode\": \"relative\", \"height\": 600, \"legend\": {\"tracegroupgap\": 0}, \"margin\": {\"t\": 60}, \"template\": {\"data\": {\"bar\": [{\"error_x\": {\"color\": \"#2a3f5f\"}, \"error_y\": {\"color\": \"#2a3f5f\"}, \"marker\": {\"line\": {\"color\": \"#E5ECF6\", \"width\": 0.5}}, \"type\": \"bar\"}], \"barpolar\": [{\"marker\": {\"line\": {\"color\": \"#E5ECF6\", \"width\": 0.5}}, \"type\": \"barpolar\"}], \"carpet\": [{\"aaxis\": {\"endlinecolor\": \"#2a3f5f\", \"gridcolor\": \"white\", \"linecolor\": \"white\", \"minorgridcolor\": \"white\", \"startlinecolor\": \"#2a3f5f\"}, \"baxis\": {\"endlinecolor\": \"#2a3f5f\", \"gridcolor\": \"white\", \"linecolor\": \"white\", \"minorgridcolor\": \"white\", \"startlinecolor\": \"#2a3f5f\"}, \"type\": \"carpet\"}], \"choropleth\": [{\"colorbar\": {\"outlinewidth\": 0, \"ticks\": \"\"}, \"type\": \"choropleth\"}], \"contour\": [{\"colorbar\": {\"outlinewidth\": 0, \"ticks\": \"\"}, \"colorscale\": [[0.0, \"#0d0887\"], [0.1111111111111111, \"#46039f\"], [0.2222222222222222, \"#7201a8\"], [0.3333333333333333, \"#9c179e\"], [0.4444444444444444, \"#bd3786\"], [0.5555555555555556, \"#d8576b\"], [0.6666666666666666, \"#ed7953\"], [0.7777777777777778, \"#fb9f3a\"], [0.8888888888888888, \"#fdca26\"], [1.0, \"#f0f921\"]], \"type\": \"contour\"}], \"contourcarpet\": [{\"colorbar\": {\"outlinewidth\": 0, \"ticks\": \"\"}, \"type\": \"contourcarpet\"}], \"heatmap\": [{\"colorbar\": {\"outlinewidth\": 0, \"ticks\": \"\"}, \"colorscale\": [[0.0, \"#0d0887\"], [0.1111111111111111, \"#46039f\"], [0.2222222222222222, \"#7201a8\"], [0.3333333333333333, \"#9c179e\"], [0.4444444444444444, \"#bd3786\"], [0.5555555555555556, \"#d8576b\"], [0.6666666666666666, \"#ed7953\"], [0.7777777777777778, \"#fb9f3a\"], [0.8888888888888888, \"#fdca26\"], [1.0, \"#f0f921\"]], \"type\": \"heatmap\"}], \"heatmapgl\": [{\"colorbar\": {\"outlinewidth\": 0, \"ticks\": \"\"}, \"colorscale\": [[0.0, \"#0d0887\"], [0.1111111111111111, \"#46039f\"], [0.2222222222222222, \"#7201a8\"], [0.3333333333333333, \"#9c179e\"], [0.4444444444444444, \"#bd3786\"], [0.5555555555555556, \"#d8576b\"], [0.6666666666666666, \"#ed7953\"], [0.7777777777777778, \"#fb9f3a\"], [0.8888888888888888, \"#fdca26\"], [1.0, \"#f0f921\"]], \"type\": \"heatmapgl\"}], \"histogram\": [{\"marker\": {\"colorbar\": {\"outlinewidth\": 0, \"ticks\": \"\"}}, \"type\": \"histogram\"}], \"histogram2d\": [{\"colorbar\": {\"outlinewidth\": 0, \"ticks\": \"\"}, \"colorscale\": [[0.0, \"#0d0887\"], [0.1111111111111111, \"#46039f\"], [0.2222222222222222, \"#7201a8\"], [0.3333333333333333, \"#9c179e\"], [0.4444444444444444, \"#bd3786\"], [0.5555555555555556, \"#d8576b\"], [0.6666666666666666, \"#ed7953\"], [0.7777777777777778, \"#fb9f3a\"], [0.8888888888888888, \"#fdca26\"], [1.0, \"#f0f921\"]], \"type\": \"histogram2d\"}], \"histogram2dcontour\": [{\"colorbar\": {\"outlinewidth\": 0, \"ticks\": \"\"}, \"colorscale\": [[0.0, \"#0d0887\"], [0.1111111111111111, \"#46039f\"], [0.2222222222222222, \"#7201a8\"], [0.3333333333333333, \"#9c179e\"], [0.4444444444444444, \"#bd3786\"], [0.5555555555555556, \"#d8576b\"], [0.6666666666666666, \"#ed7953\"], [0.7777777777777778, \"#fb9f3a\"], [0.8888888888888888, \"#fdca26\"], [1.0, \"#f0f921\"]], \"type\": \"histogram2dcontour\"}], \"mesh3d\": [{\"colorbar\": {\"outlinewidth\": 0, \"ticks\": \"\"}, \"type\": \"mesh3d\"}], \"parcoords\": [{\"line\": {\"colorbar\": {\"outlinewidth\": 0, \"ticks\": \"\"}}, \"type\": \"parcoords\"}], \"scatter\": [{\"marker\": {\"colorbar\": {\"outlinewidth\": 0, \"ticks\": \"\"}}, \"type\": \"scatter\"}], \"scatter3d\": [{\"line\": {\"colorbar\": {\"outlinewidth\": 0, \"ticks\": \"\"}}, \"marker\": {\"colorbar\": {\"outlinewidth\": 0, \"ticks\": \"\"}}, \"type\": \"scatter3d\"}], \"scattercarpet\": [{\"marker\": {\"colorbar\": {\"outlinewidth\": 0, \"ticks\": \"\"}}, \"type\": \"scattercarpet\"}], \"scattergeo\": [{\"marker\": {\"colorbar\": {\"outlinewidth\": 0, \"ticks\": \"\"}}, \"type\": \"scattergeo\"}], \"scattergl\": [{\"marker\": {\"colorbar\": {\"outlinewidth\": 0, \"ticks\": \"\"}}, \"type\": \"scattergl\"}], \"scattermapbox\": [{\"marker\": {\"colorbar\": {\"outlinewidth\": 0, \"ticks\": \"\"}}, \"type\": \"scattermapbox\"}], \"scatterpolar\": [{\"marker\": {\"colorbar\": {\"outlinewidth\": 0, \"ticks\": \"\"}}, \"type\": \"scatterpolar\"}], \"scatterpolargl\": [{\"marker\": {\"colorbar\": {\"outlinewidth\": 0, \"ticks\": \"\"}}, \"type\": \"scatterpolargl\"}], \"scatterternary\": [{\"marker\": {\"colorbar\": {\"outlinewidth\": 0, \"ticks\": \"\"}}, \"type\": \"scatterternary\"}], \"surface\": [{\"colorbar\": {\"outlinewidth\": 0, \"ticks\": \"\"}, \"colorscale\": [[0.0, \"#0d0887\"], [0.1111111111111111, \"#46039f\"], [0.2222222222222222, \"#7201a8\"], [0.3333333333333333, \"#9c179e\"], [0.4444444444444444, \"#bd3786\"], [0.5555555555555556, \"#d8576b\"], [0.6666666666666666, \"#ed7953\"], [0.7777777777777778, \"#fb9f3a\"], [0.8888888888888888, \"#fdca26\"], [1.0, \"#f0f921\"]], \"type\": \"surface\"}], \"table\": [{\"cells\": {\"fill\": {\"color\": \"#EBF0F8\"}, \"line\": {\"color\": \"white\"}}, \"header\": {\"fill\": {\"color\": \"#C8D4E3\"}, \"line\": {\"color\": \"white\"}}, \"type\": \"table\"}]}, \"layout\": {\"annotationdefaults\": {\"arrowcolor\": \"#2a3f5f\", \"arrowhead\": 0, \"arrowwidth\": 1}, \"colorscale\": {\"diverging\": [[0, \"#8e0152\"], [0.1, \"#c51b7d\"], [0.2, \"#de77ae\"], [0.3, \"#f1b6da\"], [0.4, \"#fde0ef\"], [0.5, \"#f7f7f7\"], [0.6, \"#e6f5d0\"], [0.7, \"#b8e186\"], [0.8, \"#7fbc41\"], [0.9, \"#4d9221\"], [1, \"#276419\"]], \"sequential\": [[0.0, \"#0d0887\"], [0.1111111111111111, \"#46039f\"], [0.2222222222222222, \"#7201a8\"], [0.3333333333333333, \"#9c179e\"], [0.4444444444444444, \"#bd3786\"], [0.5555555555555556, \"#d8576b\"], [0.6666666666666666, \"#ed7953\"], [0.7777777777777778, \"#fb9f3a\"], [0.8888888888888888, \"#fdca26\"], [1.0, \"#f0f921\"]], \"sequentialminus\": [[0.0, \"#0d0887\"], [0.1111111111111111, \"#46039f\"], [0.2222222222222222, \"#7201a8\"], [0.3333333333333333, \"#9c179e\"], [0.4444444444444444, \"#bd3786\"], [0.5555555555555556, \"#d8576b\"], [0.6666666666666666, \"#ed7953\"], [0.7777777777777778, \"#fb9f3a\"], [0.8888888888888888, \"#fdca26\"], [1.0, \"#f0f921\"]]}, \"colorway\": [\"#636efa\", \"#EF553B\", \"#00cc96\", \"#ab63fa\", \"#FFA15A\", \"#19d3f3\", \"#FF6692\", \"#B6E880\", \"#FF97FF\", \"#FECB52\"], \"font\": {\"color\": \"#2a3f5f\"}, \"geo\": {\"bgcolor\": \"white\", \"lakecolor\": \"white\", \"landcolor\": \"#E5ECF6\", \"showlakes\": true, \"showland\": true, \"subunitcolor\": \"white\"}, \"hoverlabel\": {\"align\": \"left\"}, \"hovermode\": \"closest\", \"mapbox\": {\"style\": \"light\"}, \"paper_bgcolor\": \"white\", \"plot_bgcolor\": \"#E5ECF6\", \"polar\": {\"angularaxis\": {\"gridcolor\": \"white\", \"linecolor\": \"white\", \"ticks\": \"\"}, \"bgcolor\": \"#E5ECF6\", \"radialaxis\": {\"gridcolor\": \"white\", \"linecolor\": \"white\", \"ticks\": \"\"}}, \"scene\": {\"xaxis\": {\"backgroundcolor\": \"#E5ECF6\", \"gridcolor\": \"white\", \"gridwidth\": 2, \"linecolor\": \"white\", \"showbackground\": true, \"ticks\": \"\", \"zerolinecolor\": \"white\"}, \"yaxis\": {\"backgroundcolor\": \"#E5ECF6\", \"gridcolor\": \"white\", \"gridwidth\": 2, \"linecolor\": \"white\", \"showbackground\": true, \"ticks\": \"\", \"zerolinecolor\": \"white\"}, \"zaxis\": {\"backgroundcolor\": \"#E5ECF6\", \"gridcolor\": \"white\", \"gridwidth\": 2, \"linecolor\": \"white\", \"showbackground\": true, \"ticks\": \"\", \"zerolinecolor\": \"white\"}}, \"shapedefaults\": {\"line\": {\"color\": \"#2a3f5f\"}}, \"ternary\": {\"aaxis\": {\"gridcolor\": \"white\", \"linecolor\": \"white\", \"ticks\": \"\"}, \"baxis\": {\"gridcolor\": \"white\", \"linecolor\": \"white\", \"ticks\": \"\"}, \"bgcolor\": \"#E5ECF6\", \"caxis\": {\"gridcolor\": \"white\", \"linecolor\": \"white\", \"ticks\": \"\"}}, \"title\": {\"x\": 0.05}, \"xaxis\": {\"automargin\": true, \"gridcolor\": \"white\", \"linecolor\": \"white\", \"ticks\": \"\", \"zerolinecolor\": \"white\", \"zerolinewidth\": 2}, \"yaxis\": {\"automargin\": true, \"gridcolor\": \"white\", \"linecolor\": \"white\", \"ticks\": \"\", \"zerolinecolor\": \"white\", \"zerolinewidth\": 2}}}, \"xaxis\": {\"anchor\": \"y\", \"domain\": [0.0, 0.98], \"title\": {\"text\": \"mean_geomean\"}}, \"yaxis\": {\"anchor\": \"x\", \"domain\": [0.0, 1.0], \"title\": {\"text\": \"count\"}}},\n",
       "                        {\"responsive\": true}\n",
       "                    ).then(function(){\n",
       "                            \n",
       "var gd = document.getElementById('089c2094-7491-4e4a-a09c-365bee9233d5');\n",
       "var x = new MutationObserver(function (mutations, observer) {{\n",
       "        var display = window.getComputedStyle(gd).display;\n",
       "        if (!display || display === 'none') {{\n",
       "            console.log([gd, 'removed!']);\n",
       "            Plotly.purge(gd);\n",
       "            observer.disconnect();\n",
       "        }}\n",
       "}});\n",
       "\n",
       "// Listen for the removal of the full notebook cells\n",
       "var notebookContainer = gd.closest('#notebook-container');\n",
       "if (notebookContainer) {{\n",
       "    x.observe(notebookContainer, {childList: true});\n",
       "}}\n",
       "\n",
       "// Listen for the clearing of the current output cell\n",
       "var outputEl = gd.closest('.output');\n",
       "if (outputEl) {{\n",
       "    x.observe(outputEl, {childList: true});\n",
       "}}\n",
       "\n",
       "                        })\n",
       "                };\n",
       "                });\n",
       "            </script>\n",
       "        </div>"
      ]
     },
     "metadata": {},
     "output_type": "display_data"
    }
   ],
   "source": [
    "px.histogram(ge, x='mean_geomean')"
   ]
  },
  {
   "cell_type": "markdown",
   "metadata": {},
   "source": [
    "## GE/ml and binner count correlation"
   ]
  },
  {
   "cell_type": "code",
   "execution_count": 46,
   "metadata": {},
   "outputs": [
    {
     "data": {
      "text/html": [
       "<div>\n",
       "<style scoped>\n",
       "    .dataframe tbody tr th:only-of-type {\n",
       "        vertical-align: middle;\n",
       "    }\n",
       "\n",
       "    .dataframe tbody tr th {\n",
       "        vertical-align: top;\n",
       "    }\n",
       "\n",
       "    .dataframe thead th {\n",
       "        text-align: right;\n",
       "    }\n",
       "</style>\n",
       "<table border=\"1\" class=\"dataframe\">\n",
       "  <thead>\n",
       "    <tr style=\"text-align: right;\">\n",
       "      <th></th>\n",
       "      <th>Human</th>\n",
       "      <th>Bacteria</th>\n",
       "      <th>Virus</th>\n",
       "      <th>Parasite</th>\n",
       "      <th>Fungus</th>\n",
       "      <th>Unclassified</th>\n",
       "    </tr>\n",
       "  </thead>\n",
       "  <tbody>\n",
       "    <tr>\n",
       "      <th>IDBD-D100376</th>\n",
       "      <td>92.149904</td>\n",
       "      <td>0.881119</td>\n",
       "      <td>0.000564</td>\n",
       "      <td>0.959848</td>\n",
       "      <td>0.008037</td>\n",
       "      <td>6.000527</td>\n",
       "    </tr>\n",
       "    <tr>\n",
       "      <th>IDBD-D100377</th>\n",
       "      <td>82.994607</td>\n",
       "      <td>10.116498</td>\n",
       "      <td>0.002259</td>\n",
       "      <td>0.548520</td>\n",
       "      <td>0.003442</td>\n",
       "      <td>6.334674</td>\n",
       "    </tr>\n",
       "    <tr>\n",
       "      <th>IDBD-D100378</th>\n",
       "      <td>91.646553</td>\n",
       "      <td>2.643605</td>\n",
       "      <td>0.011023</td>\n",
       "      <td>0.774996</td>\n",
       "      <td>0.005603</td>\n",
       "      <td>4.918220</td>\n",
       "    </tr>\n",
       "    <tr>\n",
       "      <th>IDBD-D100379</th>\n",
       "      <td>59.639469</td>\n",
       "      <td>34.365257</td>\n",
       "      <td>0.012832</td>\n",
       "      <td>0.476862</td>\n",
       "      <td>0.002225</td>\n",
       "      <td>5.503356</td>\n",
       "    </tr>\n",
       "    <tr>\n",
       "      <th>IDBD-D100380</th>\n",
       "      <td>41.570879</td>\n",
       "      <td>53.932139</td>\n",
       "      <td>0.032775</td>\n",
       "      <td>0.286891</td>\n",
       "      <td>0.001891</td>\n",
       "      <td>4.175426</td>\n",
       "    </tr>\n",
       "  </tbody>\n",
       "</table>\n",
       "</div>"
      ],
      "text/plain": [
       "                  Human   Bacteria     Virus  Parasite    Fungus  Unclassified\n",
       "IDBD-D100376  92.149904   0.881119  0.000564  0.959848  0.008037      6.000527\n",
       "IDBD-D100377  82.994607  10.116498  0.002259  0.548520  0.003442      6.334674\n",
       "IDBD-D100378  91.646553   2.643605  0.011023  0.774996  0.005603      4.918220\n",
       "IDBD-D100379  59.639469  34.365257  0.012832  0.476862  0.002225      5.503356\n",
       "IDBD-D100380  41.570879  53.932139  0.032775  0.286891  0.001891      4.175426"
      ]
     },
     "execution_count": 46,
     "metadata": {},
     "output_type": "execute_result"
    }
   ],
   "source": [
    "compositions = pd.read_csv('20190927_arup_urine_samples_composition.csv', index_col=0)\n",
    "compositions.head()"
   ]
  },
  {
   "cell_type": "code",
   "execution_count": 47,
   "metadata": {},
   "outputs": [
    {
     "data": {
      "text/html": [
       "<div>\n",
       "<style scoped>\n",
       "    .dataframe tbody tr th:only-of-type {\n",
       "        vertical-align: middle;\n",
       "    }\n",
       "\n",
       "    .dataframe tbody tr th {\n",
       "        vertical-align: top;\n",
       "    }\n",
       "\n",
       "    .dataframe thead th {\n",
       "        text-align: right;\n",
       "    }\n",
       "</style>\n",
       "<table border=\"1\" class=\"dataframe\">\n",
       "  <thead>\n",
       "    <tr style=\"text-align: right;\">\n",
       "      <th></th>\n",
       "      <th>mean_geomean</th>\n",
       "      <th>mean_nonzero_geomean</th>\n",
       "      <th>median_geomean</th>\n",
       "      <th>median_nonzero_geomean</th>\n",
       "      <th>Human</th>\n",
       "      <th>Bacteria</th>\n",
       "      <th>Virus</th>\n",
       "      <th>Parasite</th>\n",
       "      <th>Fungus</th>\n",
       "      <th>Unclassified</th>\n",
       "    </tr>\n",
       "    <tr>\n",
       "      <th>Accession</th>\n",
       "      <th></th>\n",
       "      <th></th>\n",
       "      <th></th>\n",
       "      <th></th>\n",
       "      <th></th>\n",
       "      <th></th>\n",
       "      <th></th>\n",
       "      <th></th>\n",
       "      <th></th>\n",
       "      <th></th>\n",
       "    </tr>\n",
       "  </thead>\n",
       "  <tbody>\n",
       "    <tr>\n",
       "      <th>IDBD-D100464</th>\n",
       "      <td>7.078977</td>\n",
       "      <td>7.340592</td>\n",
       "      <td>-inf</td>\n",
       "      <td>7.345330</td>\n",
       "      <td>0.950907</td>\n",
       "      <td>91.771102</td>\n",
       "      <td>0.060511</td>\n",
       "      <td>0.024421</td>\n",
       "      <td>0.005919</td>\n",
       "      <td>7.187140</td>\n",
       "    </tr>\n",
       "    <tr>\n",
       "      <th>IDBD-D100376</th>\n",
       "      <td>11.388778</td>\n",
       "      <td>11.539215</td>\n",
       "      <td>10.966500</td>\n",
       "      <td>11.560800</td>\n",
       "      <td>92.149904</td>\n",
       "      <td>0.881119</td>\n",
       "      <td>0.000564</td>\n",
       "      <td>0.959848</td>\n",
       "      <td>0.008037</td>\n",
       "      <td>6.000527</td>\n",
       "    </tr>\n",
       "    <tr>\n",
       "      <th>IDBD-D100380</th>\n",
       "      <td>9.597764</td>\n",
       "      <td>9.767218</td>\n",
       "      <td>-inf</td>\n",
       "      <td>9.797194</td>\n",
       "      <td>41.570879</td>\n",
       "      <td>53.932139</td>\n",
       "      <td>0.032775</td>\n",
       "      <td>0.286891</td>\n",
       "      <td>0.001891</td>\n",
       "      <td>4.175426</td>\n",
       "    </tr>\n",
       "    <tr>\n",
       "      <th>IDBD-D100381</th>\n",
       "      <td>9.095959</td>\n",
       "      <td>9.265305</td>\n",
       "      <td>-inf</td>\n",
       "      <td>9.289176</td>\n",
       "      <td>56.843790</td>\n",
       "      <td>36.310998</td>\n",
       "      <td>0.101981</td>\n",
       "      <td>0.424599</td>\n",
       "      <td>0.005058</td>\n",
       "      <td>6.313574</td>\n",
       "    </tr>\n",
       "    <tr>\n",
       "      <th>IDBD-D100382</th>\n",
       "      <td>9.959797</td>\n",
       "      <td>10.127593</td>\n",
       "      <td>-inf</td>\n",
       "      <td>10.155752</td>\n",
       "      <td>69.380616</td>\n",
       "      <td>25.572706</td>\n",
       "      <td>0.003782</td>\n",
       "      <td>0.505946</td>\n",
       "      <td>0.002870</td>\n",
       "      <td>4.534080</td>\n",
       "    </tr>\n",
       "  </tbody>\n",
       "</table>\n",
       "</div>"
      ],
      "text/plain": [
       "              mean_geomean  mean_nonzero_geomean  median_geomean  \\\n",
       "Accession                                                          \n",
       "IDBD-D100464      7.078977              7.340592            -inf   \n",
       "IDBD-D100376     11.388778             11.539215       10.966500   \n",
       "IDBD-D100380      9.597764              9.767218            -inf   \n",
       "IDBD-D100381      9.095959              9.265305            -inf   \n",
       "IDBD-D100382      9.959797             10.127593            -inf   \n",
       "\n",
       "              median_nonzero_geomean      Human   Bacteria     Virus  \\\n",
       "Accession                                                              \n",
       "IDBD-D100464                7.345330   0.950907  91.771102  0.060511   \n",
       "IDBD-D100376               11.560800  92.149904   0.881119  0.000564   \n",
       "IDBD-D100380                9.797194  41.570879  53.932139  0.032775   \n",
       "IDBD-D100381                9.289176  56.843790  36.310998  0.101981   \n",
       "IDBD-D100382               10.155752  69.380616  25.572706  0.003782   \n",
       "\n",
       "              Parasite    Fungus  Unclassified  \n",
       "Accession                                       \n",
       "IDBD-D100464  0.024421  0.005919      7.187140  \n",
       "IDBD-D100376  0.959848  0.008037      6.000527  \n",
       "IDBD-D100380  0.286891  0.001891      4.175426  \n",
       "IDBD-D100381  0.424599  0.005058      6.313574  \n",
       "IDBD-D100382  0.505946  0.002870      4.534080  "
      ]
     },
     "execution_count": 47,
     "metadata": {},
     "output_type": "execute_result"
    }
   ],
   "source": [
    "joined = ge.join(compositions)\n",
    "joined.head()"
   ]
  },
  {
   "cell_type": "code",
   "execution_count": 48,
   "metadata": {},
   "outputs": [
    {
     "data": {
      "application/vnd.plotly.v1+json": {
       "config": {
        "plotlyServerURL": "https://plot.ly"
       },
       "data": [
        {
         "hoverlabel": {
          "namelength": 0
         },
         "hovertemplate": "% Human composition=%{x}<br>log(GE)/ml=%{y}",
         "legendgroup": "",
         "marker": {
          "color": "#636efa",
          "symbol": "circle"
         },
         "mode": "markers",
         "name": "",
         "showlegend": false,
         "type": "scatter",
         "x": [
          0.9509068646852458,
          92.14990399122557,
          41.57087882355077,
          56.843790491834795,
          69.38061647456541,
          0.2959202376376667,
          92.00356966047087,
          20.234498516497307,
          18.219531498905667,
          3.197887468669092,
          10.562795072018726,
          32.501951620202306,
          95.24366401361624,
          82.5891153587794,
          90.23464819836263,
          38.64320151404879,
          20.623969878673734,
          17.006271186991274,
          27.40747221208057,
          91.50113626056637,
          0.42272720317381657,
          92.35970754907947,
          82.69527439406015,
          85.48441239240384,
          31.68044884732561,
          0.5496104353705183,
          86.50079699225797,
          68.29377346129989,
          9.078704587176812,
          75.0114397771315,
          10.5130237949936,
          3.2714152637613614,
          57.588759317455775,
          10.329992764945004,
          9.358628952075426,
          81.58318166638622,
          76.9023239680769,
          23.321293645225825,
          21.729646765657968,
          7.42312092767768,
          21.072350517973057,
          28.75603292774387,
          37.5247380508904,
          42.51556917423964,
          54.832947168821384,
          82.534905967301,
          85.59208270199001,
          38.182715241438025,
          9.807590569238515,
          92.45373103744636,
          89.50715976264662,
          19.535004271421013,
          7.43427770408659,
          73.82553529080653,
          47.44680389648028,
          81.80534030072339,
          3.3673847187154764,
          84.81870529529455,
          16.344271851459716,
          6.80181704739503,
          46.471844527598286,
          88.76272493509424,
          56.179737549307184,
          88.13544016883405,
          79.32356142666072,
          40.05224009367497,
          45.49819482069542,
          58.280521104184615,
          2.392029335931479,
          56.8201476389181,
          12.67047778300564,
          12.025204726036895,
          4.700695899668092,
          9.306245545164419,
          85.31041504808691,
          53.716765418188956,
          14.745859216973006,
          6.71404085980108,
          90.3287990424075,
          2.552280333443517,
          75.3820706562219,
          0.3197586367771986,
          93.14597141762766,
          79.4530798337932,
          39.527228586687606,
          1.2981605543452672,
          51.13937890485989,
          2.461463246841733,
          63.65015624528481,
          33.94844204787638,
          1.9814966856127576,
          71.35662627909319,
          71.36416720066039
         ],
         "xaxis": "x",
         "y": [
          7.078977174744356,
          11.38877836858883,
          9.597763630043515,
          9.095959018130467,
          9.959797067363576,
          null,
          10.100623524419943,
          8.758431066204764,
          8.565277180800667,
          7.71753222790478,
          8.054030659600222,
          9.022085349095859,
          10.883316482089802,
          10.308293675693337,
          10.189715778221448,
          9.066393432448937,
          8.561117794706277,
          8.779570155232769,
          9.256602066877878,
          11.392337919990586,
          7.672382861560653,
          11.288056893958423,
          10.805042309790498,
          11.42929632221449,
          8.00618159992615,
          7.60234817859698,
          11.25138333937084,
          10.165766339655228,
          9.00400706627777,
          9.814904242804769,
          8.702856931442225,
          6.727785822830784,
          9.164095646445727,
          8.912719168355295,
          8.070533530428746,
          8.920657983850088,
          10.27529929737201,
          9.197287790791618,
          8.874123904528862,
          7.860826717892254,
          8.555555216866525,
          9.101254165904068,
          8.788294826888054,
          8.796434626921716,
          9.452278571169423,
          10.230189134426823,
          9.919066321455693,
          8.763469064897896,
          7.484939637658819,
          10.727025968809505,
          10.164542996046054,
          8.347831584092392,
          8.615062156460871,
          10.104393109610605,
          9.23145658100964,
          10.152479824524441,
          7.752050062532337,
          9.514588360607942,
          9.02580192714291,
          8.541347136668513,
          8.589703817401746,
          9.56259392222204,
          9.397653999597289,
          10.196671762664927,
          9.922333046716675,
          9.28595110673903,
          9.492674106059628,
          9.739481506026127,
          7.637513146670576,
          9.42789135861385,
          8.639678437337395,
          8.517413704238159,
          7.710809783026549,
          8.582973677696815,
          10.898179437363403,
          9.789074466756416,
          8.476541965283454,
          8.092461143675102,
          10.582287248900418,
          8.126539871461173,
          10.219568381574772,
          6.82524736433982,
          11.207723727907567,
          10.046023632370785,
          9.163391739403714,
          7.350113268053381,
          9.582187798028608,
          7.624205278075952,
          9.914035854120813,
          9.544637810263463,
          7.780321210638613,
          10.139967318639268,
          10.24861404616084
         ],
         "yaxis": "y"
        }
       ],
       "layout": {
        "autosize": true,
        "legend": {
         "tracegroupgap": 0
        },
        "margin": {
         "t": 60
        },
        "template": {
         "data": {
          "bar": [
           {
            "error_x": {
             "color": "#2a3f5f"
            },
            "error_y": {
             "color": "#2a3f5f"
            },
            "marker": {
             "line": {
              "color": "#E5ECF6",
              "width": 0.5
             }
            },
            "type": "bar"
           }
          ],
          "barpolar": [
           {
            "marker": {
             "line": {
              "color": "#E5ECF6",
              "width": 0.5
             }
            },
            "type": "barpolar"
           }
          ],
          "carpet": [
           {
            "aaxis": {
             "endlinecolor": "#2a3f5f",
             "gridcolor": "white",
             "linecolor": "white",
             "minorgridcolor": "white",
             "startlinecolor": "#2a3f5f"
            },
            "baxis": {
             "endlinecolor": "#2a3f5f",
             "gridcolor": "white",
             "linecolor": "white",
             "minorgridcolor": "white",
             "startlinecolor": "#2a3f5f"
            },
            "type": "carpet"
           }
          ],
          "choropleth": [
           {
            "colorbar": {
             "outlinewidth": 0,
             "ticks": ""
            },
            "type": "choropleth"
           }
          ],
          "contour": [
           {
            "colorbar": {
             "outlinewidth": 0,
             "ticks": ""
            },
            "colorscale": [
             [
              0,
              "#0d0887"
             ],
             [
              0.1111111111111111,
              "#46039f"
             ],
             [
              0.2222222222222222,
              "#7201a8"
             ],
             [
              0.3333333333333333,
              "#9c179e"
             ],
             [
              0.4444444444444444,
              "#bd3786"
             ],
             [
              0.5555555555555556,
              "#d8576b"
             ],
             [
              0.6666666666666666,
              "#ed7953"
             ],
             [
              0.7777777777777778,
              "#fb9f3a"
             ],
             [
              0.8888888888888888,
              "#fdca26"
             ],
             [
              1,
              "#f0f921"
             ]
            ],
            "type": "contour"
           }
          ],
          "contourcarpet": [
           {
            "colorbar": {
             "outlinewidth": 0,
             "ticks": ""
            },
            "type": "contourcarpet"
           }
          ],
          "heatmap": [
           {
            "colorbar": {
             "outlinewidth": 0,
             "ticks": ""
            },
            "colorscale": [
             [
              0,
              "#0d0887"
             ],
             [
              0.1111111111111111,
              "#46039f"
             ],
             [
              0.2222222222222222,
              "#7201a8"
             ],
             [
              0.3333333333333333,
              "#9c179e"
             ],
             [
              0.4444444444444444,
              "#bd3786"
             ],
             [
              0.5555555555555556,
              "#d8576b"
             ],
             [
              0.6666666666666666,
              "#ed7953"
             ],
             [
              0.7777777777777778,
              "#fb9f3a"
             ],
             [
              0.8888888888888888,
              "#fdca26"
             ],
             [
              1,
              "#f0f921"
             ]
            ],
            "type": "heatmap"
           }
          ],
          "heatmapgl": [
           {
            "colorbar": {
             "outlinewidth": 0,
             "ticks": ""
            },
            "colorscale": [
             [
              0,
              "#0d0887"
             ],
             [
              0.1111111111111111,
              "#46039f"
             ],
             [
              0.2222222222222222,
              "#7201a8"
             ],
             [
              0.3333333333333333,
              "#9c179e"
             ],
             [
              0.4444444444444444,
              "#bd3786"
             ],
             [
              0.5555555555555556,
              "#d8576b"
             ],
             [
              0.6666666666666666,
              "#ed7953"
             ],
             [
              0.7777777777777778,
              "#fb9f3a"
             ],
             [
              0.8888888888888888,
              "#fdca26"
             ],
             [
              1,
              "#f0f921"
             ]
            ],
            "type": "heatmapgl"
           }
          ],
          "histogram": [
           {
            "marker": {
             "colorbar": {
              "outlinewidth": 0,
              "ticks": ""
             }
            },
            "type": "histogram"
           }
          ],
          "histogram2d": [
           {
            "colorbar": {
             "outlinewidth": 0,
             "ticks": ""
            },
            "colorscale": [
             [
              0,
              "#0d0887"
             ],
             [
              0.1111111111111111,
              "#46039f"
             ],
             [
              0.2222222222222222,
              "#7201a8"
             ],
             [
              0.3333333333333333,
              "#9c179e"
             ],
             [
              0.4444444444444444,
              "#bd3786"
             ],
             [
              0.5555555555555556,
              "#d8576b"
             ],
             [
              0.6666666666666666,
              "#ed7953"
             ],
             [
              0.7777777777777778,
              "#fb9f3a"
             ],
             [
              0.8888888888888888,
              "#fdca26"
             ],
             [
              1,
              "#f0f921"
             ]
            ],
            "type": "histogram2d"
           }
          ],
          "histogram2dcontour": [
           {
            "colorbar": {
             "outlinewidth": 0,
             "ticks": ""
            },
            "colorscale": [
             [
              0,
              "#0d0887"
             ],
             [
              0.1111111111111111,
              "#46039f"
             ],
             [
              0.2222222222222222,
              "#7201a8"
             ],
             [
              0.3333333333333333,
              "#9c179e"
             ],
             [
              0.4444444444444444,
              "#bd3786"
             ],
             [
              0.5555555555555556,
              "#d8576b"
             ],
             [
              0.6666666666666666,
              "#ed7953"
             ],
             [
              0.7777777777777778,
              "#fb9f3a"
             ],
             [
              0.8888888888888888,
              "#fdca26"
             ],
             [
              1,
              "#f0f921"
             ]
            ],
            "type": "histogram2dcontour"
           }
          ],
          "mesh3d": [
           {
            "colorbar": {
             "outlinewidth": 0,
             "ticks": ""
            },
            "type": "mesh3d"
           }
          ],
          "parcoords": [
           {
            "line": {
             "colorbar": {
              "outlinewidth": 0,
              "ticks": ""
             }
            },
            "type": "parcoords"
           }
          ],
          "scatter": [
           {
            "marker": {
             "colorbar": {
              "outlinewidth": 0,
              "ticks": ""
             }
            },
            "type": "scatter"
           }
          ],
          "scatter3d": [
           {
            "line": {
             "colorbar": {
              "outlinewidth": 0,
              "ticks": ""
             }
            },
            "marker": {
             "colorbar": {
              "outlinewidth": 0,
              "ticks": ""
             }
            },
            "type": "scatter3d"
           }
          ],
          "scattercarpet": [
           {
            "marker": {
             "colorbar": {
              "outlinewidth": 0,
              "ticks": ""
             }
            },
            "type": "scattercarpet"
           }
          ],
          "scattergeo": [
           {
            "marker": {
             "colorbar": {
              "outlinewidth": 0,
              "ticks": ""
             }
            },
            "type": "scattergeo"
           }
          ],
          "scattergl": [
           {
            "marker": {
             "colorbar": {
              "outlinewidth": 0,
              "ticks": ""
             }
            },
            "type": "scattergl"
           }
          ],
          "scattermapbox": [
           {
            "marker": {
             "colorbar": {
              "outlinewidth": 0,
              "ticks": ""
             }
            },
            "type": "scattermapbox"
           }
          ],
          "scatterpolar": [
           {
            "marker": {
             "colorbar": {
              "outlinewidth": 0,
              "ticks": ""
             }
            },
            "type": "scatterpolar"
           }
          ],
          "scatterpolargl": [
           {
            "marker": {
             "colorbar": {
              "outlinewidth": 0,
              "ticks": ""
             }
            },
            "type": "scatterpolargl"
           }
          ],
          "scatterternary": [
           {
            "marker": {
             "colorbar": {
              "outlinewidth": 0,
              "ticks": ""
             }
            },
            "type": "scatterternary"
           }
          ],
          "surface": [
           {
            "colorbar": {
             "outlinewidth": 0,
             "ticks": ""
            },
            "colorscale": [
             [
              0,
              "#0d0887"
             ],
             [
              0.1111111111111111,
              "#46039f"
             ],
             [
              0.2222222222222222,
              "#7201a8"
             ],
             [
              0.3333333333333333,
              "#9c179e"
             ],
             [
              0.4444444444444444,
              "#bd3786"
             ],
             [
              0.5555555555555556,
              "#d8576b"
             ],
             [
              0.6666666666666666,
              "#ed7953"
             ],
             [
              0.7777777777777778,
              "#fb9f3a"
             ],
             [
              0.8888888888888888,
              "#fdca26"
             ],
             [
              1,
              "#f0f921"
             ]
            ],
            "type": "surface"
           }
          ],
          "table": [
           {
            "cells": {
             "fill": {
              "color": "#EBF0F8"
             },
             "line": {
              "color": "white"
             }
            },
            "header": {
             "fill": {
              "color": "#C8D4E3"
             },
             "line": {
              "color": "white"
             }
            },
            "type": "table"
           }
          ]
         },
         "layout": {
          "annotationdefaults": {
           "arrowcolor": "#2a3f5f",
           "arrowhead": 0,
           "arrowwidth": 1
          },
          "colorscale": {
           "diverging": [
            [
             0,
             "#8e0152"
            ],
            [
             0.1,
             "#c51b7d"
            ],
            [
             0.2,
             "#de77ae"
            ],
            [
             0.3,
             "#f1b6da"
            ],
            [
             0.4,
             "#fde0ef"
            ],
            [
             0.5,
             "#f7f7f7"
            ],
            [
             0.6,
             "#e6f5d0"
            ],
            [
             0.7,
             "#b8e186"
            ],
            [
             0.8,
             "#7fbc41"
            ],
            [
             0.9,
             "#4d9221"
            ],
            [
             1,
             "#276419"
            ]
           ],
           "sequential": [
            [
             0,
             "#0d0887"
            ],
            [
             0.1111111111111111,
             "#46039f"
            ],
            [
             0.2222222222222222,
             "#7201a8"
            ],
            [
             0.3333333333333333,
             "#9c179e"
            ],
            [
             0.4444444444444444,
             "#bd3786"
            ],
            [
             0.5555555555555556,
             "#d8576b"
            ],
            [
             0.6666666666666666,
             "#ed7953"
            ],
            [
             0.7777777777777778,
             "#fb9f3a"
            ],
            [
             0.8888888888888888,
             "#fdca26"
            ],
            [
             1,
             "#f0f921"
            ]
           ],
           "sequentialminus": [
            [
             0,
             "#0d0887"
            ],
            [
             0.1111111111111111,
             "#46039f"
            ],
            [
             0.2222222222222222,
             "#7201a8"
            ],
            [
             0.3333333333333333,
             "#9c179e"
            ],
            [
             0.4444444444444444,
             "#bd3786"
            ],
            [
             0.5555555555555556,
             "#d8576b"
            ],
            [
             0.6666666666666666,
             "#ed7953"
            ],
            [
             0.7777777777777778,
             "#fb9f3a"
            ],
            [
             0.8888888888888888,
             "#fdca26"
            ],
            [
             1,
             "#f0f921"
            ]
           ]
          },
          "colorway": [
           "#636efa",
           "#EF553B",
           "#00cc96",
           "#ab63fa",
           "#FFA15A",
           "#19d3f3",
           "#FF6692",
           "#B6E880",
           "#FF97FF",
           "#FECB52"
          ],
          "font": {
           "color": "#2a3f5f"
          },
          "geo": {
           "bgcolor": "white",
           "lakecolor": "white",
           "landcolor": "#E5ECF6",
           "showlakes": true,
           "showland": true,
           "subunitcolor": "white"
          },
          "hoverlabel": {
           "align": "left"
          },
          "hovermode": "closest",
          "mapbox": {
           "style": "light"
          },
          "paper_bgcolor": "white",
          "plot_bgcolor": "#E5ECF6",
          "polar": {
           "angularaxis": {
            "gridcolor": "white",
            "linecolor": "white",
            "ticks": ""
           },
           "bgcolor": "#E5ECF6",
           "radialaxis": {
            "gridcolor": "white",
            "linecolor": "white",
            "ticks": ""
           }
          },
          "scene": {
           "xaxis": {
            "backgroundcolor": "#E5ECF6",
            "gridcolor": "white",
            "gridwidth": 2,
            "linecolor": "white",
            "showbackground": true,
            "ticks": "",
            "zerolinecolor": "white"
           },
           "yaxis": {
            "backgroundcolor": "#E5ECF6",
            "gridcolor": "white",
            "gridwidth": 2,
            "linecolor": "white",
            "showbackground": true,
            "ticks": "",
            "zerolinecolor": "white"
           },
           "zaxis": {
            "backgroundcolor": "#E5ECF6",
            "gridcolor": "white",
            "gridwidth": 2,
            "linecolor": "white",
            "showbackground": true,
            "ticks": "",
            "zerolinecolor": "white"
           }
          },
          "shapedefaults": {
           "line": {
            "color": "#2a3f5f"
           }
          },
          "ternary": {
           "aaxis": {
            "gridcolor": "white",
            "linecolor": "white",
            "ticks": ""
           },
           "baxis": {
            "gridcolor": "white",
            "linecolor": "white",
            "ticks": ""
           },
           "bgcolor": "#E5ECF6",
           "caxis": {
            "gridcolor": "white",
            "linecolor": "white",
            "ticks": ""
           }
          },
          "title": {
           "x": 0.05
          },
          "xaxis": {
           "automargin": true,
           "gridcolor": "white",
           "linecolor": "white",
           "ticks": "",
           "zerolinecolor": "white",
           "zerolinewidth": 2
          },
          "yaxis": {
           "automargin": true,
           "gridcolor": "white",
           "linecolor": "white",
           "ticks": "",
           "zerolinecolor": "white",
           "zerolinewidth": 2
          }
         }
        },
        "xaxis": {
         "anchor": "y",
         "autorange": true,
         "domain": [
          0,
          0.98
         ],
         "range": [
          -5.5358081188481005,
          101.07539237010201
         ],
         "title": {
          "text": "% Human composition"
         },
         "type": "linear"
        },
        "yaxis": {
         "anchor": "x",
         "autorange": true,
         "domain": [
          0,
          1
         ],
         "range": [
          6.418399830558917,
          11.738682314486358
         ],
         "title": {
          "text": "log(GE)/ml"
         },
         "type": "linear"
        }
       }
      },
      "image/png": "[encoded data removed]",
      "text/html": [
       "<div>\n",
       "        \n",
       "        \n",
       "            <div id=\"eadaa1fe-46c0-4b9f-abfd-20b029926ccf\" class=\"plotly-graph-div\" style=\"height:600px; width:100%;\"></div>\n",
       "            <script type=\"text/javascript\">\n",
       "                require([\"plotly\"], function(Plotly) {\n",
       "                    window.PLOTLYENV=window.PLOTLYENV || {};\n",
       "                    \n",
       "                if (document.getElementById(\"eadaa1fe-46c0-4b9f-abfd-20b029926ccf\")) {\n",
       "                    Plotly.newPlot(\n",
       "                        'eadaa1fe-46c0-4b9f-abfd-20b029926ccf',\n",
       "                        [{\"hoverlabel\": {\"namelength\": 0}, \"hovertemplate\": \"% Human composition=%{x}<br>log(GE)/ml=%{y}\", \"legendgroup\": \"\", \"marker\": {\"color\": \"#636efa\", \"symbol\": \"circle\"}, \"mode\": \"markers\", \"name\": \"\", \"showlegend\": false, \"type\": \"scatter\", \"x\": [0.9509068646852458, 92.14990399122557, 41.57087882355077, 56.843790491834795, 69.38061647456541, 0.2959202376376667, 92.00356966047087, 20.234498516497307, 18.219531498905667, 3.197887468669092, 10.562795072018726, 32.501951620202306, 95.24366401361624, 82.5891153587794, 90.23464819836263, 38.64320151404879, 20.623969878673734, 17.006271186991274, 27.40747221208057, 91.50113626056637, 0.42272720317381657, 92.35970754907947, 82.69527439406015, 85.48441239240384, 31.68044884732561, 0.5496104353705183, 86.50079699225797, 68.29377346129989, 9.078704587176812, 75.0114397771315, 10.5130237949936, 3.2714152637613614, 57.588759317455775, 10.329992764945004, 9.358628952075426, 81.58318166638622, 76.9023239680769, 23.321293645225825, 21.729646765657968, 7.42312092767768, 21.072350517973057, 28.75603292774387, 37.5247380508904, 42.51556917423964, 54.832947168821384, 82.534905967301, 85.59208270199001, 38.182715241438025, 9.807590569238515, 92.45373103744636, 89.50715976264662, 19.535004271421013, 7.43427770408659, 73.82553529080653, 47.44680389648028, 81.80534030072339, 3.3673847187154764, 84.81870529529455, 16.344271851459716, 6.80181704739503, 46.471844527598286, 88.76272493509424, 56.179737549307184, 88.13544016883405, 79.32356142666072, 40.05224009367497, 45.49819482069542, 58.280521104184615, 2.392029335931479, 56.8201476389181, 12.67047778300564, 12.025204726036895, 4.700695899668092, 9.306245545164419, 85.31041504808691, 53.716765418188956, 14.745859216973006, 6.71404085980108, 90.3287990424075, 2.552280333443517, 75.3820706562219, 0.3197586367771986, 93.14597141762766, 79.4530798337932, 39.527228586687606, 1.2981605543452672, 51.13937890485989, 2.461463246841733, 63.65015624528481, 33.94844204787638, 1.9814966856127576, 71.35662627909319, 71.36416720066039], \"xaxis\": \"x\", \"y\": [7.078977174744356, 11.38877836858883, 9.597763630043515, 9.095959018130467, 9.959797067363576, null, 10.100623524419943, 8.758431066204764, 8.565277180800667, 7.71753222790478, 8.054030659600222, 9.022085349095859, 10.883316482089802, 10.308293675693337, 10.189715778221448, 9.066393432448937, 8.561117794706277, 8.779570155232769, 9.256602066877878, 11.392337919990586, 7.672382861560653, 11.288056893958423, 10.805042309790498, 11.42929632221449, 8.00618159992615, 7.60234817859698, 11.25138333937084, 10.165766339655228, 9.00400706627777, 9.814904242804769, 8.702856931442225, 6.727785822830784, 9.164095646445727, 8.912719168355295, 8.070533530428746, 8.920657983850088, 10.27529929737201, 9.197287790791618, 8.874123904528862, 7.860826717892254, 8.555555216866525, 9.101254165904068, 8.788294826888054, 8.796434626921716, 9.452278571169423, 10.230189134426823, 9.919066321455693, 8.763469064897896, 7.484939637658819, 10.727025968809505, 10.164542996046054, 8.347831584092392, 8.615062156460871, 10.104393109610605, 9.23145658100964, 10.152479824524441, 7.752050062532337, 9.514588360607942, 9.02580192714291, 8.541347136668513, 8.589703817401746, 9.56259392222204, 9.397653999597289, 10.196671762664927, 9.922333046716675, 9.28595110673903, 9.492674106059628, 9.739481506026127, 7.637513146670576, 9.42789135861385, 8.639678437337395, 8.517413704238159, 7.710809783026549, 8.582973677696815, 10.898179437363403, 9.789074466756416, 8.476541965283454, 8.092461143675102, 10.582287248900418, 8.126539871461173, 10.219568381574772, 6.82524736433982, 11.207723727907567, 10.046023632370785, 9.163391739403714, 7.350113268053381, 9.582187798028608, 7.624205278075952, 9.914035854120813, 9.544637810263463, 7.780321210638613, 10.139967318639268, 10.24861404616084], \"yaxis\": \"y\"}],\n",
       "                        {\"height\": 600, \"legend\": {\"tracegroupgap\": 0}, \"margin\": {\"t\": 60}, \"template\": {\"data\": {\"bar\": [{\"error_x\": {\"color\": \"#2a3f5f\"}, \"error_y\": {\"color\": \"#2a3f5f\"}, \"marker\": {\"line\": {\"color\": \"#E5ECF6\", \"width\": 0.5}}, \"type\": \"bar\"}], \"barpolar\": [{\"marker\": {\"line\": {\"color\": \"#E5ECF6\", \"width\": 0.5}}, \"type\": \"barpolar\"}], \"carpet\": [{\"aaxis\": {\"endlinecolor\": \"#2a3f5f\", \"gridcolor\": \"white\", \"linecolor\": \"white\", \"minorgridcolor\": \"white\", \"startlinecolor\": \"#2a3f5f\"}, \"baxis\": {\"endlinecolor\": \"#2a3f5f\", \"gridcolor\": \"white\", \"linecolor\": \"white\", \"minorgridcolor\": \"white\", \"startlinecolor\": \"#2a3f5f\"}, \"type\": \"carpet\"}], \"choropleth\": [{\"colorbar\": {\"outlinewidth\": 0, \"ticks\": \"\"}, \"type\": \"choropleth\"}], \"contour\": [{\"colorbar\": {\"outlinewidth\": 0, \"ticks\": \"\"}, \"colorscale\": [[0.0, \"#0d0887\"], [0.1111111111111111, \"#46039f\"], [0.2222222222222222, \"#7201a8\"], [0.3333333333333333, \"#9c179e\"], [0.4444444444444444, \"#bd3786\"], [0.5555555555555556, \"#d8576b\"], [0.6666666666666666, \"#ed7953\"], [0.7777777777777778, \"#fb9f3a\"], [0.8888888888888888, \"#fdca26\"], [1.0, \"#f0f921\"]], \"type\": \"contour\"}], \"contourcarpet\": [{\"colorbar\": {\"outlinewidth\": 0, \"ticks\": \"\"}, \"type\": \"contourcarpet\"}], \"heatmap\": [{\"colorbar\": {\"outlinewidth\": 0, \"ticks\": \"\"}, \"colorscale\": [[0.0, \"#0d0887\"], [0.1111111111111111, \"#46039f\"], [0.2222222222222222, \"#7201a8\"], [0.3333333333333333, \"#9c179e\"], [0.4444444444444444, \"#bd3786\"], [0.5555555555555556, \"#d8576b\"], [0.6666666666666666, \"#ed7953\"], [0.7777777777777778, \"#fb9f3a\"], [0.8888888888888888, \"#fdca26\"], [1.0, \"#f0f921\"]], \"type\": \"heatmap\"}], \"heatmapgl\": [{\"colorbar\": {\"outlinewidth\": 0, \"ticks\": \"\"}, \"colorscale\": [[0.0, \"#0d0887\"], [0.1111111111111111, \"#46039f\"], [0.2222222222222222, \"#7201a8\"], [0.3333333333333333, \"#9c179e\"], [0.4444444444444444, \"#bd3786\"], [0.5555555555555556, \"#d8576b\"], [0.6666666666666666, \"#ed7953\"], [0.7777777777777778, \"#fb9f3a\"], [0.8888888888888888, \"#fdca26\"], [1.0, \"#f0f921\"]], \"type\": \"heatmapgl\"}], \"histogram\": [{\"marker\": {\"colorbar\": {\"outlinewidth\": 0, \"ticks\": \"\"}}, \"type\": \"histogram\"}], \"histogram2d\": [{\"colorbar\": {\"outlinewidth\": 0, \"ticks\": \"\"}, \"colorscale\": [[0.0, \"#0d0887\"], [0.1111111111111111, \"#46039f\"], [0.2222222222222222, \"#7201a8\"], [0.3333333333333333, \"#9c179e\"], [0.4444444444444444, \"#bd3786\"], [0.5555555555555556, \"#d8576b\"], [0.6666666666666666, \"#ed7953\"], [0.7777777777777778, \"#fb9f3a\"], [0.8888888888888888, \"#fdca26\"], [1.0, \"#f0f921\"]], \"type\": \"histogram2d\"}], \"histogram2dcontour\": [{\"colorbar\": {\"outlinewidth\": 0, \"ticks\": \"\"}, \"colorscale\": [[0.0, \"#0d0887\"], [0.1111111111111111, \"#46039f\"], [0.2222222222222222, \"#7201a8\"], [0.3333333333333333, \"#9c179e\"], [0.4444444444444444, \"#bd3786\"], [0.5555555555555556, \"#d8576b\"], [0.6666666666666666, \"#ed7953\"], [0.7777777777777778, \"#fb9f3a\"], [0.8888888888888888, \"#fdca26\"], [1.0, \"#f0f921\"]], \"type\": \"histogram2dcontour\"}], \"mesh3d\": [{\"colorbar\": {\"outlinewidth\": 0, \"ticks\": \"\"}, \"type\": \"mesh3d\"}], \"parcoords\": [{\"line\": {\"colorbar\": {\"outlinewidth\": 0, \"ticks\": \"\"}}, \"type\": \"parcoords\"}], \"scatter\": [{\"marker\": {\"colorbar\": {\"outlinewidth\": 0, \"ticks\": \"\"}}, \"type\": \"scatter\"}], \"scatter3d\": [{\"line\": {\"colorbar\": {\"outlinewidth\": 0, \"ticks\": \"\"}}, \"marker\": {\"colorbar\": {\"outlinewidth\": 0, \"ticks\": \"\"}}, \"type\": \"scatter3d\"}], \"scattercarpet\": [{\"marker\": {\"colorbar\": {\"outlinewidth\": 0, \"ticks\": \"\"}}, \"type\": \"scattercarpet\"}], \"scattergeo\": [{\"marker\": {\"colorbar\": {\"outlinewidth\": 0, \"ticks\": \"\"}}, \"type\": \"scattergeo\"}], \"scattergl\": [{\"marker\": {\"colorbar\": {\"outlinewidth\": 0, \"ticks\": \"\"}}, \"type\": \"scattergl\"}], \"scattermapbox\": [{\"marker\": {\"colorbar\": {\"outlinewidth\": 0, \"ticks\": \"\"}}, \"type\": \"scattermapbox\"}], \"scatterpolar\": [{\"marker\": {\"colorbar\": {\"outlinewidth\": 0, \"ticks\": \"\"}}, \"type\": \"scatterpolar\"}], \"scatterpolargl\": [{\"marker\": {\"colorbar\": {\"outlinewidth\": 0, \"ticks\": \"\"}}, \"type\": \"scatterpolargl\"}], \"scatterternary\": [{\"marker\": {\"colorbar\": {\"outlinewidth\": 0, \"ticks\": \"\"}}, \"type\": \"scatterternary\"}], \"surface\": [{\"colorbar\": {\"outlinewidth\": 0, \"ticks\": \"\"}, \"colorscale\": [[0.0, \"#0d0887\"], [0.1111111111111111, \"#46039f\"], [0.2222222222222222, \"#7201a8\"], [0.3333333333333333, \"#9c179e\"], [0.4444444444444444, \"#bd3786\"], [0.5555555555555556, \"#d8576b\"], [0.6666666666666666, \"#ed7953\"], [0.7777777777777778, \"#fb9f3a\"], [0.8888888888888888, \"#fdca26\"], [1.0, \"#f0f921\"]], \"type\": \"surface\"}], \"table\": [{\"cells\": {\"fill\": {\"color\": \"#EBF0F8\"}, \"line\": {\"color\": \"white\"}}, \"header\": {\"fill\": {\"color\": \"#C8D4E3\"}, \"line\": {\"color\": \"white\"}}, \"type\": \"table\"}]}, \"layout\": {\"annotationdefaults\": {\"arrowcolor\": \"#2a3f5f\", \"arrowhead\": 0, \"arrowwidth\": 1}, \"colorscale\": {\"diverging\": [[0, \"#8e0152\"], [0.1, \"#c51b7d\"], [0.2, \"#de77ae\"], [0.3, \"#f1b6da\"], [0.4, \"#fde0ef\"], [0.5, \"#f7f7f7\"], [0.6, \"#e6f5d0\"], [0.7, \"#b8e186\"], [0.8, \"#7fbc41\"], [0.9, \"#4d9221\"], [1, \"#276419\"]], \"sequential\": [[0.0, \"#0d0887\"], [0.1111111111111111, \"#46039f\"], [0.2222222222222222, \"#7201a8\"], [0.3333333333333333, \"#9c179e\"], [0.4444444444444444, \"#bd3786\"], [0.5555555555555556, \"#d8576b\"], [0.6666666666666666, \"#ed7953\"], [0.7777777777777778, \"#fb9f3a\"], [0.8888888888888888, \"#fdca26\"], [1.0, \"#f0f921\"]], \"sequentialminus\": [[0.0, \"#0d0887\"], [0.1111111111111111, \"#46039f\"], [0.2222222222222222, \"#7201a8\"], [0.3333333333333333, \"#9c179e\"], [0.4444444444444444, \"#bd3786\"], [0.5555555555555556, \"#d8576b\"], [0.6666666666666666, \"#ed7953\"], [0.7777777777777778, \"#fb9f3a\"], [0.8888888888888888, \"#fdca26\"], [1.0, \"#f0f921\"]]}, \"colorway\": [\"#636efa\", \"#EF553B\", \"#00cc96\", \"#ab63fa\", \"#FFA15A\", \"#19d3f3\", \"#FF6692\", \"#B6E880\", \"#FF97FF\", \"#FECB52\"], \"font\": {\"color\": \"#2a3f5f\"}, \"geo\": {\"bgcolor\": \"white\", \"lakecolor\": \"white\", \"landcolor\": \"#E5ECF6\", \"showlakes\": true, \"showland\": true, \"subunitcolor\": \"white\"}, \"hoverlabel\": {\"align\": \"left\"}, \"hovermode\": \"closest\", \"mapbox\": {\"style\": \"light\"}, \"paper_bgcolor\": \"white\", \"plot_bgcolor\": \"#E5ECF6\", \"polar\": {\"angularaxis\": {\"gridcolor\": \"white\", \"linecolor\": \"white\", \"ticks\": \"\"}, \"bgcolor\": \"#E5ECF6\", \"radialaxis\": {\"gridcolor\": \"white\", \"linecolor\": \"white\", \"ticks\": \"\"}}, \"scene\": {\"xaxis\": {\"backgroundcolor\": \"#E5ECF6\", \"gridcolor\": \"white\", \"gridwidth\": 2, \"linecolor\": \"white\", \"showbackground\": true, \"ticks\": \"\", \"zerolinecolor\": \"white\"}, \"yaxis\": {\"backgroundcolor\": \"#E5ECF6\", \"gridcolor\": \"white\", \"gridwidth\": 2, \"linecolor\": \"white\", \"showbackground\": true, \"ticks\": \"\", \"zerolinecolor\": \"white\"}, \"zaxis\": {\"backgroundcolor\": \"#E5ECF6\", \"gridcolor\": \"white\", \"gridwidth\": 2, \"linecolor\": \"white\", \"showbackground\": true, \"ticks\": \"\", \"zerolinecolor\": \"white\"}}, \"shapedefaults\": {\"line\": {\"color\": \"#2a3f5f\"}}, \"ternary\": {\"aaxis\": {\"gridcolor\": \"white\", \"linecolor\": \"white\", \"ticks\": \"\"}, \"baxis\": {\"gridcolor\": \"white\", \"linecolor\": \"white\", \"ticks\": \"\"}, \"bgcolor\": \"#E5ECF6\", \"caxis\": {\"gridcolor\": \"white\", \"linecolor\": \"white\", \"ticks\": \"\"}}, \"title\": {\"x\": 0.05}, \"xaxis\": {\"automargin\": true, \"gridcolor\": \"white\", \"linecolor\": \"white\", \"ticks\": \"\", \"zerolinecolor\": \"white\", \"zerolinewidth\": 2}, \"yaxis\": {\"automargin\": true, \"gridcolor\": \"white\", \"linecolor\": \"white\", \"ticks\": \"\", \"zerolinecolor\": \"white\", \"zerolinewidth\": 2}}}, \"xaxis\": {\"anchor\": \"y\", \"domain\": [0.0, 0.98], \"title\": {\"text\": \"% Human composition\"}}, \"yaxis\": {\"anchor\": \"x\", \"domain\": [0.0, 1.0], \"title\": {\"text\": \"log(GE)/ml\"}}},\n",
       "                        {\"responsive\": true}\n",
       "                    ).then(function(){\n",
       "                            \n",
       "var gd = document.getElementById('eadaa1fe-46c0-4b9f-abfd-20b029926ccf');\n",
       "var x = new MutationObserver(function (mutations, observer) {{\n",
       "        var display = window.getComputedStyle(gd).display;\n",
       "        if (!display || display === 'none') {{\n",
       "            console.log([gd, 'removed!']);\n",
       "            Plotly.purge(gd);\n",
       "            observer.disconnect();\n",
       "        }}\n",
       "}});\n",
       "\n",
       "// Listen for the removal of the full notebook cells\n",
       "var notebookContainer = gd.closest('#notebook-container');\n",
       "if (notebookContainer) {{\n",
       "    x.observe(notebookContainer, {childList: true});\n",
       "}}\n",
       "\n",
       "// Listen for the clearing of the current output cell\n",
       "var outputEl = gd.closest('.output');\n",
       "if (outputEl) {{\n",
       "    x.observe(outputEl, {childList: true});\n",
       "}}\n",
       "\n",
       "                        })\n",
       "                };\n",
       "                });\n",
       "            </script>\n",
       "        </div>"
      ]
     },
     "metadata": {},
     "output_type": "display_data"
    }
   ],
   "source": [
    "px.scatter(joined, x='Human', y='mean_geomean',\n",
    "           labels={'mean_geomean': 'log(GE)/ml', 'Human': '% Human composition'})"
   ]
  },
  {
   "cell_type": "markdown",
   "metadata": {},
   "source": [
    "## TP / FN "
   ]
  },
  {
   "cell_type": "code",
   "execution_count": 49,
   "metadata": {},
   "outputs": [
    {
     "data": {
      "application/vnd.plotly.v1+json": {
       "config": {
        "plotlyServerURL": "https://plot.ly"
       },
       "data": [
        {
         "alignmentgroup": "True",
         "boxpoints": "all",
         "customdata": [
          [
           7.078977174744356,
           "TP",
           "IDBD-D100464"
          ],
          [
           11.38877836858883,
           "TP",
           "IDBD-D100376"
          ],
          [
           9.597763630043515,
           "TP",
           "IDBD-D100380"
          ],
          [
           9.095959018130467,
           "TP",
           "IDBD-D100381"
          ],
          [
           9.959797067363576,
           "TP",
           "IDBD-D100382"
          ],
          [
           null,
           "TP",
           "IDBD-D100383"
          ],
          [
           8.758431066204764,
           "TP",
           "IDBD-D100386"
          ],
          [
           8.565277180800667,
           "TP",
           "IDBD-D100387"
          ],
          [
           7.71753222790478,
           "TP",
           "IDBD-D100388"
          ],
          [
           8.054030659600222,
           "TP",
           "IDBD-D100389"
          ],
          [
           9.022085349095859,
           "TP",
           "IDBD-D100390"
          ],
          [
           10.883316482089802,
           "TP",
           "IDBD-D100391"
          ],
          [
           10.308293675693337,
           "TP",
           "IDBD-D100392"
          ],
          [
           10.189715778221448,
           "TP",
           "IDBD-D100393"
          ],
          [
           9.066393432448937,
           "TP",
           "IDBD-D100394"
          ],
          [
           8.561117794706277,
           "TP",
           "IDBD-D100395"
          ],
          [
           8.779570155232769,
           "TP",
           "IDBD-D100396"
          ],
          [
           9.256602066877878,
           "TP",
           "IDBD-D100411"
          ],
          [
           11.392337919990586,
           "TP",
           "IDBD-D100412"
          ],
          [
           8.00618159992615,
           "TP",
           "IDBD-D100417"
          ],
          [
           7.60234817859698,
           "TP",
           "IDBD-D100418"
          ],
          [
           11.25138333937084,
           "TP",
           "IDBD-D100419"
          ],
          [
           10.165766339655228,
           "TP",
           "IDBD-D100438"
          ],
          [
           9.00400706627777,
           "TP",
           "IDBD-D100439"
          ],
          [
           6.727785822830784,
           "TP",
           "IDBD-D100442"
          ],
          [
           9.164095646445727,
           "TP",
           "IDBD-D100443"
          ],
          [
           8.912719168355295,
           "TP",
           "IDBD-D100446"
          ],
          [
           8.920657983850088,
           "TP",
           "IDBD-D100448"
          ],
          [
           10.27529929737201,
           "TP",
           "IDBD-D100454"
          ],
          [
           9.197287790791618,
           "TP",
           "IDBD-D100455"
          ],
          [
           8.874123904528862,
           "TP",
           "IDBD-D100456"
          ],
          [
           7.860826717892254,
           "TP",
           "IDBD-D100457"
          ],
          [
           8.555555216866525,
           "TP",
           "IDBD-D100458"
          ],
          [
           9.101254165904068,
           "TP",
           "IDBD-D100459"
          ],
          [
           8.788294826888054,
           "TP",
           "IDBD-D100460"
          ],
          [
           8.796434626921716,
           "TP",
           "IDBD-D100397"
          ],
          [
           9.452278571169423,
           "TP",
           "IDBD-D100398"
          ],
          [
           10.230189134426823,
           "TP",
           "IDBD-D100399"
          ],
          [
           9.919066321455693,
           "TP",
           "IDBD-D100400"
          ],
          [
           8.763469064897896,
           "TP",
           "IDBD-D100401"
          ],
          [
           7.484939637658819,
           "TP",
           "IDBD-D100402"
          ],
          [
           10.727025968809505,
           "TP",
           "IDBD-D100403"
          ],
          [
           10.164542996046054,
           "TP",
           "IDBD-D100404"
          ],
          [
           8.347831584092392,
           "TP",
           "IDBD-D100405"
          ],
          [
           8.615062156460871,
           "TP",
           "IDBD-D100406"
          ],
          [
           10.104393109610605,
           "TP",
           "IDBD-D100407"
          ],
          [
           9.23145658100964,
           "TP",
           "IDBD-D100408"
          ],
          [
           10.152479824524441,
           "TP",
           "IDBD-D100409"
          ],
          [
           7.752050062532337,
           "TP",
           "IDBD-D100410"
          ],
          [
           9.514588360607942,
           "TP",
           "IDBD-D100444"
          ],
          [
           9.02580192714291,
           "TP",
           "IDBD-D100445"
          ],
          [
           8.589703817401746,
           "TP",
           "IDBD-D100451"
          ],
          [
           9.56259392222204,
           "TP",
           "IDBD-D100452"
          ],
          [
           9.397653999597289,
           "TP",
           "IDBD-D100453"
          ],
          [
           10.196671762664927,
           "TP",
           "IDBD-D100472"
          ],
          [
           9.922333046716675,
           "TP",
           "IDBD-D100473"
          ],
          [
           9.28595110673903,
           "TP",
           "IDBD-D100474"
          ],
          [
           9.492674106059628,
           "TP",
           "IDBD-D100475"
          ],
          [
           9.739481506026127,
           "TP",
           "IDBD-D100476"
          ],
          [
           7.637513146670576,
           "TP",
           "IDBD-D100477"
          ],
          [
           9.42789135861385,
           "TP",
           "IDBD-D100478"
          ],
          [
           8.639678437337395,
           "TP",
           "IDBD-D100479"
          ],
          [
           8.517413704238159,
           "TP",
           "IDBD-D100480"
          ],
          [
           7.710809783026549,
           "TP",
           "IDBD-D100481"
          ],
          [
           8.582973677696815,
           "TP",
           "IDBD-D100482"
          ],
          [
           10.898179437363403,
           "TP",
           "IDBD-D100483"
          ],
          [
           9.789074466756416,
           "TP",
           "IDBD-D100484"
          ],
          [
           8.476541965283454,
           "TP",
           "IDBD-D100485"
          ],
          [
           8.092461143675102,
           "TP",
           "IDBD-D100486"
          ],
          [
           10.582287248900418,
           "TP",
           "IDBD-D100487"
          ],
          [
           8.126539871461173,
           "TP",
           "IDBD-D100488"
          ],
          [
           10.219568381574772,
           "TP",
           "IDBD-D100489"
          ],
          [
           6.82524736433982,
           "TP",
           "IDBD-D100490"
          ],
          [
           11.207723727907567,
           "TP",
           "IDBD-D100491"
          ],
          [
           10.046023632370785,
           "TP",
           "IDBD-D100461"
          ],
          [
           9.163391739403714,
           "TP",
           "IDBD-D100462"
          ],
          [
           7.350113268053381,
           "TP",
           "IDBD-D100463"
          ],
          [
           9.582187798028608,
           "TP",
           "IDBD-D100465"
          ],
          [
           7.624205278075952,
           "TP",
           "IDBD-D100466"
          ],
          [
           9.914035854120813,
           "TP",
           "IDBD-D100467"
          ],
          [
           9.544637810263463,
           "TP",
           "IDBD-D100468"
          ],
          [
           7.780321210638613,
           "TP",
           "IDBD-D100469"
          ],
          [
           10.139967318639268,
           "TP",
           "IDBD-D100470"
          ],
          [
           10.24861404616084,
           "TP",
           "IDBD-D100471"
          ]
         ],
         "hoverlabel": {
          "namelength": 0
         },
         "hovertemplate": "Detection=%{customdata[1]}<br>log(GE)/ml=%{customdata[0]}<br>Accession=%{customdata[2]}",
         "legendgroup": "Detection=TP",
         "marker": {
          "color": "#636efa"
         },
         "name": "Detection=TP",
         "notched": false,
         "offsetgroup": "Detection=TP",
         "orientation": "v",
         "showlegend": true,
         "type": "box",
         "x0": " ",
         "xaxis": "x",
         "y": [
          7.078977174744356,
          11.38877836858883,
          9.597763630043515,
          9.095959018130467,
          9.959797067363576,
          null,
          8.758431066204764,
          8.565277180800667,
          7.71753222790478,
          8.054030659600222,
          9.022085349095859,
          10.883316482089802,
          10.308293675693337,
          10.189715778221448,
          9.066393432448937,
          8.561117794706277,
          8.779570155232769,
          9.256602066877878,
          11.392337919990586,
          8.00618159992615,
          7.60234817859698,
          11.25138333937084,
          10.165766339655228,
          9.00400706627777,
          6.727785822830784,
          9.164095646445727,
          8.912719168355295,
          8.920657983850088,
          10.27529929737201,
          9.197287790791618,
          8.874123904528862,
          7.860826717892254,
          8.555555216866525,
          9.101254165904068,
          8.788294826888054,
          8.796434626921716,
          9.452278571169423,
          10.230189134426823,
          9.919066321455693,
          8.763469064897896,
          7.484939637658819,
          10.727025968809505,
          10.164542996046054,
          8.347831584092392,
          8.615062156460871,
          10.104393109610605,
          9.23145658100964,
          10.152479824524441,
          7.752050062532337,
          9.514588360607942,
          9.02580192714291,
          8.589703817401746,
          9.56259392222204,
          9.397653999597289,
          10.196671762664927,
          9.922333046716675,
          9.28595110673903,
          9.492674106059628,
          9.739481506026127,
          7.637513146670576,
          9.42789135861385,
          8.639678437337395,
          8.517413704238159,
          7.710809783026549,
          8.582973677696815,
          10.898179437363403,
          9.789074466756416,
          8.476541965283454,
          8.092461143675102,
          10.582287248900418,
          8.126539871461173,
          10.219568381574772,
          6.82524736433982,
          11.207723727907567,
          10.046023632370785,
          9.163391739403714,
          7.350113268053381,
          9.582187798028608,
          7.624205278075952,
          9.914035854120813,
          9.544637810263463,
          7.780321210638613,
          10.139967318639268,
          10.24861404616084
         ],
         "y0": " ",
         "yaxis": "y"
        },
        {
         "alignmentgroup": "True",
         "boxpoints": "all",
         "customdata": [
          [
           10.100623524419943,
           "FN - Below cutoff",
           "IDBD-D100384"
          ],
          [
           7.672382861560653,
           "FN - Below cutoff",
           "IDBD-D100413"
          ],
          [
           8.070533530428746,
           "FN - Below cutoff",
           "IDBD-D100447"
          ],
          [
           8.541347136668513,
           "FN - Below cutoff",
           "IDBD-D100450"
          ]
         ],
         "hoverlabel": {
          "namelength": 0
         },
         "hovertemplate": "Detection=%{customdata[1]}<br>log(GE)/ml=%{customdata[0]}<br>Accession=%{customdata[2]}",
         "legendgroup": "Detection=FN - Below cutoff",
         "marker": {
          "color": "#EF553B"
         },
         "name": "Detection=FN - Below cutoff",
         "notched": false,
         "offsetgroup": "Detection=FN - Below cutoff",
         "orientation": "v",
         "showlegend": true,
         "type": "box",
         "x0": " ",
         "xaxis": "x",
         "y": [
          10.100623524419943,
          7.672382861560653,
          8.070533530428746,
          8.541347136668513
         ],
         "y0": " ",
         "yaxis": "y"
        },
        {
         "alignmentgroup": "True",
         "boxpoints": "all",
         "customdata": [
          [
           11.288056893958423,
           "FN - No detection",
           "IDBD-D100414"
          ],
          [
           10.805042309790498,
           "FN - No detection",
           "IDBD-D100415"
          ],
          [
           11.42929632221449,
           "FN - No detection",
           "IDBD-D100416"
          ],
          [
           9.814904242804769,
           "FN - No detection",
           "IDBD-D100440"
          ],
          [
           8.702856931442225,
           "FN - No detection",
           "IDBD-D100441"
          ]
         ],
         "hoverlabel": {
          "namelength": 0
         },
         "hovertemplate": "Detection=%{customdata[1]}<br>log(GE)/ml=%{customdata[0]}<br>Accession=%{customdata[2]}",
         "legendgroup": "Detection=FN - No detection",
         "marker": {
          "color": "#00cc96"
         },
         "name": "Detection=FN - No detection",
         "notched": false,
         "offsetgroup": "Detection=FN - No detection",
         "orientation": "v",
         "showlegend": true,
         "type": "box",
         "x0": " ",
         "xaxis": "x",
         "y": [
          11.288056893958423,
          10.805042309790498,
          11.42929632221449,
          9.814904242804769,
          8.702856931442225
         ],
         "y0": " ",
         "yaxis": "y"
        }
       ],
       "layout": {
        "autosize": true,
        "boxmode": "group",
        "legend": {
         "tracegroupgap": 0
        },
        "margin": {
         "t": 60
        },
        "template": {
         "data": {
          "bar": [
           {
            "error_x": {
             "color": "#2a3f5f"
            },
            "error_y": {
             "color": "#2a3f5f"
            },
            "marker": {
             "line": {
              "color": "#E5ECF6",
              "width": 0.5
             }
            },
            "type": "bar"
           }
          ],
          "barpolar": [
           {
            "marker": {
             "line": {
              "color": "#E5ECF6",
              "width": 0.5
             }
            },
            "type": "barpolar"
           }
          ],
          "carpet": [
           {
            "aaxis": {
             "endlinecolor": "#2a3f5f",
             "gridcolor": "white",
             "linecolor": "white",
             "minorgridcolor": "white",
             "startlinecolor": "#2a3f5f"
            },
            "baxis": {
             "endlinecolor": "#2a3f5f",
             "gridcolor": "white",
             "linecolor": "white",
             "minorgridcolor": "white",
             "startlinecolor": "#2a3f5f"
            },
            "type": "carpet"
           }
          ],
          "choropleth": [
           {
            "colorbar": {
             "outlinewidth": 0,
             "ticks": ""
            },
            "type": "choropleth"
           }
          ],
          "contour": [
           {
            "colorbar": {
             "outlinewidth": 0,
             "ticks": ""
            },
            "colorscale": [
             [
              0,
              "#0d0887"
             ],
             [
              0.1111111111111111,
              "#46039f"
             ],
             [
              0.2222222222222222,
              "#7201a8"
             ],
             [
              0.3333333333333333,
              "#9c179e"
             ],
             [
              0.4444444444444444,
              "#bd3786"
             ],
             [
              0.5555555555555556,
              "#d8576b"
             ],
             [
              0.6666666666666666,
              "#ed7953"
             ],
             [
              0.7777777777777778,
              "#fb9f3a"
             ],
             [
              0.8888888888888888,
              "#fdca26"
             ],
             [
              1,
              "#f0f921"
             ]
            ],
            "type": "contour"
           }
          ],
          "contourcarpet": [
           {
            "colorbar": {
             "outlinewidth": 0,
             "ticks": ""
            },
            "type": "contourcarpet"
           }
          ],
          "heatmap": [
           {
            "colorbar": {
             "outlinewidth": 0,
             "ticks": ""
            },
            "colorscale": [
             [
              0,
              "#0d0887"
             ],
             [
              0.1111111111111111,
              "#46039f"
             ],
             [
              0.2222222222222222,
              "#7201a8"
             ],
             [
              0.3333333333333333,
              "#9c179e"
             ],
             [
              0.4444444444444444,
              "#bd3786"
             ],
             [
              0.5555555555555556,
              "#d8576b"
             ],
             [
              0.6666666666666666,
              "#ed7953"
             ],
             [
              0.7777777777777778,
              "#fb9f3a"
             ],
             [
              0.8888888888888888,
              "#fdca26"
             ],
             [
              1,
              "#f0f921"
             ]
            ],
            "type": "heatmap"
           }
          ],
          "heatmapgl": [
           {
            "colorbar": {
             "outlinewidth": 0,
             "ticks": ""
            },
            "colorscale": [
             [
              0,
              "#0d0887"
             ],
             [
              0.1111111111111111,
              "#46039f"
             ],
             [
              0.2222222222222222,
              "#7201a8"
             ],
             [
              0.3333333333333333,
              "#9c179e"
             ],
             [
              0.4444444444444444,
              "#bd3786"
             ],
             [
              0.5555555555555556,
              "#d8576b"
             ],
             [
              0.6666666666666666,
              "#ed7953"
             ],
             [
              0.7777777777777778,
              "#fb9f3a"
             ],
             [
              0.8888888888888888,
              "#fdca26"
             ],
             [
              1,
              "#f0f921"
             ]
            ],
            "type": "heatmapgl"
           }
          ],
          "histogram": [
           {
            "marker": {
             "colorbar": {
              "outlinewidth": 0,
              "ticks": ""
             }
            },
            "type": "histogram"
           }
          ],
          "histogram2d": [
           {
            "colorbar": {
             "outlinewidth": 0,
             "ticks": ""
            },
            "colorscale": [
             [
              0,
              "#0d0887"
             ],
             [
              0.1111111111111111,
              "#46039f"
             ],
             [
              0.2222222222222222,
              "#7201a8"
             ],
             [
              0.3333333333333333,
              "#9c179e"
             ],
             [
              0.4444444444444444,
              "#bd3786"
             ],
             [
              0.5555555555555556,
              "#d8576b"
             ],
             [
              0.6666666666666666,
              "#ed7953"
             ],
             [
              0.7777777777777778,
              "#fb9f3a"
             ],
             [
              0.8888888888888888,
              "#fdca26"
             ],
             [
              1,
              "#f0f921"
             ]
            ],
            "type": "histogram2d"
           }
          ],
          "histogram2dcontour": [
           {
            "colorbar": {
             "outlinewidth": 0,
             "ticks": ""
            },
            "colorscale": [
             [
              0,
              "#0d0887"
             ],
             [
              0.1111111111111111,
              "#46039f"
             ],
             [
              0.2222222222222222,
              "#7201a8"
             ],
             [
              0.3333333333333333,
              "#9c179e"
             ],
             [
              0.4444444444444444,
              "#bd3786"
             ],
             [
              0.5555555555555556,
              "#d8576b"
             ],
             [
              0.6666666666666666,
              "#ed7953"
             ],
             [
              0.7777777777777778,
              "#fb9f3a"
             ],
             [
              0.8888888888888888,
              "#fdca26"
             ],
             [
              1,
              "#f0f921"
             ]
            ],
            "type": "histogram2dcontour"
           }
          ],
          "mesh3d": [
           {
            "colorbar": {
             "outlinewidth": 0,
             "ticks": ""
            },
            "type": "mesh3d"
           }
          ],
          "parcoords": [
           {
            "line": {
             "colorbar": {
              "outlinewidth": 0,
              "ticks": ""
             }
            },
            "type": "parcoords"
           }
          ],
          "scatter": [
           {
            "marker": {
             "colorbar": {
              "outlinewidth": 0,
              "ticks": ""
             }
            },
            "type": "scatter"
           }
          ],
          "scatter3d": [
           {
            "line": {
             "colorbar": {
              "outlinewidth": 0,
              "ticks": ""
             }
            },
            "marker": {
             "colorbar": {
              "outlinewidth": 0,
              "ticks": ""
             }
            },
            "type": "scatter3d"
           }
          ],
          "scattercarpet": [
           {
            "marker": {
             "colorbar": {
              "outlinewidth": 0,
              "ticks": ""
             }
            },
            "type": "scattercarpet"
           }
          ],
          "scattergeo": [
           {
            "marker": {
             "colorbar": {
              "outlinewidth": 0,
              "ticks": ""
             }
            },
            "type": "scattergeo"
           }
          ],
          "scattergl": [
           {
            "marker": {
             "colorbar": {
              "outlinewidth": 0,
              "ticks": ""
             }
            },
            "type": "scattergl"
           }
          ],
          "scattermapbox": [
           {
            "marker": {
             "colorbar": {
              "outlinewidth": 0,
              "ticks": ""
             }
            },
            "type": "scattermapbox"
           }
          ],
          "scatterpolar": [
           {
            "marker": {
             "colorbar": {
              "outlinewidth": 0,
              "ticks": ""
             }
            },
            "type": "scatterpolar"
           }
          ],
          "scatterpolargl": [
           {
            "marker": {
             "colorbar": {
              "outlinewidth": 0,
              "ticks": ""
             }
            },
            "type": "scatterpolargl"
           }
          ],
          "scatterternary": [
           {
            "marker": {
             "colorbar": {
              "outlinewidth": 0,
              "ticks": ""
             }
            },
            "type": "scatterternary"
           }
          ],
          "surface": [
           {
            "colorbar": {
             "outlinewidth": 0,
             "ticks": ""
            },
            "colorscale": [
             [
              0,
              "#0d0887"
             ],
             [
              0.1111111111111111,
              "#46039f"
             ],
             [
              0.2222222222222222,
              "#7201a8"
             ],
             [
              0.3333333333333333,
              "#9c179e"
             ],
             [
              0.4444444444444444,
              "#bd3786"
             ],
             [
              0.5555555555555556,
              "#d8576b"
             ],
             [
              0.6666666666666666,
              "#ed7953"
             ],
             [
              0.7777777777777778,
              "#fb9f3a"
             ],
             [
              0.8888888888888888,
              "#fdca26"
             ],
             [
              1,
              "#f0f921"
             ]
            ],
            "type": "surface"
           }
          ],
          "table": [
           {
            "cells": {
             "fill": {
              "color": "#EBF0F8"
             },
             "line": {
              "color": "white"
             }
            },
            "header": {
             "fill": {
              "color": "#C8D4E3"
             },
             "line": {
              "color": "white"
             }
            },
            "type": "table"
           }
          ]
         },
         "layout": {
          "annotationdefaults": {
           "arrowcolor": "#2a3f5f",
           "arrowhead": 0,
           "arrowwidth": 1
          },
          "colorscale": {
           "diverging": [
            [
             0,
             "#8e0152"
            ],
            [
             0.1,
             "#c51b7d"
            ],
            [
             0.2,
             "#de77ae"
            ],
            [
             0.3,
             "#f1b6da"
            ],
            [
             0.4,
             "#fde0ef"
            ],
            [
             0.5,
             "#f7f7f7"
            ],
            [
             0.6,
             "#e6f5d0"
            ],
            [
             0.7,
             "#b8e186"
            ],
            [
             0.8,
             "#7fbc41"
            ],
            [
             0.9,
             "#4d9221"
            ],
            [
             1,
             "#276419"
            ]
           ],
           "sequential": [
            [
             0,
             "#0d0887"
            ],
            [
             0.1111111111111111,
             "#46039f"
            ],
            [
             0.2222222222222222,
             "#7201a8"
            ],
            [
             0.3333333333333333,
             "#9c179e"
            ],
            [
             0.4444444444444444,
             "#bd3786"
            ],
            [
             0.5555555555555556,
             "#d8576b"
            ],
            [
             0.6666666666666666,
             "#ed7953"
            ],
            [
             0.7777777777777778,
             "#fb9f3a"
            ],
            [
             0.8888888888888888,
             "#fdca26"
            ],
            [
             1,
             "#f0f921"
            ]
           ],
           "sequentialminus": [
            [
             0,
             "#0d0887"
            ],
            [
             0.1111111111111111,
             "#46039f"
            ],
            [
             0.2222222222222222,
             "#7201a8"
            ],
            [
             0.3333333333333333,
             "#9c179e"
            ],
            [
             0.4444444444444444,
             "#bd3786"
            ],
            [
             0.5555555555555556,
             "#d8576b"
            ],
            [
             0.6666666666666666,
             "#ed7953"
            ],
            [
             0.7777777777777778,
             "#fb9f3a"
            ],
            [
             0.8888888888888888,
             "#fdca26"
            ],
            [
             1,
             "#f0f921"
            ]
           ]
          },
          "colorway": [
           "#636efa",
           "#EF553B",
           "#00cc96",
           "#ab63fa",
           "#FFA15A",
           "#19d3f3",
           "#FF6692",
           "#B6E880",
           "#FF97FF",
           "#FECB52"
          ],
          "font": {
           "color": "#2a3f5f"
          },
          "geo": {
           "bgcolor": "white",
           "lakecolor": "white",
           "landcolor": "#E5ECF6",
           "showlakes": true,
           "showland": true,
           "subunitcolor": "white"
          },
          "hoverlabel": {
           "align": "left"
          },
          "hovermode": "closest",
          "mapbox": {
           "style": "light"
          },
          "paper_bgcolor": "white",
          "plot_bgcolor": "#E5ECF6",
          "polar": {
           "angularaxis": {
            "gridcolor": "white",
            "linecolor": "white",
            "ticks": ""
           },
           "bgcolor": "#E5ECF6",
           "radialaxis": {
            "gridcolor": "white",
            "linecolor": "white",
            "ticks": ""
           }
          },
          "scene": {
           "xaxis": {
            "backgroundcolor": "#E5ECF6",
            "gridcolor": "white",
            "gridwidth": 2,
            "linecolor": "white",
            "showbackground": true,
            "ticks": "",
            "zerolinecolor": "white"
           },
           "yaxis": {
            "backgroundcolor": "#E5ECF6",
            "gridcolor": "white",
            "gridwidth": 2,
            "linecolor": "white",
            "showbackground": true,
            "ticks": "",
            "zerolinecolor": "white"
           },
           "zaxis": {
            "backgroundcolor": "#E5ECF6",
            "gridcolor": "white",
            "gridwidth": 2,
            "linecolor": "white",
            "showbackground": true,
            "ticks": "",
            "zerolinecolor": "white"
           }
          },
          "shapedefaults": {
           "line": {
            "color": "#2a3f5f"
           }
          },
          "ternary": {
           "aaxis": {
            "gridcolor": "white",
            "linecolor": "white",
            "ticks": ""
           },
           "baxis": {
            "gridcolor": "white",
            "linecolor": "white",
            "ticks": ""
           },
           "bgcolor": "#E5ECF6",
           "caxis": {
            "gridcolor": "white",
            "linecolor": "white",
            "ticks": ""
           }
          },
          "title": {
           "x": 0.05
          },
          "xaxis": {
           "automargin": true,
           "gridcolor": "white",
           "linecolor": "white",
           "ticks": "",
           "zerolinecolor": "white",
           "zerolinewidth": 2
          },
          "yaxis": {
           "automargin": true,
           "gridcolor": "white",
           "linecolor": "white",
           "ticks": "",
           "zerolinecolor": "white",
           "zerolinewidth": 2
          }
         }
        },
        "xaxis": {
         "anchor": "y",
         "autorange": true,
         "domain": [
          0,
          0.98
         ],
         "range": [
          -0.6320681113224685,
          0.5595825321748668
         ],
         "type": "category"
        },
        "yaxis": {
         "anchor": "x",
         "autorange": true,
         "domain": [
          0,
          1
         ],
         "range": [
          6.466590795087245,
          11.69049134995803
         ],
         "title": {
          "text": "log(GE)/ml"
         },
         "type": "linear"
        }
       }
      },
      "image/png": "[encoded data removed]",
      "text/html": [
       "<div>\n",
       "        \n",
       "        \n",
       "            <div id=\"410220f0-29e7-46b5-b956-b078393be557\" class=\"plotly-graph-div\" style=\"height:600px; width:100%;\"></div>\n",
       "            <script type=\"text/javascript\">\n",
       "                require([\"plotly\"], function(Plotly) {\n",
       "                    window.PLOTLYENV=window.PLOTLYENV || {};\n",
       "                    \n",
       "                if (document.getElementById(\"410220f0-29e7-46b5-b956-b078393be557\")) {\n",
       "                    Plotly.newPlot(\n",
       "                        '410220f0-29e7-46b5-b956-b078393be557',\n",
       "                        [{\"alignmentgroup\": \"True\", \"boxpoints\": \"all\", \"customdata\": [[7.078977174744356, \"TP\", \"IDBD-D100464\"], [11.38877836858883, \"TP\", \"IDBD-D100376\"], [9.597763630043515, \"TP\", \"IDBD-D100380\"], [9.095959018130467, \"TP\", \"IDBD-D100381\"], [9.959797067363576, \"TP\", \"IDBD-D100382\"], [null, \"TP\", \"IDBD-D100383\"], [8.758431066204764, \"TP\", \"IDBD-D100386\"], [8.565277180800667, \"TP\", \"IDBD-D100387\"], [7.71753222790478, \"TP\", \"IDBD-D100388\"], [8.054030659600222, \"TP\", \"IDBD-D100389\"], [9.022085349095859, \"TP\", \"IDBD-D100390\"], [10.883316482089802, \"TP\", \"IDBD-D100391\"], [10.308293675693337, \"TP\", \"IDBD-D100392\"], [10.189715778221448, \"TP\", \"IDBD-D100393\"], [9.066393432448937, \"TP\", \"IDBD-D100394\"], [8.561117794706277, \"TP\", \"IDBD-D100395\"], [8.779570155232769, \"TP\", \"IDBD-D100396\"], [9.256602066877878, \"TP\", \"IDBD-D100411\"], [11.392337919990586, \"TP\", \"IDBD-D100412\"], [8.00618159992615, \"TP\", \"IDBD-D100417\"], [7.60234817859698, \"TP\", \"IDBD-D100418\"], [11.25138333937084, \"TP\", \"IDBD-D100419\"], [10.165766339655228, \"TP\", \"IDBD-D100438\"], [9.00400706627777, \"TP\", \"IDBD-D100439\"], [6.727785822830784, \"TP\", \"IDBD-D100442\"], [9.164095646445727, \"TP\", \"IDBD-D100443\"], [8.912719168355295, \"TP\", \"IDBD-D100446\"], [8.920657983850088, \"TP\", \"IDBD-D100448\"], [10.27529929737201, \"TP\", \"IDBD-D100454\"], [9.197287790791618, \"TP\", \"IDBD-D100455\"], [8.874123904528862, \"TP\", \"IDBD-D100456\"], [7.860826717892254, \"TP\", \"IDBD-D100457\"], [8.555555216866525, \"TP\", \"IDBD-D100458\"], [9.101254165904068, \"TP\", \"IDBD-D100459\"], [8.788294826888054, \"TP\", \"IDBD-D100460\"], [8.796434626921716, \"TP\", \"IDBD-D100397\"], [9.452278571169423, \"TP\", \"IDBD-D100398\"], [10.230189134426823, \"TP\", \"IDBD-D100399\"], [9.919066321455693, \"TP\", \"IDBD-D100400\"], [8.763469064897896, \"TP\", \"IDBD-D100401\"], [7.484939637658819, \"TP\", \"IDBD-D100402\"], [10.727025968809505, \"TP\", \"IDBD-D100403\"], [10.164542996046054, \"TP\", \"IDBD-D100404\"], [8.347831584092392, \"TP\", \"IDBD-D100405\"], [8.615062156460871, \"TP\", \"IDBD-D100406\"], [10.104393109610605, \"TP\", \"IDBD-D100407\"], [9.23145658100964, \"TP\", \"IDBD-D100408\"], [10.152479824524441, \"TP\", \"IDBD-D100409\"], [7.752050062532337, \"TP\", \"IDBD-D100410\"], [9.514588360607942, \"TP\", \"IDBD-D100444\"], [9.02580192714291, \"TP\", \"IDBD-D100445\"], [8.589703817401746, \"TP\", \"IDBD-D100451\"], [9.56259392222204, \"TP\", \"IDBD-D100452\"], [9.397653999597289, \"TP\", \"IDBD-D100453\"], [10.196671762664927, \"TP\", \"IDBD-D100472\"], [9.922333046716675, \"TP\", \"IDBD-D100473\"], [9.28595110673903, \"TP\", \"IDBD-D100474\"], [9.492674106059628, \"TP\", \"IDBD-D100475\"], [9.739481506026127, \"TP\", \"IDBD-D100476\"], [7.637513146670576, \"TP\", \"IDBD-D100477\"], [9.42789135861385, \"TP\", \"IDBD-D100478\"], [8.639678437337395, \"TP\", \"IDBD-D100479\"], [8.517413704238159, \"TP\", \"IDBD-D100480\"], [7.710809783026549, \"TP\", \"IDBD-D100481\"], [8.582973677696815, \"TP\", \"IDBD-D100482\"], [10.898179437363403, \"TP\", \"IDBD-D100483\"], [9.789074466756416, \"TP\", \"IDBD-D100484\"], [8.476541965283454, \"TP\", \"IDBD-D100485\"], [8.092461143675102, \"TP\", \"IDBD-D100486\"], [10.582287248900418, \"TP\", \"IDBD-D100487\"], [8.126539871461173, \"TP\", \"IDBD-D100488\"], [10.219568381574772, \"TP\", \"IDBD-D100489\"], [6.82524736433982, \"TP\", \"IDBD-D100490\"], [11.207723727907567, \"TP\", \"IDBD-D100491\"], [10.046023632370785, \"TP\", \"IDBD-D100461\"], [9.163391739403714, \"TP\", \"IDBD-D100462\"], [7.350113268053381, \"TP\", \"IDBD-D100463\"], [9.582187798028608, \"TP\", \"IDBD-D100465\"], [7.624205278075952, \"TP\", \"IDBD-D100466\"], [9.914035854120813, \"TP\", \"IDBD-D100467\"], [9.544637810263463, \"TP\", \"IDBD-D100468\"], [7.780321210638613, \"TP\", \"IDBD-D100469\"], [10.139967318639268, \"TP\", \"IDBD-D100470\"], [10.24861404616084, \"TP\", \"IDBD-D100471\"]], \"hoverlabel\": {\"namelength\": 0}, \"hovertemplate\": \"Detection=%{customdata[1]}<br>log(GE)/ml=%{customdata[0]}<br>Accession=%{customdata[2]}\", \"legendgroup\": \"Detection=TP\", \"marker\": {\"color\": \"#636efa\"}, \"name\": \"Detection=TP\", \"notched\": false, \"offsetgroup\": \"Detection=TP\", \"orientation\": \"v\", \"showlegend\": true, \"type\": \"box\", \"x0\": \" \", \"xaxis\": \"x\", \"y\": [7.078977174744356, 11.38877836858883, 9.597763630043515, 9.095959018130467, 9.959797067363576, null, 8.758431066204764, 8.565277180800667, 7.71753222790478, 8.054030659600222, 9.022085349095859, 10.883316482089802, 10.308293675693337, 10.189715778221448, 9.066393432448937, 8.561117794706277, 8.779570155232769, 9.256602066877878, 11.392337919990586, 8.00618159992615, 7.60234817859698, 11.25138333937084, 10.165766339655228, 9.00400706627777, 6.727785822830784, 9.164095646445727, 8.912719168355295, 8.920657983850088, 10.27529929737201, 9.197287790791618, 8.874123904528862, 7.860826717892254, 8.555555216866525, 9.101254165904068, 8.788294826888054, 8.796434626921716, 9.452278571169423, 10.230189134426823, 9.919066321455693, 8.763469064897896, 7.484939637658819, 10.727025968809505, 10.164542996046054, 8.347831584092392, 8.615062156460871, 10.104393109610605, 9.23145658100964, 10.152479824524441, 7.752050062532337, 9.514588360607942, 9.02580192714291, 8.589703817401746, 9.56259392222204, 9.397653999597289, 10.196671762664927, 9.922333046716675, 9.28595110673903, 9.492674106059628, 9.739481506026127, 7.637513146670576, 9.42789135861385, 8.639678437337395, 8.517413704238159, 7.710809783026549, 8.582973677696815, 10.898179437363403, 9.789074466756416, 8.476541965283454, 8.092461143675102, 10.582287248900418, 8.126539871461173, 10.219568381574772, 6.82524736433982, 11.207723727907567, 10.046023632370785, 9.163391739403714, 7.350113268053381, 9.582187798028608, 7.624205278075952, 9.914035854120813, 9.544637810263463, 7.780321210638613, 10.139967318639268, 10.24861404616084], \"y0\": \" \", \"yaxis\": \"y\"}, {\"alignmentgroup\": \"True\", \"boxpoints\": \"all\", \"customdata\": [[10.100623524419943, \"FN - Below cutoff\", \"IDBD-D100384\"], [7.672382861560653, \"FN - Below cutoff\", \"IDBD-D100413\"], [8.070533530428746, \"FN - Below cutoff\", \"IDBD-D100447\"], [8.541347136668513, \"FN - Below cutoff\", \"IDBD-D100450\"]], \"hoverlabel\": {\"namelength\": 0}, \"hovertemplate\": \"Detection=%{customdata[1]}<br>log(GE)/ml=%{customdata[0]}<br>Accession=%{customdata[2]}\", \"legendgroup\": \"Detection=FN - Below cutoff\", \"marker\": {\"color\": \"#EF553B\"}, \"name\": \"Detection=FN - Below cutoff\", \"notched\": false, \"offsetgroup\": \"Detection=FN - Below cutoff\", \"orientation\": \"v\", \"showlegend\": true, \"type\": \"box\", \"x0\": \" \", \"xaxis\": \"x\", \"y\": [10.100623524419943, 7.672382861560653, 8.070533530428746, 8.541347136668513], \"y0\": \" \", \"yaxis\": \"y\"}, {\"alignmentgroup\": \"True\", \"boxpoints\": \"all\", \"customdata\": [[11.288056893958423, \"FN - No detection\", \"IDBD-D100414\"], [10.805042309790498, \"FN - No detection\", \"IDBD-D100415\"], [11.42929632221449, \"FN - No detection\", \"IDBD-D100416\"], [9.814904242804769, \"FN - No detection\", \"IDBD-D100440\"], [8.702856931442225, \"FN - No detection\", \"IDBD-D100441\"]], \"hoverlabel\": {\"namelength\": 0}, \"hovertemplate\": \"Detection=%{customdata[1]}<br>log(GE)/ml=%{customdata[0]}<br>Accession=%{customdata[2]}\", \"legendgroup\": \"Detection=FN - No detection\", \"marker\": {\"color\": \"#00cc96\"}, \"name\": \"Detection=FN - No detection\", \"notched\": false, \"offsetgroup\": \"Detection=FN - No detection\", \"orientation\": \"v\", \"showlegend\": true, \"type\": \"box\", \"x0\": \" \", \"xaxis\": \"x\", \"y\": [11.288056893958423, 10.805042309790498, 11.42929632221449, 9.814904242804769, 8.702856931442225], \"y0\": \" \", \"yaxis\": \"y\"}],\n",
       "                        {\"boxmode\": \"group\", \"height\": 600, \"legend\": {\"tracegroupgap\": 0}, \"margin\": {\"t\": 60}, \"template\": {\"data\": {\"bar\": [{\"error_x\": {\"color\": \"#2a3f5f\"}, \"error_y\": {\"color\": \"#2a3f5f\"}, \"marker\": {\"line\": {\"color\": \"#E5ECF6\", \"width\": 0.5}}, \"type\": \"bar\"}], \"barpolar\": [{\"marker\": {\"line\": {\"color\": \"#E5ECF6\", \"width\": 0.5}}, \"type\": \"barpolar\"}], \"carpet\": [{\"aaxis\": {\"endlinecolor\": \"#2a3f5f\", \"gridcolor\": \"white\", \"linecolor\": \"white\", \"minorgridcolor\": \"white\", \"startlinecolor\": \"#2a3f5f\"}, \"baxis\": {\"endlinecolor\": \"#2a3f5f\", \"gridcolor\": \"white\", \"linecolor\": \"white\", \"minorgridcolor\": \"white\", \"startlinecolor\": \"#2a3f5f\"}, \"type\": \"carpet\"}], \"choropleth\": [{\"colorbar\": {\"outlinewidth\": 0, \"ticks\": \"\"}, \"type\": \"choropleth\"}], \"contour\": [{\"colorbar\": {\"outlinewidth\": 0, \"ticks\": \"\"}, \"colorscale\": [[0.0, \"#0d0887\"], [0.1111111111111111, \"#46039f\"], [0.2222222222222222, \"#7201a8\"], [0.3333333333333333, \"#9c179e\"], [0.4444444444444444, \"#bd3786\"], [0.5555555555555556, \"#d8576b\"], [0.6666666666666666, \"#ed7953\"], [0.7777777777777778, \"#fb9f3a\"], [0.8888888888888888, \"#fdca26\"], [1.0, \"#f0f921\"]], \"type\": \"contour\"}], \"contourcarpet\": [{\"colorbar\": {\"outlinewidth\": 0, \"ticks\": \"\"}, \"type\": \"contourcarpet\"}], \"heatmap\": [{\"colorbar\": {\"outlinewidth\": 0, \"ticks\": \"\"}, \"colorscale\": [[0.0, \"#0d0887\"], [0.1111111111111111, \"#46039f\"], [0.2222222222222222, \"#7201a8\"], [0.3333333333333333, \"#9c179e\"], [0.4444444444444444, \"#bd3786\"], [0.5555555555555556, \"#d8576b\"], [0.6666666666666666, \"#ed7953\"], [0.7777777777777778, \"#fb9f3a\"], [0.8888888888888888, \"#fdca26\"], [1.0, \"#f0f921\"]], \"type\": \"heatmap\"}], \"heatmapgl\": [{\"colorbar\": {\"outlinewidth\": 0, \"ticks\": \"\"}, \"colorscale\": [[0.0, \"#0d0887\"], [0.1111111111111111, \"#46039f\"], [0.2222222222222222, \"#7201a8\"], [0.3333333333333333, \"#9c179e\"], [0.4444444444444444, \"#bd3786\"], [0.5555555555555556, \"#d8576b\"], [0.6666666666666666, \"#ed7953\"], [0.7777777777777778, \"#fb9f3a\"], [0.8888888888888888, \"#fdca26\"], [1.0, \"#f0f921\"]], \"type\": \"heatmapgl\"}], \"histogram\": [{\"marker\": {\"colorbar\": {\"outlinewidth\": 0, \"ticks\": \"\"}}, \"type\": \"histogram\"}], \"histogram2d\": [{\"colorbar\": {\"outlinewidth\": 0, \"ticks\": \"\"}, \"colorscale\": [[0.0, \"#0d0887\"], [0.1111111111111111, \"#46039f\"], [0.2222222222222222, \"#7201a8\"], [0.3333333333333333, \"#9c179e\"], [0.4444444444444444, \"#bd3786\"], [0.5555555555555556, \"#d8576b\"], [0.6666666666666666, \"#ed7953\"], [0.7777777777777778, \"#fb9f3a\"], [0.8888888888888888, \"#fdca26\"], [1.0, \"#f0f921\"]], \"type\": \"histogram2d\"}], \"histogram2dcontour\": [{\"colorbar\": {\"outlinewidth\": 0, \"ticks\": \"\"}, \"colorscale\": [[0.0, \"#0d0887\"], [0.1111111111111111, \"#46039f\"], [0.2222222222222222, \"#7201a8\"], [0.3333333333333333, \"#9c179e\"], [0.4444444444444444, \"#bd3786\"], [0.5555555555555556, \"#d8576b\"], [0.6666666666666666, \"#ed7953\"], [0.7777777777777778, \"#fb9f3a\"], [0.8888888888888888, \"#fdca26\"], [1.0, \"#f0f921\"]], \"type\": \"histogram2dcontour\"}], \"mesh3d\": [{\"colorbar\": {\"outlinewidth\": 0, \"ticks\": \"\"}, \"type\": \"mesh3d\"}], \"parcoords\": [{\"line\": {\"colorbar\": {\"outlinewidth\": 0, \"ticks\": \"\"}}, \"type\": \"parcoords\"}], \"scatter\": [{\"marker\": {\"colorbar\": {\"outlinewidth\": 0, \"ticks\": \"\"}}, \"type\": \"scatter\"}], \"scatter3d\": [{\"line\": {\"colorbar\": {\"outlinewidth\": 0, \"ticks\": \"\"}}, \"marker\": {\"colorbar\": {\"outlinewidth\": 0, \"ticks\": \"\"}}, \"type\": \"scatter3d\"}], \"scattercarpet\": [{\"marker\": {\"colorbar\": {\"outlinewidth\": 0, \"ticks\": \"\"}}, \"type\": \"scattercarpet\"}], \"scattergeo\": [{\"marker\": {\"colorbar\": {\"outlinewidth\": 0, \"ticks\": \"\"}}, \"type\": \"scattergeo\"}], \"scattergl\": [{\"marker\": {\"colorbar\": {\"outlinewidth\": 0, \"ticks\": \"\"}}, \"type\": \"scattergl\"}], \"scattermapbox\": [{\"marker\": {\"colorbar\": {\"outlinewidth\": 0, \"ticks\": \"\"}}, \"type\": \"scattermapbox\"}], \"scatterpolar\": [{\"marker\": {\"colorbar\": {\"outlinewidth\": 0, \"ticks\": \"\"}}, \"type\": \"scatterpolar\"}], \"scatterpolargl\": [{\"marker\": {\"colorbar\": {\"outlinewidth\": 0, \"ticks\": \"\"}}, \"type\": \"scatterpolargl\"}], \"scatterternary\": [{\"marker\": {\"colorbar\": {\"outlinewidth\": 0, \"ticks\": \"\"}}, \"type\": \"scatterternary\"}], \"surface\": [{\"colorbar\": {\"outlinewidth\": 0, \"ticks\": \"\"}, \"colorscale\": [[0.0, \"#0d0887\"], [0.1111111111111111, \"#46039f\"], [0.2222222222222222, \"#7201a8\"], [0.3333333333333333, \"#9c179e\"], [0.4444444444444444, \"#bd3786\"], [0.5555555555555556, \"#d8576b\"], [0.6666666666666666, \"#ed7953\"], [0.7777777777777778, \"#fb9f3a\"], [0.8888888888888888, \"#fdca26\"], [1.0, \"#f0f921\"]], \"type\": \"surface\"}], \"table\": [{\"cells\": {\"fill\": {\"color\": \"#EBF0F8\"}, \"line\": {\"color\": \"white\"}}, \"header\": {\"fill\": {\"color\": \"#C8D4E3\"}, \"line\": {\"color\": \"white\"}}, \"type\": \"table\"}]}, \"layout\": {\"annotationdefaults\": {\"arrowcolor\": \"#2a3f5f\", \"arrowhead\": 0, \"arrowwidth\": 1}, \"colorscale\": {\"diverging\": [[0, \"#8e0152\"], [0.1, \"#c51b7d\"], [0.2, \"#de77ae\"], [0.3, \"#f1b6da\"], [0.4, \"#fde0ef\"], [0.5, \"#f7f7f7\"], [0.6, \"#e6f5d0\"], [0.7, \"#b8e186\"], [0.8, \"#7fbc41\"], [0.9, \"#4d9221\"], [1, \"#276419\"]], \"sequential\": [[0.0, \"#0d0887\"], [0.1111111111111111, \"#46039f\"], [0.2222222222222222, \"#7201a8\"], [0.3333333333333333, \"#9c179e\"], [0.4444444444444444, \"#bd3786\"], [0.5555555555555556, \"#d8576b\"], [0.6666666666666666, \"#ed7953\"], [0.7777777777777778, \"#fb9f3a\"], [0.8888888888888888, \"#fdca26\"], [1.0, \"#f0f921\"]], \"sequentialminus\": [[0.0, \"#0d0887\"], [0.1111111111111111, \"#46039f\"], [0.2222222222222222, \"#7201a8\"], [0.3333333333333333, \"#9c179e\"], [0.4444444444444444, \"#bd3786\"], [0.5555555555555556, \"#d8576b\"], [0.6666666666666666, \"#ed7953\"], [0.7777777777777778, \"#fb9f3a\"], [0.8888888888888888, \"#fdca26\"], [1.0, \"#f0f921\"]]}, \"colorway\": [\"#636efa\", \"#EF553B\", \"#00cc96\", \"#ab63fa\", \"#FFA15A\", \"#19d3f3\", \"#FF6692\", \"#B6E880\", \"#FF97FF\", \"#FECB52\"], \"font\": {\"color\": \"#2a3f5f\"}, \"geo\": {\"bgcolor\": \"white\", \"lakecolor\": \"white\", \"landcolor\": \"#E5ECF6\", \"showlakes\": true, \"showland\": true, \"subunitcolor\": \"white\"}, \"hoverlabel\": {\"align\": \"left\"}, \"hovermode\": \"closest\", \"mapbox\": {\"style\": \"light\"}, \"paper_bgcolor\": \"white\", \"plot_bgcolor\": \"#E5ECF6\", \"polar\": {\"angularaxis\": {\"gridcolor\": \"white\", \"linecolor\": \"white\", \"ticks\": \"\"}, \"bgcolor\": \"#E5ECF6\", \"radialaxis\": {\"gridcolor\": \"white\", \"linecolor\": \"white\", \"ticks\": \"\"}}, \"scene\": {\"xaxis\": {\"backgroundcolor\": \"#E5ECF6\", \"gridcolor\": \"white\", \"gridwidth\": 2, \"linecolor\": \"white\", \"showbackground\": true, \"ticks\": \"\", \"zerolinecolor\": \"white\"}, \"yaxis\": {\"backgroundcolor\": \"#E5ECF6\", \"gridcolor\": \"white\", \"gridwidth\": 2, \"linecolor\": \"white\", \"showbackground\": true, \"ticks\": \"\", \"zerolinecolor\": \"white\"}, \"zaxis\": {\"backgroundcolor\": \"#E5ECF6\", \"gridcolor\": \"white\", \"gridwidth\": 2, \"linecolor\": \"white\", \"showbackground\": true, \"ticks\": \"\", \"zerolinecolor\": \"white\"}}, \"shapedefaults\": {\"line\": {\"color\": \"#2a3f5f\"}}, \"ternary\": {\"aaxis\": {\"gridcolor\": \"white\", \"linecolor\": \"white\", \"ticks\": \"\"}, \"baxis\": {\"gridcolor\": \"white\", \"linecolor\": \"white\", \"ticks\": \"\"}, \"bgcolor\": \"#E5ECF6\", \"caxis\": {\"gridcolor\": \"white\", \"linecolor\": \"white\", \"ticks\": \"\"}}, \"title\": {\"x\": 0.05}, \"xaxis\": {\"automargin\": true, \"gridcolor\": \"white\", \"linecolor\": \"white\", \"ticks\": \"\", \"zerolinecolor\": \"white\", \"zerolinewidth\": 2}, \"yaxis\": {\"automargin\": true, \"gridcolor\": \"white\", \"linecolor\": \"white\", \"ticks\": \"\", \"zerolinecolor\": \"white\", \"zerolinewidth\": 2}}}, \"xaxis\": {\"anchor\": \"y\", \"domain\": [0.0, 0.98]}, \"yaxis\": {\"anchor\": \"x\", \"domain\": [0.0, 1.0], \"title\": {\"text\": \"log(GE)/ml\"}}},\n",
       "                        {\"responsive\": true}\n",
       "                    ).then(function(){\n",
       "                            \n",
       "var gd = document.getElementById('410220f0-29e7-46b5-b956-b078393be557');\n",
       "var x = new MutationObserver(function (mutations, observer) {{\n",
       "        var display = window.getComputedStyle(gd).display;\n",
       "        if (!display || display === 'none') {{\n",
       "            console.log([gd, 'removed!']);\n",
       "            Plotly.purge(gd);\n",
       "            observer.disconnect();\n",
       "        }}\n",
       "}});\n",
       "\n",
       "// Listen for the removal of the full notebook cells\n",
       "var notebookContainer = gd.closest('#notebook-container');\n",
       "if (notebookContainer) {{\n",
       "    x.observe(notebookContainer, {childList: true});\n",
       "}}\n",
       "\n",
       "// Listen for the clearing of the current output cell\n",
       "var outputEl = gd.closest('.output');\n",
       "if (outputEl) {{\n",
       "    x.observe(outputEl, {childList: true});\n",
       "}}\n",
       "\n",
       "                        })\n",
       "                };\n",
       "                });\n",
       "            </script>\n",
       "        </div>"
      ]
     },
     "metadata": {},
     "output_type": "display_data"
    }
   ],
   "source": [
    "ge_with_detection = ge.join(ic_counts.set_index('Accession'))\n",
    "px.box(ge_with_detection.reset_index(), y='mean_geomean', color='Detection',\n",
    "       labels={'mean_geomean': 'log(GE)/ml'}, points='all',\n",
    "       hover_data=['mean_geomean', 'Detection', 'Accession'])"
   ]
  },
  {
   "cell_type": "markdown",
   "metadata": {},
   "source": [
    "### Join with culture results and bacterial quantifications for Robert"
   ]
  },
  {
   "cell_type": "code",
   "execution_count": 50,
   "metadata": {},
   "outputs": [
    {
     "data": {
      "text/html": [
       "<div>\n",
       "<style scoped>\n",
       "    .dataframe tbody tr th:only-of-type {\n",
       "        vertical-align: middle;\n",
       "    }\n",
       "\n",
       "    .dataframe tbody tr th {\n",
       "        vertical-align: top;\n",
       "    }\n",
       "\n",
       "    .dataframe thead th {\n",
       "        text-align: right;\n",
       "    }\n",
       "</style>\n",
       "<table border=\"1\" class=\"dataframe\">\n",
       "  <thead>\n",
       "    <tr style=\"text-align: right;\">\n",
       "      <th></th>\n",
       "      <th>IDBD #</th>\n",
       "      <th>Detected Organism</th>\n",
       "      <th>log(Genomic Equivalents)/ml</th>\n",
       "      <th>log(cfu/ml)</th>\n",
       "      <th>Plate count log(cfu)/ml</th>\n",
       "    </tr>\n",
       "    <tr>\n",
       "      <th>Accession</th>\n",
       "      <th></th>\n",
       "      <th></th>\n",
       "      <th></th>\n",
       "      <th></th>\n",
       "      <th></th>\n",
       "    </tr>\n",
       "  </thead>\n",
       "  <tbody>\n",
       "    <tr>\n",
       "      <th>IDBD-D100387</th>\n",
       "      <td>IDbyDNA-5381</td>\n",
       "      <td>Escherichia coli</td>\n",
       "      <td>7.875025</td>\n",
       "      <td>5.0</td>\n",
       "      <td>6.041393</td>\n",
       "    </tr>\n",
       "    <tr>\n",
       "      <th>IDBD-D100388</th>\n",
       "      <td>IDbyDNA-5382</td>\n",
       "      <td>Escherichia coli</td>\n",
       "      <td>7.728532</td>\n",
       "      <td>5.0</td>\n",
       "      <td>5.698970</td>\n",
       "    </tr>\n",
       "    <tr>\n",
       "      <th>IDBD-D100389</th>\n",
       "      <td>IDbyDNA-5383</td>\n",
       "      <td>Escherichia coli</td>\n",
       "      <td>7.631641</td>\n",
       "      <td>5.0</td>\n",
       "      <td>6.146128</td>\n",
       "    </tr>\n",
       "    <tr>\n",
       "      <th>IDBD-D100390</th>\n",
       "      <td>IDbyDNA-5384</td>\n",
       "      <td>Escherichia coli</td>\n",
       "      <td>7.831336</td>\n",
       "      <td>5.0</td>\n",
       "      <td>6.342423</td>\n",
       "    </tr>\n",
       "    <tr>\n",
       "      <th>IDBD-D100391</th>\n",
       "      <td>IDbyDNA-5385</td>\n",
       "      <td>Escherichia coli</td>\n",
       "      <td>7.893857</td>\n",
       "      <td>5.0</td>\n",
       "      <td>5.602060</td>\n",
       "    </tr>\n",
       "  </tbody>\n",
       "</table>\n",
       "</div>"
      ],
      "text/plain": [
       "                    IDBD # Detected Organism  log(Genomic Equivalents)/ml  \\\n",
       "Accession                                                                   \n",
       "IDBD-D100387  IDbyDNA-5381  Escherichia coli                     7.875025   \n",
       "IDBD-D100388  IDbyDNA-5382  Escherichia coli                     7.728532   \n",
       "IDBD-D100389  IDbyDNA-5383  Escherichia coli                     7.631641   \n",
       "IDBD-D100390  IDbyDNA-5384  Escherichia coli                     7.831336   \n",
       "IDBD-D100391  IDbyDNA-5385  Escherichia coli                     7.893857   \n",
       "\n",
       "              log(cfu/ml)  Plate count log(cfu)/ml  \n",
       "Accession                                           \n",
       "IDBD-D100387          5.0                 6.041393  \n",
       "IDBD-D100388          5.0                 5.698970  \n",
       "IDBD-D100389          5.0                 6.146128  \n",
       "IDBD-D100390          5.0                 6.342423  \n",
       "IDBD-D100391          5.0                 5.602060  "
      ]
     },
     "execution_count": 50,
     "metadata": {},
     "output_type": "execute_result"
    }
   ],
   "source": [
    "quantifications = ic_counts = pd.read_csv('../../arup_urine_samples_ge_study/ge_distribution/quantifications.csv', index_col=0)\n",
    "quantifications = quantifications.set_index('Accession')\n",
    "quantifications.head()"
   ]
  },
  {
   "cell_type": "code",
   "execution_count": 51,
   "metadata": {},
   "outputs": [],
   "source": [
    "report = ge_with_detection.join(quantifications)"
   ]
  },
  {
   "cell_type": "code",
   "execution_count": 52,
   "metadata": {},
   "outputs": [
    {
     "data": {
      "text/html": [
       "<div>\n",
       "<style scoped>\n",
       "    .dataframe tbody tr th:only-of-type {\n",
       "        vertical-align: middle;\n",
       "    }\n",
       "\n",
       "    .dataframe tbody tr th {\n",
       "        vertical-align: top;\n",
       "    }\n",
       "\n",
       "    .dataframe thead th {\n",
       "        text-align: right;\n",
       "    }\n",
       "</style>\n",
       "<table border=\"1\" class=\"dataframe\">\n",
       "  <thead>\n",
       "    <tr style=\"text-align: right;\">\n",
       "      <th></th>\n",
       "      <th>mean_geomean</th>\n",
       "      <th>mean_nonzero_geomean</th>\n",
       "      <th>median_geomean</th>\n",
       "      <th>median_nonzero_geomean</th>\n",
       "      <th>Ctrl Count</th>\n",
       "      <th>Normalized IC</th>\n",
       "      <th>Total Reads</th>\n",
       "      <th>Organism Read Count</th>\n",
       "      <th>Quantification</th>\n",
       "      <th>Median Coverage</th>\n",
       "      <th>Mean Coverage</th>\n",
       "      <th>Coverage Q1</th>\n",
       "      <th>Detection</th>\n",
       "      <th>log Quantification</th>\n",
       "      <th>IDBD #</th>\n",
       "      <th>Detected Organism</th>\n",
       "      <th>log(Genomic Equivalents)/ml</th>\n",
       "      <th>log(cfu/ml)</th>\n",
       "      <th>Plate count log(cfu)/ml</th>\n",
       "    </tr>\n",
       "    <tr>\n",
       "      <th>Accession</th>\n",
       "      <th></th>\n",
       "      <th></th>\n",
       "      <th></th>\n",
       "      <th></th>\n",
       "      <th></th>\n",
       "      <th></th>\n",
       "      <th></th>\n",
       "      <th></th>\n",
       "      <th></th>\n",
       "      <th></th>\n",
       "      <th></th>\n",
       "      <th></th>\n",
       "      <th></th>\n",
       "      <th></th>\n",
       "      <th></th>\n",
       "      <th></th>\n",
       "      <th></th>\n",
       "      <th></th>\n",
       "      <th></th>\n",
       "    </tr>\n",
       "  </thead>\n",
       "  <tbody>\n",
       "    <tr>\n",
       "      <th>IDBD-D100464</th>\n",
       "      <td>7.078977</td>\n",
       "      <td>7.340592</td>\n",
       "      <td>-inf</td>\n",
       "      <td>7.345330</td>\n",
       "      <td>7800</td>\n",
       "      <td>18766.948901</td>\n",
       "      <td>4156243</td>\n",
       "      <td>2391.0</td>\n",
       "      <td>2.661404e+07</td>\n",
       "      <td>304.0</td>\n",
       "      <td>258.312550</td>\n",
       "      <td>183.0</td>\n",
       "      <td>TP</td>\n",
       "      <td>17.096949</td>\n",
       "      <td>IDbyDNA-5456</td>\n",
       "      <td>Escherichia coli</td>\n",
       "      <td>7.425111</td>\n",
       "      <td>5.0</td>\n",
       "      <td>6.041393</td>\n",
       "    </tr>\n",
       "    <tr>\n",
       "      <th>IDBD-D100376</th>\n",
       "      <td>11.388778</td>\n",
       "      <td>11.539215</td>\n",
       "      <td>10.966500</td>\n",
       "      <td>11.560800</td>\n",
       "      <td>79</td>\n",
       "      <td>135.091160</td>\n",
       "      <td>5847903</td>\n",
       "      <td>32.0</td>\n",
       "      <td>4.554576e+07</td>\n",
       "      <td>3.0</td>\n",
       "      <td>3.340000</td>\n",
       "      <td>2.0</td>\n",
       "      <td>TP</td>\n",
       "      <td>17.634228</td>\n",
       "      <td>IDbyDNA-5391</td>\n",
       "      <td>Escherichia coli</td>\n",
       "      <td>7.658448</td>\n",
       "      <td>5.0</td>\n",
       "      <td>5.511883</td>\n",
       "    </tr>\n",
       "    <tr>\n",
       "      <th>IDBD-D100380</th>\n",
       "      <td>9.597764</td>\n",
       "      <td>9.767218</td>\n",
       "      <td>-inf</td>\n",
       "      <td>9.797194</td>\n",
       "      <td>1779</td>\n",
       "      <td>3329.933519</td>\n",
       "      <td>5342449</td>\n",
       "      <td>3291.0</td>\n",
       "      <td>5.450863e+07</td>\n",
       "      <td>458.0</td>\n",
       "      <td>358.669065</td>\n",
       "      <td>169.0</td>\n",
       "      <td>TP</td>\n",
       "      <td>17.813870</td>\n",
       "      <td>IDbyDNA-5395</td>\n",
       "      <td>Escherichia coli</td>\n",
       "      <td>7.736465</td>\n",
       "      <td>5.0</td>\n",
       "      <td>5.954243</td>\n",
       "    </tr>\n",
       "    <tr>\n",
       "      <th>IDBD-D100381</th>\n",
       "      <td>9.095959</td>\n",
       "      <td>9.265305</td>\n",
       "      <td>-inf</td>\n",
       "      <td>9.289176</td>\n",
       "      <td>7911</td>\n",
       "      <td>13798.073711</td>\n",
       "      <td>5733409</td>\n",
       "      <td>162.0</td>\n",
       "      <td>2.611894e+06</td>\n",
       "      <td>19.0</td>\n",
       "      <td>17.939200</td>\n",
       "      <td>15.0</td>\n",
       "      <td>TP</td>\n",
       "      <td>14.775586</td>\n",
       "      <td>IDbyDNA-5396</td>\n",
       "      <td>Escherichia coli</td>\n",
       "      <td>6.416956</td>\n",
       "      <td>5.0</td>\n",
       "      <td>5.021189</td>\n",
       "    </tr>\n",
       "    <tr>\n",
       "      <th>IDBD-D100382</th>\n",
       "      <td>9.959797</td>\n",
       "      <td>10.127593</td>\n",
       "      <td>-inf</td>\n",
       "      <td>10.155752</td>\n",
       "      <td>1275</td>\n",
       "      <td>2472.616020</td>\n",
       "      <td>5156482</td>\n",
       "      <td>1817.0</td>\n",
       "      <td>1.254387e+08</td>\n",
       "      <td>223.0</td>\n",
       "      <td>196.444444</td>\n",
       "      <td>154.0</td>\n",
       "      <td>TP</td>\n",
       "      <td>18.647328</td>\n",
       "      <td>IDbyDNA-5397</td>\n",
       "      <td>Escherichia coli</td>\n",
       "      <td>8.098432</td>\n",
       "      <td>5.0</td>\n",
       "      <td>6.041393</td>\n",
       "    </tr>\n",
       "  </tbody>\n",
       "</table>\n",
       "</div>"
      ],
      "text/plain": [
       "              mean_geomean  mean_nonzero_geomean  median_geomean  \\\n",
       "Accession                                                          \n",
       "IDBD-D100464      7.078977              7.340592            -inf   \n",
       "IDBD-D100376     11.388778             11.539215       10.966500   \n",
       "IDBD-D100380      9.597764              9.767218            -inf   \n",
       "IDBD-D100381      9.095959              9.265305            -inf   \n",
       "IDBD-D100382      9.959797             10.127593            -inf   \n",
       "\n",
       "              median_nonzero_geomean  Ctrl Count  Normalized IC  Total Reads  \\\n",
       "Accession                                                                      \n",
       "IDBD-D100464                7.345330        7800   18766.948901      4156243   \n",
       "IDBD-D100376               11.560800          79     135.091160      5847903   \n",
       "IDBD-D100380                9.797194        1779    3329.933519      5342449   \n",
       "IDBD-D100381                9.289176        7911   13798.073711      5733409   \n",
       "IDBD-D100382               10.155752        1275    2472.616020      5156482   \n",
       "\n",
       "              Organism Read Count  Quantification  Median Coverage  \\\n",
       "Accession                                                            \n",
       "IDBD-D100464               2391.0    2.661404e+07            304.0   \n",
       "IDBD-D100376                 32.0    4.554576e+07              3.0   \n",
       "IDBD-D100380               3291.0    5.450863e+07            458.0   \n",
       "IDBD-D100381                162.0    2.611894e+06             19.0   \n",
       "IDBD-D100382               1817.0    1.254387e+08            223.0   \n",
       "\n",
       "              Mean Coverage  Coverage Q1 Detection  log Quantification  \\\n",
       "Accession                                                                \n",
       "IDBD-D100464     258.312550        183.0        TP           17.096949   \n",
       "IDBD-D100376       3.340000          2.0        TP           17.634228   \n",
       "IDBD-D100380     358.669065        169.0        TP           17.813870   \n",
       "IDBD-D100381      17.939200         15.0        TP           14.775586   \n",
       "IDBD-D100382     196.444444        154.0        TP           18.647328   \n",
       "\n",
       "                    IDBD # Detected Organism  log(Genomic Equivalents)/ml  \\\n",
       "Accession                                                                   \n",
       "IDBD-D100464  IDbyDNA-5456  Escherichia coli                     7.425111   \n",
       "IDBD-D100376  IDbyDNA-5391  Escherichia coli                     7.658448   \n",
       "IDBD-D100380  IDbyDNA-5395  Escherichia coli                     7.736465   \n",
       "IDBD-D100381  IDbyDNA-5396  Escherichia coli                     6.416956   \n",
       "IDBD-D100382  IDbyDNA-5397  Escherichia coli                     8.098432   \n",
       "\n",
       "              log(cfu/ml)  Plate count log(cfu)/ml  \n",
       "Accession                                           \n",
       "IDBD-D100464          5.0                 6.041393  \n",
       "IDBD-D100376          5.0                 5.511883  \n",
       "IDBD-D100380          5.0                 5.954243  \n",
       "IDBD-D100381          5.0                 5.021189  \n",
       "IDBD-D100382          5.0                 6.041393  "
      ]
     },
     "execution_count": 52,
     "metadata": {},
     "output_type": "execute_result"
    }
   ],
   "source": [
    "report.head()"
   ]
  },
  {
   "cell_type": "code",
   "execution_count": 53,
   "metadata": {},
   "outputs": [],
   "source": [
    "report = report.rename(\n",
    "    columns={\n",
    "        'mean_geomean': 'Human quant, log(GE)/ml',\n",
    "        'Ctrl Count': 'IC raw',\n",
    "        'Normalized IC': 'IC normalized',\n",
    "        'Total Reads': 'Postqual reads',\n",
    "        'log(Genomic Equivalents)/ml': 'Organism quant, log(GE)/ml',\n",
    "        'log(cfu/ml)': 'ARUP reported quant, log(cfu)/ml'\n",
    "    }\n",
    ")"
   ]
  },
  {
   "cell_type": "code",
   "execution_count": 54,
   "metadata": {},
   "outputs": [
    {
     "data": {
      "text/html": [
       "<div>\n",
       "<style scoped>\n",
       "    .dataframe tbody tr th:only-of-type {\n",
       "        vertical-align: middle;\n",
       "    }\n",
       "\n",
       "    .dataframe tbody tr th {\n",
       "        vertical-align: top;\n",
       "    }\n",
       "\n",
       "    .dataframe thead th {\n",
       "        text-align: right;\n",
       "    }\n",
       "</style>\n",
       "<table border=\"1\" class=\"dataframe\">\n",
       "  <thead>\n",
       "    <tr style=\"text-align: right;\">\n",
       "      <th></th>\n",
       "      <th>Human quant, log(GE)/ml</th>\n",
       "      <th>IC raw</th>\n",
       "      <th>IC normalized</th>\n",
       "      <th>Postqual reads</th>\n",
       "      <th>Detected Organism</th>\n",
       "      <th>Organism quant, log(GE)/ml</th>\n",
       "      <th>ARUP reported quant, log(cfu)/ml</th>\n",
       "      <th>Plate count log(cfu)/ml</th>\n",
       "      <th>Detection</th>\n",
       "    </tr>\n",
       "    <tr>\n",
       "      <th>Accession</th>\n",
       "      <th></th>\n",
       "      <th></th>\n",
       "      <th></th>\n",
       "      <th></th>\n",
       "      <th></th>\n",
       "      <th></th>\n",
       "      <th></th>\n",
       "      <th></th>\n",
       "      <th></th>\n",
       "    </tr>\n",
       "  </thead>\n",
       "  <tbody>\n",
       "    <tr>\n",
       "      <th>IDBD-D100464</th>\n",
       "      <td>7.078977</td>\n",
       "      <td>7800</td>\n",
       "      <td>18766.948901</td>\n",
       "      <td>4156243</td>\n",
       "      <td>Escherichia coli</td>\n",
       "      <td>7.425111</td>\n",
       "      <td>5.0</td>\n",
       "      <td>6.041393</td>\n",
       "      <td>TP</td>\n",
       "    </tr>\n",
       "    <tr>\n",
       "      <th>IDBD-D100376</th>\n",
       "      <td>11.388778</td>\n",
       "      <td>79</td>\n",
       "      <td>135.091160</td>\n",
       "      <td>5847903</td>\n",
       "      <td>Escherichia coli</td>\n",
       "      <td>7.658448</td>\n",
       "      <td>5.0</td>\n",
       "      <td>5.511883</td>\n",
       "      <td>TP</td>\n",
       "    </tr>\n",
       "    <tr>\n",
       "      <th>IDBD-D100380</th>\n",
       "      <td>9.597764</td>\n",
       "      <td>1779</td>\n",
       "      <td>3329.933519</td>\n",
       "      <td>5342449</td>\n",
       "      <td>Escherichia coli</td>\n",
       "      <td>7.736465</td>\n",
       "      <td>5.0</td>\n",
       "      <td>5.954243</td>\n",
       "      <td>TP</td>\n",
       "    </tr>\n",
       "    <tr>\n",
       "      <th>IDBD-D100381</th>\n",
       "      <td>9.095959</td>\n",
       "      <td>7911</td>\n",
       "      <td>13798.073711</td>\n",
       "      <td>5733409</td>\n",
       "      <td>Escherichia coli</td>\n",
       "      <td>6.416956</td>\n",
       "      <td>5.0</td>\n",
       "      <td>5.021189</td>\n",
       "      <td>TP</td>\n",
       "    </tr>\n",
       "    <tr>\n",
       "      <th>IDBD-D100382</th>\n",
       "      <td>9.959797</td>\n",
       "      <td>1275</td>\n",
       "      <td>2472.616020</td>\n",
       "      <td>5156482</td>\n",
       "      <td>Escherichia coli</td>\n",
       "      <td>8.098432</td>\n",
       "      <td>5.0</td>\n",
       "      <td>6.041393</td>\n",
       "      <td>TP</td>\n",
       "    </tr>\n",
       "  </tbody>\n",
       "</table>\n",
       "</div>"
      ],
      "text/plain": [
       "              Human quant, log(GE)/ml  IC raw  IC normalized  Postqual reads  \\\n",
       "Accession                                                                      \n",
       "IDBD-D100464                 7.078977    7800   18766.948901         4156243   \n",
       "IDBD-D100376                11.388778      79     135.091160         5847903   \n",
       "IDBD-D100380                 9.597764    1779    3329.933519         5342449   \n",
       "IDBD-D100381                 9.095959    7911   13798.073711         5733409   \n",
       "IDBD-D100382                 9.959797    1275    2472.616020         5156482   \n",
       "\n",
       "             Detected Organism  Organism quant, log(GE)/ml  \\\n",
       "Accession                                                    \n",
       "IDBD-D100464  Escherichia coli                    7.425111   \n",
       "IDBD-D100376  Escherichia coli                    7.658448   \n",
       "IDBD-D100380  Escherichia coli                    7.736465   \n",
       "IDBD-D100381  Escherichia coli                    6.416956   \n",
       "IDBD-D100382  Escherichia coli                    8.098432   \n",
       "\n",
       "              ARUP reported quant, log(cfu)/ml  Plate count log(cfu)/ml  \\\n",
       "Accession                                                                 \n",
       "IDBD-D100464                               5.0                 6.041393   \n",
       "IDBD-D100376                               5.0                 5.511883   \n",
       "IDBD-D100380                               5.0                 5.954243   \n",
       "IDBD-D100381                               5.0                 5.021189   \n",
       "IDBD-D100382                               5.0                 6.041393   \n",
       "\n",
       "             Detection  \n",
       "Accession               \n",
       "IDBD-D100464        TP  \n",
       "IDBD-D100376        TP  \n",
       "IDBD-D100380        TP  \n",
       "IDBD-D100381        TP  \n",
       "IDBD-D100382        TP  "
      ]
     },
     "execution_count": 54,
     "metadata": {},
     "output_type": "execute_result"
    }
   ],
   "source": [
    "report = report[\n",
    "    ['Human quant, log(GE)/ml',\n",
    "     'IC raw', 'IC normalized',\n",
    "     'Postqual reads',\n",
    "     'Detected Organism',\n",
    "     'Organism quant, log(GE)/ml',\n",
    "     'ARUP reported quant, log(cfu)/ml',\n",
    "     'Plate count log(cfu)/ml',\n",
    "     'Detection']\n",
    "]\n",
    "report.head()"
   ]
  },
  {
   "cell_type": "markdown",
   "metadata": {},
   "source": [
    "### Correlation of normalized IC and log(GE/ml)"
   ]
  },
  {
   "cell_type": "code",
   "execution_count": 58,
   "metadata": {},
   "outputs": [],
   "source": [
    "report_plot = report.copy()\n",
    "report_plot['IC normalized'] = np.log10(report_plot['IC normalized'])"
   ]
  },
  {
   "cell_type": "code",
   "execution_count": 59,
   "metadata": {},
   "outputs": [
    {
     "data": {
      "text/plain": [
       "Accession\n",
       "IDBD-D100464     7.078977\n",
       "IDBD-D100376    11.388778\n",
       "IDBD-D100380     9.597764\n",
       "IDBD-D100381     9.095959\n",
       "IDBD-D100382     9.959797\n",
       "IDBD-D100383         -inf\n",
       "IDBD-D100384    10.100624\n",
       "IDBD-D100386     8.758431\n",
       "IDBD-D100387     8.565277\n",
       "IDBD-D100388     7.717532\n",
       "IDBD-D100389     8.054031\n",
       "IDBD-D100390     9.022085\n",
       "IDBD-D100391    10.883316\n",
       "IDBD-D100392    10.308294\n",
       "IDBD-D100393    10.189716\n",
       "IDBD-D100394     9.066393\n",
       "IDBD-D100395     8.561118\n",
       "IDBD-D100396     8.779570\n",
       "IDBD-D100411     9.256602\n",
       "IDBD-D100412    11.392338\n",
       "IDBD-D100413     7.672383\n",
       "IDBD-D100414    11.288057\n",
       "IDBD-D100415    10.805042\n",
       "IDBD-D100416    11.429296\n",
       "IDBD-D100417     8.006182\n",
       "IDBD-D100418     7.602348\n",
       "IDBD-D100419    11.251383\n",
       "IDBD-D100438    10.165766\n",
       "IDBD-D100439     9.004007\n",
       "IDBD-D100440     9.814904\n",
       "                  ...    \n",
       "IDBD-D100472    10.196672\n",
       "IDBD-D100473     9.922333\n",
       "IDBD-D100474     9.285951\n",
       "IDBD-D100475     9.492674\n",
       "IDBD-D100476     9.739482\n",
       "IDBD-D100477     7.637513\n",
       "IDBD-D100478     9.427891\n",
       "IDBD-D100479     8.639678\n",
       "IDBD-D100480     8.517414\n",
       "IDBD-D100481     7.710810\n",
       "IDBD-D100482     8.582974\n",
       "IDBD-D100483    10.898179\n",
       "IDBD-D100484     9.789074\n",
       "IDBD-D100485     8.476542\n",
       "IDBD-D100486     8.092461\n",
       "IDBD-D100487    10.582287\n",
       "IDBD-D100488     8.126540\n",
       "IDBD-D100489    10.219568\n",
       "IDBD-D100490     6.825247\n",
       "IDBD-D100491    11.207724\n",
       "IDBD-D100461    10.046024\n",
       "IDBD-D100462     9.163392\n",
       "IDBD-D100463     7.350113\n",
       "IDBD-D100465     9.582188\n",
       "IDBD-D100466     7.624205\n",
       "IDBD-D100467     9.914036\n",
       "IDBD-D100468     9.544638\n",
       "IDBD-D100469     7.780321\n",
       "IDBD-D100470    10.139967\n",
       "IDBD-D100471    10.248614\n",
       "Name: Human quant, log(GE)/ml, Length: 93, dtype: float64"
      ]
     },
     "execution_count": 59,
     "metadata": {},
     "output_type": "execute_result"
    }
   ],
   "source": [
    "report_plot['Human quant, log(GE)/ml']"
   ]
  },
  {
   "cell_type": "code",
   "execution_count": 61,
   "metadata": {},
   "outputs": [
    {
     "data": {
      "application/vnd.plotly.v1+json": {
       "config": {
        "plotlyServerURL": "https://plot.ly"
       },
       "data": [
        {
         "customdata": [
          [
           "IDBD-D100464"
          ],
          [
           "IDBD-D100376"
          ],
          [
           "IDBD-D100380"
          ],
          [
           "IDBD-D100381"
          ],
          [
           "IDBD-D100382"
          ],
          [
           "IDBD-D100383"
          ],
          [
           "IDBD-D100386"
          ],
          [
           "IDBD-D100387"
          ],
          [
           "IDBD-D100388"
          ],
          [
           "IDBD-D100389"
          ],
          [
           "IDBD-D100390"
          ],
          [
           "IDBD-D100391"
          ],
          [
           "IDBD-D100392"
          ],
          [
           "IDBD-D100393"
          ],
          [
           "IDBD-D100394"
          ],
          [
           "IDBD-D100395"
          ],
          [
           "IDBD-D100396"
          ],
          [
           "IDBD-D100411"
          ],
          [
           "IDBD-D100412"
          ],
          [
           "IDBD-D100417"
          ],
          [
           "IDBD-D100418"
          ],
          [
           "IDBD-D100419"
          ],
          [
           "IDBD-D100438"
          ],
          [
           "IDBD-D100439"
          ],
          [
           "IDBD-D100442"
          ],
          [
           "IDBD-D100443"
          ],
          [
           "IDBD-D100446"
          ],
          [
           "IDBD-D100448"
          ],
          [
           "IDBD-D100454"
          ],
          [
           "IDBD-D100455"
          ],
          [
           "IDBD-D100456"
          ],
          [
           "IDBD-D100457"
          ],
          [
           "IDBD-D100458"
          ],
          [
           "IDBD-D100459"
          ],
          [
           "IDBD-D100460"
          ],
          [
           "IDBD-D100397"
          ],
          [
           "IDBD-D100398"
          ],
          [
           "IDBD-D100399"
          ],
          [
           "IDBD-D100400"
          ],
          [
           "IDBD-D100401"
          ],
          [
           "IDBD-D100402"
          ],
          [
           "IDBD-D100403"
          ],
          [
           "IDBD-D100404"
          ],
          [
           "IDBD-D100405"
          ],
          [
           "IDBD-D100406"
          ],
          [
           "IDBD-D100407"
          ],
          [
           "IDBD-D100408"
          ],
          [
           "IDBD-D100409"
          ],
          [
           "IDBD-D100410"
          ],
          [
           "IDBD-D100444"
          ],
          [
           "IDBD-D100445"
          ],
          [
           "IDBD-D100451"
          ],
          [
           "IDBD-D100452"
          ],
          [
           "IDBD-D100453"
          ],
          [
           "IDBD-D100472"
          ],
          [
           "IDBD-D100473"
          ],
          [
           "IDBD-D100474"
          ],
          [
           "IDBD-D100475"
          ],
          [
           "IDBD-D100476"
          ],
          [
           "IDBD-D100477"
          ],
          [
           "IDBD-D100478"
          ],
          [
           "IDBD-D100479"
          ],
          [
           "IDBD-D100480"
          ],
          [
           "IDBD-D100481"
          ],
          [
           "IDBD-D100482"
          ],
          [
           "IDBD-D100483"
          ],
          [
           "IDBD-D100484"
          ],
          [
           "IDBD-D100485"
          ],
          [
           "IDBD-D100486"
          ],
          [
           "IDBD-D100487"
          ],
          [
           "IDBD-D100488"
          ],
          [
           "IDBD-D100489"
          ],
          [
           "IDBD-D100490"
          ],
          [
           "IDBD-D100491"
          ],
          [
           "IDBD-D100461"
          ],
          [
           "IDBD-D100462"
          ],
          [
           "IDBD-D100463"
          ],
          [
           "IDBD-D100465"
          ],
          [
           "IDBD-D100466"
          ],
          [
           "IDBD-D100467"
          ],
          [
           "IDBD-D100468"
          ],
          [
           "IDBD-D100469"
          ],
          [
           "IDBD-D100470"
          ],
          [
           "IDBD-D100471"
          ]
         ],
         "hoverlabel": {
          "namelength": 0
         },
         "hovertemplate": "Detection=TP<br>IC normalized=%{x}<br>Human quant, log(GE)/ml=%{y}<br>Accession=%{customdata[0]}",
         "legendgroup": "Detection=TP",
         "marker": {
          "color": "#636efa",
          "symbol": "circle"
         },
         "mode": "markers",
         "name": "Detection=TP",
         "showlegend": true,
         "type": "scatter",
         "x": [
          4.273393671487255,
          2.1306269309853234,
          3.5224355630829693,
          4.139818460685858,
          3.3931566786959673,
          4.222355347619604,
          3.983845960325034,
          4.150121055996085,
          4.212588753880337,
          4.4290484209056995,
          3.975973912095881,
          2.634592988687743,
          3.125861103052292,
          3.26457776708175,
          3.9820746504393165,
          4.204585878382674,
          3.9270985597410824,
          3.641869393548726,
          2.098888849410205,
          4.964300306500304,
          3.5772194910527304,
          2.2179893982483305,
          3.144546828532153,
          3.369109017979352,
          4.9847348638982165,
          4.058352740981171,
          3.543833954702326,
          4.444513965235908,
          3.1039024727424116,
          3.6250186649946436,
          3.92971716462819,
          4.4476561626472595,
          4.220729659334422,
          3.7383274757796907,
          4.180873980955316,
          4.31682780242437,
          3.7808035418605797,
          3.1930369370458607,
          3.5149001922717753,
          4.283411173319395,
          4.94681587082363,
          2.762389993206557,
          3.2832758034799583,
          4.415077810200794,
          3.718042566744216,
          3.2661658180590725,
          3.9159739185281013,
          3.252922816261683,
          4.201830953026733,
          3.895976427145603,
          3.6719619931873932,
          4.5622202093869255,
          3.862586235295296,
          3.8464179421394746,
          3.2563281789322387,
          3.4663622033165233,
          3.7977186134242698,
          3.650956927081815,
          3.522665523696093,
          4.182688230927131,
          3.810806980665858,
          3.9172466190702258,
          4.009764943117944,
          4.391570345660658,
          3.858050219681926,
          2.5666428272964965,
          3.432495363994385,
          4.199724953993738,
          4.200488580446103,
          2.8961657208220495,
          3.7091053927669506,
          3.1816738640863567,
          4.050987115938839,
          2.29514883974551,
          3.3605286255054554,
          3.9165059635446346,
          4.20088385157349,
          3.631829927325857,
          4.157990759804236,
          3.3799525131982686,
          3.4869774323245752,
          3.960001174248575,
          3.186710856590213,
          3.126421570846989
         ],
         "xaxis": "x",
         "y": [
          7.078977174744356,
          11.38877836858883,
          9.597763630043515,
          9.095959018130467,
          9.959797067363576,
          null,
          8.758431066204764,
          8.565277180800667,
          7.71753222790478,
          8.054030659600222,
          9.022085349095859,
          10.883316482089802,
          10.308293675693337,
          10.189715778221448,
          9.066393432448937,
          8.561117794706277,
          8.779570155232769,
          9.256602066877878,
          11.392337919990586,
          8.00618159992615,
          7.60234817859698,
          11.25138333937084,
          10.165766339655228,
          9.00400706627777,
          6.727785822830784,
          9.164095646445727,
          8.912719168355295,
          8.920657983850088,
          10.27529929737201,
          9.197287790791618,
          8.874123904528862,
          7.860826717892254,
          8.555555216866525,
          9.101254165904068,
          8.788294826888054,
          8.796434626921716,
          9.452278571169423,
          10.230189134426823,
          9.919066321455693,
          8.763469064897896,
          7.484939637658819,
          10.727025968809505,
          10.164542996046054,
          8.347831584092392,
          8.615062156460871,
          10.104393109610605,
          9.23145658100964,
          10.152479824524441,
          7.752050062532337,
          9.514588360607942,
          9.02580192714291,
          8.589703817401746,
          9.56259392222204,
          9.397653999597289,
          10.196671762664927,
          9.922333046716675,
          9.28595110673903,
          9.492674106059628,
          9.739481506026127,
          7.637513146670576,
          9.42789135861385,
          8.639678437337395,
          8.517413704238159,
          7.710809783026549,
          8.582973677696815,
          10.898179437363403,
          9.789074466756416,
          8.476541965283454,
          8.092461143675102,
          10.582287248900418,
          8.126539871461173,
          10.219568381574772,
          6.82524736433982,
          11.207723727907567,
          10.046023632370785,
          9.163391739403714,
          7.350113268053381,
          9.582187798028608,
          7.624205278075952,
          9.914035854120813,
          9.544637810263463,
          7.780321210638613,
          10.139967318639268,
          10.24861404616084
         ],
         "yaxis": "y"
        },
        {
         "customdata": [
          [
           "IDBD-D100384"
          ],
          [
           "IDBD-D100413"
          ],
          [
           "IDBD-D100447"
          ],
          [
           "IDBD-D100450"
          ]
         ],
         "hoverlabel": {
          "namelength": 0
         },
         "hovertemplate": "Detection=FN - Below cutoff<br>IC normalized=%{x}<br>Human quant, log(GE)/ml=%{y}<br>Accession=%{customdata[0]}",
         "legendgroup": "Detection=FN - Below cutoff",
         "marker": {
          "color": "#EF553B",
          "symbol": "circle"
         },
         "mode": "markers",
         "name": "Detection=FN - Below cutoff",
         "showlegend": true,
         "type": "scatter",
         "x": [
          3.374266986362953,
          3.3642255981227924,
          4.3173027290271335,
          3.743175292659618
         ],
         "xaxis": "x",
         "y": [
          10.100623524419943,
          7.672382861560653,
          8.070533530428746,
          8.541347136668513
         ],
         "yaxis": "y"
        },
        {
         "customdata": [
          [
           "IDBD-D100414"
          ],
          [
           "IDBD-D100415"
          ],
          [
           "IDBD-D100416"
          ],
          [
           "IDBD-D100440"
          ],
          [
           "IDBD-D100441"
          ]
         ],
         "hoverlabel": {
          "namelength": 0
         },
         "hovertemplate": "Detection=FN - No detection<br>IC normalized=%{x}<br>Human quant, log(GE)/ml=%{y}<br>Accession=%{customdata[0]}",
         "legendgroup": "Detection=FN - No detection",
         "marker": {
          "color": "#00cc96",
          "symbol": "circle"
         },
         "mode": "markers",
         "name": "Detection=FN - No detection",
         "showlegend": true,
         "type": "scatter",
         "x": [
          2.209603285180113,
          2.6261916042153066,
          2.0399380453215006,
          3.530072933327735,
          3.6941910329425354
         ],
         "xaxis": "x",
         "y": [
          11.288056893958423,
          10.805042309790498,
          11.42929632221449,
          9.814904242804769,
          8.702856931442225
         ],
         "yaxis": "y"
        }
       ],
       "layout": {
        "autosize": true,
        "legend": {
         "tracegroupgap": 0
        },
        "margin": {
         "t": 60
        },
        "template": {
         "data": {
          "bar": [
           {
            "error_x": {
             "color": "#2a3f5f"
            },
            "error_y": {
             "color": "#2a3f5f"
            },
            "marker": {
             "line": {
              "color": "#E5ECF6",
              "width": 0.5
             }
            },
            "type": "bar"
           }
          ],
          "barpolar": [
           {
            "marker": {
             "line": {
              "color": "#E5ECF6",
              "width": 0.5
             }
            },
            "type": "barpolar"
           }
          ],
          "carpet": [
           {
            "aaxis": {
             "endlinecolor": "#2a3f5f",
             "gridcolor": "white",
             "linecolor": "white",
             "minorgridcolor": "white",
             "startlinecolor": "#2a3f5f"
            },
            "baxis": {
             "endlinecolor": "#2a3f5f",
             "gridcolor": "white",
             "linecolor": "white",
             "minorgridcolor": "white",
             "startlinecolor": "#2a3f5f"
            },
            "type": "carpet"
           }
          ],
          "choropleth": [
           {
            "colorbar": {
             "outlinewidth": 0,
             "ticks": ""
            },
            "type": "choropleth"
           }
          ],
          "contour": [
           {
            "colorbar": {
             "outlinewidth": 0,
             "ticks": ""
            },
            "colorscale": [
             [
              0,
              "#0d0887"
             ],
             [
              0.1111111111111111,
              "#46039f"
             ],
             [
              0.2222222222222222,
              "#7201a8"
             ],
             [
              0.3333333333333333,
              "#9c179e"
             ],
             [
              0.4444444444444444,
              "#bd3786"
             ],
             [
              0.5555555555555556,
              "#d8576b"
             ],
             [
              0.6666666666666666,
              "#ed7953"
             ],
             [
              0.7777777777777778,
              "#fb9f3a"
             ],
             [
              0.8888888888888888,
              "#fdca26"
             ],
             [
              1,
              "#f0f921"
             ]
            ],
            "type": "contour"
           }
          ],
          "contourcarpet": [
           {
            "colorbar": {
             "outlinewidth": 0,
             "ticks": ""
            },
            "type": "contourcarpet"
           }
          ],
          "heatmap": [
           {
            "colorbar": {
             "outlinewidth": 0,
             "ticks": ""
            },
            "colorscale": [
             [
              0,
              "#0d0887"
             ],
             [
              0.1111111111111111,
              "#46039f"
             ],
             [
              0.2222222222222222,
              "#7201a8"
             ],
             [
              0.3333333333333333,
              "#9c179e"
             ],
             [
              0.4444444444444444,
              "#bd3786"
             ],
             [
              0.5555555555555556,
              "#d8576b"
             ],
             [
              0.6666666666666666,
              "#ed7953"
             ],
             [
              0.7777777777777778,
              "#fb9f3a"
             ],
             [
              0.8888888888888888,
              "#fdca26"
             ],
             [
              1,
              "#f0f921"
             ]
            ],
            "type": "heatmap"
           }
          ],
          "heatmapgl": [
           {
            "colorbar": {
             "outlinewidth": 0,
             "ticks": ""
            },
            "colorscale": [
             [
              0,
              "#0d0887"
             ],
             [
              0.1111111111111111,
              "#46039f"
             ],
             [
              0.2222222222222222,
              "#7201a8"
             ],
             [
              0.3333333333333333,
              "#9c179e"
             ],
             [
              0.4444444444444444,
              "#bd3786"
             ],
             [
              0.5555555555555556,
              "#d8576b"
             ],
             [
              0.6666666666666666,
              "#ed7953"
             ],
             [
              0.7777777777777778,
              "#fb9f3a"
             ],
             [
              0.8888888888888888,
              "#fdca26"
             ],
             [
              1,
              "#f0f921"
             ]
            ],
            "type": "heatmapgl"
           }
          ],
          "histogram": [
           {
            "marker": {
             "colorbar": {
              "outlinewidth": 0,
              "ticks": ""
             }
            },
            "type": "histogram"
           }
          ],
          "histogram2d": [
           {
            "colorbar": {
             "outlinewidth": 0,
             "ticks": ""
            },
            "colorscale": [
             [
              0,
              "#0d0887"
             ],
             [
              0.1111111111111111,
              "#46039f"
             ],
             [
              0.2222222222222222,
              "#7201a8"
             ],
             [
              0.3333333333333333,
              "#9c179e"
             ],
             [
              0.4444444444444444,
              "#bd3786"
             ],
             [
              0.5555555555555556,
              "#d8576b"
             ],
             [
              0.6666666666666666,
              "#ed7953"
             ],
             [
              0.7777777777777778,
              "#fb9f3a"
             ],
             [
              0.8888888888888888,
              "#fdca26"
             ],
             [
              1,
              "#f0f921"
             ]
            ],
            "type": "histogram2d"
           }
          ],
          "histogram2dcontour": [
           {
            "colorbar": {
             "outlinewidth": 0,
             "ticks": ""
            },
            "colorscale": [
             [
              0,
              "#0d0887"
             ],
             [
              0.1111111111111111,
              "#46039f"
             ],
             [
              0.2222222222222222,
              "#7201a8"
             ],
             [
              0.3333333333333333,
              "#9c179e"
             ],
             [
              0.4444444444444444,
              "#bd3786"
             ],
             [
              0.5555555555555556,
              "#d8576b"
             ],
             [
              0.6666666666666666,
              "#ed7953"
             ],
             [
              0.7777777777777778,
              "#fb9f3a"
             ],
             [
              0.8888888888888888,
              "#fdca26"
             ],
             [
              1,
              "#f0f921"
             ]
            ],
            "type": "histogram2dcontour"
           }
          ],
          "mesh3d": [
           {
            "colorbar": {
             "outlinewidth": 0,
             "ticks": ""
            },
            "type": "mesh3d"
           }
          ],
          "parcoords": [
           {
            "line": {
             "colorbar": {
              "outlinewidth": 0,
              "ticks": ""
             }
            },
            "type": "parcoords"
           }
          ],
          "scatter": [
           {
            "marker": {
             "colorbar": {
              "outlinewidth": 0,
              "ticks": ""
             }
            },
            "type": "scatter"
           }
          ],
          "scatter3d": [
           {
            "line": {
             "colorbar": {
              "outlinewidth": 0,
              "ticks": ""
             }
            },
            "marker": {
             "colorbar": {
              "outlinewidth": 0,
              "ticks": ""
             }
            },
            "type": "scatter3d"
           }
          ],
          "scattercarpet": [
           {
            "marker": {
             "colorbar": {
              "outlinewidth": 0,
              "ticks": ""
             }
            },
            "type": "scattercarpet"
           }
          ],
          "scattergeo": [
           {
            "marker": {
             "colorbar": {
              "outlinewidth": 0,
              "ticks": ""
             }
            },
            "type": "scattergeo"
           }
          ],
          "scattergl": [
           {
            "marker": {
             "colorbar": {
              "outlinewidth": 0,
              "ticks": ""
             }
            },
            "type": "scattergl"
           }
          ],
          "scattermapbox": [
           {
            "marker": {
             "colorbar": {
              "outlinewidth": 0,
              "ticks": ""
             }
            },
            "type": "scattermapbox"
           }
          ],
          "scatterpolar": [
           {
            "marker": {
             "colorbar": {
              "outlinewidth": 0,
              "ticks": ""
             }
            },
            "type": "scatterpolar"
           }
          ],
          "scatterpolargl": [
           {
            "marker": {
             "colorbar": {
              "outlinewidth": 0,
              "ticks": ""
             }
            },
            "type": "scatterpolargl"
           }
          ],
          "scatterternary": [
           {
            "marker": {
             "colorbar": {
              "outlinewidth": 0,
              "ticks": ""
             }
            },
            "type": "scatterternary"
           }
          ],
          "surface": [
           {
            "colorbar": {
             "outlinewidth": 0,
             "ticks": ""
            },
            "colorscale": [
             [
              0,
              "#0d0887"
             ],
             [
              0.1111111111111111,
              "#46039f"
             ],
             [
              0.2222222222222222,
              "#7201a8"
             ],
             [
              0.3333333333333333,
              "#9c179e"
             ],
             [
              0.4444444444444444,
              "#bd3786"
             ],
             [
              0.5555555555555556,
              "#d8576b"
             ],
             [
              0.6666666666666666,
              "#ed7953"
             ],
             [
              0.7777777777777778,
              "#fb9f3a"
             ],
             [
              0.8888888888888888,
              "#fdca26"
             ],
             [
              1,
              "#f0f921"
             ]
            ],
            "type": "surface"
           }
          ],
          "table": [
           {
            "cells": {
             "fill": {
              "color": "#EBF0F8"
             },
             "line": {
              "color": "white"
             }
            },
            "header": {
             "fill": {
              "color": "#C8D4E3"
             },
             "line": {
              "color": "white"
             }
            },
            "type": "table"
           }
          ]
         },
         "layout": {
          "annotationdefaults": {
           "arrowcolor": "#2a3f5f",
           "arrowhead": 0,
           "arrowwidth": 1
          },
          "colorscale": {
           "diverging": [
            [
             0,
             "#8e0152"
            ],
            [
             0.1,
             "#c51b7d"
            ],
            [
             0.2,
             "#de77ae"
            ],
            [
             0.3,
             "#f1b6da"
            ],
            [
             0.4,
             "#fde0ef"
            ],
            [
             0.5,
             "#f7f7f7"
            ],
            [
             0.6,
             "#e6f5d0"
            ],
            [
             0.7,
             "#b8e186"
            ],
            [
             0.8,
             "#7fbc41"
            ],
            [
             0.9,
             "#4d9221"
            ],
            [
             1,
             "#276419"
            ]
           ],
           "sequential": [
            [
             0,
             "#0d0887"
            ],
            [
             0.1111111111111111,
             "#46039f"
            ],
            [
             0.2222222222222222,
             "#7201a8"
            ],
            [
             0.3333333333333333,
             "#9c179e"
            ],
            [
             0.4444444444444444,
             "#bd3786"
            ],
            [
             0.5555555555555556,
             "#d8576b"
            ],
            [
             0.6666666666666666,
             "#ed7953"
            ],
            [
             0.7777777777777778,
             "#fb9f3a"
            ],
            [
             0.8888888888888888,
             "#fdca26"
            ],
            [
             1,
             "#f0f921"
            ]
           ],
           "sequentialminus": [
            [
             0,
             "#0d0887"
            ],
            [
             0.1111111111111111,
             "#46039f"
            ],
            [
             0.2222222222222222,
             "#7201a8"
            ],
            [
             0.3333333333333333,
             "#9c179e"
            ],
            [
             0.4444444444444444,
             "#bd3786"
            ],
            [
             0.5555555555555556,
             "#d8576b"
            ],
            [
             0.6666666666666666,
             "#ed7953"
            ],
            [
             0.7777777777777778,
             "#fb9f3a"
            ],
            [
             0.8888888888888888,
             "#fdca26"
            ],
            [
             1,
             "#f0f921"
            ]
           ]
          },
          "colorway": [
           "#636efa",
           "#EF553B",
           "#00cc96",
           "#ab63fa",
           "#FFA15A",
           "#19d3f3",
           "#FF6692",
           "#B6E880",
           "#FF97FF",
           "#FECB52"
          ],
          "font": {
           "color": "#2a3f5f"
          },
          "geo": {
           "bgcolor": "white",
           "lakecolor": "white",
           "landcolor": "#E5ECF6",
           "showlakes": true,
           "showland": true,
           "subunitcolor": "white"
          },
          "hoverlabel": {
           "align": "left"
          },
          "hovermode": "closest",
          "mapbox": {
           "style": "light"
          },
          "paper_bgcolor": "white",
          "plot_bgcolor": "#E5ECF6",
          "polar": {
           "angularaxis": {
            "gridcolor": "white",
            "linecolor": "white",
            "ticks": ""
           },
           "bgcolor": "#E5ECF6",
           "radialaxis": {
            "gridcolor": "white",
            "linecolor": "white",
            "ticks": ""
           }
          },
          "scene": {
           "xaxis": {
            "backgroundcolor": "#E5ECF6",
            "gridcolor": "white",
            "gridwidth": 2,
            "linecolor": "white",
            "showbackground": true,
            "ticks": "",
            "zerolinecolor": "white"
           },
           "yaxis": {
            "backgroundcolor": "#E5ECF6",
            "gridcolor": "white",
            "gridwidth": 2,
            "linecolor": "white",
            "showbackground": true,
            "ticks": "",
            "zerolinecolor": "white"
           },
           "zaxis": {
            "backgroundcolor": "#E5ECF6",
            "gridcolor": "white",
            "gridwidth": 2,
            "linecolor": "white",
            "showbackground": true,
            "ticks": "",
            "zerolinecolor": "white"
           }
          },
          "shapedefaults": {
           "line": {
            "color": "#2a3f5f"
           }
          },
          "ternary": {
           "aaxis": {
            "gridcolor": "white",
            "linecolor": "white",
            "ticks": ""
           },
           "baxis": {
            "gridcolor": "white",
            "linecolor": "white",
            "ticks": ""
           },
           "bgcolor": "#E5ECF6",
           "caxis": {
            "gridcolor": "white",
            "linecolor": "white",
            "ticks": ""
           }
          },
          "title": {
           "x": 0.05
          },
          "xaxis": {
           "automargin": true,
           "gridcolor": "white",
           "linecolor": "white",
           "ticks": "",
           "zerolinecolor": "white",
           "zerolinewidth": 2
          },
          "yaxis": {
           "automargin": true,
           "gridcolor": "white",
           "linecolor": "white",
           "ticks": "",
           "zerolinecolor": "white",
           "zerolinewidth": 2
          }
         }
        },
        "xaxis": {
         "anchor": "y",
         "autorange": true,
         "domain": [
          0,
          0.98
         ],
         "range": [
          1.8551476330751835,
          5.169525276144533
         ],
         "title": {
          "text": "IC normalized"
         },
         "type": "linear"
        },
        "yaxis": {
         "anchor": "x",
         "autorange": true,
         "domain": [
          0,
          1
         ],
         "range": [
          6.418399830558917,
          11.738682314486358
         ],
         "title": {
          "text": "Human quant, log(GE)/ml"
         },
         "type": "linear"
        }
       }
      },
      "image/png": "[encoded data removed]",
      "text/html": [
       "<div>\n",
       "        \n",
       "        \n",
       "            <div id=\"6e213fc8-4516-4257-8f8a-10e1c3d34be0\" class=\"plotly-graph-div\" style=\"height:600px; width:100%;\"></div>\n",
       "            <script type=\"text/javascript\">\n",
       "                require([\"plotly\"], function(Plotly) {\n",
       "                    window.PLOTLYENV=window.PLOTLYENV || {};\n",
       "                    \n",
       "                if (document.getElementById(\"6e213fc8-4516-4257-8f8a-10e1c3d34be0\")) {\n",
       "                    Plotly.newPlot(\n",
       "                        '6e213fc8-4516-4257-8f8a-10e1c3d34be0',\n",
       "                        [{\"customdata\": [[\"IDBD-D100464\"], [\"IDBD-D100376\"], [\"IDBD-D100380\"], [\"IDBD-D100381\"], [\"IDBD-D100382\"], [\"IDBD-D100383\"], [\"IDBD-D100386\"], [\"IDBD-D100387\"], [\"IDBD-D100388\"], [\"IDBD-D100389\"], [\"IDBD-D100390\"], [\"IDBD-D100391\"], [\"IDBD-D100392\"], [\"IDBD-D100393\"], [\"IDBD-D100394\"], [\"IDBD-D100395\"], [\"IDBD-D100396\"], [\"IDBD-D100411\"], [\"IDBD-D100412\"], [\"IDBD-D100417\"], [\"IDBD-D100418\"], [\"IDBD-D100419\"], [\"IDBD-D100438\"], [\"IDBD-D100439\"], [\"IDBD-D100442\"], [\"IDBD-D100443\"], [\"IDBD-D100446\"], [\"IDBD-D100448\"], [\"IDBD-D100454\"], [\"IDBD-D100455\"], [\"IDBD-D100456\"], [\"IDBD-D100457\"], [\"IDBD-D100458\"], [\"IDBD-D100459\"], [\"IDBD-D100460\"], [\"IDBD-D100397\"], [\"IDBD-D100398\"], [\"IDBD-D100399\"], [\"IDBD-D100400\"], [\"IDBD-D100401\"], [\"IDBD-D100402\"], [\"IDBD-D100403\"], [\"IDBD-D100404\"], [\"IDBD-D100405\"], [\"IDBD-D100406\"], [\"IDBD-D100407\"], [\"IDBD-D100408\"], [\"IDBD-D100409\"], [\"IDBD-D100410\"], [\"IDBD-D100444\"], [\"IDBD-D100445\"], [\"IDBD-D100451\"], [\"IDBD-D100452\"], [\"IDBD-D100453\"], [\"IDBD-D100472\"], [\"IDBD-D100473\"], [\"IDBD-D100474\"], [\"IDBD-D100475\"], [\"IDBD-D100476\"], [\"IDBD-D100477\"], [\"IDBD-D100478\"], [\"IDBD-D100479\"], [\"IDBD-D100480\"], [\"IDBD-D100481\"], [\"IDBD-D100482\"], [\"IDBD-D100483\"], [\"IDBD-D100484\"], [\"IDBD-D100485\"], [\"IDBD-D100486\"], [\"IDBD-D100487\"], [\"IDBD-D100488\"], [\"IDBD-D100489\"], [\"IDBD-D100490\"], [\"IDBD-D100491\"], [\"IDBD-D100461\"], [\"IDBD-D100462\"], [\"IDBD-D100463\"], [\"IDBD-D100465\"], [\"IDBD-D100466\"], [\"IDBD-D100467\"], [\"IDBD-D100468\"], [\"IDBD-D100469\"], [\"IDBD-D100470\"], [\"IDBD-D100471\"]], \"hoverlabel\": {\"namelength\": 0}, \"hovertemplate\": \"Detection=TP<br>IC normalized=%{x}<br>Human quant, log(GE)/ml=%{y}<br>Accession=%{customdata[0]}\", \"legendgroup\": \"Detection=TP\", \"marker\": {\"color\": \"#636efa\", \"symbol\": \"circle\"}, \"mode\": \"markers\", \"name\": \"Detection=TP\", \"showlegend\": true, \"type\": \"scatter\", \"x\": [4.273393671487255, 2.1306269309853234, 3.5224355630829693, 4.139818460685858, 3.3931566786959673, 4.222355347619604, 3.983845960325034, 4.150121055996085, 4.212588753880337, 4.4290484209056995, 3.975973912095881, 2.634592988687743, 3.125861103052292, 3.26457776708175, 3.9820746504393165, 4.204585878382674, 3.9270985597410824, 3.641869393548726, 2.098888849410205, 4.964300306500304, 3.5772194910527304, 2.2179893982483305, 3.144546828532153, 3.369109017979352, 4.9847348638982165, 4.058352740981171, 3.543833954702326, 4.444513965235908, 3.1039024727424116, 3.6250186649946436, 3.92971716462819, 4.4476561626472595, 4.220729659334422, 3.7383274757796907, 4.180873980955316, 4.31682780242437, 3.7808035418605797, 3.1930369370458607, 3.5149001922717753, 4.283411173319395, 4.94681587082363, 2.762389993206557, 3.2832758034799583, 4.415077810200794, 3.718042566744216, 3.2661658180590725, 3.9159739185281013, 3.252922816261683, 4.201830953026733, 3.895976427145603, 3.6719619931873932, 4.5622202093869255, 3.862586235295296, 3.8464179421394746, 3.2563281789322387, 3.4663622033165233, 3.7977186134242698, 3.650956927081815, 3.522665523696093, 4.182688230927131, 3.810806980665858, 3.9172466190702258, 4.009764943117944, 4.391570345660658, 3.858050219681926, 2.5666428272964965, 3.432495363994385, 4.199724953993738, 4.200488580446103, 2.8961657208220495, 3.7091053927669506, 3.1816738640863567, 4.050987115938839, 2.29514883974551, 3.3605286255054554, 3.9165059635446346, 4.20088385157349, 3.631829927325857, 4.157990759804236, 3.3799525131982686, 3.4869774323245752, 3.960001174248575, 3.186710856590213, 3.126421570846989], \"xaxis\": \"x\", \"y\": [7.078977174744356, 11.38877836858883, 9.597763630043515, 9.095959018130467, 9.959797067363576, null, 8.758431066204764, 8.565277180800667, 7.71753222790478, 8.054030659600222, 9.022085349095859, 10.883316482089802, 10.308293675693337, 10.189715778221448, 9.066393432448937, 8.561117794706277, 8.779570155232769, 9.256602066877878, 11.392337919990586, 8.00618159992615, 7.60234817859698, 11.25138333937084, 10.165766339655228, 9.00400706627777, 6.727785822830784, 9.164095646445727, 8.912719168355295, 8.920657983850088, 10.27529929737201, 9.197287790791618, 8.874123904528862, 7.860826717892254, 8.555555216866525, 9.101254165904068, 8.788294826888054, 8.796434626921716, 9.452278571169423, 10.230189134426823, 9.919066321455693, 8.763469064897896, 7.484939637658819, 10.727025968809505, 10.164542996046054, 8.347831584092392, 8.615062156460871, 10.104393109610605, 9.23145658100964, 10.152479824524441, 7.752050062532337, 9.514588360607942, 9.02580192714291, 8.589703817401746, 9.56259392222204, 9.397653999597289, 10.196671762664927, 9.922333046716675, 9.28595110673903, 9.492674106059628, 9.739481506026127, 7.637513146670576, 9.42789135861385, 8.639678437337395, 8.517413704238159, 7.710809783026549, 8.582973677696815, 10.898179437363403, 9.789074466756416, 8.476541965283454, 8.092461143675102, 10.582287248900418, 8.126539871461173, 10.219568381574772, 6.82524736433982, 11.207723727907567, 10.046023632370785, 9.163391739403714, 7.350113268053381, 9.582187798028608, 7.624205278075952, 9.914035854120813, 9.544637810263463, 7.780321210638613, 10.139967318639268, 10.24861404616084], \"yaxis\": \"y\"}, {\"customdata\": [[\"IDBD-D100384\"], [\"IDBD-D100413\"], [\"IDBD-D100447\"], [\"IDBD-D100450\"]], \"hoverlabel\": {\"namelength\": 0}, \"hovertemplate\": \"Detection=FN - Below cutoff<br>IC normalized=%{x}<br>Human quant, log(GE)/ml=%{y}<br>Accession=%{customdata[0]}\", \"legendgroup\": \"Detection=FN - Below cutoff\", \"marker\": {\"color\": \"#EF553B\", \"symbol\": \"circle\"}, \"mode\": \"markers\", \"name\": \"Detection=FN - Below cutoff\", \"showlegend\": true, \"type\": \"scatter\", \"x\": [3.374266986362953, 3.3642255981227924, 4.3173027290271335, 3.743175292659618], \"xaxis\": \"x\", \"y\": [10.100623524419943, 7.672382861560653, 8.070533530428746, 8.541347136668513], \"yaxis\": \"y\"}, {\"customdata\": [[\"IDBD-D100414\"], [\"IDBD-D100415\"], [\"IDBD-D100416\"], [\"IDBD-D100440\"], [\"IDBD-D100441\"]], \"hoverlabel\": {\"namelength\": 0}, \"hovertemplate\": \"Detection=FN - No detection<br>IC normalized=%{x}<br>Human quant, log(GE)/ml=%{y}<br>Accession=%{customdata[0]}\", \"legendgroup\": \"Detection=FN - No detection\", \"marker\": {\"color\": \"#00cc96\", \"symbol\": \"circle\"}, \"mode\": \"markers\", \"name\": \"Detection=FN - No detection\", \"showlegend\": true, \"type\": \"scatter\", \"x\": [2.209603285180113, 2.6261916042153066, 2.0399380453215006, 3.530072933327735, 3.6941910329425354], \"xaxis\": \"x\", \"y\": [11.288056893958423, 10.805042309790498, 11.42929632221449, 9.814904242804769, 8.702856931442225], \"yaxis\": \"y\"}],\n",
       "                        {\"height\": 600, \"legend\": {\"tracegroupgap\": 0}, \"margin\": {\"t\": 60}, \"template\": {\"data\": {\"bar\": [{\"error_x\": {\"color\": \"#2a3f5f\"}, \"error_y\": {\"color\": \"#2a3f5f\"}, \"marker\": {\"line\": {\"color\": \"#E5ECF6\", \"width\": 0.5}}, \"type\": \"bar\"}], \"barpolar\": [{\"marker\": {\"line\": {\"color\": \"#E5ECF6\", \"width\": 0.5}}, \"type\": \"barpolar\"}], \"carpet\": [{\"aaxis\": {\"endlinecolor\": \"#2a3f5f\", \"gridcolor\": \"white\", \"linecolor\": \"white\", \"minorgridcolor\": \"white\", \"startlinecolor\": \"#2a3f5f\"}, \"baxis\": {\"endlinecolor\": \"#2a3f5f\", \"gridcolor\": \"white\", \"linecolor\": \"white\", \"minorgridcolor\": \"white\", \"startlinecolor\": \"#2a3f5f\"}, \"type\": \"carpet\"}], \"choropleth\": [{\"colorbar\": {\"outlinewidth\": 0, \"ticks\": \"\"}, \"type\": \"choropleth\"}], \"contour\": [{\"colorbar\": {\"outlinewidth\": 0, \"ticks\": \"\"}, \"colorscale\": [[0.0, \"#0d0887\"], [0.1111111111111111, \"#46039f\"], [0.2222222222222222, \"#7201a8\"], [0.3333333333333333, \"#9c179e\"], [0.4444444444444444, \"#bd3786\"], [0.5555555555555556, \"#d8576b\"], [0.6666666666666666, \"#ed7953\"], [0.7777777777777778, \"#fb9f3a\"], [0.8888888888888888, \"#fdca26\"], [1.0, \"#f0f921\"]], \"type\": \"contour\"}], \"contourcarpet\": [{\"colorbar\": {\"outlinewidth\": 0, \"ticks\": \"\"}, \"type\": \"contourcarpet\"}], \"heatmap\": [{\"colorbar\": {\"outlinewidth\": 0, \"ticks\": \"\"}, \"colorscale\": [[0.0, \"#0d0887\"], [0.1111111111111111, \"#46039f\"], [0.2222222222222222, \"#7201a8\"], [0.3333333333333333, \"#9c179e\"], [0.4444444444444444, \"#bd3786\"], [0.5555555555555556, \"#d8576b\"], [0.6666666666666666, \"#ed7953\"], [0.7777777777777778, \"#fb9f3a\"], [0.8888888888888888, \"#fdca26\"], [1.0, \"#f0f921\"]], \"type\": \"heatmap\"}], \"heatmapgl\": [{\"colorbar\": {\"outlinewidth\": 0, \"ticks\": \"\"}, \"colorscale\": [[0.0, \"#0d0887\"], [0.1111111111111111, \"#46039f\"], [0.2222222222222222, \"#7201a8\"], [0.3333333333333333, \"#9c179e\"], [0.4444444444444444, \"#bd3786\"], [0.5555555555555556, \"#d8576b\"], [0.6666666666666666, \"#ed7953\"], [0.7777777777777778, \"#fb9f3a\"], [0.8888888888888888, \"#fdca26\"], [1.0, \"#f0f921\"]], \"type\": \"heatmapgl\"}], \"histogram\": [{\"marker\": {\"colorbar\": {\"outlinewidth\": 0, \"ticks\": \"\"}}, \"type\": \"histogram\"}], \"histogram2d\": [{\"colorbar\": {\"outlinewidth\": 0, \"ticks\": \"\"}, \"colorscale\": [[0.0, \"#0d0887\"], [0.1111111111111111, \"#46039f\"], [0.2222222222222222, \"#7201a8\"], [0.3333333333333333, \"#9c179e\"], [0.4444444444444444, \"#bd3786\"], [0.5555555555555556, \"#d8576b\"], [0.6666666666666666, \"#ed7953\"], [0.7777777777777778, \"#fb9f3a\"], [0.8888888888888888, \"#fdca26\"], [1.0, \"#f0f921\"]], \"type\": \"histogram2d\"}], \"histogram2dcontour\": [{\"colorbar\": {\"outlinewidth\": 0, \"ticks\": \"\"}, \"colorscale\": [[0.0, \"#0d0887\"], [0.1111111111111111, \"#46039f\"], [0.2222222222222222, \"#7201a8\"], [0.3333333333333333, \"#9c179e\"], [0.4444444444444444, \"#bd3786\"], [0.5555555555555556, \"#d8576b\"], [0.6666666666666666, \"#ed7953\"], [0.7777777777777778, \"#fb9f3a\"], [0.8888888888888888, \"#fdca26\"], [1.0, \"#f0f921\"]], \"type\": \"histogram2dcontour\"}], \"mesh3d\": [{\"colorbar\": {\"outlinewidth\": 0, \"ticks\": \"\"}, \"type\": \"mesh3d\"}], \"parcoords\": [{\"line\": {\"colorbar\": {\"outlinewidth\": 0, \"ticks\": \"\"}}, \"type\": \"parcoords\"}], \"scatter\": [{\"marker\": {\"colorbar\": {\"outlinewidth\": 0, \"ticks\": \"\"}}, \"type\": \"scatter\"}], \"scatter3d\": [{\"line\": {\"colorbar\": {\"outlinewidth\": 0, \"ticks\": \"\"}}, \"marker\": {\"colorbar\": {\"outlinewidth\": 0, \"ticks\": \"\"}}, \"type\": \"scatter3d\"}], \"scattercarpet\": [{\"marker\": {\"colorbar\": {\"outlinewidth\": 0, \"ticks\": \"\"}}, \"type\": \"scattercarpet\"}], \"scattergeo\": [{\"marker\": {\"colorbar\": {\"outlinewidth\": 0, \"ticks\": \"\"}}, \"type\": \"scattergeo\"}], \"scattergl\": [{\"marker\": {\"colorbar\": {\"outlinewidth\": 0, \"ticks\": \"\"}}, \"type\": \"scattergl\"}], \"scattermapbox\": [{\"marker\": {\"colorbar\": {\"outlinewidth\": 0, \"ticks\": \"\"}}, \"type\": \"scattermapbox\"}], \"scatterpolar\": [{\"marker\": {\"colorbar\": {\"outlinewidth\": 0, \"ticks\": \"\"}}, \"type\": \"scatterpolar\"}], \"scatterpolargl\": [{\"marker\": {\"colorbar\": {\"outlinewidth\": 0, \"ticks\": \"\"}}, \"type\": \"scatterpolargl\"}], \"scatterternary\": [{\"marker\": {\"colorbar\": {\"outlinewidth\": 0, \"ticks\": \"\"}}, \"type\": \"scatterternary\"}], \"surface\": [{\"colorbar\": {\"outlinewidth\": 0, \"ticks\": \"\"}, \"colorscale\": [[0.0, \"#0d0887\"], [0.1111111111111111, \"#46039f\"], [0.2222222222222222, \"#7201a8\"], [0.3333333333333333, \"#9c179e\"], [0.4444444444444444, \"#bd3786\"], [0.5555555555555556, \"#d8576b\"], [0.6666666666666666, \"#ed7953\"], [0.7777777777777778, \"#fb9f3a\"], [0.8888888888888888, \"#fdca26\"], [1.0, \"#f0f921\"]], \"type\": \"surface\"}], \"table\": [{\"cells\": {\"fill\": {\"color\": \"#EBF0F8\"}, \"line\": {\"color\": \"white\"}}, \"header\": {\"fill\": {\"color\": \"#C8D4E3\"}, \"line\": {\"color\": \"white\"}}, \"type\": \"table\"}]}, \"layout\": {\"annotationdefaults\": {\"arrowcolor\": \"#2a3f5f\", \"arrowhead\": 0, \"arrowwidth\": 1}, \"colorscale\": {\"diverging\": [[0, \"#8e0152\"], [0.1, \"#c51b7d\"], [0.2, \"#de77ae\"], [0.3, \"#f1b6da\"], [0.4, \"#fde0ef\"], [0.5, \"#f7f7f7\"], [0.6, \"#e6f5d0\"], [0.7, \"#b8e186\"], [0.8, \"#7fbc41\"], [0.9, \"#4d9221\"], [1, \"#276419\"]], \"sequential\": [[0.0, \"#0d0887\"], [0.1111111111111111, \"#46039f\"], [0.2222222222222222, \"#7201a8\"], [0.3333333333333333, \"#9c179e\"], [0.4444444444444444, \"#bd3786\"], [0.5555555555555556, \"#d8576b\"], [0.6666666666666666, \"#ed7953\"], [0.7777777777777778, \"#fb9f3a\"], [0.8888888888888888, \"#fdca26\"], [1.0, \"#f0f921\"]], \"sequentialminus\": [[0.0, \"#0d0887\"], [0.1111111111111111, \"#46039f\"], [0.2222222222222222, \"#7201a8\"], [0.3333333333333333, \"#9c179e\"], [0.4444444444444444, \"#bd3786\"], [0.5555555555555556, \"#d8576b\"], [0.6666666666666666, \"#ed7953\"], [0.7777777777777778, \"#fb9f3a\"], [0.8888888888888888, \"#fdca26\"], [1.0, \"#f0f921\"]]}, \"colorway\": [\"#636efa\", \"#EF553B\", \"#00cc96\", \"#ab63fa\", \"#FFA15A\", \"#19d3f3\", \"#FF6692\", \"#B6E880\", \"#FF97FF\", \"#FECB52\"], \"font\": {\"color\": \"#2a3f5f\"}, \"geo\": {\"bgcolor\": \"white\", \"lakecolor\": \"white\", \"landcolor\": \"#E5ECF6\", \"showlakes\": true, \"showland\": true, \"subunitcolor\": \"white\"}, \"hoverlabel\": {\"align\": \"left\"}, \"hovermode\": \"closest\", \"mapbox\": {\"style\": \"light\"}, \"paper_bgcolor\": \"white\", \"plot_bgcolor\": \"#E5ECF6\", \"polar\": {\"angularaxis\": {\"gridcolor\": \"white\", \"linecolor\": \"white\", \"ticks\": \"\"}, \"bgcolor\": \"#E5ECF6\", \"radialaxis\": {\"gridcolor\": \"white\", \"linecolor\": \"white\", \"ticks\": \"\"}}, \"scene\": {\"xaxis\": {\"backgroundcolor\": \"#E5ECF6\", \"gridcolor\": \"white\", \"gridwidth\": 2, \"linecolor\": \"white\", \"showbackground\": true, \"ticks\": \"\", \"zerolinecolor\": \"white\"}, \"yaxis\": {\"backgroundcolor\": \"#E5ECF6\", \"gridcolor\": \"white\", \"gridwidth\": 2, \"linecolor\": \"white\", \"showbackground\": true, \"ticks\": \"\", \"zerolinecolor\": \"white\"}, \"zaxis\": {\"backgroundcolor\": \"#E5ECF6\", \"gridcolor\": \"white\", \"gridwidth\": 2, \"linecolor\": \"white\", \"showbackground\": true, \"ticks\": \"\", \"zerolinecolor\": \"white\"}}, \"shapedefaults\": {\"line\": {\"color\": \"#2a3f5f\"}}, \"ternary\": {\"aaxis\": {\"gridcolor\": \"white\", \"linecolor\": \"white\", \"ticks\": \"\"}, \"baxis\": {\"gridcolor\": \"white\", \"linecolor\": \"white\", \"ticks\": \"\"}, \"bgcolor\": \"#E5ECF6\", \"caxis\": {\"gridcolor\": \"white\", \"linecolor\": \"white\", \"ticks\": \"\"}}, \"title\": {\"x\": 0.05}, \"xaxis\": {\"automargin\": true, \"gridcolor\": \"white\", \"linecolor\": \"white\", \"ticks\": \"\", \"zerolinecolor\": \"white\", \"zerolinewidth\": 2}, \"yaxis\": {\"automargin\": true, \"gridcolor\": \"white\", \"linecolor\": \"white\", \"ticks\": \"\", \"zerolinecolor\": \"white\", \"zerolinewidth\": 2}}}, \"xaxis\": {\"anchor\": \"y\", \"domain\": [0.0, 0.98], \"title\": {\"text\": \"IC normalized\"}}, \"yaxis\": {\"anchor\": \"x\", \"domain\": [0.0, 1.0], \"title\": {\"text\": \"Human quant, log(GE)/ml\"}}},\n",
       "                        {\"responsive\": true}\n",
       "                    ).then(function(){\n",
       "                            \n",
       "var gd = document.getElementById('6e213fc8-4516-4257-8f8a-10e1c3d34be0');\n",
       "var x = new MutationObserver(function (mutations, observer) {{\n",
       "        var display = window.getComputedStyle(gd).display;\n",
       "        if (!display || display === 'none') {{\n",
       "            console.log([gd, 'removed!']);\n",
       "            Plotly.purge(gd);\n",
       "            observer.disconnect();\n",
       "        }}\n",
       "}});\n",
       "\n",
       "// Listen for the removal of the full notebook cells\n",
       "var notebookContainer = gd.closest('#notebook-container');\n",
       "if (notebookContainer) {{\n",
       "    x.observe(notebookContainer, {childList: true});\n",
       "}}\n",
       "\n",
       "// Listen for the clearing of the current output cell\n",
       "var outputEl = gd.closest('.output');\n",
       "if (outputEl) {{\n",
       "    x.observe(outputEl, {childList: true});\n",
       "}}\n",
       "\n",
       "                        })\n",
       "                };\n",
       "                });\n",
       "            </script>\n",
       "        </div>"
      ]
     },
     "metadata": {},
     "output_type": "display_data"
    }
   ],
   "source": [
    "px.scatter(report_plot.reset_index(), x='IC normalized', y='Human quant, log(GE)/ml', hover_data=['Accession'],\n",
    "           color='Detection')"
   ]
  },
  {
   "cell_type": "code",
   "execution_count": 74,
   "metadata": {},
   "outputs": [],
   "source": [
    "report.to_csv('arup_urine_bacterial_human_quant.csv')"
   ]
  },
  {
   "cell_type": "code",
   "execution_count": null,
   "metadata": {},
   "outputs": [],
   "source": []
  },
  {
   "cell_type": "code",
   "execution_count": null,
   "metadata": {},
   "outputs": [],
   "source": []
  }
 ],
 "metadata": {
  "kernelspec": {
   "display_name": "Python 3",
   "language": "python",
   "name": "python3"
  },
  "language_info": {
   "codemirror_mode": {
    "name": "ipython",
    "version": 3
   },
   "file_extension": ".py",
   "mimetype": "text/x-python",
   "name": "python",
   "nbconvert_exporter": "python",
   "pygments_lexer": "ipython3",
   "version": "3.7.1"
  }
 },
 "nbformat": 4,
 "nbformat_minor": 2
}
